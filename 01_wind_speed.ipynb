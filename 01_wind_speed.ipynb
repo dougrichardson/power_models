{
 "cells": [
  {
   "cell_type": "markdown",
   "id": "05b76a16-db38-428e-9356-4a1ab3646928",
   "metadata": {},
   "source": [
    "# Calculate wind speed (hourly)"
   ]
  },
  {
   "cell_type": "code",
   "execution_count": 1,
   "id": "d11f1cb7-4bc1-413f-a31f-5a93eb872c64",
   "metadata": {},
   "outputs": [],
   "source": [
    "from dask.distributed import Client,LocalCluster\n",
    "from dask_jobqueue import PBSCluster"
   ]
  },
  {
   "cell_type": "code",
   "execution_count": 18,
   "id": "2afe4fa2-0c6c-481c-a7ff-89faf1adc9ba",
   "metadata": {},
   "outputs": [],
   "source": [
    "# One node on Gadi has 48 cores - try and use up a full node before going to multiple nodes (jobs)\n",
    "\n",
    "walltime = \"00:30:00\"\n",
    "cores = 48\n",
    "memory = str(4 * cores) + \"GB\"\n",
    "\n",
    "cluster = PBSCluster(walltime=str(walltime), cores=cores, memory=str(memory), processes=cores,\n",
    "                     job_extra_directives=[\"-q normal\",\n",
    "                                           \"-P dt6\",\n",
    "                                           \"-l ncpus=\"+str(cores),\n",
    "                                           \"-l mem=\"+str(memory),\n",
    "                                           \"-l storage=gdata/xp65+gdata/w42+gdata/rt52\"],\n",
    "                     local_directory=\"$TMPDIR\",\n",
    "                     job_directives_skip=[\"select\"])"
   ]
  },
  {
   "cell_type": "code",
   "execution_count": 19,
   "id": "a6316e6a-6a7c-465e-8ae8-d6ee4cbbbb1c",
   "metadata": {},
   "outputs": [],
   "source": [
    "cluster.scale(jobs=1)\n",
    "client = Client(cluster)"
   ]
  },
  {
   "cell_type": "code",
   "execution_count": 20,
   "id": "d7a22723-7e10-4eac-874b-2af5b624a0df",
   "metadata": {},
   "outputs": [
    {
     "data": {
      "text/html": [
       "<div>\n",
       "    <div style=\"width: 24px; height: 24px; background-color: #e1e1e1; border: 3px solid #9D9D9D; border-radius: 5px; position: absolute;\"> </div>\n",
       "    <div style=\"margin-left: 48px;\">\n",
       "        <h3 style=\"margin-bottom: 0px;\">Client</h3>\n",
       "        <p style=\"color: #9D9D9D; margin-bottom: 0px;\">Client-e60ab704-b091-11f0-9443-000003a1fe80</p>\n",
       "        <table style=\"width: 100%; text-align: left;\">\n",
       "\n",
       "        <tr>\n",
       "        \n",
       "            <td style=\"text-align: left;\"><strong>Connection method:</strong> Cluster object</td>\n",
       "            <td style=\"text-align: left;\"><strong>Cluster type:</strong> dask_jobqueue.PBSCluster</td>\n",
       "        \n",
       "        </tr>\n",
       "\n",
       "        \n",
       "            <tr>\n",
       "                <td style=\"text-align: left;\">\n",
       "                    <strong>Dashboard: </strong> <a href=\"/proxy/8787/status\" target=\"_blank\">/proxy/8787/status</a>\n",
       "                </td>\n",
       "                <td style=\"text-align: left;\"></td>\n",
       "            </tr>\n",
       "        \n",
       "\n",
       "        </table>\n",
       "\n",
       "        \n",
       "            <button style=\"margin-bottom: 12px;\" data-commandlinker-command=\"dask:populate-and-launch-layout\" data-commandlinker-args='{\"url\": \"/proxy/8787/status\" }'>\n",
       "                Launch dashboard in JupyterLab\n",
       "            </button>\n",
       "        \n",
       "\n",
       "        \n",
       "            <details>\n",
       "            <summary style=\"margin-bottom: 20px;\"><h3 style=\"display: inline;\">Cluster Info</h3></summary>\n",
       "            <div class=\"jp-RenderedHTMLCommon jp-RenderedHTML jp-mod-trusted jp-OutputArea-output\">\n",
       "    <div style=\"width: 24px; height: 24px; background-color: #e1e1e1; border: 3px solid #9D9D9D; border-radius: 5px; position: absolute;\">\n",
       "    </div>\n",
       "    <div style=\"margin-left: 48px;\">\n",
       "        <h3 style=\"margin-bottom: 0px; margin-top: 0px;\">PBSCluster</h3>\n",
       "        <p style=\"color: #9D9D9D; margin-bottom: 0px;\">8f441e7a</p>\n",
       "        <table style=\"width: 100%; text-align: left;\">\n",
       "            <tr>\n",
       "                <td style=\"text-align: left;\">\n",
       "                    <strong>Dashboard:</strong> <a href=\"/proxy/8787/status\" target=\"_blank\">/proxy/8787/status</a>\n",
       "                </td>\n",
       "                <td style=\"text-align: left;\">\n",
       "                    <strong>Workers:</strong> 0\n",
       "                </td>\n",
       "            </tr>\n",
       "            <tr>\n",
       "                <td style=\"text-align: left;\">\n",
       "                    <strong>Total threads:</strong> 0\n",
       "                </td>\n",
       "                <td style=\"text-align: left;\">\n",
       "                    <strong>Total memory:</strong> 0 B\n",
       "                </td>\n",
       "            </tr>\n",
       "            \n",
       "        </table>\n",
       "\n",
       "        <details>\n",
       "            <summary style=\"margin-bottom: 20px;\">\n",
       "                <h3 style=\"display: inline;\">Scheduler Info</h3>\n",
       "            </summary>\n",
       "\n",
       "            <div style=\"\">\n",
       "    <div>\n",
       "        <div style=\"width: 24px; height: 24px; background-color: #FFF7E5; border: 3px solid #FF6132; border-radius: 5px; position: absolute;\"> </div>\n",
       "        <div style=\"margin-left: 48px;\">\n",
       "            <h3 style=\"margin-bottom: 0px;\">Scheduler</h3>\n",
       "            <p style=\"color: #9D9D9D; margin-bottom: 0px;\">Scheduler-54a25655-2b7e-495c-b323-a6a438df893c</p>\n",
       "            <table style=\"width: 100%; text-align: left;\">\n",
       "                <tr>\n",
       "                    <td style=\"text-align: left;\">\n",
       "                        <strong>Comm:</strong> tcp://10.6.121.4:41253\n",
       "                    </td>\n",
       "                    <td style=\"text-align: left;\">\n",
       "                        <strong>Workers:</strong> 0 \n",
       "                    </td>\n",
       "                </tr>\n",
       "                <tr>\n",
       "                    <td style=\"text-align: left;\">\n",
       "                        <strong>Dashboard:</strong> <a href=\"/proxy/8787/status\" target=\"_blank\">/proxy/8787/status</a>\n",
       "                    </td>\n",
       "                    <td style=\"text-align: left;\">\n",
       "                        <strong>Total threads:</strong> 0\n",
       "                    </td>\n",
       "                </tr>\n",
       "                <tr>\n",
       "                    <td style=\"text-align: left;\">\n",
       "                        <strong>Started:</strong> Just now\n",
       "                    </td>\n",
       "                    <td style=\"text-align: left;\">\n",
       "                        <strong>Total memory:</strong> 0 B\n",
       "                    </td>\n",
       "                </tr>\n",
       "            </table>\n",
       "        </div>\n",
       "    </div>\n",
       "\n",
       "    <details style=\"margin-left: 48px;\">\n",
       "        <summary style=\"margin-bottom: 20px;\">\n",
       "            <h3 style=\"display: inline;\">Workers</h3>\n",
       "        </summary>\n",
       "\n",
       "        \n",
       "\n",
       "    </details>\n",
       "</div>\n",
       "\n",
       "        </details>\n",
       "    </div>\n",
       "</div>\n",
       "            </details>\n",
       "        \n",
       "\n",
       "    </div>\n",
       "</div>"
      ],
      "text/plain": [
       "<Client: 'tcp://10.6.121.4:41253' processes=0 threads=0, memory=0 B>"
      ]
     },
     "execution_count": 20,
     "metadata": {},
     "output_type": "execute_result"
    }
   ],
   "source": [
    "client"
   ]
  },
  {
   "cell_type": "code",
   "execution_count": 5,
   "id": "7d5c6c4f-09fa-4b54-afcb-15c9c186954e",
   "metadata": {},
   "outputs": [],
   "source": [
    "import xarray as xr\n",
    "import numpy as np\n",
    "\n",
    "import matplotlib.pyplot as plt"
   ]
  },
  {
   "cell_type": "code",
   "execution_count": 7,
   "id": "5a46a558-9cb8-416a-a6c3-fd8855aeb00d",
   "metadata": {},
   "outputs": [
    {
     "name": "stdout",
     "output_type": "stream",
     "text": [
      "/g/data/w42/dr6273/work/power_models\n"
     ]
    }
   ],
   "source": [
    "%cd /g/data/w42/dr6273/work/power_models\n",
    "\n",
    "import functions as fn"
   ]
  },
  {
   "cell_type": "code",
   "execution_count": 8,
   "id": "a51003d1-9fc9-4c55-aacd-84b2ac64ea8d",
   "metadata": {},
   "outputs": [],
   "source": [
    "%load_ext autoreload\n",
    "%autoreload 2"
   ]
  },
  {
   "cell_type": "code",
   "execution_count": 9,
   "id": "d481340b-be03-453e-b8de-05f25ce27726",
   "metadata": {},
   "outputs": [],
   "source": [
    "root_path = \"/g/data/rt52/era5/single-levels/reanalysis/\"\n",
    "write_path = \"/g/data/w42/dr6273/work/data/era5/100w/hourly/\""
   ]
  },
  {
   "cell_type": "code",
   "execution_count": 10,
   "id": "897e577e-ca29-494b-80e1-9093b8fc2c93",
   "metadata": {},
   "outputs": [],
   "source": [
    "def get_Aus_boundary():\n",
    "    \"\"\"\n",
    "    Returns a list of bounding coordinates for Australia.\n",
    "    \"\"\"\n",
    "    return [110, 155, -10, -45]"
   ]
  },
  {
   "cell_type": "markdown",
   "id": "8d162cf9-5c4b-4e25-bab5-b0bb59ceb3f5",
   "metadata": {},
   "source": [
    "# Compute wind speed by year"
   ]
  },
  {
   "cell_type": "code",
   "execution_count": 11,
   "id": "976fa9f5-513b-40ab-a757-f058f18e2fef",
   "metadata": {},
   "outputs": [],
   "source": [
    "def windspeed(u, v):\n",
    "    \"\"\"\n",
    "    Compute windspeed from u and v\n",
    "    \n",
    "    u: array of zonal wind\n",
    "    v: array of meridional wind\n",
    "    \"\"\"\n",
    "    return np.sqrt(u ** 2 + v ** 2)"
   ]
  },
  {
   "cell_type": "code",
   "execution_count": 12,
   "id": "c9964dbf-86e6-4ad1-b4bb-bbdd17f078e5",
   "metadata": {},
   "outputs": [],
   "source": [
    "def preprocess(ds):\n",
    "    \"\"\"\n",
    "    Preprocess function for open_mfdataset.\n",
    "    Selects Australian region and renames coords.\n",
    "    \"\"\"\n",
    "    ds = ds.sel(\n",
    "        longitude=slice(region[0], region[1]),\n",
    "        latitude=slice(region[2], region[3])\n",
    "    )\n",
    "    ds = ds.rename(\n",
    "        {'longitude': 'lon',\n",
    "         'latitude': 'lat'}\n",
    "    )\n",
    "    ds = ds.chunk({\"time\": -1, \"lat\": -1, \"lon\": -1})\n",
    "    return ds"
   ]
  },
  {
   "cell_type": "code",
   "execution_count": 13,
   "id": "bbf957e4-5fad-4000-a2d0-2b56ea52aed6",
   "metadata": {},
   "outputs": [],
   "source": [
    "def load_hourly(preprocess, variable, year, first_hour, data_path=root_path):\n",
    "    \"\"\"\n",
    "    Load and preprocess hourly data for a given year\n",
    "    \n",
    "    preprocess: preprocess function\n",
    "    variable: name of variable to process\n",
    "    year: year to process\n",
    "    first_hour: desired first hour from which to compute 24-hour aggregations\n",
    "    data_path: path to hourly data\n",
    "    \"\"\"\n",
    "    # Open all hours in the year (~33 GB)\n",
    "    hourly = xr.open_mfdataset(\n",
    "        data_path + variable + \"/\" + str(year) + \"/*.nc\",\n",
    "        preprocess=preprocess\n",
    "    )\n",
    "\n",
    "    # Start the aggregation on the desired hour (e.g. 0000)\n",
    "    data_first_hour = hourly[\"time\"].dt.hour.item(0)\n",
    "    desired_start_index = (first_hour - data_first_hour) % 24\n",
    "    hourly = hourly.isel(time=range(desired_start_index, len(hourly[\"time\"])))\n",
    "    \n",
    "    return hourly"
   ]
  },
  {
   "cell_type": "code",
   "execution_count": 14,
   "id": "3e4a5428-d514-4ebd-b096-d6d3295e919c",
   "metadata": {},
   "outputs": [],
   "source": [
    "region = get_Aus_boundary()"
   ]
  },
  {
   "cell_type": "code",
   "execution_count": 15,
   "id": "b92ddc99-6fe5-4756-8f9a-02d71d38fab1",
   "metadata": {},
   "outputs": [
    {
     "data": {
      "text/plain": [
       "[110, 155, -10, -45]"
      ]
     },
     "execution_count": 15,
     "metadata": {},
     "output_type": "execute_result"
    }
   ],
   "source": [
    "region"
   ]
  },
  {
   "cell_type": "code",
   "execution_count": 16,
   "id": "9d7d7851-49e3-4246-a011-2af73d9890aa",
   "metadata": {},
   "outputs": [
    {
     "data": {
      "text/plain": [
       "range(2024, 2025)"
      ]
     },
     "execution_count": 16,
     "metadata": {},
     "output_type": "execute_result"
    }
   ],
   "source": [
    "years = range(2024, 2025)"
   ]
  },
  {
   "cell_type": "code",
   "execution_count": 21,
   "id": "416d27bc-2036-43a9-9dd7-383cdc72fe04",
   "metadata": {},
   "outputs": [],
   "source": [
    "for year in years:\n",
    "    if year % 5 == 0:\n",
    "        print(year)\n",
    "        \n",
    "    u100 = load_hourly(\n",
    "        preprocess,\n",
    "        \"100u\",\n",
    "        year,\n",
    "        0\n",
    "    )\n",
    "\n",
    "    v100 = load_hourly(\n",
    "        preprocess,\n",
    "        \"100v\",\n",
    "        year,\n",
    "        0\n",
    "    )\n",
    "    \n",
    "    w100 = windspeed(\n",
    "        u100.rename({\"u100\": \"w100\"}),\n",
    "        v100.rename({\"v100\": \"w100\"})\n",
    "    )\n",
    "    w100 = w100.chunk({\"time\": 24*7*12})\n",
    "    \n",
    "    encoding = {\n",
    "        \"w100\": {\"dtype\": \"float32\"}\n",
    "    }\n",
    "    w100.to_netcdf(\n",
    "        write_path + \"100w_era5_hourly_\" + str(year) + \"_Aus.nc\",\n",
    "        mode=\"w\",\n",
    "        encoding=encoding\n",
    "    )"
   ]
  },
  {
   "cell_type": "markdown",
   "id": "3af20a7b-e375-4172-acab-7d072d022995",
   "metadata": {},
   "source": [
    "# Close cluster"
   ]
  },
  {
   "cell_type": "code",
   "execution_count": 22,
   "id": "2737c756-5605-424d-9b1b-e74e889d0acd",
   "metadata": {},
   "outputs": [
    {
     "name": "stderr",
     "output_type": "stream",
     "text": [
      "INFO:dask_jobqueue.pbs:Resource specification for PBS not set, initializing it to select=1:ncpus=48:mem=179GB\n"
     ]
    }
   ],
   "source": [
    "client.close()\n",
    "cluster.close()"
   ]
  },
  {
   "cell_type": "code",
   "execution_count": null,
   "id": "76f3bd33-e28d-4804-972b-f2610cd42d24",
   "metadata": {},
   "outputs": [],
   "source": []
  }
 ],
 "metadata": {
  "kernelspec": {
   "display_name": "Python [conda env:analysis3]",
   "language": "python",
   "name": "conda-env-analysis3-py"
  },
  "language_info": {
   "codemirror_mode": {
    "name": "ipython",
    "version": 3
   },
   "file_extension": ".py",
   "mimetype": "text/x-python",
   "name": "python",
   "nbconvert_exporter": "python",
   "pygments_lexer": "ipython3",
   "version": "3.11.13"
  }
 },
 "nbformat": 4,
 "nbformat_minor": 5
}
