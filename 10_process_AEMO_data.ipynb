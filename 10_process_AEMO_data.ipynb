{
 "cells": [
  {
   "cell_type": "markdown",
   "metadata": {},
   "source": [
    "# Retrieve generation data from AEMO"
   ]
  },
  {
   "cell_type": "code",
   "execution_count": 1,
   "metadata": {},
   "outputs": [],
   "source": [
    "import nemosis, pandas as pd, numpy\n",
    "from nemosis import static_table, dynamic_data_compiler\n",
    "from pathlib import Path"
   ]
  },
  {
   "cell_type": "markdown",
   "metadata": {},
   "source": [
    "### Dispatch table\n",
    "\n",
    "Should only need to do this once"
   ]
  },
  {
   "cell_type": "code",
   "execution_count": null,
   "metadata": {},
   "outputs": [],
   "source": [
    "# # Downloading the Generator and Load Dispatch table from NEMOSIS for a specified time period\n",
    "# dynamic_data_compiler(\n",
    "#     start_time='2023/12/01 00:00:00',\n",
    "#     end_time='2024/01/01 00:10:00',\n",
    "#     table_name='DISPATCHLOAD',\n",
    "#     raw_data_location=raw_NEM_cache\n",
    "# )"
   ]
  },
  {
   "cell_type": "markdown",
   "metadata": {},
   "source": [
    "### Static table of generator IDs"
   ]
  },
  {
   "cell_type": "code",
   "execution_count": 2,
   "metadata": {},
   "outputs": [],
   "source": [
    "raw_NEM_cache = \"/scratch/w42/dr6273/raw_AEMO_cache\""
   ]
  },
  {
   "cell_type": "code",
   "execution_count": 3,
   "metadata": {
    "tags": []
   },
   "outputs": [
    {
     "name": "stdout",
     "output_type": "stream",
     "text": [
      "INFO: Retrieving static table Generators and Scheduled Loads\n",
      "INFO: Downloading data for table Generators and Scheduled Loads\n"
     ]
    }
   ],
   "source": [
    "# Downloading the Generators and Scheduled Loads table from NEMOSIS\n",
    "NEM_gen = static_table(\n",
    "    table_name=\"Generators and Scheduled Loads\", \n",
    "    raw_data_location=raw_NEM_cache,\n",
    "    update_static_file=True\n",
    ")\n",
    "                              \n",
    "#  Selecting only generating units, not loads or batteries\n",
    "NEM_gen = NEM_gen.loc[NEM_gen['Dispatch Type'] == \"Generating Unit\"]"
   ]
  },
  {
   "cell_type": "code",
   "execution_count": 4,
   "metadata": {},
   "outputs": [
    {
     "data": {
      "text/html": [
       "<div>\n",
       "<style scoped>\n",
       "    .dataframe tbody tr th:only-of-type {\n",
       "        vertical-align: middle;\n",
       "    }\n",
       "\n",
       "    .dataframe tbody tr th {\n",
       "        vertical-align: top;\n",
       "    }\n",
       "\n",
       "    .dataframe thead th {\n",
       "        text-align: right;\n",
       "    }\n",
       "</style>\n",
       "<table border=\"1\" class=\"dataframe\">\n",
       "  <thead>\n",
       "    <tr style=\"text-align: right;\">\n",
       "      <th></th>\n",
       "      <th>Participant</th>\n",
       "      <th>Station Name</th>\n",
       "      <th>Region</th>\n",
       "      <th>Dispatch Type</th>\n",
       "      <th>Category</th>\n",
       "      <th>Classification</th>\n",
       "      <th>Fuel Source - Primary</th>\n",
       "      <th>Fuel Source - Descriptor</th>\n",
       "      <th>Technology Type - Primary</th>\n",
       "      <th>Technology Type - Descriptor</th>\n",
       "      <th>Aggregation</th>\n",
       "      <th>DUID</th>\n",
       "      <th>Reg Cap generation (MW)</th>\n",
       "      <th>Max Cap generation (MW)</th>\n",
       "    </tr>\n",
       "  </thead>\n",
       "  <tbody>\n",
       "    <tr>\n",
       "      <th>1</th>\n",
       "      <td>South Australian Water Corporation</td>\n",
       "      <td>Adelaide Desalination Plant</td>\n",
       "      <td>SA1</td>\n",
       "      <td>Generating Unit</td>\n",
       "      <td>Market</td>\n",
       "      <td>Scheduled</td>\n",
       "      <td>Battery storage</td>\n",
       "      <td>Grid</td>\n",
       "      <td>Storage</td>\n",
       "      <td>Battery and Inverter</td>\n",
       "      <td>Y</td>\n",
       "      <td>ADPBA1G</td>\n",
       "      <td>7.76</td>\n",
       "      <td>6.15</td>\n",
       "    </tr>\n",
       "    <tr>\n",
       "      <th>3</th>\n",
       "      <td>South Australian Water Corporation</td>\n",
       "      <td>Adelaide Desalination Plant</td>\n",
       "      <td>SA1</td>\n",
       "      <td>Generating Unit</td>\n",
       "      <td>Market</td>\n",
       "      <td>Non-Scheduled</td>\n",
       "      <td>Hydro</td>\n",
       "      <td>Water</td>\n",
       "      <td>Renewable</td>\n",
       "      <td>Run of River</td>\n",
       "      <td>Y</td>\n",
       "      <td>ADPMH1</td>\n",
       "      <td>1.44</td>\n",
       "      <td>1</td>\n",
       "    </tr>\n",
       "    <tr>\n",
       "      <th>4</th>\n",
       "      <td>South Australian Water Corporation</td>\n",
       "      <td>Adelaide Desalination Plant</td>\n",
       "      <td>SA1</td>\n",
       "      <td>Generating Unit</td>\n",
       "      <td>Market</td>\n",
       "      <td>Semi-Scheduled</td>\n",
       "      <td>Solar</td>\n",
       "      <td>Solar</td>\n",
       "      <td>Renewable</td>\n",
       "      <td>Photovoltaic Tracking Flat panel</td>\n",
       "      <td>Y</td>\n",
       "      <td>ADPPV1</td>\n",
       "      <td>24.75</td>\n",
       "      <td>19</td>\n",
       "    </tr>\n",
       "    <tr>\n",
       "      <th>5</th>\n",
       "      <td>South Australian Water Corporation</td>\n",
       "      <td>Adelaide Desalination Plant</td>\n",
       "      <td>SA1</td>\n",
       "      <td>Generating Unit</td>\n",
       "      <td>Market</td>\n",
       "      <td>Non-Scheduled</td>\n",
       "      <td>Solar</td>\n",
       "      <td>Solar</td>\n",
       "      <td>Renewable</td>\n",
       "      <td>Photovoltaic Flat panel</td>\n",
       "      <td>Y</td>\n",
       "      <td>ADPPV2</td>\n",
       "      <td>0.2</td>\n",
       "      <td>0.2</td>\n",
       "    </tr>\n",
       "    <tr>\n",
       "      <th>6</th>\n",
       "      <td>South Australian Water Corporation</td>\n",
       "      <td>Adelaide Desalination Plant</td>\n",
       "      <td>SA1</td>\n",
       "      <td>Generating Unit</td>\n",
       "      <td>Market</td>\n",
       "      <td>Non-Scheduled</td>\n",
       "      <td>Solar</td>\n",
       "      <td>Solar</td>\n",
       "      <td>Renewable</td>\n",
       "      <td>Photovoltaic Flat panel</td>\n",
       "      <td>Y</td>\n",
       "      <td>ADPPV3</td>\n",
       "      <td>0.02</td>\n",
       "      <td>0.02</td>\n",
       "    </tr>\n",
       "  </tbody>\n",
       "</table>\n",
       "</div>"
      ],
      "text/plain": [
       "                          Participant                 Station Name Region  \\\n",
       "1  South Australian Water Corporation  Adelaide Desalination Plant    SA1   \n",
       "3  South Australian Water Corporation  Adelaide Desalination Plant    SA1   \n",
       "4  South Australian Water Corporation  Adelaide Desalination Plant    SA1   \n",
       "5  South Australian Water Corporation  Adelaide Desalination Plant    SA1   \n",
       "6  South Australian Water Corporation  Adelaide Desalination Plant    SA1   \n",
       "\n",
       "     Dispatch Type Category  Classification Fuel Source - Primary  \\\n",
       "1  Generating Unit   Market       Scheduled       Battery storage   \n",
       "3  Generating Unit   Market   Non-Scheduled                 Hydro   \n",
       "4  Generating Unit   Market  Semi-Scheduled                 Solar   \n",
       "5  Generating Unit   Market   Non-Scheduled                 Solar   \n",
       "6  Generating Unit   Market   Non-Scheduled                 Solar   \n",
       "\n",
       "  Fuel Source - Descriptor Technology Type - Primary  \\\n",
       "1                     Grid                   Storage   \n",
       "3                    Water                 Renewable   \n",
       "4                    Solar                 Renewable   \n",
       "5                    Solar                 Renewable   \n",
       "6                    Solar                 Renewable   \n",
       "\n",
       "       Technology Type - Descriptor Aggregation     DUID  \\\n",
       "1              Battery and Inverter           Y  ADPBA1G   \n",
       "3                      Run of River           Y   ADPMH1   \n",
       "4  Photovoltaic Tracking Flat panel           Y   ADPPV1   \n",
       "5           Photovoltaic Flat panel           Y   ADPPV2   \n",
       "6           Photovoltaic Flat panel           Y   ADPPV3   \n",
       "\n",
       "  Reg Cap generation (MW) Max Cap generation (MW)  \n",
       "1                    7.76                    6.15  \n",
       "3                    1.44                       1  \n",
       "4                   24.75                      19  \n",
       "5                     0.2                     0.2  \n",
       "6                    0.02                    0.02  "
      ]
     },
     "execution_count": 4,
     "metadata": {},
     "output_type": "execute_result"
    }
   ],
   "source": [
    "NEM_gen.head()"
   ]
  },
  {
   "cell_type": "markdown",
   "metadata": {},
   "source": [
    "### Generation data"
   ]
  },
  {
   "cell_type": "code",
   "execution_count": 5,
   "metadata": {},
   "outputs": [],
   "source": [
    "def load_dispatch(year, month, filepath):\n",
    "    \"\"\"\n",
    "    Load DISPATCHLOAD data and tidy it\n",
    "    \"\"\"\n",
    "    df = pd.read_csv(\n",
    "        filepath + \"/PUBLIC_DVD_DISPATCHLOAD_\" + year + month + \"010000.CSV\",\n",
    "        sep=\",\",\n",
    "        skiprows=1,\n",
    "        # nrows=10000,\n",
    "        # index_col=0,\n",
    "        parse_dates=True,\n",
    "        usecols=[\"SETTLEMENTDATE\", \"DUID\", \"INITIALMW\"]\n",
    "    )\n",
    "    df = df.dropna()\n",
    "    df[\"SETTLEMENTDATE\"] = pd.to_datetime(df[\"SETTLEMENTDATE\"]) - pd.Timedelta(minutes=5)\n",
    "    \n",
    "    return df"
   ]
  },
  {
   "cell_type": "code",
   "execution_count": 6,
   "metadata": {},
   "outputs": [],
   "source": [
    "def merge_dfs(load_df, generation_df):\n",
    "    \"\"\"\n",
    "    Merge dispatch load and generation info dataframes\n",
    "    \"\"\"\n",
    "    return pd.merge(\n",
    "        load_df,\n",
    "        generation_df[[\"DUID\", \"Station Name\", 'Fuel Source - Primary', 'Fuel Source - Descriptor', 'Region']],\n",
    "        how=\"left\",\n",
    "        on=[\"DUID\"]\n",
    "    )"
   ]
  },
  {
   "cell_type": "code",
   "execution_count": 7,
   "metadata": {},
   "outputs": [],
   "source": [
    "def hourly_fuel(fuel_type, dispatch_df):\n",
    "    \"\"\"\n",
    "    Aggregate 5-minute df data to hourly\n",
    "    \"\"\"\n",
    "    # Select data for desired fuel\n",
    "    dispatch = dispatch_df.loc[(dispatch_df['Fuel Source - Primary'] == fuel_type)]\n",
    "    \n",
    "    # Group by State and date and sum MW\n",
    "    dispatch_sum = dispatch.groupby([\"Region\", \"SETTLEMENTDATE\"])[\"INITIALMW\"].sum()\n",
    "    \n",
    "    # Sum to hourly\n",
    "    level_values = dispatch_sum.index.get_level_values\n",
    "    hourly = dispatch_sum.groupby(\n",
    "        [level_values(0)] + [pd.Grouper(freq='h', level=-1)]\n",
    "    ).sum()\n",
    "    \n",
    "    # Divide by 12 to get MWh\n",
    "    hourly_mwh = hourly / 12\n",
    "    \n",
    "    return hourly_mwh"
   ]
  },
  {
   "cell_type": "code",
   "execution_count": 10,
   "metadata": {},
   "outputs": [],
   "source": [
    "# years = [2021, 2022, 2023]\n",
    "# months = [\"01\", \"02\", \"03\", \"04\", \"05\", \"06\", \"07\", \"08\", \"09\", \"10\", \"11\", \"12\"]"
   ]
  },
  {
   "cell_type": "code",
   "execution_count": 12,
   "metadata": {},
   "outputs": [],
   "source": [
    "years = [2020]\n",
    "months = [\"12\"]"
   ]
  },
  {
   "cell_type": "code",
   "execution_count": 13,
   "metadata": {},
   "outputs": [
    {
     "name": "stdout",
     "output_type": "stream",
     "text": [
      "2020\n",
      "12\n"
     ]
    }
   ],
   "source": [
    "for year in years:\n",
    "    y = str(year)\n",
    "    print(y)\n",
    "    \n",
    "    for month in months:\n",
    "        print(month)\n",
    "        \n",
    "        df = load_dispatch(y, month, raw_NEM_cache)\n",
    "        \n",
    "        dispatch = merge_dfs(df, NEM_gen)\n",
    "        \n",
    "        wind_hourly_mwh = hourly_fuel(\"Wind\", dispatch)\n",
    "        solar_hourly_mwh = hourly_fuel(\"Solar\", dispatch)\n",
    "        \n",
    "        wind_hourly_mwh.to_csv(\n",
    "            \"/scratch/w42/dr6273/processed_AEMO/aemo_hourly_wind_\" + y + \"_\" + month + \".csv\"\n",
    "        )\n",
    "        solar_hourly_mwh.to_csv(\n",
    "            \"/scratch/w42/dr6273/processed_AEMO/aemo_hourly_solar_\" + y + \"_\" + month + \".csv\"\n",
    "        )"
   ]
  },
  {
   "cell_type": "code",
   "execution_count": null,
   "metadata": {},
   "outputs": [],
   "source": []
  }
 ],
 "metadata": {
  "kernelspec": {
   "display_name": "Python (nemosis)",
   "language": "python",
   "name": "nemosis"
  },
  "language_info": {
   "codemirror_mode": {
    "name": "ipython",
    "version": 3
   },
   "file_extension": ".py",
   "mimetype": "text/x-python",
   "name": "python",
   "nbconvert_exporter": "python",
   "pygments_lexer": "ipython3",
   "version": "3.11.9"
  }
 },
 "nbformat": 4,
 "nbformat_minor": 4
}
