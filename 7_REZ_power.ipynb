{
 "cells": [
  {
   "cell_type": "markdown",
   "id": "fd667142-3072-4b51-82e5-aeac61e35045",
   "metadata": {},
   "source": [
    "# Power output for REZ for different energy scenarios"
   ]
  },
  {
   "cell_type": "code",
   "execution_count": 1,
   "id": "e751ef1e-561a-466e-9d52-fc24a38cb20e",
   "metadata": {},
   "outputs": [],
   "source": [
    "from dask.distributed import Client,LocalCluster\n",
    "from dask_jobqueue import PBSCluster"
   ]
  },
  {
   "cell_type": "code",
   "execution_count": 144,
   "id": "e15088c5-57dc-42d9-b6ca-66cc78aa3405",
   "metadata": {},
   "outputs": [],
   "source": [
    "client.close()\n",
    "cluster.close()"
   ]
  },
  {
   "cell_type": "code",
   "execution_count": 145,
   "id": "110fe4e4-c193-41f5-a258-b9de322e105f",
   "metadata": {},
   "outputs": [],
   "source": [
    "# One node on Gadi has 48 cores - try and use up a full node before going to multiple nodes (jobs)\n",
    "\n",
    "walltime = \"01:10:00\"\n",
    "cores = 48\n",
    "memory = str(4 * cores) + \"GB\"\n",
    "\n",
    "cluster = PBSCluster(walltime=str(walltime), cores=cores, memory=str(memory), processes=cores,\n",
    "                     job_extra_directives=[\"-q normal\",\n",
    "                                           \"-P w42\",\n",
    "                                           \"-l ncpus=\"+str(cores),\n",
    "                                           \"-l mem=\"+str(memory),\n",
    "                                           \"-l storage=gdata/w42+gdata/rt52\"],\n",
    "                     local_directory=\"$TMPDIR\",\n",
    "                     job_directives_skip=[\"select\"])"
   ]
  },
  {
   "cell_type": "code",
   "execution_count": 146,
   "id": "1604c7e6-ee20-4ea2-91f3-bf10ec5874bf",
   "metadata": {},
   "outputs": [],
   "source": [
    "cluster.scale(jobs=3)\n",
    "client = Client(cluster)"
   ]
  },
  {
   "cell_type": "code",
   "execution_count": 147,
   "id": "f9fc9dc4-49ef-4215-b12b-b0151c9d0a2f",
   "metadata": {},
   "outputs": [
    {
     "data": {
      "text/html": [
       "<div>\n",
       "    <div style=\"width: 24px; height: 24px; background-color: #e1e1e1; border: 3px solid #9D9D9D; border-radius: 5px; position: absolute;\"> </div>\n",
       "    <div style=\"margin-left: 48px;\">\n",
       "        <h3 style=\"margin-bottom: 0px;\">Client</h3>\n",
       "        <p style=\"color: #9D9D9D; margin-bottom: 0px;\">Client-a8a4efa7-68c6-11ef-881d-00000828fe80</p>\n",
       "        <table style=\"width: 100%; text-align: left;\">\n",
       "\n",
       "        <tr>\n",
       "        \n",
       "            <td style=\"text-align: left;\"><strong>Connection method:</strong> Cluster object</td>\n",
       "            <td style=\"text-align: left;\"><strong>Cluster type:</strong> dask_jobqueue.PBSCluster</td>\n",
       "        \n",
       "        </tr>\n",
       "\n",
       "        \n",
       "            <tr>\n",
       "                <td style=\"text-align: left;\">\n",
       "                    <strong>Dashboard: </strong> <a href=\"/proxy/8787/status\" target=\"_blank\">/proxy/8787/status</a>\n",
       "                </td>\n",
       "                <td style=\"text-align: left;\"></td>\n",
       "            </tr>\n",
       "        \n",
       "\n",
       "        </table>\n",
       "\n",
       "        \n",
       "            <button style=\"margin-bottom: 12px;\" data-commandlinker-command=\"dask:populate-and-launch-layout\" data-commandlinker-args='{\"url\": \"/proxy/8787/status\" }'>\n",
       "                Launch dashboard in JupyterLab\n",
       "            </button>\n",
       "        \n",
       "\n",
       "        \n",
       "            <details>\n",
       "            <summary style=\"margin-bottom: 20px;\"><h3 style=\"display: inline;\">Cluster Info</h3></summary>\n",
       "            <div class=\"jp-RenderedHTMLCommon jp-RenderedHTML jp-mod-trusted jp-OutputArea-output\">\n",
       "    <div style=\"width: 24px; height: 24px; background-color: #e1e1e1; border: 3px solid #9D9D9D; border-radius: 5px; position: absolute;\">\n",
       "    </div>\n",
       "    <div style=\"margin-left: 48px;\">\n",
       "        <h3 style=\"margin-bottom: 0px; margin-top: 0px;\">PBSCluster</h3>\n",
       "        <p style=\"color: #9D9D9D; margin-bottom: 0px;\">a8cd2bd3</p>\n",
       "        <table style=\"width: 100%; text-align: left;\">\n",
       "            <tr>\n",
       "                <td style=\"text-align: left;\">\n",
       "                    <strong>Dashboard:</strong> <a href=\"/proxy/8787/status\" target=\"_blank\">/proxy/8787/status</a>\n",
       "                </td>\n",
       "                <td style=\"text-align: left;\">\n",
       "                    <strong>Workers:</strong> 0\n",
       "                </td>\n",
       "            </tr>\n",
       "            <tr>\n",
       "                <td style=\"text-align: left;\">\n",
       "                    <strong>Total threads:</strong> 0\n",
       "                </td>\n",
       "                <td style=\"text-align: left;\">\n",
       "                    <strong>Total memory:</strong> 0 B\n",
       "                </td>\n",
       "            </tr>\n",
       "            \n",
       "        </table>\n",
       "\n",
       "        <details>\n",
       "            <summary style=\"margin-bottom: 20px;\">\n",
       "                <h3 style=\"display: inline;\">Scheduler Info</h3>\n",
       "            </summary>\n",
       "\n",
       "            <div style=\"\">\n",
       "    <div>\n",
       "        <div style=\"width: 24px; height: 24px; background-color: #FFF7E5; border: 3px solid #FF6132; border-radius: 5px; position: absolute;\"> </div>\n",
       "        <div style=\"margin-left: 48px;\">\n",
       "            <h3 style=\"margin-bottom: 0px;\">Scheduler</h3>\n",
       "            <p style=\"color: #9D9D9D; margin-bottom: 0px;\">Scheduler-be62dabd-227e-4ab5-8c96-481ae692668f</p>\n",
       "            <table style=\"width: 100%; text-align: left;\">\n",
       "                <tr>\n",
       "                    <td style=\"text-align: left;\">\n",
       "                        <strong>Comm:</strong> tcp://10.6.121.9:42695\n",
       "                    </td>\n",
       "                    <td style=\"text-align: left;\">\n",
       "                        <strong>Workers:</strong> 0\n",
       "                    </td>\n",
       "                </tr>\n",
       "                <tr>\n",
       "                    <td style=\"text-align: left;\">\n",
       "                        <strong>Dashboard:</strong> <a href=\"/proxy/8787/status\" target=\"_blank\">/proxy/8787/status</a>\n",
       "                    </td>\n",
       "                    <td style=\"text-align: left;\">\n",
       "                        <strong>Total threads:</strong> 0\n",
       "                    </td>\n",
       "                </tr>\n",
       "                <tr>\n",
       "                    <td style=\"text-align: left;\">\n",
       "                        <strong>Started:</strong> Just now\n",
       "                    </td>\n",
       "                    <td style=\"text-align: left;\">\n",
       "                        <strong>Total memory:</strong> 0 B\n",
       "                    </td>\n",
       "                </tr>\n",
       "            </table>\n",
       "        </div>\n",
       "    </div>\n",
       "\n",
       "    <details style=\"margin-left: 48px;\">\n",
       "        <summary style=\"margin-bottom: 20px;\">\n",
       "            <h3 style=\"display: inline;\">Workers</h3>\n",
       "        </summary>\n",
       "\n",
       "        \n",
       "\n",
       "    </details>\n",
       "</div>\n",
       "\n",
       "        </details>\n",
       "    </div>\n",
       "</div>\n",
       "            </details>\n",
       "        \n",
       "\n",
       "    </div>\n",
       "</div>"
      ],
      "text/plain": [
       "<Client: 'tcp://10.6.121.9:42695' processes=0 threads=0, memory=0 B>"
      ]
     },
     "execution_count": 147,
     "metadata": {},
     "output_type": "execute_result"
    }
   ],
   "source": [
    "client"
   ]
  },
  {
   "cell_type": "code",
   "execution_count": 5,
   "id": "93146e58-ecad-4b7b-a0f4-cc65e6f8724d",
   "metadata": {},
   "outputs": [],
   "source": [
    "import xarray as xr\n",
    "import pandas as pd"
   ]
  },
  {
   "cell_type": "code",
   "execution_count": 6,
   "id": "9d3ead5d-258f-4617-9e66-128e2a75de80",
   "metadata": {},
   "outputs": [
    {
     "name": "stdout",
     "output_type": "stream",
     "text": [
      "/g/data/w42/dr6273/work/power_models\n"
     ]
    }
   ],
   "source": [
    "%cd /g/data/w42/dr6273/work/power_models\n",
    "import functions as fn"
   ]
  },
  {
   "cell_type": "code",
   "execution_count": 7,
   "id": "5d58c151-da0f-46d0-8453-ce3124658dfd",
   "metadata": {},
   "outputs": [],
   "source": [
    "%load_ext autoreload\n",
    "%autoreload 2"
   ]
  },
  {
   "cell_type": "markdown",
   "id": "8589c94e-fd76-4997-9501-ff12ccab33a5",
   "metadata": {},
   "source": [
    "# Load REZ data"
   ]
  },
  {
   "cell_type": "markdown",
   "id": "01ca4493-82c5-46e1-a56c-a7ec8b40fae0",
   "metadata": {},
   "source": [
    "#### REZ mask"
   ]
  },
  {
   "cell_type": "code",
   "execution_count": 9,
   "id": "3f8708a2-05db-497d-aeb8-67dd1432e300",
   "metadata": {},
   "outputs": [],
   "source": [
    "mask = xr.open_dataset('/g/data/w42/dr6273/work/projects/Aus_energy/data/rez_2024_mask_era5_grid.nc').REZ"
   ]
  },
  {
   "cell_type": "markdown",
   "id": "4d2c099c-bd89-49a7-b4db-7aa498d95271",
   "metadata": {},
   "source": [
    "#### REZ generation"
   ]
  },
  {
   "cell_type": "code",
   "execution_count": 39,
   "id": "c2cd8a6f-9879-42e8-8d1a-d5c58a53734a",
   "metadata": {},
   "outputs": [],
   "source": [
    "_gen = pd.read_csv(\"/g/data/w42/dr6273/work/data/REZ/2024/REZ_potential.csv\", index_col=0)"
   ]
  },
  {
   "cell_type": "code",
   "execution_count": 40,
   "id": "9c33430f-53e8-4074-82be-811d6621408f",
   "metadata": {},
   "outputs": [],
   "source": [
    "# Tidy column names\n",
    "_gen.columns = [i.replace(\"90\", \"9-\") for i in _gen.columns]\n",
    "_gen.columns = [i.replace(\" \", \"_\") for i in _gen.columns]"
   ]
  },
  {
   "cell_type": "code",
   "execution_count": 42,
   "id": "24278640-949e-4901-8f99-e3cc29004bcf",
   "metadata": {},
   "outputs": [],
   "source": [
    "# Sum scenarios with existing capacity\n",
    "gen = _gen.copy()\n",
    "for col in _gen.columns[2:]:\n",
    "    if col[:3] == \"Exi\":\n",
    "        pass\n",
    "    else:\n",
    "        gen_type = col.split(\"_\")[-2]\n",
    "        gen[col] = _gen[col] + _gen[\"Existing_\" + gen_type]"
   ]
  },
  {
   "cell_type": "code",
   "execution_count": 43,
   "id": "31f819a2-c499-4a97-b93c-b3592e58d654",
   "metadata": {},
   "outputs": [
    {
     "data": {
      "text/html": [
       "<div>\n",
       "<style scoped>\n",
       "    .dataframe tbody tr th:only-of-type {\n",
       "        vertical-align: middle;\n",
       "    }\n",
       "\n",
       "    .dataframe tbody tr th {\n",
       "        vertical-align: top;\n",
       "    }\n",
       "\n",
       "    .dataframe thead th {\n",
       "        text-align: right;\n",
       "    }\n",
       "</style>\n",
       "<table border=\"1\" class=\"dataframe\">\n",
       "  <thead>\n",
       "    <tr style=\"text-align: right;\">\n",
       "      <th></th>\n",
       "      <th>Solar_renewable_potential_(MW)</th>\n",
       "      <th>Wind_renewable_potential_(MW)</th>\n",
       "      <th>Existing_solar</th>\n",
       "      <th>Progressive_solar_2029-30</th>\n",
       "      <th>Progressive_solar_2039-40</th>\n",
       "      <th>Progressive_solar_2049-50</th>\n",
       "      <th>Step_change_solar_2029-30</th>\n",
       "      <th>Step_change_solar_2039-40</th>\n",
       "      <th>Step_change_solar_2049-50</th>\n",
       "      <th>Green_energy_solar_2029-30</th>\n",
       "      <th>...</th>\n",
       "      <th>Existing_wind</th>\n",
       "      <th>Progressive_wind_2029-30</th>\n",
       "      <th>Progressive_wind_2039-40</th>\n",
       "      <th>Progressive_wind_2049-50</th>\n",
       "      <th>Step_change_wind_2029-30</th>\n",
       "      <th>Step_change_wind_2039-40</th>\n",
       "      <th>Step_change_wind_2049-50</th>\n",
       "      <th>Green_energy_wind_2029-30</th>\n",
       "      <th>Green_energy_wind_2039-40</th>\n",
       "      <th>Green_energy_wind_2049-50</th>\n",
       "    </tr>\n",
       "    <tr>\n",
       "      <th>REZ</th>\n",
       "      <th></th>\n",
       "      <th></th>\n",
       "      <th></th>\n",
       "      <th></th>\n",
       "      <th></th>\n",
       "      <th></th>\n",
       "      <th></th>\n",
       "      <th></th>\n",
       "      <th></th>\n",
       "      <th></th>\n",
       "      <th></th>\n",
       "      <th></th>\n",
       "      <th></th>\n",
       "      <th></th>\n",
       "      <th></th>\n",
       "      <th></th>\n",
       "      <th></th>\n",
       "      <th></th>\n",
       "      <th></th>\n",
       "      <th></th>\n",
       "      <th></th>\n",
       "    </tr>\n",
       "  </thead>\n",
       "  <tbody>\n",
       "    <tr>\n",
       "      <th>N1</th>\n",
       "      <td>6385</td>\n",
       "      <td>0</td>\n",
       "      <td>166</td>\n",
       "      <td>216</td>\n",
       "      <td>216</td>\n",
       "      <td>266</td>\n",
       "      <td>166</td>\n",
       "      <td>216</td>\n",
       "      <td>266</td>\n",
       "      <td>216</td>\n",
       "      <td>...</td>\n",
       "      <td>0</td>\n",
       "      <td>0</td>\n",
       "      <td>0</td>\n",
       "      <td>0</td>\n",
       "      <td>0</td>\n",
       "      <td>0</td>\n",
       "      <td>0</td>\n",
       "      <td>0</td>\n",
       "      <td>0</td>\n",
       "      <td>-300</td>\n",
       "    </tr>\n",
       "    <tr>\n",
       "      <th>N2</th>\n",
       "      <td>2950</td>\n",
       "      <td>7400</td>\n",
       "      <td>855</td>\n",
       "      <td>905</td>\n",
       "      <td>1355</td>\n",
       "      <td>3855</td>\n",
       "      <td>855</td>\n",
       "      <td>3255</td>\n",
       "      <td>6255</td>\n",
       "      <td>3155</td>\n",
       "      <td>...</td>\n",
       "      <td>442</td>\n",
       "      <td>3492</td>\n",
       "      <td>4042</td>\n",
       "      <td>7842</td>\n",
       "      <td>3442</td>\n",
       "      <td>7842</td>\n",
       "      <td>7842</td>\n",
       "      <td>4992</td>\n",
       "      <td>9142</td>\n",
       "      <td>9592</td>\n",
       "    </tr>\n",
       "    <tr>\n",
       "      <th>N3</th>\n",
       "      <td>6850</td>\n",
       "      <td>3000</td>\n",
       "      <td>1497</td>\n",
       "      <td>3197</td>\n",
       "      <td>3447</td>\n",
       "      <td>7597</td>\n",
       "      <td>2947</td>\n",
       "      <td>5897</td>\n",
       "      <td>8347</td>\n",
       "      <td>4447</td>\n",
       "      <td>...</td>\n",
       "      <td>673</td>\n",
       "      <td>4373</td>\n",
       "      <td>4373</td>\n",
       "      <td>4873</td>\n",
       "      <td>6123</td>\n",
       "      <td>6123</td>\n",
       "      <td>8473</td>\n",
       "      <td>7373</td>\n",
       "      <td>7473</td>\n",
       "      <td>8173</td>\n",
       "    </tr>\n",
       "    <tr>\n",
       "      <th>N4</th>\n",
       "      <td>8000</td>\n",
       "      <td>5100</td>\n",
       "      <td>53</td>\n",
       "      <td>253</td>\n",
       "      <td>253</td>\n",
       "      <td>403</td>\n",
       "      <td>203</td>\n",
       "      <td>203</td>\n",
       "      <td>453</td>\n",
       "      <td>253</td>\n",
       "      <td>...</td>\n",
       "      <td>198</td>\n",
       "      <td>298</td>\n",
       "      <td>298</td>\n",
       "      <td>298</td>\n",
       "      <td>298</td>\n",
       "      <td>298</td>\n",
       "      <td>348</td>\n",
       "      <td>348</td>\n",
       "      <td>348</td>\n",
       "      <td>348</td>\n",
       "    </tr>\n",
       "    <tr>\n",
       "      <th>N5</th>\n",
       "      <td>2256</td>\n",
       "      <td>3900</td>\n",
       "      <td>1122</td>\n",
       "      <td>1822</td>\n",
       "      <td>1822</td>\n",
       "      <td>3372</td>\n",
       "      <td>2272</td>\n",
       "      <td>2272</td>\n",
       "      <td>3372</td>\n",
       "      <td>1922</td>\n",
       "      <td>...</td>\n",
       "      <td>0</td>\n",
       "      <td>450</td>\n",
       "      <td>450</td>\n",
       "      <td>450</td>\n",
       "      <td>600</td>\n",
       "      <td>600</td>\n",
       "      <td>1000</td>\n",
       "      <td>1000</td>\n",
       "      <td>1000</td>\n",
       "      <td>1000</td>\n",
       "    </tr>\n",
       "  </tbody>\n",
       "</table>\n",
       "<p>5 rows × 22 columns</p>\n",
       "</div>"
      ],
      "text/plain": [
       "     Solar_renewable_potential_(MW)  Wind_renewable_potential_(MW)  \\\n",
       "REZ                                                                  \n",
       "N1                             6385                              0   \n",
       "N2                             2950                           7400   \n",
       "N3                             6850                           3000   \n",
       "N4                             8000                           5100   \n",
       "N5                             2256                           3900   \n",
       "\n",
       "     Existing_solar  Progressive_solar_2029-30  Progressive_solar_2039-40  \\\n",
       "REZ                                                                         \n",
       "N1              166                        216                        216   \n",
       "N2              855                        905                       1355   \n",
       "N3             1497                       3197                       3447   \n",
       "N4               53                        253                        253   \n",
       "N5             1122                       1822                       1822   \n",
       "\n",
       "     Progressive_solar_2049-50  Step_change_solar_2029-30  \\\n",
       "REZ                                                         \n",
       "N1                         266                        166   \n",
       "N2                        3855                        855   \n",
       "N3                        7597                       2947   \n",
       "N4                         403                        203   \n",
       "N5                        3372                       2272   \n",
       "\n",
       "     Step_change_solar_2039-40  Step_change_solar_2049-50  \\\n",
       "REZ                                                         \n",
       "N1                         216                        266   \n",
       "N2                        3255                       6255   \n",
       "N3                        5897                       8347   \n",
       "N4                         203                        453   \n",
       "N5                        2272                       3372   \n",
       "\n",
       "     Green_energy_solar_2029-30  ...  Existing_wind  Progressive_wind_2029-30  \\\n",
       "REZ                              ...                                            \n",
       "N1                          216  ...              0                         0   \n",
       "N2                         3155  ...            442                      3492   \n",
       "N3                         4447  ...            673                      4373   \n",
       "N4                          253  ...            198                       298   \n",
       "N5                         1922  ...              0                       450   \n",
       "\n",
       "     Progressive_wind_2039-40  Progressive_wind_2049-50  \\\n",
       "REZ                                                       \n",
       "N1                          0                         0   \n",
       "N2                       4042                      7842   \n",
       "N3                       4373                      4873   \n",
       "N4                        298                       298   \n",
       "N5                        450                       450   \n",
       "\n",
       "     Step_change_wind_2029-30  Step_change_wind_2039-40  \\\n",
       "REZ                                                       \n",
       "N1                          0                         0   \n",
       "N2                       3442                      7842   \n",
       "N3                       6123                      6123   \n",
       "N4                        298                       298   \n",
       "N5                        600                       600   \n",
       "\n",
       "     Step_change_wind_2049-50  Green_energy_wind_2029-30  \\\n",
       "REZ                                                        \n",
       "N1                          0                          0   \n",
       "N2                       7842                       4992   \n",
       "N3                       8473                       7373   \n",
       "N4                        348                        348   \n",
       "N5                       1000                       1000   \n",
       "\n",
       "     Green_energy_wind_2039-40  Green_energy_wind_2049-50  \n",
       "REZ                                                        \n",
       "N1                           0                       -300  \n",
       "N2                        9142                       9592  \n",
       "N3                        7473                       8173  \n",
       "N4                         348                        348  \n",
       "N5                        1000                       1000  \n",
       "\n",
       "[5 rows x 22 columns]"
      ]
     },
     "execution_count": 43,
     "metadata": {},
     "output_type": "execute_result"
    }
   ],
   "source": [
    "gen.head()"
   ]
  },
  {
   "cell_type": "markdown",
   "id": "7b9bb2df-ac56-4074-99a0-6a04548ba869",
   "metadata": {},
   "source": [
    "# Compute generation"
   ]
  },
  {
   "cell_type": "code",
   "execution_count": 67,
   "id": "07af249d-6c3f-44d1-90bf-9d2b63224a2c",
   "metadata": {},
   "outputs": [],
   "source": [
    "def get_scaled_capacity_mask(mask_da, generation):\n",
    "    \"\"\"\n",
    "    Return DataArray with mask of capacity divided evenly across grid cells\n",
    "    \n",
    "    mask_da: array of REZ mask\n",
    "    generation: pandas Series of capacity values for each region (index).\n",
    "    \"\"\"\n",
    "    da_list = []\n",
    "    for r in generation.index:\n",
    "        capacity = generation.loc[r]\n",
    "        n_cells = mask_da.sel(region=r).sum().values\n",
    "        \n",
    "        da = mask_da.sel(region=r).where(\n",
    "            mask_da.sel(region=r) == 0,\n",
    "            capacity / n_cells\n",
    "        ).expand_dims({\"REZ\": [r]})\n",
    "        \n",
    "        da_list.append(da)\n",
    "        \n",
    "    return xr.concat(da_list, dim=\"REZ\")"
   ]
  },
  {
   "cell_type": "code",
   "execution_count": 72,
   "id": "2e35a159-901f-4d5c-8ec4-8fe6c3282629",
   "metadata": {},
   "outputs": [],
   "source": [
    "def calc_generation(capacity_factor, generation_capacity):\n",
    "    \"\"\"\n",
    "    Return DataArray with time series of power for each REZ\n",
    "    \n",
    "    capacity_factor: DataArray of capacity factors\n",
    "    generation_capacity: DataArray of each grid cells generation capacity\n",
    "    \"\"\"\n",
    "    da_list = []\n",
    "    for r in generation_capacity.REZ.values:\n",
    "        r_mask = generation_capacity.sel(REZ=r).where(\n",
    "            generation_capacity.sel(REZ=r) > 0, drop=True\n",
    "        )\n",
    "        da = capacity_factor * r_mask\n",
    "        da = da.sum([\"lat\", \"lon\"])\n",
    "        da = da.expand_dims({\"REZ\": [r]})\n",
    "\n",
    "        da_list.append(da)\n",
    "\n",
    "    return xr.concat(da_list, dim=\"REZ\")"
   ]
  },
  {
   "cell_type": "code",
   "execution_count": 136,
   "id": "5ea96f76-cd3d-4c70-a8d1-21dfc64d95ec",
   "metadata": {},
   "outputs": [],
   "source": [
    "def calc_all_years_generation(years, mask_da, generation, method=\"van_der_Wiel\"):\n",
    "    \"\"\"\n",
    "    Compute power time series for each REZ and each year.\n",
    "    \n",
    "    years: range\n",
    "    facilities: dict of facilities data in dataframe\n",
    "    method: str, which method of capacity factors was used\n",
    "    \"\"\"\n",
    "    def _get_gen_type(gen):\n",
    "        g_split = gen.name.split(\"_\")\n",
    "        if g_split[0] == \"Solar\":\n",
    "            gt = \"solar\"\n",
    "        elif g_split[0] == \"Wind\":\n",
    "            gt = \"wind\"\n",
    "        elif g_split[0] == \"Existing\":\n",
    "            gt = g_split[1]\n",
    "        else:\n",
    "            gt = g_split[-2]\n",
    "        return gt\n",
    "    \n",
    "    gen_type = _get_gen_type(generation)\n",
    "    gen_capacity = get_scaled_capacity_mask(mask_da, generation)\n",
    "    \n",
    "    da_list = []\n",
    "    for year in years:\n",
    "        cf = fn.load_hourly_cf(year, gen_type, method=method, chunks={\"lat\": -1, \"lon\": -1, \"time\": 2500}).capacity_factor\n",
    "        p = calc_generation(cf, gen_capacity)\n",
    "        da_list.append(p)\n",
    "    REZ_power = xr.concat(da_list, dim=\"time\")\n",
    "    REZ_power = REZ_power.chunk({\"REZ\": -1, \"time\": -1})\n",
    "    \n",
    "    return REZ_power"
   ]
  },
  {
   "cell_type": "code",
   "execution_count": 139,
   "id": "565eacd7-1166-49f5-bb83-ef695f653ebd",
   "metadata": {},
   "outputs": [],
   "source": [
    "# cf = fn.load_hourly_cf(1940, \"wind\", method=\"van_der_Wiel\", chunks={\"lat\": -1, \"lon\": -1, \"time\": 2500}).capacity_factor"
   ]
  },
  {
   "cell_type": "code",
   "execution_count": 96,
   "id": "0c7c55cd-ad51-4575-9396-9698f17d808e",
   "metadata": {},
   "outputs": [],
   "source": [
    "fp = \"/g/data/w42/dr6273/work/projects/Aus_energy/production_metrics/\""
   ]
  },
  {
   "cell_type": "code",
   "execution_count": 141,
   "id": "68b1250e-7361-443c-ade2-68ca5063d7c8",
   "metadata": {},
   "outputs": [],
   "source": [
    "years = range(1940, 2024)"
   ]
  },
  {
   "cell_type": "code",
   "execution_count": 143,
   "id": "7abb0d12-04de-4628-9972-5ea491b76a56",
   "metadata": {},
   "outputs": [
    {
     "data": {
      "text/plain": [
       "22"
      ]
     },
     "execution_count": 143,
     "metadata": {},
     "output_type": "execute_result"
    }
   ],
   "source": [
    "len(gen.columns)"
   ]
  },
  {
   "cell_type": "code",
   "execution_count": 148,
   "id": "b198a08e-a96b-4350-845d-ec1a97282ba4",
   "metadata": {},
   "outputs": [
    {
     "name": "stdout",
     "output_type": "stream",
     "text": [
      "Step_change_solar_2039-40\n",
      "Step_change_solar_2049-50\n",
      "Green_energy_solar_2029-30\n",
      "Green_energy_solar_2039-40\n",
      "Green_energy_solar_2049-50\n",
      "Existing_wind\n",
      "Progressive_wind_2029-30\n",
      "Progressive_wind_2039-40\n",
      "Progressive_wind_2049-50\n",
      "Step_change_wind_2029-30\n",
      "Step_change_wind_2039-40\n",
      "Step_change_wind_2049-50\n",
      "Green_energy_wind_2029-30\n",
      "Green_energy_wind_2039-40\n",
      "Green_energy_wind_2049-50\n",
      "CPU times: user 39min 11s, sys: 2min 2s, total: 41min 14s\n",
      "Wall time: 41min 7s\n"
     ]
    }
   ],
   "source": [
    "%%time\n",
    "for scenario in gen.columns[7:]:\n",
    "    print(scenario)\n",
    "    gen_ds = calc_all_years_generation(years, mask, gen[scenario])\n",
    "    gen_ds = gen_ds.to_dataset(name=\"power\")\n",
    "    \n",
    "    # Tidy path to write\n",
    "    if scenario.split(\"_\")[-1] == \"(MW)\":\n",
    "        scenario = scenario[:-5]\n",
    "    scenario = scenario.lower()\n",
    "    \n",
    "    gen_ds.to_netcdf(\n",
    "        fp + \"REZ_power_\" + scenario + \"_van_der_Wiel\" + \"_era5_hourly_\" + str(years[0]) + \"-\" + str(years[-1]) + \".nc\"\n",
    "    )"
   ]
  },
  {
   "cell_type": "code",
   "execution_count": 158,
   "id": "42a3822c-f61f-4084-b84c-4cd05baed936",
   "metadata": {},
   "outputs": [],
   "source": [
    "gen_path = \"/g/data/w42/dr6273/work/data/Open_NEM/\""
   ]
  },
  {
   "cell_type": "code",
   "execution_count": 159,
   "id": "ff9aaa2f-bdbc-4d99-a668-3c6de1aa696b",
   "metadata": {},
   "outputs": [],
   "source": [
    "facilities = {\n",
    "    'NSW': pd.read_csv(gen_path+\"edited/facilities_solar_wind_NSW_edited.csv\"),\n",
    "    'QLD': pd.read_csv(gen_path+\"edited/facilities_solar_wind_QLD_edited.csv\"),\n",
    "    'SA': pd.read_csv(gen_path+\"edited/facilities_solar_wind_SA_edited.csv\"),\n",
    "    'VIC': pd.read_csv(gen_path+\"edited/facilities_solar_wind_VIC_edited.csv\"),\n",
    "    'TAS': pd.read_csv(gen_path+\"edited/facilities_solar_wind_TAS_edited.csv\"),\n",
    "    'WEM': pd.read_csv(gen_path+\"edited/facilities_solar_wind_WEM_edited.csv\")\n",
    "}"
   ]
  },
  {
   "cell_type": "code",
   "execution_count": 152,
   "id": "789a9a7f-29f7-46b0-8dfe-231d4671c472",
   "metadata": {},
   "outputs": [],
   "source": [
    "def get_REZ_for_state(ds, state):\n",
    "    \"\"\"\n",
    "    Return list of REZ names for state\n",
    "    \n",
    "    ds: dataset with REZ dimension\n",
    "    state: str, code or for state e.g. NSW, SA\n",
    "    \"\"\"\n",
    "    return [i for i in ds.region.values if i[0] == state[0]]"
   ]
  },
  {
   "cell_type": "code",
   "execution_count": 168,
   "id": "dce45fc1-bd97-4e3a-9537-d2d1b722eac6",
   "metadata": {},
   "outputs": [
    {
     "data": {
      "text/plain": [
       "1696"
      ]
     },
     "execution_count": 168,
     "metadata": {},
     "output_type": "execute_result"
    }
   ],
   "source": [
    "gen.loc[get_REZ_for_state(mask, \"NSW\")][\"Existing_wind\"].sum()"
   ]
  },
  {
   "cell_type": "code",
   "execution_count": 169,
   "id": "fa60d5ea-3b64-4531-ac47-2e49bff673b5",
   "metadata": {},
   "outputs": [
    {
     "data": {
      "text/plain": [
       "2568.46"
      ]
     },
     "execution_count": 169,
     "metadata": {},
     "output_type": "execute_result"
    }
   ],
   "source": [
    "facilities[\"NSW\"].where(facilities[\"NSW\"][\"Technology\"] == \"Wind\")[\"Generator Capacity (MW)\"].sum()"
   ]
  },
  {
   "cell_type": "code",
   "execution_count": null,
   "id": "0b14f672-c306-4164-be48-bb9a26ebd71c",
   "metadata": {},
   "outputs": [],
   "source": []
  }
 ],
 "metadata": {
  "kernelspec": {
   "display_name": "Python (pangeo)",
   "language": "python",
   "name": "pangeo"
  },
  "language_info": {
   "codemirror_mode": {
    "name": "ipython",
    "version": 3
   },
   "file_extension": ".py",
   "mimetype": "text/x-python",
   "name": "python",
   "nbconvert_exporter": "python",
   "pygments_lexer": "ipython3",
   "version": "3.10.8"
  }
 },
 "nbformat": 4,
 "nbformat_minor": 5
}
