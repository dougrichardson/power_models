{
 "cells": [
  {
   "cell_type": "markdown",
   "id": "05b76a16-db38-428e-9356-4a1ab3646928",
   "metadata": {},
   "source": [
    "# Calculate wind speed (hourly)"
   ]
  },
  {
   "cell_type": "code",
   "execution_count": 13,
   "id": "d11f1cb7-4bc1-413f-a31f-5a93eb872c64",
   "metadata": {},
   "outputs": [],
   "source": [
    "from dask.distributed import Client,LocalCluster\n",
    "from dask_jobqueue import PBSCluster"
   ]
  },
  {
   "cell_type": "code",
   "execution_count": 14,
   "id": "2afe4fa2-0c6c-481c-a7ff-89faf1adc9ba",
   "metadata": {},
   "outputs": [
    {
     "name": "stderr",
     "output_type": "stream",
     "text": [
      "/g/data/w42/dr6273/apps/conda/envs/pangeo/lib/python3.10/site-packages/distributed/node.py:182: UserWarning: Port 8787 is already in use.\n",
      "Perhaps you already have a cluster running?\n",
      "Hosting the HTTP server on port 43115 instead\n",
      "  warnings.warn(\n"
     ]
    }
   ],
   "source": [
    "# One node on Gadi has 48 cores - try and use up a full node before going to multiple nodes (jobs)\n",
    "\n",
    "walltime = \"01:00:00\"\n",
    "cores = 24\n",
    "memory = str(4 * cores) + \"GB\"\n",
    "\n",
    "cluster = PBSCluster(walltime=str(walltime), cores=cores, memory=str(memory), processes=cores,\n",
    "                     job_extra_directives=[\"-q normal\",\n",
    "                                           \"-P w42\",\n",
    "                                           \"-l ncpus=\"+str(cores),\n",
    "                                           \"-l mem=\"+str(memory),\n",
    "                                           \"-l storage=gdata/w42+gdata/rt52\"],\n",
    "                     local_directory=\"$TMPDIR\",\n",
    "                     job_directives_skip=[\"select\"])"
   ]
  },
  {
   "cell_type": "code",
   "execution_count": 15,
   "id": "a6316e6a-6a7c-465e-8ae8-d6ee4cbbbb1c",
   "metadata": {},
   "outputs": [],
   "source": [
    "cluster.scale(jobs=1)\n",
    "client = Client(cluster)"
   ]
  },
  {
   "cell_type": "code",
   "execution_count": 16,
   "id": "d7a22723-7e10-4eac-874b-2af5b624a0df",
   "metadata": {},
   "outputs": [
    {
     "data": {
      "text/html": [
       "<div>\n",
       "    <div style=\"width: 24px; height: 24px; background-color: #e1e1e1; border: 3px solid #9D9D9D; border-radius: 5px; position: absolute;\"> </div>\n",
       "    <div style=\"margin-left: 48px;\">\n",
       "        <h3 style=\"margin-bottom: 0px;\">Client</h3>\n",
       "        <p style=\"color: #9D9D9D; margin-bottom: 0px;\">Client-3dd5d137-0669-11ee-865d-00000752fe80</p>\n",
       "        <table style=\"width: 100%; text-align: left;\">\n",
       "\n",
       "        <tr>\n",
       "        \n",
       "            <td style=\"text-align: left;\"><strong>Connection method:</strong> Cluster object</td>\n",
       "            <td style=\"text-align: left;\"><strong>Cluster type:</strong> dask_jobqueue.PBSCluster</td>\n",
       "        \n",
       "        </tr>\n",
       "\n",
       "        \n",
       "            <tr>\n",
       "                <td style=\"text-align: left;\">\n",
       "                    <strong>Dashboard: </strong> <a href=\"/proxy/43115/status\" target=\"_blank\">/proxy/43115/status</a>\n",
       "                </td>\n",
       "                <td style=\"text-align: left;\"></td>\n",
       "            </tr>\n",
       "        \n",
       "\n",
       "        </table>\n",
       "\n",
       "        \n",
       "            <button style=\"margin-bottom: 12px;\" data-commandlinker-command=\"dask:populate-and-launch-layout\" data-commandlinker-args='{\"url\": \"/proxy/43115/status\" }'>\n",
       "                Launch dashboard in JupyterLab\n",
       "            </button>\n",
       "        \n",
       "\n",
       "        \n",
       "            <details>\n",
       "            <summary style=\"margin-bottom: 20px;\"><h3 style=\"display: inline;\">Cluster Info</h3></summary>\n",
       "            <div class=\"jp-RenderedHTMLCommon jp-RenderedHTML jp-mod-trusted jp-OutputArea-output\">\n",
       "    <div style=\"width: 24px; height: 24px; background-color: #e1e1e1; border: 3px solid #9D9D9D; border-radius: 5px; position: absolute;\">\n",
       "    </div>\n",
       "    <div style=\"margin-left: 48px;\">\n",
       "        <h3 style=\"margin-bottom: 0px; margin-top: 0px;\">PBSCluster</h3>\n",
       "        <p style=\"color: #9D9D9D; margin-bottom: 0px;\">aec66f82</p>\n",
       "        <table style=\"width: 100%; text-align: left;\">\n",
       "            <tr>\n",
       "                <td style=\"text-align: left;\">\n",
       "                    <strong>Dashboard:</strong> <a href=\"/proxy/43115/status\" target=\"_blank\">/proxy/43115/status</a>\n",
       "                </td>\n",
       "                <td style=\"text-align: left;\">\n",
       "                    <strong>Workers:</strong> 0\n",
       "                </td>\n",
       "            </tr>\n",
       "            <tr>\n",
       "                <td style=\"text-align: left;\">\n",
       "                    <strong>Total threads:</strong> 0\n",
       "                </td>\n",
       "                <td style=\"text-align: left;\">\n",
       "                    <strong>Total memory:</strong> 0 B\n",
       "                </td>\n",
       "            </tr>\n",
       "            \n",
       "        </table>\n",
       "\n",
       "        <details>\n",
       "            <summary style=\"margin-bottom: 20px;\">\n",
       "                <h3 style=\"display: inline;\">Scheduler Info</h3>\n",
       "            </summary>\n",
       "\n",
       "            <div style=\"\">\n",
       "    <div>\n",
       "        <div style=\"width: 24px; height: 24px; background-color: #FFF7E5; border: 3px solid #FF6132; border-radius: 5px; position: absolute;\"> </div>\n",
       "        <div style=\"margin-left: 48px;\">\n",
       "            <h3 style=\"margin-bottom: 0px;\">Scheduler</h3>\n",
       "            <p style=\"color: #9D9D9D; margin-bottom: 0px;\">Scheduler-c6ce7b26-08f7-4d82-9265-7419ee00a3a3</p>\n",
       "            <table style=\"width: 100%; text-align: left;\">\n",
       "                <tr>\n",
       "                    <td style=\"text-align: left;\">\n",
       "                        <strong>Comm:</strong> tcp://10.6.121.4:34389\n",
       "                    </td>\n",
       "                    <td style=\"text-align: left;\">\n",
       "                        <strong>Workers:</strong> 0\n",
       "                    </td>\n",
       "                </tr>\n",
       "                <tr>\n",
       "                    <td style=\"text-align: left;\">\n",
       "                        <strong>Dashboard:</strong> <a href=\"/proxy/43115/status\" target=\"_blank\">/proxy/43115/status</a>\n",
       "                    </td>\n",
       "                    <td style=\"text-align: left;\">\n",
       "                        <strong>Total threads:</strong> 0\n",
       "                    </td>\n",
       "                </tr>\n",
       "                <tr>\n",
       "                    <td style=\"text-align: left;\">\n",
       "                        <strong>Started:</strong> Just now\n",
       "                    </td>\n",
       "                    <td style=\"text-align: left;\">\n",
       "                        <strong>Total memory:</strong> 0 B\n",
       "                    </td>\n",
       "                </tr>\n",
       "            </table>\n",
       "        </div>\n",
       "    </div>\n",
       "\n",
       "    <details style=\"margin-left: 48px;\">\n",
       "        <summary style=\"margin-bottom: 20px;\">\n",
       "            <h3 style=\"display: inline;\">Workers</h3>\n",
       "        </summary>\n",
       "\n",
       "        \n",
       "\n",
       "    </details>\n",
       "</div>\n",
       "\n",
       "        </details>\n",
       "    </div>\n",
       "</div>\n",
       "            </details>\n",
       "        \n",
       "\n",
       "    </div>\n",
       "</div>"
      ],
      "text/plain": [
       "<Client: 'tcp://10.6.121.4:34389' processes=0 threads=0, memory=0 B>"
      ]
     },
     "execution_count": 16,
     "metadata": {},
     "output_type": "execute_result"
    }
   ],
   "source": [
    "client"
   ]
  },
  {
   "cell_type": "code",
   "execution_count": 2,
   "id": "7d5c6c4f-09fa-4b54-afcb-15c9c186954e",
   "metadata": {},
   "outputs": [],
   "source": [
    "import xarray as xr\n",
    "import numpy as np\n",
    "\n",
    "import matplotlib.pyplot as plt"
   ]
  },
  {
   "cell_type": "code",
   "execution_count": 48,
   "id": "5a46a558-9cb8-416a-a6c3-fd8855aeb00d",
   "metadata": {},
   "outputs": [
    {
     "name": "stdout",
     "output_type": "stream",
     "text": [
      "/g/data/w42/dr6273/work/energy_climate_modes\n"
     ]
    }
   ],
   "source": [
    "%cd /g/data/w42/dr6273/work/energy_climate_modes\n",
    "\n",
    "import functions as fn"
   ]
  },
  {
   "cell_type": "code",
   "execution_count": 47,
   "id": "a51003d1-9fc9-4c55-aacd-84b2ac64ea8d",
   "metadata": {},
   "outputs": [],
   "source": [
    "%load_ext autoreload\n",
    "%autoreload 2"
   ]
  },
  {
   "cell_type": "code",
   "execution_count": 6,
   "id": "9d7d7851-49e3-4246-a011-2af73d9890aa",
   "metadata": {},
   "outputs": [],
   "source": [
    "years = range(1959, 2023)"
   ]
  },
  {
   "cell_type": "code",
   "execution_count": 10,
   "id": "d481340b-be03-453e-b8de-05f25ce27726",
   "metadata": {},
   "outputs": [],
   "source": [
    "root_path = \"/g/data/rt52/era5/single-levels/reanalysis/\"\n",
    "write_path = \"/g/data/w42/dr6273/work/data/era5/100w/hourly/\""
   ]
  },
  {
   "cell_type": "code",
   "execution_count": 50,
   "id": "897e577e-ca29-494b-80e1-9093b8fc2c93",
   "metadata": {},
   "outputs": [],
   "source": [
    "aus_region = fn.get_east_Aus_boundary()"
   ]
  },
  {
   "cell_type": "markdown",
   "id": "8d162cf9-5c4b-4e25-bab5-b0bb59ceb3f5",
   "metadata": {},
   "source": [
    "# Compute wind speed by year"
   ]
  },
  {
   "cell_type": "code",
   "execution_count": 5,
   "id": "976fa9f5-513b-40ab-a757-f058f18e2fef",
   "metadata": {},
   "outputs": [],
   "source": [
    "def windspeed(u, v):\n",
    "    \"\"\"\n",
    "    Compute windspeed from u and v\n",
    "    \n",
    "    u: array of zonal wind\n",
    "    v: array of meridional wind\n",
    "    \"\"\"\n",
    "    return np.sqrt(u ** 2 + v ** 2)"
   ]
  },
  {
   "cell_type": "code",
   "execution_count": 30,
   "id": "c9964dbf-86e6-4ad1-b4bb-bbdd17f078e5",
   "metadata": {},
   "outputs": [],
   "source": [
    "def preprocess(ds):\n",
    "    \"\"\"\n",
    "    Preprocess function for open_mfdataset.\n",
    "    Selects Australian region and renames coords.\n",
    "    \"\"\"\n",
    "    ds = ds.sel(\n",
    "        longitude=slice(aus_region[0], aus_region[1]),\n",
    "        latitude=slice(aus_region[2], aus_region[3])\n",
    "    )\n",
    "    ds = ds.rename(\n",
    "        {'longitude': 'lon',\n",
    "         'latitude': 'lat'}\n",
    "    )\n",
    "    ds = ds.chunk({\"time\": -1, \"lat\": -1, \"lon\": -1})\n",
    "    return ds"
   ]
  },
  {
   "cell_type": "code",
   "execution_count": 31,
   "id": "bbf957e4-5fad-4000-a2d0-2b56ea52aed6",
   "metadata": {},
   "outputs": [],
   "source": [
    "def load_hourly(preprocess, variable, year, first_hour, data_path=root_path):\n",
    "    \"\"\"\n",
    "    Load and preprocess hourly data for a given year\n",
    "    \n",
    "    preprocess: preprocess function\n",
    "    variable: name of variable to process\n",
    "    year: year to process\n",
    "    first_hour: desired first hour from which to compute 24-hour aggregations\n",
    "    data_path: path to hourly data\n",
    "    \"\"\"\n",
    "    # Open all hours in the year (~33 GB)\n",
    "    hourly = xr.open_mfdataset(\n",
    "        data_path + variable + \"/\" + str(year) + \"/*.nc\",\n",
    "        preprocess=preprocess\n",
    "    )\n",
    "\n",
    "    # Start the aggregation on the desired hour (e.g. 0000)\n",
    "    data_first_hour = hourly[\"time\"].dt.hour.item(0)\n",
    "    desired_start_index = (first_hour - data_first_hour) % 24\n",
    "    hourly = hourly.isel(time=range(desired_start_index, len(hourly[\"time\"])))\n",
    "    \n",
    "    return hourly"
   ]
  },
  {
   "cell_type": "code",
   "execution_count": 55,
   "id": "416d27bc-2036-43a9-9dd7-383cdc72fe04",
   "metadata": {},
   "outputs": [
    {
     "name": "stdout",
     "output_type": "stream",
     "text": [
      "1959\n",
      "1980\n",
      "2000\n",
      "2020\n"
     ]
    }
   ],
   "source": [
    "for year in years:\n",
    "    if year in [1959, 1980, 2000, 2020]:\n",
    "        print(year)\n",
    "        \n",
    "    u100 = load_hourly(\n",
    "        preprocess,\n",
    "        \"100u\",\n",
    "        year,\n",
    "        0\n",
    "    )\n",
    "\n",
    "    v100 = load_hourly(\n",
    "        preprocess,\n",
    "        \"100v\",\n",
    "        year,\n",
    "        0\n",
    "    )\n",
    "    \n",
    "    w100 = windspeed(\n",
    "        u100.rename({\"u100\": \"w100\"}),\n",
    "        v100.rename({\"v100\": \"w100\"})\n",
    "    )\n",
    "    w100 = w100.chunk({\"time\": 24*7*12})\n",
    "    \n",
    "    encoding = {\n",
    "        \"w100\": {\"dtype\": \"float32\"}\n",
    "    }\n",
    "    w100.to_netcdf(\n",
    "        write_path + \"100w_era5_hourly_\" + str(year) + \"_east_Aus.nc\",\n",
    "        mode=\"w\",\n",
    "        encoding=encoding\n",
    "    )"
   ]
  },
  {
   "cell_type": "markdown",
   "id": "3af20a7b-e375-4172-acab-7d072d022995",
   "metadata": {},
   "source": [
    "# Close cluster"
   ]
  },
  {
   "cell_type": "code",
   "execution_count": 35,
   "id": "2737c756-5605-424d-9b1b-e74e889d0acd",
   "metadata": {},
   "outputs": [],
   "source": [
    "client.close()\n",
    "cluster.close()"
   ]
  },
  {
   "cell_type": "code",
   "execution_count": null,
   "id": "76f3bd33-e28d-4804-972b-f2610cd42d24",
   "metadata": {},
   "outputs": [],
   "source": []
  }
 ],
 "metadata": {
  "kernelspec": {
   "display_name": "Python (pangeo)",
   "language": "python",
   "name": "pangeo"
  },
  "language_info": {
   "codemirror_mode": {
    "name": "ipython",
    "version": 3
   },
   "file_extension": ".py",
   "mimetype": "text/x-python",
   "name": "python",
   "nbconvert_exporter": "python",
   "pygments_lexer": "ipython3",
   "version": "3.10.8"
  }
 },
 "nbformat": 4,
 "nbformat_minor": 5
}
