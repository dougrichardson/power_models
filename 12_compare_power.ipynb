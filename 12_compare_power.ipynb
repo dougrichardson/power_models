{
 "cells": [
  {
   "cell_type": "markdown",
   "id": "3b51e988-c7c7-41ee-9f67-8a4cf1ee91b4",
   "metadata": {},
   "source": [
    "# Compare AEMO wind and sola observations with modelled"
   ]
  },
  {
   "cell_type": "code",
   "execution_count": 1,
   "id": "c1c390f8-273f-40e0-a0b8-5dd8f0f5845f",
   "metadata": {},
   "outputs": [],
   "source": [
    "from dask.distributed import Client,LocalCluster\n",
    "from dask_jobqueue import PBSCluster"
   ]
  },
  {
   "cell_type": "code",
   "execution_count": 2,
   "id": "39fc5c16-2e41-4a82-825c-9017d6c66a18",
   "metadata": {},
   "outputs": [],
   "source": [
    "# One node on Gadi has 48 cores - try and use up a full node before going to multiple nodes (jobs)\n",
    "\n",
    "walltime = \"01:00:00\"\n",
    "cores = 12\n",
    "memory = str(4 * cores) + \"GB\"\n",
    "\n",
    "cluster = PBSCluster(walltime=str(walltime), cores=cores, memory=str(memory), processes=cores,\n",
    "                     job_extra_directives=[\"-q normal\",\n",
    "                                           \"-P w42\",\n",
    "                                           \"-l ncpus=\"+str(cores),\n",
    "                                           \"-l mem=\"+str(memory),\n",
    "                                           \"-l storage=gdata/w42+gdata/rt52\"],\n",
    "                     local_directory=\"$TMPDIR\",\n",
    "                     job_directives_skip=[\"select\"])"
   ]
  },
  {
   "cell_type": "code",
   "execution_count": 3,
   "id": "860230e8-d070-4c03-89e8-92df1563ab47",
   "metadata": {},
   "outputs": [],
   "source": [
    "cluster.scale(jobs=1)\n",
    "client = Client(cluster)"
   ]
  },
  {
   "cell_type": "code",
   "execution_count": 4,
   "id": "44910d54-60e5-4bd9-bb26-dc5d71e1991b",
   "metadata": {},
   "outputs": [
    {
     "data": {
      "text/html": [
       "<div>\n",
       "    <div style=\"width: 24px; height: 24px; background-color: #e1e1e1; border: 3px solid #9D9D9D; border-radius: 5px; position: absolute;\"> </div>\n",
       "    <div style=\"margin-left: 48px;\">\n",
       "        <h3 style=\"margin-bottom: 0px;\">Client</h3>\n",
       "        <p style=\"color: #9D9D9D; margin-bottom: 0px;\">Client-89f8a1e2-b678-11ef-9408-000007bffe80</p>\n",
       "        <table style=\"width: 100%; text-align: left;\">\n",
       "\n",
       "        <tr>\n",
       "        \n",
       "            <td style=\"text-align: left;\"><strong>Connection method:</strong> Cluster object</td>\n",
       "            <td style=\"text-align: left;\"><strong>Cluster type:</strong> dask_jobqueue.PBSCluster</td>\n",
       "        \n",
       "        </tr>\n",
       "\n",
       "        \n",
       "            <tr>\n",
       "                <td style=\"text-align: left;\">\n",
       "                    <strong>Dashboard: </strong> <a href=\"/proxy/8787/status\" target=\"_blank\">/proxy/8787/status</a>\n",
       "                </td>\n",
       "                <td style=\"text-align: left;\"></td>\n",
       "            </tr>\n",
       "        \n",
       "\n",
       "        </table>\n",
       "\n",
       "        \n",
       "            <button style=\"margin-bottom: 12px;\" data-commandlinker-command=\"dask:populate-and-launch-layout\" data-commandlinker-args='{\"url\": \"/proxy/8787/status\" }'>\n",
       "                Launch dashboard in JupyterLab\n",
       "            </button>\n",
       "        \n",
       "\n",
       "        \n",
       "            <details>\n",
       "            <summary style=\"margin-bottom: 20px;\"><h3 style=\"display: inline;\">Cluster Info</h3></summary>\n",
       "            <div class=\"jp-RenderedHTMLCommon jp-RenderedHTML jp-mod-trusted jp-OutputArea-output\">\n",
       "    <div style=\"width: 24px; height: 24px; background-color: #e1e1e1; border: 3px solid #9D9D9D; border-radius: 5px; position: absolute;\">\n",
       "    </div>\n",
       "    <div style=\"margin-left: 48px;\">\n",
       "        <h3 style=\"margin-bottom: 0px; margin-top: 0px;\">PBSCluster</h3>\n",
       "        <p style=\"color: #9D9D9D; margin-bottom: 0px;\">fc867e04</p>\n",
       "        <table style=\"width: 100%; text-align: left;\">\n",
       "            <tr>\n",
       "                <td style=\"text-align: left;\">\n",
       "                    <strong>Dashboard:</strong> <a href=\"/proxy/8787/status\" target=\"_blank\">/proxy/8787/status</a>\n",
       "                </td>\n",
       "                <td style=\"text-align: left;\">\n",
       "                    <strong>Workers:</strong> 0\n",
       "                </td>\n",
       "            </tr>\n",
       "            <tr>\n",
       "                <td style=\"text-align: left;\">\n",
       "                    <strong>Total threads:</strong> 0\n",
       "                </td>\n",
       "                <td style=\"text-align: left;\">\n",
       "                    <strong>Total memory:</strong> 0 B\n",
       "                </td>\n",
       "            </tr>\n",
       "            \n",
       "        </table>\n",
       "\n",
       "        <details>\n",
       "            <summary style=\"margin-bottom: 20px;\">\n",
       "                <h3 style=\"display: inline;\">Scheduler Info</h3>\n",
       "            </summary>\n",
       "\n",
       "            <div style=\"\">\n",
       "    <div>\n",
       "        <div style=\"width: 24px; height: 24px; background-color: #FFF7E5; border: 3px solid #FF6132; border-radius: 5px; position: absolute;\"> </div>\n",
       "        <div style=\"margin-left: 48px;\">\n",
       "            <h3 style=\"margin-bottom: 0px;\">Scheduler</h3>\n",
       "            <p style=\"color: #9D9D9D; margin-bottom: 0px;\">Scheduler-a782d34e-401e-4a80-9dec-0ade166969f0</p>\n",
       "            <table style=\"width: 100%; text-align: left;\">\n",
       "                <tr>\n",
       "                    <td style=\"text-align: left;\">\n",
       "                        <strong>Comm:</strong> tcp://10.6.121.17:35605\n",
       "                    </td>\n",
       "                    <td style=\"text-align: left;\">\n",
       "                        <strong>Workers:</strong> 0\n",
       "                    </td>\n",
       "                </tr>\n",
       "                <tr>\n",
       "                    <td style=\"text-align: left;\">\n",
       "                        <strong>Dashboard:</strong> <a href=\"/proxy/8787/status\" target=\"_blank\">/proxy/8787/status</a>\n",
       "                    </td>\n",
       "                    <td style=\"text-align: left;\">\n",
       "                        <strong>Total threads:</strong> 0\n",
       "                    </td>\n",
       "                </tr>\n",
       "                <tr>\n",
       "                    <td style=\"text-align: left;\">\n",
       "                        <strong>Started:</strong> Just now\n",
       "                    </td>\n",
       "                    <td style=\"text-align: left;\">\n",
       "                        <strong>Total memory:</strong> 0 B\n",
       "                    </td>\n",
       "                </tr>\n",
       "            </table>\n",
       "        </div>\n",
       "    </div>\n",
       "\n",
       "    <details style=\"margin-left: 48px;\">\n",
       "        <summary style=\"margin-bottom: 20px;\">\n",
       "            <h3 style=\"display: inline;\">Workers</h3>\n",
       "        </summary>\n",
       "\n",
       "        \n",
       "\n",
       "    </details>\n",
       "</div>\n",
       "\n",
       "        </details>\n",
       "    </div>\n",
       "</div>\n",
       "            </details>\n",
       "        \n",
       "\n",
       "    </div>\n",
       "</div>"
      ],
      "text/plain": [
       "<Client: 'tcp://10.6.121.17:35605' processes=0 threads=0, memory=0 B>"
      ]
     },
     "execution_count": 4,
     "metadata": {},
     "output_type": "execute_result"
    }
   ],
   "source": [
    "client"
   ]
  },
  {
   "cell_type": "code",
   "execution_count": 5,
   "id": "5eac241a-5b91-4277-9363-2116958707f2",
   "metadata": {},
   "outputs": [],
   "source": [
    "import xarray as xr\n",
    "import pandas as pd\n",
    "import numpy as np"
   ]
  },
  {
   "cell_type": "code",
   "execution_count": 6,
   "id": "ad112141-e385-49e3-96b8-6c085613e029",
   "metadata": {},
   "outputs": [],
   "source": [
    "# %cd /g/data/w42/dr6273/work/seasonal_energy/\n",
    "\n",
    "# import functions as fn"
   ]
  },
  {
   "cell_type": "code",
   "execution_count": 7,
   "id": "a5422a10-da6b-4cdb-af8e-d0fa728a7092",
   "metadata": {},
   "outputs": [],
   "source": [
    "year = \"2023\""
   ]
  },
  {
   "cell_type": "markdown",
   "id": "81adffea-81b0-4be9-9fcd-4fb05c3bef82",
   "metadata": {},
   "source": [
    "## Load modelled data"
   ]
  },
  {
   "cell_type": "code",
   "execution_count": 8,
   "id": "4c983a28-8d86-475f-8328-5deaaf55508f",
   "metadata": {},
   "outputs": [],
   "source": [
    "regions = [\"NSW\", \"QLD\", \"VIC\", \"SA\", \"TAS\"]"
   ]
  },
  {
   "cell_type": "code",
   "execution_count": 9,
   "id": "4609cae9-e4dc-4fc8-8c74-7719a12f7eba",
   "metadata": {},
   "outputs": [],
   "source": [
    "path_power = \"/g/data/w42/dr6273/work/projects/Aus_energy/production_metrics/\""
   ]
  },
  {
   "cell_type": "markdown",
   "id": "fde4c27f-de8c-43ea-9991-b87a2518d635",
   "metadata": {},
   "source": [
    "#### Wind and solar power"
   ]
  },
  {
   "cell_type": "markdown",
   "id": "d1557af5-1b8a-4db0-b187-c6d3a2494ed1",
   "metadata": {},
   "source": [
    "For REZs\n",
    "- Current/planned generation capacities. These sometimes underestimate observed power (i.e. from installed farms) because it spreads the capacity around the REZ, rather than being loaded on a single grid cell."
   ]
  },
  {
   "cell_type": "code",
   "execution_count": 10,
   "id": "c0fdf445-44ec-4a9b-ac68-59294482781c",
   "metadata": {},
   "outputs": [],
   "source": [
    "def preprocess(ds):\n",
    "    \"\"\"\n",
    "    Select 2023 only\n",
    "    \"\"\"\n",
    "    return ds.sel(time=\"2023\")"
   ]
  },
  {
   "cell_type": "code",
   "execution_count": 14,
   "id": "193ef709-7da2-457f-9e59-44707c84b4fa",
   "metadata": {},
   "outputs": [],
   "source": [
    "wind_rez_current = xr.open_mfdataset(\n",
    "    path_power + \"REZ_power_existing_wind_van_der_Wiel_era5_hourly_1940-2023.nc\",\n",
    "    preprocess=preprocess\n",
    ")"
   ]
  },
  {
   "cell_type": "code",
   "execution_count": 16,
   "id": "496a995c-0d3d-4132-b291-ac266cae2f1c",
   "metadata": {},
   "outputs": [],
   "source": [
    "solar_rez_current = xr.open_mfdataset(\n",
    "    path_power + \"REZ_power_existing_solar_van_der_Wiel_era5_hourly_1940-2023.nc\",\n",
    "    preprocess=preprocess\n",
    ")"
   ]
  },
  {
   "cell_type": "markdown",
   "id": "f2f7df51-41fe-4895-bf2b-fe51c7f39a48",
   "metadata": {},
   "source": [
    "We also use the power from farms outside the REZs, and add this to the REZ power"
   ]
  },
  {
   "cell_type": "code",
   "execution_count": 18,
   "id": "c2ea2085-9fdb-41b0-b3c3-04fe99f631aa",
   "metadata": {},
   "outputs": [],
   "source": [
    "wind_outside_rez = xr.open_mfdataset(\n",
    "    path_power + \"site_outside_REZ_power_existing_wind_van_der_Wiel_era5_hourly_1940-2023.nc\",\n",
    "    preprocess=preprocess\n",
    ").astype(\"float32\")"
   ]
  },
  {
   "cell_type": "code",
   "execution_count": 19,
   "id": "0165dfc0-cac3-4b54-926c-632dad10b06b",
   "metadata": {},
   "outputs": [],
   "source": [
    "solar_outside_rez = xr.open_mfdataset(\n",
    "    path_power + \"site_outside_REZ_power_existing_solar_van_der_Wiel_era5_hourly_1940-2023.nc\",\n",
    "    preprocess=preprocess\n",
    ").astype(\"float32\")"
   ]
  },
  {
   "cell_type": "markdown",
   "id": "9fc27615-9e04-4cf6-9bc3-178570f8fdde",
   "metadata": {},
   "source": [
    "Add these together"
   ]
  },
  {
   "cell_type": "code",
   "execution_count": 20,
   "id": "44e9d370-fcd3-4541-bb3c-b4ac0ecd0bb2",
   "metadata": {},
   "outputs": [],
   "source": [
    "def get_REZ_for_state(ds, state):\n",
    "    \"\"\"\n",
    "    Return list of REZ names for state\n",
    "    \n",
    "    ds: dataset with REZ dimension\n",
    "    state: str, code or for state e.g. NSW, SA\n",
    "    \"\"\"\n",
    "    return [i for i in ds.REZ.values if i[0] == state[0]]"
   ]
  },
  {
   "cell_type": "code",
   "execution_count": 21,
   "id": "feb5571b-57ec-4114-8981-c528d1131853",
   "metadata": {},
   "outputs": [],
   "source": [
    "def sum_REZ_power_for_states(ds, states=[\"NSW\", \"QLD\", \"VIC\", \"SA\", \"TAS\"]):\n",
    "    \"\"\"\n",
    "    Return array of ds summed for each REZ in each state\n",
    "    \n",
    "    ds: dataset with REZ dimension\n",
    "    states: list, of strings of states\n",
    "    \"\"\"\n",
    "    da_list = []\n",
    "    for state in states:\n",
    "        r = get_REZ_for_state(ds, state)\n",
    "        da = ds.sel(REZ=r).sum(\"REZ\").expand_dims({\"region\": [state]})\n",
    "        da_list.append(da)\n",
    "    return xr.concat(da_list, dim=\"region\")"
   ]
  },
  {
   "cell_type": "code",
   "execution_count": 22,
   "id": "9cbfefbb-9218-4447-891a-2a7b7542b94c",
   "metadata": {},
   "outputs": [],
   "source": [
    "wind_rez_current = sum_REZ_power_for_states(wind_rez_current) + wind_outside_rez"
   ]
  },
  {
   "cell_type": "code",
   "execution_count": 23,
   "id": "76878940-73e3-4ca8-a2b7-e1e00959a473",
   "metadata": {},
   "outputs": [],
   "source": [
    "solar_rez_current = sum_REZ_power_for_states(solar_rez_current) + solar_outside_rez"
   ]
  },
  {
   "cell_type": "markdown",
   "id": "4649627a-7596-42ab-a3b0-3d8138ca446e",
   "metadata": {},
   "source": [
    "Hack add TAS for solar to keep it same format as site power."
   ]
  },
  {
   "cell_type": "code",
   "execution_count": 25,
   "id": "b537f369-2e88-43b2-89fd-73d66784975e",
   "metadata": {},
   "outputs": [],
   "source": [
    "solar_tas = xr.DataArray(\n",
    "    np.zeros(len(solar_rez_current.time)),\n",
    "    dims=[\"time\"],\n",
    "    coords={\"time\": solar_rez_current.time}\n",
    ").expand_dims({\"region\": [\"TAS\"]})"
   ]
  },
  {
   "cell_type": "code",
   "execution_count": 26,
   "id": "c5f406e3-2a9f-4b24-b05d-45428f75e2a5",
   "metadata": {},
   "outputs": [],
   "source": [
    "solar_rez_current = xr.concat([solar_rez_current.power, solar_tas], \"region\").to_dataset(name=\"power\")"
   ]
  },
  {
   "cell_type": "markdown",
   "id": "50e105c4-8137-492e-9ad6-29570b7b3217",
   "metadata": {},
   "source": [
    "Add scale factors computed using sites"
   ]
  },
  {
   "cell_type": "code",
   "execution_count": 28,
   "id": "a290c498-c030-45bf-8e6f-2e73fb967907",
   "metadata": {},
   "outputs": [],
   "source": [
    "# wind_rez_scaled = wind_rez_current.assign_coords(scale_factor_2023=(\"region\", wind_power.scale_factor_2023.values))"
   ]
  },
  {
   "cell_type": "code",
   "execution_count": 29,
   "id": "06bca5d1-6e66-40f5-a664-b1b085f766ae",
   "metadata": {},
   "outputs": [],
   "source": [
    "# solar_rez_scaled = solar_rez_current.assign_coords(scale_factor_2023=(\"region\", solar_power.scale_factor_2023.values))"
   ]
  },
  {
   "cell_type": "markdown",
   "id": "f3e0c276-89ee-4f18-a15f-35b5130f23f2",
   "metadata": {},
   "source": [
    "## Load AEMO data"
   ]
  },
  {
   "cell_type": "code",
   "execution_count": 40,
   "id": "4eb3ad68-e9fe-4708-8f05-0c056c7037a5",
   "metadata": {},
   "outputs": [],
   "source": [
    "def open_aemo_obs(fuel_type, year):\n",
    "    \"\"\"\n",
    "    Open monthly data and concatenate\n",
    "    \n",
    "    fuel_type: str, \"wind\" or \"solar\"\n",
    "    year: str, year to open.\n",
    "    \"\"\"\n",
    "    months = [\"01\", \"02\", \"03\", \"04\", \"05\", \"06\", \"07\", \"08\", \"09\", \"10\", \"11\", \"12\"]\n",
    "    df_list = []\n",
    "    for month in months:\n",
    "        df = pd.read_csv(\n",
    "            \"/scratch/w42/dr6273/processed_AEMO/aemo_hourly_\" + fuel_type + \"_\" + year + \"_\" + month + \".csv\",\n",
    "            index_col=[0,1]\n",
    "        )\n",
    "        df_list.append(df)\n",
    "        \n",
    "    return pd.concat(df_list, axis=0)"
   ]
  },
  {
   "cell_type": "code",
   "execution_count": 81,
   "id": "1ec69f2c-8f96-4e32-85bc-bb16c6bb4ada",
   "metadata": {},
   "outputs": [],
   "source": [
    "def df_to_xarray(df):\n",
    "    \"\"\"\n",
    "    Convert AEMO obs dataframe to xarray\n",
    "    \"\"\"\n",
    "    # Convert to xarray DataSet\n",
    "    ds = df.to_xarray()\n",
    "    # Rename dimensions and variable name\n",
    "    ds = ds.rename({\"Region\": \"region\", \"SETTLEMENTDATE\": \"time\", \"INITIALMW\": \"power\"})\n",
    "    # Ensure coordinates are correct data type\n",
    "    ds = ds.assign_coords({\n",
    "        \"region\": [\"NSW\", \"QLD\", \"SA\", \"TAS\", \"VIC\"],\n",
    "        \"time\": pd.to_datetime(ds[\"time\"])\n",
    "    })\n",
    "    # Re-order region coordinate to match modelled data\n",
    "    ds = ds.reindex({\"region\": [\"NSW\", \"QLD\", \"VIC\", \"SA\", \"TAS\"]})\n",
    "    \n",
    "    return ds"
   ]
  },
  {
   "cell_type": "code",
   "execution_count": 82,
   "id": "2463a1f5-2242-41fd-9964-e9d414787472",
   "metadata": {},
   "outputs": [],
   "source": [
    "aemo_wind = open_aemo_obs(\"wind\", year)"
   ]
  },
  {
   "cell_type": "code",
   "execution_count": 83,
   "id": "8d04500f-0991-4997-b5bd-89641f995acc",
   "metadata": {},
   "outputs": [],
   "source": [
    "aemo_solar = open_aemo_obs(\"solar\", year)\n",
    "# Pad with NaNs for TAS\n",
    "aemo_solar = aemo_solar.reindex_like(aemo_wind)"
   ]
  },
  {
   "cell_type": "code",
   "execution_count": 84,
   "id": "f043b6c5-63f3-47c3-b689-20c66864e712",
   "metadata": {},
   "outputs": [],
   "source": [
    "aemo_wind = df_to_xarray(aemo_wind)"
   ]
  },
  {
   "cell_type": "code",
   "execution_count": 85,
   "id": "0adddaae-26e0-4b68-9a42-ccafbb0e9508",
   "metadata": {},
   "outputs": [],
   "source": [
    "aemo_solar = df_to_xarray(aemo_solar)"
   ]
  },
  {
   "cell_type": "code",
   "execution_count": null,
   "id": "8498cf9b-658a-497a-886a-6ccb34ad7540",
   "metadata": {},
   "outputs": [],
   "source": []
  }
 ],
 "metadata": {
  "kernelspec": {
   "display_name": "Python (pangeo)",
   "language": "python",
   "name": "pangeo"
  },
  "language_info": {
   "codemirror_mode": {
    "name": "ipython",
    "version": 3
   },
   "file_extension": ".py",
   "mimetype": "text/x-python",
   "name": "python",
   "nbconvert_exporter": "python",
   "pygments_lexer": "ipython3",
   "version": "3.10.8"
  }
 },
 "nbformat": 4,
 "nbformat_minor": 5
}
