{
 "cells": [
  {
   "cell_type": "markdown",
   "id": "b447c95c-1667-439a-b484-75b786653e4c",
   "metadata": {},
   "source": [
    "# Manipulate wind and solar farm data into something usable"
   ]
  },
  {
   "cell_type": "code",
   "execution_count": 1,
   "id": "d2280e6d-8cae-48cd-b8a3-c23f82c1062c",
   "metadata": {},
   "outputs": [],
   "source": [
    "import pandas as pd\n",
    "# import numpy as np\n",
    "# import xarray as xr"
   ]
  },
  {
   "cell_type": "code",
   "execution_count": 2,
   "id": "1b5c878e-fb46-47c5-9902-7b90327baed9",
   "metadata": {},
   "outputs": [],
   "source": [
    "path = \"/g/data/w42/dr6273/work/data/Open_NEM/\""
   ]
  },
  {
   "cell_type": "markdown",
   "id": "0b9cac97-46b5-4179-b80c-2706d591ecc7",
   "metadata": {},
   "source": [
    "# Issues:\n",
    "\n",
    "- Some farms are missing coordinates. Try and find them using the farm name and Google maps.\n",
    "- Some farms have multiple energy types, but the Generator Capacity lists the total. Split these into separate entries, and assign correct capacities using OpenNem website.\n",
    "- It seems like the facilities on the OpenNEM website change regularly. For the download on 07/06/2023, there was a wind farm called 'Crudine Ridge'. This wasn't present the next day..."
   ]
  },
  {
   "cell_type": "markdown",
   "id": "ded38760-65d1-4846-a150-fbda2eca4501",
   "metadata": {},
   "source": [
    "# NSW"
   ]
  },
  {
   "cell_type": "code",
   "execution_count": 162,
   "id": "7d737137-60b4-42e1-9692-23fb23212fc0",
   "metadata": {},
   "outputs": [],
   "source": [
    "nsw = pd.read_csv(\n",
    "    path+\"facilities_solar_wind_NSW.csv\"\n",
    ")"
   ]
  },
  {
   "cell_type": "markdown",
   "id": "8dd0cfdd-a3a5-4d7c-9bfd-cfe848cf14c2",
   "metadata": {},
   "source": [
    "### Coordinates"
   ]
  },
  {
   "cell_type": "code",
   "execution_count": 163,
   "id": "253c31ad-e84d-42f1-b23b-a2fbb3fcdb5a",
   "metadata": {},
   "outputs": [
    {
     "data": {
      "text/html": [
       "<div>\n",
       "<style scoped>\n",
       "    .dataframe tbody tr th:only-of-type {\n",
       "        vertical-align: middle;\n",
       "    }\n",
       "\n",
       "    .dataframe tbody tr th {\n",
       "        vertical-align: top;\n",
       "    }\n",
       "\n",
       "    .dataframe thead th {\n",
       "        text-align: right;\n",
       "    }\n",
       "</style>\n",
       "<table border=\"1\" class=\"dataframe\">\n",
       "  <thead>\n",
       "    <tr style=\"text-align: right;\">\n",
       "      <th></th>\n",
       "      <th>Facility Name</th>\n",
       "      <th>Status</th>\n",
       "      <th>Region</th>\n",
       "      <th>Technology</th>\n",
       "      <th>Generator Capacity (MW)</th>\n",
       "      <th>Latitude</th>\n",
       "      <th>Longitude</th>\n",
       "    </tr>\n",
       "  </thead>\n",
       "  <tbody>\n",
       "    <tr>\n",
       "      <th>7</th>\n",
       "      <td>Wellington</td>\n",
       "      <td>operating</td>\n",
       "      <td>New South Wales</td>\n",
       "      <td>Solar (Utility)</td>\n",
       "      <td>216.0</td>\n",
       "      <td>NaN</td>\n",
       "      <td>NaN</td>\n",
       "    </tr>\n",
       "    <tr>\n",
       "      <th>9</th>\n",
       "      <td>White Rock</td>\n",
       "      <td>operating</td>\n",
       "      <td>New South Wales</td>\n",
       "      <td>Solar (Utility),Wind</td>\n",
       "      <td>197.0</td>\n",
       "      <td>NaN</td>\n",
       "      <td>NaN</td>\n",
       "    </tr>\n",
       "    <tr>\n",
       "      <th>15</th>\n",
       "      <td>Metz N</td>\n",
       "      <td>operating</td>\n",
       "      <td>New South Wales</td>\n",
       "      <td>Solar (Utility)</td>\n",
       "      <td>135.0</td>\n",
       "      <td>NaN</td>\n",
       "      <td>NaN</td>\n",
       "    </tr>\n",
       "    <tr>\n",
       "      <th>17</th>\n",
       "      <td>Bomen</td>\n",
       "      <td>operating</td>\n",
       "      <td>New South Wales</td>\n",
       "      <td>Solar (Utility)</td>\n",
       "      <td>121.0</td>\n",
       "      <td>NaN</td>\n",
       "      <td>NaN</td>\n",
       "    </tr>\n",
       "    <tr>\n",
       "      <th>27</th>\n",
       "      <td>Goonumbla</td>\n",
       "      <td>operating</td>\n",
       "      <td>New South Wales</td>\n",
       "      <td>Solar (Utility)</td>\n",
       "      <td>85.0</td>\n",
       "      <td>NaN</td>\n",
       "      <td>NaN</td>\n",
       "    </tr>\n",
       "  </tbody>\n",
       "</table>\n",
       "</div>"
      ],
      "text/plain": [
       "   Facility Name     Status           Region            Technology  \\\n",
       "7     Wellington  operating  New South Wales       Solar (Utility)   \n",
       "9     White Rock  operating  New South Wales  Solar (Utility),Wind   \n",
       "15        Metz N  operating  New South Wales       Solar (Utility)   \n",
       "17         Bomen  operating  New South Wales       Solar (Utility)   \n",
       "27     Goonumbla  operating  New South Wales       Solar (Utility)   \n",
       "\n",
       "    Generator Capacity (MW)  Latitude  Longitude  \n",
       "7                     216.0       NaN        NaN  \n",
       "9                     197.0       NaN        NaN  \n",
       "15                    135.0       NaN        NaN  \n",
       "17                    121.0       NaN        NaN  \n",
       "27                     85.0       NaN        NaN  "
      ]
     },
     "execution_count": 163,
     "metadata": {},
     "output_type": "execute_result"
    }
   ],
   "source": [
    "nsw.loc[\n",
    "    (nsw['Latitude'].isnull()) |\n",
    "    (nsw['Longitude'].isnull())\n",
    "]"
   ]
  },
  {
   "cell_type": "code",
   "execution_count": 164,
   "id": "58bebef7-c477-4d04-b5fc-916678df3d89",
   "metadata": {},
   "outputs": [],
   "source": [
    "pd.options.mode.chained_assignment = None  # default='warn'"
   ]
  },
  {
   "cell_type": "code",
   "execution_count": 165,
   "id": "058838ef-b76a-44b5-80b7-d6a0a09dfa10",
   "metadata": {},
   "outputs": [],
   "source": [
    "nsw_edited = nsw.copy()"
   ]
  },
  {
   "cell_type": "markdown",
   "id": "e1df2bc6-2352-4a8c-b548-806bce79a35b",
   "metadata": {},
   "source": [
    "Wellington"
   ]
  },
  {
   "cell_type": "code",
   "execution_count": 166,
   "id": "0b15d8a6-a837-4ad1-b37c-f38025f90cd0",
   "metadata": {},
   "outputs": [],
   "source": [
    "nsw_edited[\"Latitude\"].iloc[7] = -32.5162961812663\n",
    "nsw_edited[\"Longitude\"].iloc[7] = 148.9612093835598"
   ]
  },
  {
   "cell_type": "markdown",
   "id": "cb088baa-e092-433e-864b-fe575a372782",
   "metadata": {},
   "source": [
    "White Rock"
   ]
  },
  {
   "cell_type": "code",
   "execution_count": 167,
   "id": "479b4019-bfac-442a-9aee-5c5609931a71",
   "metadata": {},
   "outputs": [],
   "source": [
    "nsw_edited[\"Latitude\"].iloc[9] = -29.76264055097494\n",
    "nsw_edited[\"Longitude\"].iloc[9] = 151.5521448079424"
   ]
  },
  {
   "cell_type": "markdown",
   "id": "c766a055-26dc-4eb7-92f3-0e61367444aa",
   "metadata": {},
   "source": [
    "Metz N (approximated from http://metzsolarfarm.com/location/ and Google Maps)"
   ]
  },
  {
   "cell_type": "code",
   "execution_count": 168,
   "id": "f6e41f82-21f6-4638-99f7-b8c69d7fbea4",
   "metadata": {},
   "outputs": [],
   "source": [
    "nsw_edited[\"Latitude\"].iloc[15] = -30.527104988268896\n",
    "nsw_edited[\"Longitude\"].iloc[15] = 151.87411854905747"
   ]
  },
  {
   "cell_type": "markdown",
   "id": "dec92cf1-59c6-4fa3-9185-f6a6deae7dd1",
   "metadata": {},
   "source": [
    "Bomen"
   ]
  },
  {
   "cell_type": "code",
   "execution_count": 169,
   "id": "5cbcee00-722e-41c2-ae2a-cb0f561a1935",
   "metadata": {},
   "outputs": [],
   "source": [
    "nsw_edited[\"Latitude\"].iloc[17] = -35.048297036400946\n",
    "nsw_edited[\"Longitude\"].iloc[17] = 147.4442568460288"
   ]
  },
  {
   "cell_type": "markdown",
   "id": "2388c943-b3d5-4ae8-a0d7-09a482257a32",
   "metadata": {},
   "source": [
    "Goonumbla (http://goonumblasolarfarm.com/about-us/ and https://www.google.com/maps/place/Parkes+Solar+Farm/@-33.1115994,148.0872867,4400m/data=!3m1!1e3!4m15!1m8!3m7!1s0x6b1ab4449ce55405:0x40609b490437280!2sGoonumbla+NSW+2870!3b1!8m2!3d-32.9178827!4d148.0521359!16s%2Fm%2F012l1gyt!3m5!1s0x6b1ab947765bed85:0xceccccac6dd3e0a6!8m2!3d-33.1129309!4d148.0763972!16s%2Fg%2F11g9dn4xby?entry=ttu)"
   ]
  },
  {
   "cell_type": "code",
   "execution_count": 170,
   "id": "01918599-c003-45f3-9378-b06a520e13a5",
   "metadata": {},
   "outputs": [],
   "source": [
    "nsw_edited[\"Latitude\"].iloc[27] = -33.11247426196654\n",
    "nsw_edited[\"Longitude\"].iloc[27] = 148.0764769027703"
   ]
  },
  {
   "cell_type": "markdown",
   "id": "65ceb832-d664-4422-be0d-58a5787f004f",
   "metadata": {},
   "source": [
    "### Wind and solar\n",
    "\n",
    "- look at all rows that dont solely have either Wind or Solar (Utility)"
   ]
  },
  {
   "cell_type": "code",
   "execution_count": 171,
   "id": "a1eda61c-883a-424b-855a-fe0406abd3b0",
   "metadata": {},
   "outputs": [
    {
     "data": {
      "text/html": [
       "<div>\n",
       "<style scoped>\n",
       "    .dataframe tbody tr th:only-of-type {\n",
       "        vertical-align: middle;\n",
       "    }\n",
       "\n",
       "    .dataframe tbody tr th {\n",
       "        vertical-align: top;\n",
       "    }\n",
       "\n",
       "    .dataframe thead th {\n",
       "        text-align: right;\n",
       "    }\n",
       "</style>\n",
       "<table border=\"1\" class=\"dataframe\">\n",
       "  <thead>\n",
       "    <tr style=\"text-align: right;\">\n",
       "      <th></th>\n",
       "      <th>Facility Name</th>\n",
       "      <th>Status</th>\n",
       "      <th>Region</th>\n",
       "      <th>Technology</th>\n",
       "      <th>Generator Capacity (MW)</th>\n",
       "      <th>Latitude</th>\n",
       "      <th>Longitude</th>\n",
       "    </tr>\n",
       "  </thead>\n",
       "  <tbody>\n",
       "    <tr>\n",
       "      <th>9</th>\n",
       "      <td>White Rock</td>\n",
       "      <td>operating</td>\n",
       "      <td>New South Wales</td>\n",
       "      <td>Solar (Utility),Wind</td>\n",
       "      <td>197.0</td>\n",
       "      <td>NaN</td>\n",
       "      <td>NaN</td>\n",
       "    </tr>\n",
       "    <tr>\n",
       "      <th>11</th>\n",
       "      <td>Gullen Range</td>\n",
       "      <td>operating</td>\n",
       "      <td>New South Wales</td>\n",
       "      <td>Solar (Utility),Wind</td>\n",
       "      <td>175.0</td>\n",
       "      <td>-34.624512</td>\n",
       "      <td>149.458549</td>\n",
       "    </tr>\n",
       "  </tbody>\n",
       "</table>\n",
       "</div>"
      ],
      "text/plain": [
       "   Facility Name     Status           Region            Technology  \\\n",
       "9     White Rock  operating  New South Wales  Solar (Utility),Wind   \n",
       "11  Gullen Range  operating  New South Wales  Solar (Utility),Wind   \n",
       "\n",
       "    Generator Capacity (MW)   Latitude   Longitude  \n",
       "9                     197.0        NaN         NaN  \n",
       "11                    175.0 -34.624512  149.458549  "
      ]
     },
     "execution_count": 171,
     "metadata": {},
     "output_type": "execute_result"
    }
   ],
   "source": [
    "nsw.loc[\n",
    "    (nsw[\"Technology\"] != \"Solar (Utility)\") &\n",
    "    (nsw[\"Technology\"] != \"Wind\")\n",
    "]"
   ]
  },
  {
   "cell_type": "markdown",
   "id": "e5cfee30-81fa-4879-8027-ca89bc9c5191",
   "metadata": {},
   "source": [
    "Duplicate rows"
   ]
  },
  {
   "cell_type": "code",
   "execution_count": 172,
   "id": "1e4f2687-73c4-404c-bdb9-156cc215f8ae",
   "metadata": {},
   "outputs": [
    {
     "name": "stderr",
     "output_type": "stream",
     "text": [
      "/jobfs/86959326.gadi-pbs/ipykernel_3448781/3926266531.py:1: FutureWarning: The frame.append method is deprecated and will be removed from pandas in a future version. Use pandas.concat instead.\n",
      "  nsw_edited = nsw_edited.append(\n"
     ]
    }
   ],
   "source": [
    "nsw_edited = nsw_edited.append(\n",
    "    [\n",
    "        nsw_edited.loc[\n",
    "            (nsw_edited[\"Technology\"] != \"Solar (Utility)\") &\n",
    "            (nsw_edited[\"Technology\"] != \"Wind\")\n",
    "        ]\n",
    "    ],\n",
    "    ignore_index=True\n",
    ")"
   ]
  },
  {
   "cell_type": "code",
   "execution_count": 173,
   "id": "a3562bbd-9e1c-453f-af6b-e6c2d7f13824",
   "metadata": {},
   "outputs": [
    {
     "data": {
      "text/html": [
       "<div>\n",
       "<style scoped>\n",
       "    .dataframe tbody tr th:only-of-type {\n",
       "        vertical-align: middle;\n",
       "    }\n",
       "\n",
       "    .dataframe tbody tr th {\n",
       "        vertical-align: top;\n",
       "    }\n",
       "\n",
       "    .dataframe thead th {\n",
       "        text-align: right;\n",
       "    }\n",
       "</style>\n",
       "<table border=\"1\" class=\"dataframe\">\n",
       "  <thead>\n",
       "    <tr style=\"text-align: right;\">\n",
       "      <th></th>\n",
       "      <th>Facility Name</th>\n",
       "      <th>Status</th>\n",
       "      <th>Region</th>\n",
       "      <th>Technology</th>\n",
       "      <th>Generator Capacity (MW)</th>\n",
       "      <th>Latitude</th>\n",
       "      <th>Longitude</th>\n",
       "    </tr>\n",
       "  </thead>\n",
       "  <tbody>\n",
       "    <tr>\n",
       "      <th>9</th>\n",
       "      <td>White Rock</td>\n",
       "      <td>operating</td>\n",
       "      <td>New South Wales</td>\n",
       "      <td>Solar (Utility),Wind</td>\n",
       "      <td>197.0</td>\n",
       "      <td>-29.762641</td>\n",
       "      <td>151.552145</td>\n",
       "    </tr>\n",
       "    <tr>\n",
       "      <th>11</th>\n",
       "      <td>Gullen Range</td>\n",
       "      <td>operating</td>\n",
       "      <td>New South Wales</td>\n",
       "      <td>Solar (Utility),Wind</td>\n",
       "      <td>175.0</td>\n",
       "      <td>-34.624512</td>\n",
       "      <td>149.458549</td>\n",
       "    </tr>\n",
       "    <tr>\n",
       "      <th>47</th>\n",
       "      <td>White Rock</td>\n",
       "      <td>operating</td>\n",
       "      <td>New South Wales</td>\n",
       "      <td>Solar (Utility),Wind</td>\n",
       "      <td>197.0</td>\n",
       "      <td>-29.762641</td>\n",
       "      <td>151.552145</td>\n",
       "    </tr>\n",
       "    <tr>\n",
       "      <th>48</th>\n",
       "      <td>Gullen Range</td>\n",
       "      <td>operating</td>\n",
       "      <td>New South Wales</td>\n",
       "      <td>Solar (Utility),Wind</td>\n",
       "      <td>175.0</td>\n",
       "      <td>-34.624512</td>\n",
       "      <td>149.458549</td>\n",
       "    </tr>\n",
       "  </tbody>\n",
       "</table>\n",
       "</div>"
      ],
      "text/plain": [
       "   Facility Name     Status           Region            Technology  \\\n",
       "9     White Rock  operating  New South Wales  Solar (Utility),Wind   \n",
       "11  Gullen Range  operating  New South Wales  Solar (Utility),Wind   \n",
       "47    White Rock  operating  New South Wales  Solar (Utility),Wind   \n",
       "48  Gullen Range  operating  New South Wales  Solar (Utility),Wind   \n",
       "\n",
       "    Generator Capacity (MW)   Latitude   Longitude  \n",
       "9                     197.0 -29.762641  151.552145  \n",
       "11                    175.0 -34.624512  149.458549  \n",
       "47                    197.0 -29.762641  151.552145  \n",
       "48                    175.0 -34.624512  149.458549  "
      ]
     },
     "execution_count": 173,
     "metadata": {},
     "output_type": "execute_result"
    }
   ],
   "source": [
    "nsw_edited.loc[nsw_edited[\"Technology\"] == \"Solar (Utility),Wind\"]"
   ]
  },
  {
   "cell_type": "markdown",
   "id": "57cc7537-0741-4376-a6c3-3c2bf7004815",
   "metadata": {},
   "source": [
    "Edit to separate out wind and solar\n",
    "- White Rock: https://opennem.org.au/facilities/au/?selected=WHIROCWIND&tech=solar_utility,wind&status=operating\n",
    "- Gullen Range: https://opennem.org.au/facilities/nsw1/?selected=GULLRGWF&tech=solar_utility,wind&status=operating"
   ]
  },
  {
   "cell_type": "code",
   "execution_count": 174,
   "id": "f7660f6d-7022-43d1-a405-1b8abce796b7",
   "metadata": {},
   "outputs": [],
   "source": [
    "nsw_edited[\"Technology\"].iloc[9] = \"Solar (Utility)\"\n",
    "nsw_edited[\"Generator Capacity (MW)\"].iloc[9] = 22"
   ]
  },
  {
   "cell_type": "code",
   "execution_count": 175,
   "id": "430f5962-0eb2-4fd0-a679-22840b7d2d69",
   "metadata": {},
   "outputs": [],
   "source": [
    "nsw_edited[\"Technology\"].iloc[11] = \"Solar (Utility)\"\n",
    "nsw_edited[\"Generator Capacity (MW)\"].iloc[11] = 10"
   ]
  },
  {
   "cell_type": "code",
   "execution_count": 176,
   "id": "69aa6f83-25ce-4f13-a737-2aab60665d90",
   "metadata": {},
   "outputs": [],
   "source": [
    "nsw_edited[\"Technology\"].iloc[47] = \"Wind\"\n",
    "nsw_edited[\"Generator Capacity (MW)\"].iloc[47] = 175"
   ]
  },
  {
   "cell_type": "code",
   "execution_count": 177,
   "id": "5c13c97f-0be3-40cc-b3e1-c6e5e5650b0d",
   "metadata": {},
   "outputs": [],
   "source": [
    "nsw_edited[\"Technology\"].iloc[48] = \"Wind\"\n",
    "nsw_edited[\"Generator Capacity (MW)\"].iloc[48] = 165"
   ]
  },
  {
   "cell_type": "markdown",
   "id": "fcc80db5-ee95-4632-a684-033edeb1a9d2",
   "metadata": {},
   "source": [
    "### Write"
   ]
  },
  {
   "cell_type": "code",
   "execution_count": 179,
   "id": "b3db4221-8170-41fa-842e-1fe86d88e347",
   "metadata": {},
   "outputs": [],
   "source": [
    "nsw_edited.to_csv(\n",
    "    path+\"edited/facilities_solar_wind_NSW_edited.csv\",\n",
    "    index=False\n",
    ")"
   ]
  },
  {
   "cell_type": "markdown",
   "id": "6a609d21-c20f-4bca-872e-ba35b6c4104b",
   "metadata": {},
   "source": [
    "# QLD"
   ]
  },
  {
   "cell_type": "code",
   "execution_count": 180,
   "id": "8a303ef6-6278-4fd7-b28f-a182960b9b92",
   "metadata": {},
   "outputs": [],
   "source": [
    "qld = pd.read_csv(\n",
    "    path+\"facilities_solar_wind_QLD.csv\"\n",
    ")"
   ]
  },
  {
   "cell_type": "markdown",
   "id": "bbd0dd76-d2eb-4862-8fcf-e58142d73b7d",
   "metadata": {},
   "source": [
    "### Coordinates"
   ]
  },
  {
   "cell_type": "code",
   "execution_count": 181,
   "id": "fb9bc884-8dc6-406e-a8d3-6a54930be4dc",
   "metadata": {},
   "outputs": [
    {
     "data": {
      "text/html": [
       "<div>\n",
       "<style scoped>\n",
       "    .dataframe tbody tr th:only-of-type {\n",
       "        vertical-align: middle;\n",
       "    }\n",
       "\n",
       "    .dataframe tbody tr th {\n",
       "        vertical-align: top;\n",
       "    }\n",
       "\n",
       "    .dataframe thead th {\n",
       "        text-align: right;\n",
       "    }\n",
       "</style>\n",
       "<table border=\"1\" class=\"dataframe\">\n",
       "  <thead>\n",
       "    <tr style=\"text-align: right;\">\n",
       "      <th></th>\n",
       "      <th>Facility Name</th>\n",
       "      <th>Status</th>\n",
       "      <th>Region</th>\n",
       "      <th>Technology</th>\n",
       "      <th>Generator Capacity (MW)</th>\n",
       "      <th>Latitude</th>\n",
       "      <th>Longitude</th>\n",
       "    </tr>\n",
       "  </thead>\n",
       "  <tbody>\n",
       "  </tbody>\n",
       "</table>\n",
       "</div>"
      ],
      "text/plain": [
       "Empty DataFrame\n",
       "Columns: [Facility Name, Status, Region, Technology, Generator Capacity (MW), Latitude, Longitude]\n",
       "Index: []"
      ]
     },
     "execution_count": 181,
     "metadata": {},
     "output_type": "execute_result"
    }
   ],
   "source": [
    "qld.loc[\n",
    "    (qld['Latitude'].isnull()) |\n",
    "    (qld['Longitude'].isnull())\n",
    "]"
   ]
  },
  {
   "cell_type": "code",
   "execution_count": 182,
   "id": "1833d811-5da1-462e-b95f-77ec561eb87d",
   "metadata": {},
   "outputs": [],
   "source": [
    "qld_edited = qld.copy()"
   ]
  },
  {
   "cell_type": "markdown",
   "id": "b3325485-735e-4d7c-9cd6-0709bb9e164a",
   "metadata": {},
   "source": [
    "### Wind and solar"
   ]
  },
  {
   "cell_type": "code",
   "execution_count": 183,
   "id": "a1f93af9-534a-406c-8052-23aca48854ad",
   "metadata": {},
   "outputs": [
    {
     "data": {
      "text/html": [
       "<div>\n",
       "<style scoped>\n",
       "    .dataframe tbody tr th:only-of-type {\n",
       "        vertical-align: middle;\n",
       "    }\n",
       "\n",
       "    .dataframe tbody tr th {\n",
       "        vertical-align: top;\n",
       "    }\n",
       "\n",
       "    .dataframe thead th {\n",
       "        text-align: right;\n",
       "    }\n",
       "</style>\n",
       "<table border=\"1\" class=\"dataframe\">\n",
       "  <thead>\n",
       "    <tr style=\"text-align: right;\">\n",
       "      <th></th>\n",
       "      <th>Facility Name</th>\n",
       "      <th>Status</th>\n",
       "      <th>Region</th>\n",
       "      <th>Technology</th>\n",
       "      <th>Generator Capacity (MW)</th>\n",
       "      <th>Latitude</th>\n",
       "      <th>Longitude</th>\n",
       "    </tr>\n",
       "  </thead>\n",
       "  <tbody>\n",
       "    <tr>\n",
       "      <th>23</th>\n",
       "      <td>Kennedy Energy Park</td>\n",
       "      <td>operating</td>\n",
       "      <td>Queensland</td>\n",
       "      <td>Battery (Discharging),Solar (Utility),Wind</td>\n",
       "      <td>60.2</td>\n",
       "      <td>-20.872792</td>\n",
       "      <td>144.413034</td>\n",
       "    </tr>\n",
       "  </tbody>\n",
       "</table>\n",
       "</div>"
      ],
      "text/plain": [
       "          Facility Name     Status      Region  \\\n",
       "23  Kennedy Energy Park  operating  Queensland   \n",
       "\n",
       "                                    Technology  Generator Capacity (MW)  \\\n",
       "23  Battery (Discharging),Solar (Utility),Wind                     60.2   \n",
       "\n",
       "     Latitude   Longitude  \n",
       "23 -20.872792  144.413034  "
      ]
     },
     "execution_count": 183,
     "metadata": {},
     "output_type": "execute_result"
    }
   ],
   "source": [
    "qld.loc[\n",
    "    (qld[\"Technology\"] != \"Solar (Utility)\") &\n",
    "    (qld[\"Technology\"] != \"Wind\")\n",
    "]"
   ]
  },
  {
   "cell_type": "markdown",
   "id": "82600ac4-953d-40b9-b060-5f914a30bedd",
   "metadata": {},
   "source": [
    "Duplicate rows"
   ]
  },
  {
   "cell_type": "code",
   "execution_count": 184,
   "id": "7daed5e7-6373-485d-92df-a4c36ec54506",
   "metadata": {},
   "outputs": [
    {
     "name": "stderr",
     "output_type": "stream",
     "text": [
      "/jobfs/86959326.gadi-pbs/ipykernel_3448781/3591010649.py:1: FutureWarning: The frame.append method is deprecated and will be removed from pandas in a future version. Use pandas.concat instead.\n",
      "  qld_edited = qld_edited.append(\n"
     ]
    }
   ],
   "source": [
    "qld_edited = qld_edited.append(\n",
    "    [\n",
    "        qld_edited.loc[\n",
    "            (qld_edited[\"Technology\"] != \"Solar (Utility)\") &\n",
    "            (qld_edited[\"Technology\"] != \"Wind\")\n",
    "        ]\n",
    "    ],\n",
    "    ignore_index=True\n",
    ")"
   ]
  },
  {
   "cell_type": "code",
   "execution_count": 186,
   "id": "2e0dcfb1-d545-4f7a-8307-a72e646529f6",
   "metadata": {},
   "outputs": [
    {
     "data": {
      "text/html": [
       "<div>\n",
       "<style scoped>\n",
       "    .dataframe tbody tr th:only-of-type {\n",
       "        vertical-align: middle;\n",
       "    }\n",
       "\n",
       "    .dataframe tbody tr th {\n",
       "        vertical-align: top;\n",
       "    }\n",
       "\n",
       "    .dataframe thead th {\n",
       "        text-align: right;\n",
       "    }\n",
       "</style>\n",
       "<table border=\"1\" class=\"dataframe\">\n",
       "  <thead>\n",
       "    <tr style=\"text-align: right;\">\n",
       "      <th></th>\n",
       "      <th>Facility Name</th>\n",
       "      <th>Status</th>\n",
       "      <th>Region</th>\n",
       "      <th>Technology</th>\n",
       "      <th>Generator Capacity (MW)</th>\n",
       "      <th>Latitude</th>\n",
       "      <th>Longitude</th>\n",
       "    </tr>\n",
       "  </thead>\n",
       "  <tbody>\n",
       "    <tr>\n",
       "      <th>23</th>\n",
       "      <td>Kennedy Energy Park</td>\n",
       "      <td>operating</td>\n",
       "      <td>Queensland</td>\n",
       "      <td>Battery (Discharging),Solar (Utility),Wind</td>\n",
       "      <td>60.2</td>\n",
       "      <td>-20.872792</td>\n",
       "      <td>144.413034</td>\n",
       "    </tr>\n",
       "    <tr>\n",
       "      <th>38</th>\n",
       "      <td>Kennedy Energy Park</td>\n",
       "      <td>operating</td>\n",
       "      <td>Queensland</td>\n",
       "      <td>Battery (Discharging),Solar (Utility),Wind</td>\n",
       "      <td>60.2</td>\n",
       "      <td>-20.872792</td>\n",
       "      <td>144.413034</td>\n",
       "    </tr>\n",
       "  </tbody>\n",
       "</table>\n",
       "</div>"
      ],
      "text/plain": [
       "          Facility Name     Status      Region  \\\n",
       "23  Kennedy Energy Park  operating  Queensland   \n",
       "38  Kennedy Energy Park  operating  Queensland   \n",
       "\n",
       "                                    Technology  Generator Capacity (MW)  \\\n",
       "23  Battery (Discharging),Solar (Utility),Wind                     60.2   \n",
       "38  Battery (Discharging),Solar (Utility),Wind                     60.2   \n",
       "\n",
       "     Latitude   Longitude  \n",
       "23 -20.872792  144.413034  \n",
       "38 -20.872792  144.413034  "
      ]
     },
     "execution_count": 186,
     "metadata": {},
     "output_type": "execute_result"
    }
   ],
   "source": [
    "qld_edited.loc[\n",
    "    (qld_edited[\"Technology\"] != \"Solar (Utility)\") &\n",
    "    (qld_edited[\"Technology\"] != \"Wind\")\n",
    "]"
   ]
  },
  {
   "cell_type": "code",
   "execution_count": 187,
   "id": "0d526b81-309f-4e90-b2e1-92abdd06a44b",
   "metadata": {},
   "outputs": [],
   "source": [
    "qld_edited[\"Technology\"].iloc[23] = \"Solar (Utility)\"\n",
    "qld_edited[\"Generator Capacity (MW)\"].iloc[23] = 15"
   ]
  },
  {
   "cell_type": "code",
   "execution_count": 188,
   "id": "058f0606-9a91-47ac-b0e2-52d23caeaba1",
   "metadata": {},
   "outputs": [],
   "source": [
    "qld_edited[\"Technology\"].iloc[38] = \"Wind\"\n",
    "qld_edited[\"Generator Capacity (MW)\"].iloc[38] = 43"
   ]
  },
  {
   "cell_type": "markdown",
   "id": "55012860-cb65-492d-a3bf-bdcc481505e8",
   "metadata": {},
   "source": [
    "### Write"
   ]
  },
  {
   "cell_type": "code",
   "execution_count": 190,
   "id": "eed1d174-287c-4e5c-8424-3f9a7ac9ef25",
   "metadata": {},
   "outputs": [],
   "source": [
    "qld_edited.to_csv(\n",
    "    path+\"edited/facilities_solar_wind_QLD_edited.csv\",\n",
    "    index=False\n",
    ")"
   ]
  },
  {
   "cell_type": "markdown",
   "id": "aa173783-54fa-4e3d-af52-6d5efec1d42f",
   "metadata": {},
   "source": [
    "# SA"
   ]
  },
  {
   "cell_type": "code",
   "execution_count": 191,
   "id": "824e750e-72a7-471c-aa30-1d9522ebd2cb",
   "metadata": {},
   "outputs": [],
   "source": [
    "sa = pd.read_csv(\n",
    "    path+\"facilities_solar_wind_SA.csv\"\n",
    ")"
   ]
  },
  {
   "cell_type": "markdown",
   "id": "f48c2c77-8985-47cc-a3da-f31df4186209",
   "metadata": {},
   "source": [
    "### Coordinates"
   ]
  },
  {
   "cell_type": "code",
   "execution_count": 192,
   "id": "a335b862-3ec4-4efa-bb8a-836fa41e1c0e",
   "metadata": {},
   "outputs": [
    {
     "data": {
      "text/html": [
       "<div>\n",
       "<style scoped>\n",
       "    .dataframe tbody tr th:only-of-type {\n",
       "        vertical-align: middle;\n",
       "    }\n",
       "\n",
       "    .dataframe tbody tr th {\n",
       "        vertical-align: top;\n",
       "    }\n",
       "\n",
       "    .dataframe thead th {\n",
       "        text-align: right;\n",
       "    }\n",
       "</style>\n",
       "<table border=\"1\" class=\"dataframe\">\n",
       "  <thead>\n",
       "    <tr style=\"text-align: right;\">\n",
       "      <th></th>\n",
       "      <th>Facility Name</th>\n",
       "      <th>Status</th>\n",
       "      <th>Region</th>\n",
       "      <th>Technology</th>\n",
       "      <th>Generator Capacity (MW)</th>\n",
       "      <th>Latitude</th>\n",
       "      <th>Longitude</th>\n",
       "    </tr>\n",
       "  </thead>\n",
       "  <tbody>\n",
       "    <tr>\n",
       "      <th>27</th>\n",
       "      <td>Morganwhyalla Pipeline</td>\n",
       "      <td>operating</td>\n",
       "      <td>South Australia</td>\n",
       "      <td>Solar (Utility)</td>\n",
       "      <td>0.0</td>\n",
       "      <td>NaN</td>\n",
       "      <td>NaN</td>\n",
       "    </tr>\n",
       "  </tbody>\n",
       "</table>\n",
       "</div>"
      ],
      "text/plain": [
       "             Facility Name     Status           Region       Technology  \\\n",
       "27  Morganwhyalla Pipeline  operating  South Australia  Solar (Utility)   \n",
       "\n",
       "    Generator Capacity (MW)  Latitude  Longitude  \n",
       "27                      0.0       NaN        NaN  "
      ]
     },
     "execution_count": 192,
     "metadata": {},
     "output_type": "execute_result"
    }
   ],
   "source": [
    "sa.loc[\n",
    "    (sa['Latitude'].isnull()) |\n",
    "    (sa['Longitude'].isnull())\n",
    "]"
   ]
  },
  {
   "cell_type": "code",
   "execution_count": 201,
   "id": "edd9c5b7-0522-47e1-bf96-b2259be9cb36",
   "metadata": {},
   "outputs": [],
   "source": [
    "sa_edited = sa.copy()"
   ]
  },
  {
   "cell_type": "markdown",
   "id": "131207da-4db5-4052-bf92-c06d4b1bc36b",
   "metadata": {},
   "source": [
    "Morganwhyalla Pipeline\n",
    "\n",
    "- Has zero capacity so just remove"
   ]
  },
  {
   "cell_type": "code",
   "execution_count": 202,
   "id": "61f58a8f-926f-4aeb-aa2f-f6b7c834baab",
   "metadata": {},
   "outputs": [],
   "source": [
    "sa_edited = sa_edited.drop(labels=27, axis=0)"
   ]
  },
  {
   "cell_type": "markdown",
   "id": "624b0b0f-62e7-4c4e-ad3b-2a7bc5d3c8f8",
   "metadata": {},
   "source": [
    "### Wind and solar"
   ]
  },
  {
   "cell_type": "code",
   "execution_count": 203,
   "id": "ac2ab9b0-2d2e-4735-ae91-923097f8da0e",
   "metadata": {},
   "outputs": [
    {
     "data": {
      "text/html": [
       "<div>\n",
       "<style scoped>\n",
       "    .dataframe tbody tr th:only-of-type {\n",
       "        vertical-align: middle;\n",
       "    }\n",
       "\n",
       "    .dataframe tbody tr th {\n",
       "        vertical-align: top;\n",
       "    }\n",
       "\n",
       "    .dataframe thead th {\n",
       "        text-align: right;\n",
       "    }\n",
       "</style>\n",
       "<table border=\"1\" class=\"dataframe\">\n",
       "  <thead>\n",
       "    <tr style=\"text-align: right;\">\n",
       "      <th></th>\n",
       "      <th>Facility Name</th>\n",
       "      <th>Status</th>\n",
       "      <th>Region</th>\n",
       "      <th>Technology</th>\n",
       "      <th>Generator Capacity (MW)</th>\n",
       "      <th>Latitude</th>\n",
       "      <th>Longitude</th>\n",
       "    </tr>\n",
       "  </thead>\n",
       "  <tbody>\n",
       "    <tr>\n",
       "      <th>0</th>\n",
       "      <td>Port Augusta Energy Park</td>\n",
       "      <td>operating</td>\n",
       "      <td>South Australia</td>\n",
       "      <td>Solar (Utility),Wind</td>\n",
       "      <td>309.0</td>\n",
       "      <td>-32.595609</td>\n",
       "      <td>137.885629</td>\n",
       "    </tr>\n",
       "    <tr>\n",
       "      <th>12</th>\n",
       "      <td>Tailem Bend 2</td>\n",
       "      <td>operating</td>\n",
       "      <td>South Australia</td>\n",
       "      <td>Battery (Discharging),Solar (Utility)</td>\n",
       "      <td>155.0</td>\n",
       "      <td>-35.280000</td>\n",
       "      <td>139.490000</td>\n",
       "    </tr>\n",
       "  </tbody>\n",
       "</table>\n",
       "</div>"
      ],
      "text/plain": [
       "               Facility Name     Status           Region  \\\n",
       "0   Port Augusta Energy Park  operating  South Australia   \n",
       "12             Tailem Bend 2  operating  South Australia   \n",
       "\n",
       "                               Technology  Generator Capacity (MW)   Latitude  \\\n",
       "0                    Solar (Utility),Wind                    309.0 -32.595609   \n",
       "12  Battery (Discharging),Solar (Utility)                    155.0 -35.280000   \n",
       "\n",
       "     Longitude  \n",
       "0   137.885629  \n",
       "12  139.490000  "
      ]
     },
     "execution_count": 203,
     "metadata": {},
     "output_type": "execute_result"
    }
   ],
   "source": [
    "sa.loc[\n",
    "    (sa[\"Technology\"] != \"Solar (Utility)\") &\n",
    "    (sa[\"Technology\"] != \"Wind\")\n",
    "]"
   ]
  },
  {
   "cell_type": "markdown",
   "id": "248a9fe8-7203-4b18-8bef-f3bfa7c62138",
   "metadata": {},
   "source": [
    "Duplicate rows"
   ]
  },
  {
   "cell_type": "code",
   "execution_count": 204,
   "id": "3d59bc59-4d1f-4819-89f0-4bcae9e990b2",
   "metadata": {},
   "outputs": [
    {
     "name": "stderr",
     "output_type": "stream",
     "text": [
      "/jobfs/86959326.gadi-pbs/ipykernel_3448781/326923556.py:1: FutureWarning: The frame.append method is deprecated and will be removed from pandas in a future version. Use pandas.concat instead.\n",
      "  sa_edited = sa_edited.append(\n"
     ]
    }
   ],
   "source": [
    "sa_edited = sa_edited.append(\n",
    "    [\n",
    "        sa_edited.loc[\n",
    "            (sa_edited[\"Technology\"] != \"Solar (Utility)\") &\n",
    "            (sa_edited[\"Technology\"] != \"Wind\")\n",
    "        ]\n",
    "    ],\n",
    "    ignore_index=True\n",
    ")"
   ]
  },
  {
   "cell_type": "code",
   "execution_count": 205,
   "id": "83b49e07-237c-46ee-8ae8-728bcd421998",
   "metadata": {},
   "outputs": [
    {
     "data": {
      "text/html": [
       "<div>\n",
       "<style scoped>\n",
       "    .dataframe tbody tr th:only-of-type {\n",
       "        vertical-align: middle;\n",
       "    }\n",
       "\n",
       "    .dataframe tbody tr th {\n",
       "        vertical-align: top;\n",
       "    }\n",
       "\n",
       "    .dataframe thead th {\n",
       "        text-align: right;\n",
       "    }\n",
       "</style>\n",
       "<table border=\"1\" class=\"dataframe\">\n",
       "  <thead>\n",
       "    <tr style=\"text-align: right;\">\n",
       "      <th></th>\n",
       "      <th>Facility Name</th>\n",
       "      <th>Status</th>\n",
       "      <th>Region</th>\n",
       "      <th>Technology</th>\n",
       "      <th>Generator Capacity (MW)</th>\n",
       "      <th>Latitude</th>\n",
       "      <th>Longitude</th>\n",
       "    </tr>\n",
       "  </thead>\n",
       "  <tbody>\n",
       "    <tr>\n",
       "      <th>0</th>\n",
       "      <td>Port Augusta Energy Park</td>\n",
       "      <td>operating</td>\n",
       "      <td>South Australia</td>\n",
       "      <td>Solar (Utility),Wind</td>\n",
       "      <td>309.0</td>\n",
       "      <td>-32.595609</td>\n",
       "      <td>137.885629</td>\n",
       "    </tr>\n",
       "    <tr>\n",
       "      <th>12</th>\n",
       "      <td>Tailem Bend 2</td>\n",
       "      <td>operating</td>\n",
       "      <td>South Australia</td>\n",
       "      <td>Battery (Discharging),Solar (Utility)</td>\n",
       "      <td>155.0</td>\n",
       "      <td>-35.280000</td>\n",
       "      <td>139.490000</td>\n",
       "    </tr>\n",
       "    <tr>\n",
       "      <th>27</th>\n",
       "      <td>Port Augusta Energy Park</td>\n",
       "      <td>operating</td>\n",
       "      <td>South Australia</td>\n",
       "      <td>Solar (Utility),Wind</td>\n",
       "      <td>309.0</td>\n",
       "      <td>-32.595609</td>\n",
       "      <td>137.885629</td>\n",
       "    </tr>\n",
       "    <tr>\n",
       "      <th>28</th>\n",
       "      <td>Tailem Bend 2</td>\n",
       "      <td>operating</td>\n",
       "      <td>South Australia</td>\n",
       "      <td>Battery (Discharging),Solar (Utility)</td>\n",
       "      <td>155.0</td>\n",
       "      <td>-35.280000</td>\n",
       "      <td>139.490000</td>\n",
       "    </tr>\n",
       "  </tbody>\n",
       "</table>\n",
       "</div>"
      ],
      "text/plain": [
       "               Facility Name     Status           Region  \\\n",
       "0   Port Augusta Energy Park  operating  South Australia   \n",
       "12             Tailem Bend 2  operating  South Australia   \n",
       "27  Port Augusta Energy Park  operating  South Australia   \n",
       "28             Tailem Bend 2  operating  South Australia   \n",
       "\n",
       "                               Technology  Generator Capacity (MW)   Latitude  \\\n",
       "0                    Solar (Utility),Wind                    309.0 -32.595609   \n",
       "12  Battery (Discharging),Solar (Utility)                    155.0 -35.280000   \n",
       "27                   Solar (Utility),Wind                    309.0 -32.595609   \n",
       "28  Battery (Discharging),Solar (Utility)                    155.0 -35.280000   \n",
       "\n",
       "     Longitude  \n",
       "0   137.885629  \n",
       "12  139.490000  \n",
       "27  137.885629  \n",
       "28  139.490000  "
      ]
     },
     "execution_count": 205,
     "metadata": {},
     "output_type": "execute_result"
    }
   ],
   "source": [
    "sa_edited.loc[\n",
    "    (sa_edited[\"Technology\"] != \"Solar (Utility)\") &\n",
    "    (sa_edited[\"Technology\"] != \"Wind\")\n",
    "]"
   ]
  },
  {
   "cell_type": "code",
   "execution_count": 206,
   "id": "ee6a9ad0-661e-4760-babc-0e5afe8bb063",
   "metadata": {},
   "outputs": [],
   "source": [
    "sa_edited[\"Technology\"].iloc[0] = \"Solar (Utility)\"\n",
    "sa_edited[\"Generator Capacity (MW)\"].iloc[0] = 99"
   ]
  },
  {
   "cell_type": "code",
   "execution_count": 207,
   "id": "64de4ed5-d818-44aa-a10a-5146958eb257",
   "metadata": {},
   "outputs": [],
   "source": [
    "sa_edited[\"Technology\"].iloc[27] = \"Wind\"\n",
    "sa_edited[\"Generator Capacity (MW)\"].iloc[27] = 210"
   ]
  },
  {
   "cell_type": "code",
   "execution_count": 208,
   "id": "7ff6ca81-e27b-4c6a-b9aa-42724e7db11e",
   "metadata": {},
   "outputs": [],
   "source": [
    "sa_edited[\"Technology\"].iloc[12] = \"Solar (Utility)\"\n",
    "sa_edited[\"Generator Capacity (MW)\"].iloc[12] = 105"
   ]
  },
  {
   "cell_type": "code",
   "execution_count": 209,
   "id": "ae27cae5-e42e-4de1-a1ad-e7af2798b143",
   "metadata": {},
   "outputs": [],
   "source": [
    "sa_edited = sa_edited.drop(labels=28, axis=0) # Drop Tailem Bend 2 battery storage"
   ]
  },
  {
   "cell_type": "markdown",
   "id": "fb00d4fe-39ee-4ec9-bd56-8240ea27178c",
   "metadata": {},
   "source": [
    "### Write"
   ]
  },
  {
   "cell_type": "code",
   "execution_count": 211,
   "id": "3f4385fb-f221-4c8a-aab8-2918cca167bf",
   "metadata": {},
   "outputs": [],
   "source": [
    "sa_edited.to_csv(\n",
    "    path+\"edited/facilities_solar_wind_SA_edited.csv\",\n",
    "    index=False\n",
    ")"
   ]
  },
  {
   "cell_type": "markdown",
   "id": "d1214146-3aec-4912-b84a-5a155bffc829",
   "metadata": {},
   "source": [
    "# VIC"
   ]
  },
  {
   "cell_type": "code",
   "execution_count": 212,
   "id": "ee448dc4-5f3a-4aba-8899-897cb0b900d8",
   "metadata": {},
   "outputs": [],
   "source": [
    "vic = pd.read_csv(\n",
    "    path+\"facilities_solar_wind_VIC.csv\"\n",
    ")"
   ]
  },
  {
   "cell_type": "markdown",
   "id": "db700a5e-0e6a-4879-88cb-3a687c0b2fc1",
   "metadata": {},
   "source": [
    "### Coordinates"
   ]
  },
  {
   "cell_type": "code",
   "execution_count": 213,
   "id": "d4f369f6-94e0-4790-acb2-3da91298b893",
   "metadata": {},
   "outputs": [
    {
     "data": {
      "text/html": [
       "<div>\n",
       "<style scoped>\n",
       "    .dataframe tbody tr th:only-of-type {\n",
       "        vertical-align: middle;\n",
       "    }\n",
       "\n",
       "    .dataframe tbody tr th {\n",
       "        vertical-align: top;\n",
       "    }\n",
       "\n",
       "    .dataframe thead th {\n",
       "        text-align: right;\n",
       "    }\n",
       "</style>\n",
       "<table border=\"1\" class=\"dataframe\">\n",
       "  <thead>\n",
       "    <tr style=\"text-align: right;\">\n",
       "      <th></th>\n",
       "      <th>Facility Name</th>\n",
       "      <th>Status</th>\n",
       "      <th>Region</th>\n",
       "      <th>Technology</th>\n",
       "      <th>Generator Capacity (MW)</th>\n",
       "      <th>Latitude</th>\n",
       "      <th>Longitude</th>\n",
       "    </tr>\n",
       "  </thead>\n",
       "  <tbody>\n",
       "    <tr>\n",
       "      <th>7</th>\n",
       "      <td>Bulgana Green Power Hub</td>\n",
       "      <td>committed</td>\n",
       "      <td>Victoria</td>\n",
       "      <td>Battery (Discharging),Wind</td>\n",
       "      <td>224.0</td>\n",
       "      <td>NaN</td>\n",
       "      <td>NaN</td>\n",
       "    </tr>\n",
       "    <tr>\n",
       "      <th>21</th>\n",
       "      <td>Elaine</td>\n",
       "      <td>operating</td>\n",
       "      <td>Victoria</td>\n",
       "      <td>Wind</td>\n",
       "      <td>83.0</td>\n",
       "      <td>NaN</td>\n",
       "      <td>NaN</td>\n",
       "    </tr>\n",
       "    <tr>\n",
       "      <th>25</th>\n",
       "      <td>Cherry Tree</td>\n",
       "      <td>operating</td>\n",
       "      <td>Victoria</td>\n",
       "      <td>Wind</td>\n",
       "      <td>57.0</td>\n",
       "      <td>NaN</td>\n",
       "      <td>NaN</td>\n",
       "    </tr>\n",
       "  </tbody>\n",
       "</table>\n",
       "</div>"
      ],
      "text/plain": [
       "              Facility Name     Status    Region                  Technology  \\\n",
       "7   Bulgana Green Power Hub  committed  Victoria  Battery (Discharging),Wind   \n",
       "21                   Elaine  operating  Victoria                        Wind   \n",
       "25              Cherry Tree  operating  Victoria                        Wind   \n",
       "\n",
       "    Generator Capacity (MW)  Latitude  Longitude  \n",
       "7                     224.0       NaN        NaN  \n",
       "21                     83.0       NaN        NaN  \n",
       "25                     57.0       NaN        NaN  "
      ]
     },
     "execution_count": 213,
     "metadata": {},
     "output_type": "execute_result"
    }
   ],
   "source": [
    "vic.loc[\n",
    "    (vic['Latitude'].isnull()) |\n",
    "    (vic['Longitude'].isnull())\n",
    "]"
   ]
  },
  {
   "cell_type": "code",
   "execution_count": 214,
   "id": "9526596e-edb6-4154-a170-b28295aad9c7",
   "metadata": {},
   "outputs": [],
   "source": [
    "vic_edited = vic.copy()"
   ]
  },
  {
   "cell_type": "markdown",
   "id": "05c2455c-948a-46a1-961c-e220e8b67236",
   "metadata": {},
   "source": [
    "Bulgana Green Power Hub"
   ]
  },
  {
   "cell_type": "code",
   "execution_count": 215,
   "id": "bdad7165-ed69-49e6-a552-f044b8803f26",
   "metadata": {},
   "outputs": [],
   "source": [
    "vic_edited[\"Latitude\"].iloc[7] = -37.03841087898334\n",
    "vic_edited[\"Longitude\"].iloc[7] = 142.98421506768858"
   ]
  },
  {
   "cell_type": "markdown",
   "id": "249ab26c-14fe-40c6-a803-971ad096f52f",
   "metadata": {},
   "source": [
    "Elaine"
   ]
  },
  {
   "cell_type": "code",
   "execution_count": 216,
   "id": "bb38c634-9f1c-4ec9-8f37-0736eb6a8d7c",
   "metadata": {},
   "outputs": [],
   "source": [
    "vic_edited[\"Latitude\"].iloc[21] = -37.632525496007005\n",
    "vic_edited[\"Longitude\"].iloc[21] = 144.0230869982597"
   ]
  },
  {
   "cell_type": "markdown",
   "id": "8d9fab3c-fdfd-444f-9b6f-93bc74498d1a",
   "metadata": {},
   "source": [
    "Cherry Tree"
   ]
  },
  {
   "cell_type": "code",
   "execution_count": 217,
   "id": "a1ea7846-5cd4-4f80-9a8c-aeca01266170",
   "metadata": {},
   "outputs": [],
   "source": [
    "vic_edited[\"Latitude\"].iloc[25] = -37.09961608519872\n",
    "vic_edited[\"Longitude\"].iloc[25] = 145.26938232111786"
   ]
  },
  {
   "cell_type": "markdown",
   "id": "0966d35d-8747-4d3b-acbf-bf8ce8991365",
   "metadata": {},
   "source": [
    "### Wind and solar"
   ]
  },
  {
   "cell_type": "code",
   "execution_count": 218,
   "id": "9a96d976-3b3d-499f-8c9d-f99d0f7cba88",
   "metadata": {},
   "outputs": [
    {
     "data": {
      "text/html": [
       "<div>\n",
       "<style scoped>\n",
       "    .dataframe tbody tr th:only-of-type {\n",
       "        vertical-align: middle;\n",
       "    }\n",
       "\n",
       "    .dataframe tbody tr th {\n",
       "        vertical-align: top;\n",
       "    }\n",
       "\n",
       "    .dataframe thead th {\n",
       "        text-align: right;\n",
       "    }\n",
       "</style>\n",
       "<table border=\"1\" class=\"dataframe\">\n",
       "  <thead>\n",
       "    <tr style=\"text-align: right;\">\n",
       "      <th></th>\n",
       "      <th>Facility Name</th>\n",
       "      <th>Status</th>\n",
       "      <th>Region</th>\n",
       "      <th>Technology</th>\n",
       "      <th>Generator Capacity (MW)</th>\n",
       "      <th>Latitude</th>\n",
       "      <th>Longitude</th>\n",
       "    </tr>\n",
       "  </thead>\n",
       "  <tbody>\n",
       "    <tr>\n",
       "      <th>7</th>\n",
       "      <td>Bulgana Green Power Hub</td>\n",
       "      <td>committed</td>\n",
       "      <td>Victoria</td>\n",
       "      <td>Battery (Discharging),Wind</td>\n",
       "      <td>224.0</td>\n",
       "      <td>-37.038411</td>\n",
       "      <td>142.984215</td>\n",
       "    </tr>\n",
       "  </tbody>\n",
       "</table>\n",
       "</div>"
      ],
      "text/plain": [
       "             Facility Name     Status    Region                  Technology  \\\n",
       "7  Bulgana Green Power Hub  committed  Victoria  Battery (Discharging),Wind   \n",
       "\n",
       "   Generator Capacity (MW)   Latitude   Longitude  \n",
       "7                    224.0 -37.038411  142.984215  "
      ]
     },
     "execution_count": 218,
     "metadata": {},
     "output_type": "execute_result"
    }
   ],
   "source": [
    "vic_edited.loc[\n",
    "    (vic_edited[\"Technology\"] != \"Solar (Utility)\") &\n",
    "    (vic_edited[\"Technology\"] != \"Wind\")\n",
    "]"
   ]
  },
  {
   "cell_type": "code",
   "execution_count": 219,
   "id": "f9b0a341-e409-491b-af69-d38ee3ab4c3d",
   "metadata": {},
   "outputs": [],
   "source": [
    "vic_edited[\"Technology\"].iloc[7] = \"Wind\"\n",
    "vic_edited[\"Generator Capacity (MW)\"].iloc[7] = 204"
   ]
  },
  {
   "cell_type": "markdown",
   "id": "23846de2-50da-4c74-9b85-061d0649ff7b",
   "metadata": {},
   "source": [
    "### Write"
   ]
  },
  {
   "cell_type": "code",
   "execution_count": 221,
   "id": "47a994cf-c408-495f-a812-da99db80d23a",
   "metadata": {},
   "outputs": [],
   "source": [
    "vic_edited.to_csv(\n",
    "    path+\"edited/facilities_solar_wind_VIC_edited.csv\",\n",
    "    index=False\n",
    ")"
   ]
  },
  {
   "cell_type": "markdown",
   "id": "69c11ef3-2fb7-420c-bbe4-1baacedfd5be",
   "metadata": {
    "tags": []
   },
   "source": [
    "# TAS"
   ]
  },
  {
   "cell_type": "code",
   "execution_count": 222,
   "id": "30f14c39-b228-494d-badc-53524b8cae2e",
   "metadata": {},
   "outputs": [],
   "source": [
    "tas = pd.read_csv(\n",
    "    path+\"facilities_solar_wind_TAS.csv\"\n",
    ")"
   ]
  },
  {
   "cell_type": "code",
   "execution_count": 223,
   "id": "ceaed32e-603d-454d-b967-2b058e6ef5d9",
   "metadata": {},
   "outputs": [
    {
     "data": {
      "text/html": [
       "<div>\n",
       "<style scoped>\n",
       "    .dataframe tbody tr th:only-of-type {\n",
       "        vertical-align: middle;\n",
       "    }\n",
       "\n",
       "    .dataframe tbody tr th {\n",
       "        vertical-align: top;\n",
       "    }\n",
       "\n",
       "    .dataframe thead th {\n",
       "        text-align: right;\n",
       "    }\n",
       "</style>\n",
       "<table border=\"1\" class=\"dataframe\">\n",
       "  <thead>\n",
       "    <tr style=\"text-align: right;\">\n",
       "      <th></th>\n",
       "      <th>Facility Name</th>\n",
       "      <th>Status</th>\n",
       "      <th>Region</th>\n",
       "      <th>Technology</th>\n",
       "      <th>Generator Capacity (MW)</th>\n",
       "      <th>Latitude</th>\n",
       "      <th>Longitude</th>\n",
       "    </tr>\n",
       "  </thead>\n",
       "  <tbody>\n",
       "    <tr>\n",
       "      <th>0</th>\n",
       "      <td>Musselroe</td>\n",
       "      <td>operating</td>\n",
       "      <td>Tasmania</td>\n",
       "      <td>Wind</td>\n",
       "      <td>168</td>\n",
       "      <td>-40.777105</td>\n",
       "      <td>148.006315</td>\n",
       "    </tr>\n",
       "    <tr>\n",
       "      <th>1</th>\n",
       "      <td>Cattle Hill</td>\n",
       "      <td>operating</td>\n",
       "      <td>Tasmania</td>\n",
       "      <td>Wind</td>\n",
       "      <td>148</td>\n",
       "      <td>-42.154845</td>\n",
       "      <td>146.694693</td>\n",
       "    </tr>\n",
       "    <tr>\n",
       "      <th>2</th>\n",
       "      <td>Woolnorth</td>\n",
       "      <td>operating</td>\n",
       "      <td>Tasmania</td>\n",
       "      <td>Wind</td>\n",
       "      <td>140</td>\n",
       "      <td>-40.736375</td>\n",
       "      <td>144.694821</td>\n",
       "    </tr>\n",
       "    <tr>\n",
       "      <th>3</th>\n",
       "      <td>Granville Harbour</td>\n",
       "      <td>operating</td>\n",
       "      <td>Tasmania</td>\n",
       "      <td>Wind</td>\n",
       "      <td>111</td>\n",
       "      <td>-41.802000</td>\n",
       "      <td>145.056000</td>\n",
       "    </tr>\n",
       "  </tbody>\n",
       "</table>\n",
       "</div>"
      ],
      "text/plain": [
       "       Facility Name     Status    Region Technology  Generator Capacity (MW)  \\\n",
       "0          Musselroe  operating  Tasmania       Wind                      168   \n",
       "1        Cattle Hill  operating  Tasmania       Wind                      148   \n",
       "2          Woolnorth  operating  Tasmania       Wind                      140   \n",
       "3  Granville Harbour  operating  Tasmania       Wind                      111   \n",
       "\n",
       "    Latitude   Longitude  \n",
       "0 -40.777105  148.006315  \n",
       "1 -42.154845  146.694693  \n",
       "2 -40.736375  144.694821  \n",
       "3 -41.802000  145.056000  "
      ]
     },
     "execution_count": 223,
     "metadata": {},
     "output_type": "execute_result"
    }
   ],
   "source": [
    "tas"
   ]
  },
  {
   "cell_type": "markdown",
   "id": "ec76b518-4783-4ccb-a646-01e3cd2082c4",
   "metadata": {
    "tags": []
   },
   "source": [
    "# WA"
   ]
  },
  {
   "cell_type": "code",
   "execution_count": 224,
   "id": "47b0585f-fd93-4b54-868b-5115621e14fd",
   "metadata": {},
   "outputs": [],
   "source": [
    "wa = pd.read_csv(\n",
    "    path+\"facilities_solar_wind_WA.csv\"\n",
    ")"
   ]
  },
  {
   "cell_type": "code",
   "execution_count": 225,
   "id": "978f1bf5-4a9f-4dab-80ab-4e1976615b3c",
   "metadata": {},
   "outputs": [
    {
     "data": {
      "text/html": [
       "<div>\n",
       "<style scoped>\n",
       "    .dataframe tbody tr th:only-of-type {\n",
       "        vertical-align: middle;\n",
       "    }\n",
       "\n",
       "    .dataframe tbody tr th {\n",
       "        vertical-align: top;\n",
       "    }\n",
       "\n",
       "    .dataframe thead th {\n",
       "        text-align: right;\n",
       "    }\n",
       "</style>\n",
       "<table border=\"1\" class=\"dataframe\">\n",
       "  <thead>\n",
       "    <tr style=\"text-align: right;\">\n",
       "      <th></th>\n",
       "      <th>Facility Name</th>\n",
       "      <th>Status</th>\n",
       "      <th>Region</th>\n",
       "      <th>Technology</th>\n",
       "      <th>Generator Capacity (MW)</th>\n",
       "      <th>Latitude</th>\n",
       "      <th>Longitude</th>\n",
       "    </tr>\n",
       "  </thead>\n",
       "  <tbody>\n",
       "    <tr>\n",
       "      <th>0</th>\n",
       "      <td>Yandin</td>\n",
       "      <td>operating</td>\n",
       "      <td>Western Australia</td>\n",
       "      <td>Wind</td>\n",
       "      <td>214.00</td>\n",
       "      <td>-30.680971</td>\n",
       "      <td>115.694249</td>\n",
       "    </tr>\n",
       "    <tr>\n",
       "      <th>1</th>\n",
       "      <td>Collgar</td>\n",
       "      <td>operating</td>\n",
       "      <td>Western Australia</td>\n",
       "      <td>Wind</td>\n",
       "      <td>206.00</td>\n",
       "      <td>-31.597510</td>\n",
       "      <td>118.490597</td>\n",
       "    </tr>\n",
       "    <tr>\n",
       "      <th>2</th>\n",
       "      <td>Warradarge</td>\n",
       "      <td>operating</td>\n",
       "      <td>Western Australia</td>\n",
       "      <td>Wind</td>\n",
       "      <td>180.00</td>\n",
       "      <td>-30.041742</td>\n",
       "      <td>115.346019</td>\n",
       "    </tr>\n",
       "    <tr>\n",
       "      <th>3</th>\n",
       "      <td>Badgingarra</td>\n",
       "      <td>operating</td>\n",
       "      <td>Western Australia</td>\n",
       "      <td>Wind</td>\n",
       "      <td>130.00</td>\n",
       "      <td>-30.439924</td>\n",
       "      <td>115.324045</td>\n",
       "    </tr>\n",
       "    <tr>\n",
       "      <th>4</th>\n",
       "      <td>Merredin</td>\n",
       "      <td>operating</td>\n",
       "      <td>Western Australia</td>\n",
       "      <td>Solar (Utility)</td>\n",
       "      <td>100.00</td>\n",
       "      <td>-31.545150</td>\n",
       "      <td>118.228147</td>\n",
       "    </tr>\n",
       "    <tr>\n",
       "      <th>5</th>\n",
       "      <td>Walkaway</td>\n",
       "      <td>operating</td>\n",
       "      <td>Western Australia</td>\n",
       "      <td>Wind</td>\n",
       "      <td>89.10</td>\n",
       "      <td>-28.902492</td>\n",
       "      <td>114.892717</td>\n",
       "    </tr>\n",
       "    <tr>\n",
       "      <th>6</th>\n",
       "      <td>Emu Downs</td>\n",
       "      <td>operating</td>\n",
       "      <td>Western Australia</td>\n",
       "      <td>Wind</td>\n",
       "      <td>80.00</td>\n",
       "      <td>-30.475647</td>\n",
       "      <td>115.379052</td>\n",
       "    </tr>\n",
       "    <tr>\n",
       "      <th>7</th>\n",
       "      <td>Mumbida</td>\n",
       "      <td>operating</td>\n",
       "      <td>Western Australia</td>\n",
       "      <td>Wind</td>\n",
       "      <td>55.00</td>\n",
       "      <td>-29.011063</td>\n",
       "      <td>114.966228</td>\n",
       "    </tr>\n",
       "    <tr>\n",
       "      <th>8</th>\n",
       "      <td>Albany</td>\n",
       "      <td>operating</td>\n",
       "      <td>Western Australia</td>\n",
       "      <td>Wind</td>\n",
       "      <td>21.60</td>\n",
       "      <td>-35.065835</td>\n",
       "      <td>117.797506</td>\n",
       "    </tr>\n",
       "    <tr>\n",
       "      <th>9</th>\n",
       "      <td>Grasmere</td>\n",
       "      <td>operating</td>\n",
       "      <td>Western Australia</td>\n",
       "      <td>Wind</td>\n",
       "      <td>13.80</td>\n",
       "      <td>-35.065835</td>\n",
       "      <td>117.797506</td>\n",
       "    </tr>\n",
       "    <tr>\n",
       "      <th>10</th>\n",
       "      <td>Greenough River</td>\n",
       "      <td>operating</td>\n",
       "      <td>Western Australia</td>\n",
       "      <td>Solar (Utility)</td>\n",
       "      <td>10.00</td>\n",
       "      <td>-28.903810</td>\n",
       "      <td>115.109370</td>\n",
       "    </tr>\n",
       "    <tr>\n",
       "      <th>11</th>\n",
       "      <td>Northam</td>\n",
       "      <td>operating</td>\n",
       "      <td>Western Australia</td>\n",
       "      <td>Solar (Utility)</td>\n",
       "      <td>7.75</td>\n",
       "      <td>-31.651610</td>\n",
       "      <td>116.711541</td>\n",
       "    </tr>\n",
       "    <tr>\n",
       "      <th>12</th>\n",
       "      <td>Karakin</td>\n",
       "      <td>operating</td>\n",
       "      <td>Western Australia</td>\n",
       "      <td>Wind</td>\n",
       "      <td>5.00</td>\n",
       "      <td>-30.942242</td>\n",
       "      <td>115.366613</td>\n",
       "    </tr>\n",
       "    <tr>\n",
       "      <th>13</th>\n",
       "      <td>West Hills</td>\n",
       "      <td>operating</td>\n",
       "      <td>Western Australia</td>\n",
       "      <td>Wind</td>\n",
       "      <td>5.00</td>\n",
       "      <td>-30.858103</td>\n",
       "      <td>115.463261</td>\n",
       "    </tr>\n",
       "    <tr>\n",
       "      <th>14</th>\n",
       "      <td>Mount Barker</td>\n",
       "      <td>operating</td>\n",
       "      <td>Western Australia</td>\n",
       "      <td>Wind</td>\n",
       "      <td>2.43</td>\n",
       "      <td>-34.601163</td>\n",
       "      <td>117.643905</td>\n",
       "    </tr>\n",
       "    <tr>\n",
       "      <th>15</th>\n",
       "      <td>Kalbarri</td>\n",
       "      <td>operating</td>\n",
       "      <td>Western Australia</td>\n",
       "      <td>Wind</td>\n",
       "      <td>1.60</td>\n",
       "      <td>-27.898303</td>\n",
       "      <td>114.192354</td>\n",
       "    </tr>\n",
       "    <tr>\n",
       "      <th>16</th>\n",
       "      <td>Denmark</td>\n",
       "      <td>operating</td>\n",
       "      <td>Western Australia</td>\n",
       "      <td>Wind</td>\n",
       "      <td>1.44</td>\n",
       "      <td>-35.036971</td>\n",
       "      <td>117.319012</td>\n",
       "    </tr>\n",
       "    <tr>\n",
       "      <th>17</th>\n",
       "      <td>Metro</td>\n",
       "      <td>operating</td>\n",
       "      <td>Western Australia</td>\n",
       "      <td>Solar (Utility)</td>\n",
       "      <td>0.96</td>\n",
       "      <td>-32.103385</td>\n",
       "      <td>115.808456</td>\n",
       "    </tr>\n",
       "    <tr>\n",
       "      <th>18</th>\n",
       "      <td>Bremer Bay</td>\n",
       "      <td>operating</td>\n",
       "      <td>Western Australia</td>\n",
       "      <td>Wind</td>\n",
       "      <td>0.60</td>\n",
       "      <td>-34.399033</td>\n",
       "      <td>119.389377</td>\n",
       "    </tr>\n",
       "  </tbody>\n",
       "</table>\n",
       "</div>"
      ],
      "text/plain": [
       "      Facility Name     Status             Region       Technology  \\\n",
       "0            Yandin  operating  Western Australia             Wind   \n",
       "1           Collgar  operating  Western Australia             Wind   \n",
       "2        Warradarge  operating  Western Australia             Wind   \n",
       "3       Badgingarra  operating  Western Australia             Wind   \n",
       "4          Merredin  operating  Western Australia  Solar (Utility)   \n",
       "5          Walkaway  operating  Western Australia             Wind   \n",
       "6         Emu Downs  operating  Western Australia             Wind   \n",
       "7           Mumbida  operating  Western Australia             Wind   \n",
       "8            Albany  operating  Western Australia             Wind   \n",
       "9          Grasmere  operating  Western Australia             Wind   \n",
       "10  Greenough River  operating  Western Australia  Solar (Utility)   \n",
       "11          Northam  operating  Western Australia  Solar (Utility)   \n",
       "12          Karakin  operating  Western Australia             Wind   \n",
       "13       West Hills  operating  Western Australia             Wind   \n",
       "14     Mount Barker  operating  Western Australia             Wind   \n",
       "15         Kalbarri  operating  Western Australia             Wind   \n",
       "16          Denmark  operating  Western Australia             Wind   \n",
       "17            Metro  operating  Western Australia  Solar (Utility)   \n",
       "18       Bremer Bay  operating  Western Australia             Wind   \n",
       "\n",
       "    Generator Capacity (MW)   Latitude   Longitude  \n",
       "0                    214.00 -30.680971  115.694249  \n",
       "1                    206.00 -31.597510  118.490597  \n",
       "2                    180.00 -30.041742  115.346019  \n",
       "3                    130.00 -30.439924  115.324045  \n",
       "4                    100.00 -31.545150  118.228147  \n",
       "5                     89.10 -28.902492  114.892717  \n",
       "6                     80.00 -30.475647  115.379052  \n",
       "7                     55.00 -29.011063  114.966228  \n",
       "8                     21.60 -35.065835  117.797506  \n",
       "9                     13.80 -35.065835  117.797506  \n",
       "10                    10.00 -28.903810  115.109370  \n",
       "11                     7.75 -31.651610  116.711541  \n",
       "12                     5.00 -30.942242  115.366613  \n",
       "13                     5.00 -30.858103  115.463261  \n",
       "14                     2.43 -34.601163  117.643905  \n",
       "15                     1.60 -27.898303  114.192354  \n",
       "16                     1.44 -35.036971  117.319012  \n",
       "17                     0.96 -32.103385  115.808456  \n",
       "18                     0.60 -34.399033  119.389377  "
      ]
     },
     "execution_count": 225,
     "metadata": {},
     "output_type": "execute_result"
    }
   ],
   "source": [
    "wa"
   ]
  }
 ],
 "metadata": {
  "kernelspec": {
   "display_name": "Python (pangeo)",
   "language": "python",
   "name": "pangeo"
  },
  "language_info": {
   "codemirror_mode": {
    "name": "ipython",
    "version": 3
   },
   "file_extension": ".py",
   "mimetype": "text/x-python",
   "name": "python",
   "nbconvert_exporter": "python",
   "pygments_lexer": "ipython3",
   "version": "3.10.8"
  }
 },
 "nbformat": 4,
 "nbformat_minor": 5
}
