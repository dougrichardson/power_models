{
 "cells": [
  {
   "cell_type": "markdown",
   "id": "fd667142-3072-4b51-82e5-aeac61e35045",
   "metadata": {},
   "source": [
    "# Power output for REZ for different energy scenarios"
   ]
  },
  {
   "cell_type": "code",
   "execution_count": 1,
   "id": "e751ef1e-561a-466e-9d52-fc24a38cb20e",
   "metadata": {},
   "outputs": [],
   "source": [
    "from dask.distributed import Client,LocalCluster\n",
    "from dask_jobqueue import PBSCluster"
   ]
  },
  {
   "cell_type": "code",
   "execution_count": 2,
   "id": "2c573e26-2263-40a3-9eae-a817d59628ee",
   "metadata": {},
   "outputs": [],
   "source": [
    "# client.close()\n",
    "# cluster.close()"
   ]
  },
  {
   "cell_type": "code",
   "execution_count": 2,
   "id": "110fe4e4-c193-41f5-a258-b9de322e105f",
   "metadata": {
    "tags": []
   },
   "outputs": [
    {
     "name": "stderr",
     "output_type": "stream",
     "text": [
      "/g/data/w42/dr6273/apps/conda/envs/pangeo/lib/python3.10/site-packages/distributed/node.py:182: UserWarning: Port 8787 is already in use.\n",
      "Perhaps you already have a cluster running?\n",
      "Hosting the HTTP server on port 41735 instead\n",
      "  warnings.warn(\n"
     ]
    }
   ],
   "source": [
    "# One node on Gadi has 48 cores - try and use up a full node before going to multiple nodes (jobs)\n",
    "\n",
    "walltime = \"00:30:00\"\n",
    "cores = 24\n",
    "memory = str(4 * cores) + \"GB\"\n",
    "\n",
    "cluster = PBSCluster(walltime=str(walltime), cores=cores, memory=str(memory), processes=cores,\n",
    "                     job_extra_directives=[\"-q normal\",\n",
    "                                           \"-P dt6\",\n",
    "                                           \"-l ncpus=\"+str(cores),\n",
    "                                           \"-l mem=\"+str(memory),\n",
    "                                           \"-l storage=gdata/w42+gdata/rt52+scratch/dt6\"],\n",
    "                     local_directory=\"$TMPDIR\",\n",
    "                     job_directives_skip=[\"select\"])"
   ]
  },
  {
   "cell_type": "code",
   "execution_count": 3,
   "id": "1604c7e6-ee20-4ea2-91f3-bf10ec5874bf",
   "metadata": {
    "tags": []
   },
   "outputs": [],
   "source": [
    "cluster.scale(jobs=1)\n",
    "client = Client(cluster)"
   ]
  },
  {
   "cell_type": "code",
   "execution_count": 4,
   "id": "f9fc9dc4-49ef-4215-b12b-b0151c9d0a2f",
   "metadata": {},
   "outputs": [
    {
     "data": {
      "text/html": [
       "<div>\n",
       "    <div style=\"width: 24px; height: 24px; background-color: #e1e1e1; border: 3px solid #9D9D9D; border-radius: 5px; position: absolute;\"> </div>\n",
       "    <div style=\"margin-left: 48px;\">\n",
       "        <h3 style=\"margin-bottom: 0px;\">Client</h3>\n",
       "        <p style=\"color: #9D9D9D; margin-bottom: 0px;\">Client-76ff2ed3-9388-11f0-935a-000003a4fe80</p>\n",
       "        <table style=\"width: 100%; text-align: left;\">\n",
       "\n",
       "        <tr>\n",
       "        \n",
       "            <td style=\"text-align: left;\"><strong>Connection method:</strong> Cluster object</td>\n",
       "            <td style=\"text-align: left;\"><strong>Cluster type:</strong> dask_jobqueue.PBSCluster</td>\n",
       "        \n",
       "        </tr>\n",
       "\n",
       "        \n",
       "            <tr>\n",
       "                <td style=\"text-align: left;\">\n",
       "                    <strong>Dashboard: </strong> <a href=\"/proxy/41735/status\" target=\"_blank\">/proxy/41735/status</a>\n",
       "                </td>\n",
       "                <td style=\"text-align: left;\"></td>\n",
       "            </tr>\n",
       "        \n",
       "\n",
       "        </table>\n",
       "\n",
       "        \n",
       "            <button style=\"margin-bottom: 12px;\" data-commandlinker-command=\"dask:populate-and-launch-layout\" data-commandlinker-args='{\"url\": \"/proxy/41735/status\" }'>\n",
       "                Launch dashboard in JupyterLab\n",
       "            </button>\n",
       "        \n",
       "\n",
       "        \n",
       "            <details>\n",
       "            <summary style=\"margin-bottom: 20px;\"><h3 style=\"display: inline;\">Cluster Info</h3></summary>\n",
       "            <div class=\"jp-RenderedHTMLCommon jp-RenderedHTML jp-mod-trusted jp-OutputArea-output\">\n",
       "    <div style=\"width: 24px; height: 24px; background-color: #e1e1e1; border: 3px solid #9D9D9D; border-radius: 5px; position: absolute;\">\n",
       "    </div>\n",
       "    <div style=\"margin-left: 48px;\">\n",
       "        <h3 style=\"margin-bottom: 0px; margin-top: 0px;\">PBSCluster</h3>\n",
       "        <p style=\"color: #9D9D9D; margin-bottom: 0px;\">6ad2dac8</p>\n",
       "        <table style=\"width: 100%; text-align: left;\">\n",
       "            <tr>\n",
       "                <td style=\"text-align: left;\">\n",
       "                    <strong>Dashboard:</strong> <a href=\"/proxy/41735/status\" target=\"_blank\">/proxy/41735/status</a>\n",
       "                </td>\n",
       "                <td style=\"text-align: left;\">\n",
       "                    <strong>Workers:</strong> 0\n",
       "                </td>\n",
       "            </tr>\n",
       "            <tr>\n",
       "                <td style=\"text-align: left;\">\n",
       "                    <strong>Total threads:</strong> 0\n",
       "                </td>\n",
       "                <td style=\"text-align: left;\">\n",
       "                    <strong>Total memory:</strong> 0 B\n",
       "                </td>\n",
       "            </tr>\n",
       "            \n",
       "        </table>\n",
       "\n",
       "        <details>\n",
       "            <summary style=\"margin-bottom: 20px;\">\n",
       "                <h3 style=\"display: inline;\">Scheduler Info</h3>\n",
       "            </summary>\n",
       "\n",
       "            <div style=\"\">\n",
       "    <div>\n",
       "        <div style=\"width: 24px; height: 24px; background-color: #FFF7E5; border: 3px solid #FF6132; border-radius: 5px; position: absolute;\"> </div>\n",
       "        <div style=\"margin-left: 48px;\">\n",
       "            <h3 style=\"margin-bottom: 0px;\">Scheduler</h3>\n",
       "            <p style=\"color: #9D9D9D; margin-bottom: 0px;\">Scheduler-af455e8c-ab0c-41f7-b74f-b56b79348b5e</p>\n",
       "            <table style=\"width: 100%; text-align: left;\">\n",
       "                <tr>\n",
       "                    <td style=\"text-align: left;\">\n",
       "                        <strong>Comm:</strong> tcp://10.6.121.5:39295\n",
       "                    </td>\n",
       "                    <td style=\"text-align: left;\">\n",
       "                        <strong>Workers:</strong> 0\n",
       "                    </td>\n",
       "                </tr>\n",
       "                <tr>\n",
       "                    <td style=\"text-align: left;\">\n",
       "                        <strong>Dashboard:</strong> <a href=\"/proxy/41735/status\" target=\"_blank\">/proxy/41735/status</a>\n",
       "                    </td>\n",
       "                    <td style=\"text-align: left;\">\n",
       "                        <strong>Total threads:</strong> 0\n",
       "                    </td>\n",
       "                </tr>\n",
       "                <tr>\n",
       "                    <td style=\"text-align: left;\">\n",
       "                        <strong>Started:</strong> Just now\n",
       "                    </td>\n",
       "                    <td style=\"text-align: left;\">\n",
       "                        <strong>Total memory:</strong> 0 B\n",
       "                    </td>\n",
       "                </tr>\n",
       "            </table>\n",
       "        </div>\n",
       "    </div>\n",
       "\n",
       "    <details style=\"margin-left: 48px;\">\n",
       "        <summary style=\"margin-bottom: 20px;\">\n",
       "            <h3 style=\"display: inline;\">Workers</h3>\n",
       "        </summary>\n",
       "\n",
       "        \n",
       "\n",
       "    </details>\n",
       "</div>\n",
       "\n",
       "        </details>\n",
       "    </div>\n",
       "</div>\n",
       "            </details>\n",
       "        \n",
       "\n",
       "    </div>\n",
       "</div>"
      ],
      "text/plain": [
       "<Client: 'tcp://10.6.121.5:39295' processes=0 threads=0, memory=0 B>"
      ]
     },
     "execution_count": 4,
     "metadata": {},
     "output_type": "execute_result"
    }
   ],
   "source": [
    "client"
   ]
  },
  {
   "cell_type": "code",
   "execution_count": 5,
   "id": "93146e58-ecad-4b7b-a0f4-cc65e6f8724d",
   "metadata": {},
   "outputs": [],
   "source": [
    "import xarray as xr\n",
    "import pandas as pd"
   ]
  },
  {
   "cell_type": "code",
   "execution_count": 6,
   "id": "9d3ead5d-258f-4617-9e66-128e2a75de80",
   "metadata": {},
   "outputs": [
    {
     "name": "stdout",
     "output_type": "stream",
     "text": [
      "/g/data/w42/dr6273/work/power_models\n"
     ]
    }
   ],
   "source": [
    "%cd /g/data/w42/dr6273/work/power_models\n",
    "import functions as fn"
   ]
  },
  {
   "cell_type": "code",
   "execution_count": 7,
   "id": "5d58c151-da0f-46d0-8453-ce3124658dfd",
   "metadata": {},
   "outputs": [],
   "source": [
    "%load_ext autoreload\n",
    "%autoreload 2"
   ]
  },
  {
   "cell_type": "markdown",
   "id": "8589c94e-fd76-4997-9501-ff12ccab33a5",
   "metadata": {},
   "source": [
    "# Load REZ data"
   ]
  },
  {
   "cell_type": "markdown",
   "id": "01ca4493-82c5-46e1-a56c-a7ec8b40fae0",
   "metadata": {},
   "source": [
    "#### REZ mask"
   ]
  },
  {
   "cell_type": "code",
   "execution_count": 8,
   "id": "3f8708a2-05db-497d-aeb8-67dd1432e300",
   "metadata": {},
   "outputs": [],
   "source": [
    "mask = xr.open_dataset('/g/data/w42/dr6273/work/projects/Aus_energy/data/rez_2024_mask_era5_grid.nc').REZ"
   ]
  },
  {
   "cell_type": "markdown",
   "id": "4d2c099c-bd89-49a7-b4db-7aa498d95271",
   "metadata": {},
   "source": [
    "#### REZ generation"
   ]
  },
  {
   "cell_type": "code",
   "execution_count": 18,
   "id": "c2cd8a6f-9879-42e8-8d1a-d5c58a53734a",
   "metadata": {},
   "outputs": [],
   "source": [
    "_gen = pd.read_csv(\"/g/data/w42/dr6273/work/data/REZ/2024/REZ_potential.csv\", index_col=0)"
   ]
  },
  {
   "cell_type": "code",
   "execution_count": 19,
   "id": "9c33430f-53e8-4074-82be-811d6621408f",
   "metadata": {},
   "outputs": [],
   "source": [
    "# Tidy column names\n",
    "_gen.columns = [i.replace(\"90\", \"9-\") for i in _gen.columns]\n",
    "_gen.columns = [i.replace(\" \", \"_\") for i in _gen.columns]"
   ]
  },
  {
   "cell_type": "code",
   "execution_count": 20,
   "id": "24278640-949e-4901-8f99-e3cc29004bcf",
   "metadata": {},
   "outputs": [],
   "source": [
    "# Sum scenarios with existing capacity\n",
    "gen = _gen.copy()\n",
    "for col in _gen.columns[2:]:\n",
    "    if col[:3] == \"Exi\":\n",
    "        pass\n",
    "    else:\n",
    "        gen_type = col.split(\"_\")[-2]\n",
    "        gen[col] = _gen[col] + _gen[\"Existing_\" + gen_type]"
   ]
  },
  {
   "cell_type": "markdown",
   "id": "888fb041-23b7-45cf-8e61-65e82a4f0388",
   "metadata": {},
   "source": [
    "Set some REZs to zero wind. In the ISP, they have no modelled transmission, and/or in the IASR Workbook there are no capacity factors because there is a resource limit of zero.\n",
    "\n",
    "- N7 Tumut\n",
    "- S5 Northern SA"
   ]
  },
  {
   "cell_type": "code",
   "execution_count": 21,
   "id": "c9ed9421-26b3-4fd8-b4ee-d45594f1d23a",
   "metadata": {},
   "outputs": [],
   "source": [
    "gen.loc[\"N7\", gen.columns[-10:]] = 0\n",
    "gen.loc[\"S5\", gen.columns[-10:]] = 0"
   ]
  },
  {
   "cell_type": "markdown",
   "id": "81b798ab-12db-4588-85d7-939d0384d5dd",
   "metadata": {},
   "source": [
    "### Artifically increase generation in some REZs\n",
    "\n",
    "- Based on https://github.com/dougrichardson/seasonal_energy/blob/main/06_capacity_factors.ipynb\n",
    "- Testing to see if adding capacity alters correlation of energy with climate modes"
   ]
  },
  {
   "cell_type": "markdown",
   "id": "458a9c67-1925-43aa-94ba-8f5bd76bcbf2",
   "metadata": {},
   "source": [
    "##### Wind"
   ]
  },
  {
   "cell_type": "code",
   "execution_count": 22,
   "id": "4c365559-ec53-4792-b9f5-74f7ffb818f1",
   "metadata": {},
   "outputs": [],
   "source": [
    "# Replace Step change 2049-50 wind in N10 with 5,200 MW (https://www.dcceew.gov.au/energy/renewable/offshore-wind/areas/hunter)\n",
    "gen[\"artificial_N10_wind_2049-50\"] = gen[\"Step_change_wind_2049-50\"].copy()\n",
    "gen.loc[\"N10\", \"artificial_N10_wind_2049-50\"] = 5200"
   ]
  },
  {
   "cell_type": "code",
   "execution_count": 23,
   "id": "7071630a-ab38-4618-98bf-06d87c320af0",
   "metadata": {},
   "outputs": [],
   "source": [
    "# Replace Step change 2049-50 wind in Q1 with green energy scenario\n",
    "gen[\"artificial_Q1_wind_2049-50\"] = gen[\"Step_change_wind_2049-50\"].copy()\n",
    "gen.loc[\"Q1\", \"artificial_Q1_wind_2049-50\"] = gen.loc[\"Q1\"][\"Green_energy_wind_2049-50\"].copy()"
   ]
  },
  {
   "cell_type": "code",
   "execution_count": 24,
   "id": "f227acf8-ac33-4d4d-9014-5bf919ffbcda",
   "metadata": {},
   "outputs": [],
   "source": [
    "# Replace Step change 2049-50 wind in Q2 with green energy scenario\n",
    "gen[\"artificial_Q2_wind_2049-50\"] = gen[\"Step_change_wind_2049-50\"].copy()\n",
    "gen.loc[\"Q2\", \"artificial_Q2_wind_2049-50\"] = gen.loc[\"Q2\"][\"Green_energy_wind_2049-50\"].copy()"
   ]
  },
  {
   "cell_type": "code",
   "execution_count": 25,
   "id": "b224e881-97d3-4925-8b23-4d91476ce839",
   "metadata": {},
   "outputs": [],
   "source": [
    "# Replace Step change 2049-50 wind in Q5 with green energy scenario\n",
    "gen[\"artificial_Q5_wind_2049-50\"] = gen[\"Step_change_wind_2049-50\"].copy()\n",
    "gen.loc[\"Q5\", \"artificial_Q5_wind_2049-50\"] = gen.loc[\"Q5\"][\"Green_energy_wind_2049-50\"].copy()"
   ]
  },
  {
   "cell_type": "code",
   "execution_count": 26,
   "id": "165b93d6-527f-49a6-9214-eca78b3c91af",
   "metadata": {},
   "outputs": [],
   "source": [
    "# Replace Step change 2049-50 wind in Q6 with green energy scenario\n",
    "gen[\"artificial_Q6_wind_2049-50\"] = gen[\"Step_change_wind_2049-50\"].copy()\n",
    "gen.loc[\"Q6\", \"artificial_Q6_wind_2049-50\"] = gen.loc[\"Q6\"][\"Green_energy_wind_2049-50\"].copy()"
   ]
  },
  {
   "cell_type": "code",
   "execution_count": 27,
   "id": "3fcfd21e-2634-4a44-a7b6-c5c5d7595f91",
   "metadata": {},
   "outputs": [],
   "source": [
    "# Replace Step change 2049-50 wind in T3 with green energy scenario\n",
    "gen[\"artificial_T3_wind_2049-50\"] = gen[\"Step_change_wind_2049-50\"].copy()\n",
    "gen.loc[\"T3\", \"artificial_T3_wind_2049-50\"] = gen.loc[\"T3\"][\"Green_energy_wind_2049-50\"].copy()"
   ]
  },
  {
   "cell_type": "markdown",
   "id": "acca531e-cb10-4406-a700-6690d48bdc10",
   "metadata": {},
   "source": [
    "##### Solar"
   ]
  },
  {
   "cell_type": "code",
   "execution_count": 28,
   "id": "7f735b75-cbd1-4c2e-a851-ff1f2c9c01c4",
   "metadata": {},
   "outputs": [],
   "source": [
    "# Replace Step change 2049-50 solar in V5 with green energy scenario\n",
    "gen[\"artificial_V5_solar_2049-50\"] = gen[\"Step_change_solar_2049-50\"].copy()\n",
    "gen.loc[\"V5\", \"artificial_V5_solar_2049-50\"] = gen.loc[\"V5\"][\"Green_energy_solar_2049-50\"].copy()"
   ]
  },
  {
   "cell_type": "code",
   "execution_count": 29,
   "id": "28ef862e-0c76-47f8-8396-a4b6cfdb5c8b",
   "metadata": {},
   "outputs": [
    {
     "data": {
      "text/html": [
       "<div>\n",
       "<style scoped>\n",
       "    .dataframe tbody tr th:only-of-type {\n",
       "        vertical-align: middle;\n",
       "    }\n",
       "\n",
       "    .dataframe tbody tr th {\n",
       "        vertical-align: top;\n",
       "    }\n",
       "\n",
       "    .dataframe thead th {\n",
       "        text-align: right;\n",
       "    }\n",
       "</style>\n",
       "<table border=\"1\" class=\"dataframe\">\n",
       "  <thead>\n",
       "    <tr style=\"text-align: right;\">\n",
       "      <th></th>\n",
       "      <th>Solar_renewable_potential_(MW)</th>\n",
       "      <th>Wind_renewable_potential_(MW)</th>\n",
       "      <th>Existing_solar</th>\n",
       "      <th>Progressive_solar_2029-30</th>\n",
       "      <th>Progressive_solar_2039-40</th>\n",
       "      <th>Progressive_solar_2049-50</th>\n",
       "      <th>Step_change_solar_2029-30</th>\n",
       "      <th>Step_change_solar_2039-40</th>\n",
       "      <th>Step_change_solar_2049-50</th>\n",
       "      <th>Green_energy_solar_2029-30</th>\n",
       "      <th>...</th>\n",
       "      <th>Green_energy_wind_2029-30</th>\n",
       "      <th>Green_energy_wind_2039-40</th>\n",
       "      <th>Green_energy_wind_2049-50</th>\n",
       "      <th>artificial_N10_wind_2049-50</th>\n",
       "      <th>artificial_Q1_wind_2049-50</th>\n",
       "      <th>artificial_Q2_wind_2049-50</th>\n",
       "      <th>artificial_Q5_wind_2049-50</th>\n",
       "      <th>artificial_Q6_wind_2049-50</th>\n",
       "      <th>artificial_T3_wind_2049-50</th>\n",
       "      <th>artificial_V5_solar_2049-50</th>\n",
       "    </tr>\n",
       "    <tr>\n",
       "      <th>REZ</th>\n",
       "      <th></th>\n",
       "      <th></th>\n",
       "      <th></th>\n",
       "      <th></th>\n",
       "      <th></th>\n",
       "      <th></th>\n",
       "      <th></th>\n",
       "      <th></th>\n",
       "      <th></th>\n",
       "      <th></th>\n",
       "      <th></th>\n",
       "      <th></th>\n",
       "      <th></th>\n",
       "      <th></th>\n",
       "      <th></th>\n",
       "      <th></th>\n",
       "      <th></th>\n",
       "      <th></th>\n",
       "      <th></th>\n",
       "      <th></th>\n",
       "      <th></th>\n",
       "    </tr>\n",
       "  </thead>\n",
       "  <tbody>\n",
       "    <tr>\n",
       "      <th>V4</th>\n",
       "      <td>0</td>\n",
       "      <td>3442</td>\n",
       "      <td>0</td>\n",
       "      <td>0</td>\n",
       "      <td>0</td>\n",
       "      <td>0</td>\n",
       "      <td>0</td>\n",
       "      <td>0</td>\n",
       "      <td>0</td>\n",
       "      <td>0</td>\n",
       "      <td>...</td>\n",
       "      <td>5350</td>\n",
       "      <td>5400</td>\n",
       "      <td>7800</td>\n",
       "      <td>6350</td>\n",
       "      <td>6350</td>\n",
       "      <td>6350</td>\n",
       "      <td>6350</td>\n",
       "      <td>6350</td>\n",
       "      <td>6350</td>\n",
       "      <td>0</td>\n",
       "    </tr>\n",
       "    <tr>\n",
       "      <th>V5</th>\n",
       "      <td>500</td>\n",
       "      <td>2000</td>\n",
       "      <td>160</td>\n",
       "      <td>160</td>\n",
       "      <td>160</td>\n",
       "      <td>160</td>\n",
       "      <td>160</td>\n",
       "      <td>160</td>\n",
       "      <td>510</td>\n",
       "      <td>2810</td>\n",
       "      <td>...</td>\n",
       "      <td>5100</td>\n",
       "      <td>5100</td>\n",
       "      <td>5100</td>\n",
       "      <td>2000</td>\n",
       "      <td>2000</td>\n",
       "      <td>2000</td>\n",
       "      <td>2000</td>\n",
       "      <td>2000</td>\n",
       "      <td>2000</td>\n",
       "      <td>10010</td>\n",
       "    </tr>\n",
       "    <tr>\n",
       "      <th>V6</th>\n",
       "      <td>1700</td>\n",
       "      <td>1600</td>\n",
       "      <td>548</td>\n",
       "      <td>548</td>\n",
       "      <td>548</td>\n",
       "      <td>548</td>\n",
       "      <td>548</td>\n",
       "      <td>548</td>\n",
       "      <td>1948</td>\n",
       "      <td>1598</td>\n",
       "      <td>...</td>\n",
       "      <td>1200</td>\n",
       "      <td>1200</td>\n",
       "      <td>1200</td>\n",
       "      <td>0</td>\n",
       "      <td>0</td>\n",
       "      <td>0</td>\n",
       "      <td>0</td>\n",
       "      <td>0</td>\n",
       "      <td>0</td>\n",
       "      <td>1948</td>\n",
       "    </tr>\n",
       "    <tr>\n",
       "      <th>V7</th>\n",
       "      <td>0</td>\n",
       "      <td>54996</td>\n",
       "      <td>0</td>\n",
       "      <td>0</td>\n",
       "      <td>0</td>\n",
       "      <td>0</td>\n",
       "      <td>0</td>\n",
       "      <td>0</td>\n",
       "      <td>0</td>\n",
       "      <td>0</td>\n",
       "      <td>...</td>\n",
       "      <td>0</td>\n",
       "      <td>8200</td>\n",
       "      <td>8200</td>\n",
       "      <td>8200</td>\n",
       "      <td>8200</td>\n",
       "      <td>8200</td>\n",
       "      <td>8200</td>\n",
       "      <td>8200</td>\n",
       "      <td>8200</td>\n",
       "      <td>0</td>\n",
       "    </tr>\n",
       "    <tr>\n",
       "      <th>V8</th>\n",
       "      <td>0</td>\n",
       "      <td>3330</td>\n",
       "      <td>0</td>\n",
       "      <td>0</td>\n",
       "      <td>0</td>\n",
       "      <td>0</td>\n",
       "      <td>0</td>\n",
       "      <td>0</td>\n",
       "      <td>0</td>\n",
       "      <td>0</td>\n",
       "      <td>...</td>\n",
       "      <td>0</td>\n",
       "      <td>780</td>\n",
       "      <td>780</td>\n",
       "      <td>780</td>\n",
       "      <td>780</td>\n",
       "      <td>780</td>\n",
       "      <td>780</td>\n",
       "      <td>780</td>\n",
       "      <td>780</td>\n",
       "      <td>0</td>\n",
       "    </tr>\n",
       "  </tbody>\n",
       "</table>\n",
       "<p>5 rows × 29 columns</p>\n",
       "</div>"
      ],
      "text/plain": [
       "     Solar_renewable_potential_(MW)  Wind_renewable_potential_(MW)  \\\n",
       "REZ                                                                  \n",
       "V4                                0                           3442   \n",
       "V5                              500                           2000   \n",
       "V6                             1700                           1600   \n",
       "V7                                0                          54996   \n",
       "V8                                0                           3330   \n",
       "\n",
       "     Existing_solar  Progressive_solar_2029-30  Progressive_solar_2039-40  \\\n",
       "REZ                                                                         \n",
       "V4                0                          0                          0   \n",
       "V5              160                        160                        160   \n",
       "V6              548                        548                        548   \n",
       "V7                0                          0                          0   \n",
       "V8                0                          0                          0   \n",
       "\n",
       "     Progressive_solar_2049-50  Step_change_solar_2029-30  \\\n",
       "REZ                                                         \n",
       "V4                           0                          0   \n",
       "V5                         160                        160   \n",
       "V6                         548                        548   \n",
       "V7                           0                          0   \n",
       "V8                           0                          0   \n",
       "\n",
       "     Step_change_solar_2039-40  Step_change_solar_2049-50  \\\n",
       "REZ                                                         \n",
       "V4                           0                          0   \n",
       "V5                         160                        510   \n",
       "V6                         548                       1948   \n",
       "V7                           0                          0   \n",
       "V8                           0                          0   \n",
       "\n",
       "     Green_energy_solar_2029-30  ...  Green_energy_wind_2029-30  \\\n",
       "REZ                              ...                              \n",
       "V4                            0  ...                       5350   \n",
       "V5                         2810  ...                       5100   \n",
       "V6                         1598  ...                       1200   \n",
       "V7                            0  ...                          0   \n",
       "V8                            0  ...                          0   \n",
       "\n",
       "     Green_energy_wind_2039-40  Green_energy_wind_2049-50  \\\n",
       "REZ                                                         \n",
       "V4                        5400                       7800   \n",
       "V5                        5100                       5100   \n",
       "V6                        1200                       1200   \n",
       "V7                        8200                       8200   \n",
       "V8                         780                        780   \n",
       "\n",
       "     artificial_N10_wind_2049-50  artificial_Q1_wind_2049-50  \\\n",
       "REZ                                                            \n",
       "V4                          6350                        6350   \n",
       "V5                          2000                        2000   \n",
       "V6                             0                           0   \n",
       "V7                          8200                        8200   \n",
       "V8                           780                         780   \n",
       "\n",
       "     artificial_Q2_wind_2049-50  artificial_Q5_wind_2049-50  \\\n",
       "REZ                                                           \n",
       "V4                         6350                        6350   \n",
       "V5                         2000                        2000   \n",
       "V6                            0                           0   \n",
       "V7                         8200                        8200   \n",
       "V8                          780                         780   \n",
       "\n",
       "     artificial_Q6_wind_2049-50  artificial_T3_wind_2049-50  \\\n",
       "REZ                                                           \n",
       "V4                         6350                        6350   \n",
       "V5                         2000                        2000   \n",
       "V6                            0                           0   \n",
       "V7                         8200                        8200   \n",
       "V8                          780                         780   \n",
       "\n",
       "     artificial_V5_solar_2049-50  \n",
       "REZ                               \n",
       "V4                             0  \n",
       "V5                         10010  \n",
       "V6                          1948  \n",
       "V7                             0  \n",
       "V8                             0  \n",
       "\n",
       "[5 rows x 29 columns]"
      ]
     },
     "execution_count": 29,
     "metadata": {},
     "output_type": "execute_result"
    }
   ],
   "source": [
    "gen.tail()"
   ]
  },
  {
   "cell_type": "markdown",
   "id": "8f0ebf81-e5cb-4cea-90c8-78648f098a76",
   "metadata": {},
   "source": [
    "### Pre-compute capacity factor averages:"
   ]
  },
  {
   "cell_type": "code",
   "execution_count": 15,
   "id": "ebb57503-1fc1-400c-b179-07d011e12cf9",
   "metadata": {},
   "outputs": [],
   "source": [
    "# def calculate_mean_cf(years, gen_type, method=\"van_der_Wiel\", chunks=None):\n",
    "#     \"\"\"\n",
    "#     Return mean capacity factor over all years\n",
    "    \n",
    "#     gen_type: str, 'wind' or 'solar'\n",
    "#     method: str, method used to compute capacity factor, e.g. 'van_der_Wiel'\n",
    "#     chunks: dict, how to chunk. Default is None\n",
    "#     \"\"\"\n",
    "#     da_list = []\n",
    "#     for year in years:\n",
    "#         cf = fn.load_hourly_cf(year, gen_type, method=method, chunks={\"lat\": 75, \"lon\": 100, \"time\": -1}).capacity_factor\n",
    "#         cf = cf.mean(\"time\").expand_dims({\"time\": [year]})\n",
    "#         da_list.append(cf)\n",
    "#     cf = xr.concat(da_list, dim=\"time\")\n",
    "#     return cf.mean(\"time\")"
   ]
  },
  {
   "cell_type": "code",
   "execution_count": 30,
   "id": "0c7c55cd-ad51-4575-9396-9698f17d808e",
   "metadata": {},
   "outputs": [],
   "source": [
    "fp = \"/g/data/w42/dr6273/work/projects/Aus_energy/production_metrics/\""
   ]
  },
  {
   "cell_type": "code",
   "execution_count": 37,
   "id": "68b1250e-7361-443c-ade2-68ca5063d7c8",
   "metadata": {},
   "outputs": [],
   "source": [
    "# years = range(1940, 2024)"
   ]
  },
  {
   "cell_type": "code",
   "execution_count": 38,
   "id": "7030566a-1da2-4ad1-9016-39d5bb38b111",
   "metadata": {},
   "outputs": [],
   "source": [
    "# compute = False"
   ]
  },
  {
   "cell_type": "code",
   "execution_count": 39,
   "id": "a4d7bbb1-f527-4e3c-8fb3-ee041187a70f",
   "metadata": {},
   "outputs": [],
   "source": [
    "# if compute:\n",
    "#     for gen_type in [\"wind\", \"solar\"]:\n",
    "#         mean_cf = calculate_mean_cf(years, gen_type)\n",
    "#         mean_cf.to_dataset(name=\"capacity_factor\").to_netcdf(\n",
    "#             fp + gen_type + \"_mean_capacity_factor_van_der_Wiel_era5_hourly_\" + str(years[0]) + \"-\" + str(years[-1]) + \".nc\"\n",
    "#         )\n",
    "#         # mean_cf_2011_23 = calculate_mean_cf(range(2011, 2024), gen_type)\n",
    "#         # mean_cf_2011_23.to_dataset(name=\"capacity_factor\").to_netcdf(\n",
    "#         #     fp + gen_type + \"_mean_capacity_factor_2011_2023_van_der_Wiel_era5_hourly_\" + str(years[0]) + \"-\" + str(years[-1]) + \".nc\"\n",
    "#         # )"
   ]
  },
  {
   "cell_type": "markdown",
   "id": "b3e5d77d-d05c-4d0b-baa4-f283f1b6d94a",
   "metadata": {},
   "source": [
    "### Load pre-computed capacity factor biases"
   ]
  },
  {
   "cell_type": "code",
   "execution_count": 40,
   "id": "d9d27b25-b8a7-4172-81e3-8f2f9f979df1",
   "metadata": {},
   "outputs": [],
   "source": [
    "# bias_dict = {}\n",
    "# for scenario in [\"Existing_wind\", \"Existing_solar\"]:\n",
    "#     bias_dict[scenario] = xr.open_mfdataset(\n",
    "#         fp + scenario + \"_multiplicative_bias_202012-202311.nc\"\n",
    "#     ).bias"
   ]
  },
  {
   "cell_type": "markdown",
   "id": "f3b4bc74-8e35-4bd2-90e3-1fc364cb5e91",
   "metadata": {},
   "source": [
    "# Compute generation"
   ]
  },
  {
   "cell_type": "code",
   "execution_count": 41,
   "id": "07af249d-6c3f-44d1-90bf-9d2b63224a2c",
   "metadata": {},
   "outputs": [],
   "source": [
    "# def get_even_capacity_mask(mask_da, generation):\n",
    "#     \"\"\"\n",
    "#     Return DataArray with mask of capacity divided evenly across grid cells\n",
    "    \n",
    "#     mask_da: array of REZ mask\n",
    "#     generation: pandas Series of capacity values for each region (index).\n",
    "#     \"\"\"\n",
    "#     da_list = []\n",
    "#     for r in generation.index:\n",
    "#         capacity = generation.loc[r]\n",
    "#         n_cells = mask_da.sel(region=r).sum().values\n",
    "        \n",
    "#         da = mask_da.sel(region=r).where(\n",
    "#             mask_da.sel(region=r) == 0,\n",
    "#             capacity / n_cells\n",
    "#         ).expand_dims({\"REZ\": [r]})\n",
    "        \n",
    "#         da_list.append(da)\n",
    "        \n",
    "#     return xr.concat(da_list, dim=\"REZ\")"
   ]
  },
  {
   "cell_type": "code",
   "execution_count": 42,
   "id": "c8898724-1b02-4519-93f4-b8c32c61d12e",
   "metadata": {},
   "outputs": [],
   "source": [
    "# def get_cf_scaled_capacity_mask(cf_mean, mask_da, generation):\n",
    "#     \"\"\"\n",
    "#     Return DataArray with mask of capacity divided according to weights from average capacity factor\n",
    "    \n",
    "#     cf_mean: array of capacity factor weights\n",
    "#     mask_da: array of REZ mask\n",
    "#     generation: pandas Series of capacity values for each region (index).\n",
    "#     \"\"\"\n",
    "#     da_list = []\n",
    "#     for r in generation.index:\n",
    "#         capacity = generation.loc[r]\n",
    "        \n",
    "#         cf_region = cf_mean.where(\n",
    "#             mask_da.sel(region=r) == 1,\n",
    "#             drop=True\n",
    "#         )\n",
    "#         weights = cf_region / cf_region.sum()\n",
    "        \n",
    "#         tolerance = 0.01\n",
    "#         if 1 - weights.sum().values > tolerance:\n",
    "#             print(weights.sum().values)\n",
    "#             raise ValueError(\"Weights don't sum to one.\")\n",
    "            \n",
    "#         da = (weights * capacity).expand_dims({\"REZ\": [r]})\n",
    "        \n",
    "#         da_list.append(da)\n",
    "        \n",
    "#     return xr.concat(da_list, dim=\"REZ\")"
   ]
  },
  {
   "cell_type": "code",
   "execution_count": 31,
   "id": "f57bbdee-278f-4ddb-9d0c-7ca64d28dec4",
   "metadata": {},
   "outputs": [],
   "source": [
    "def get_cf_scaled_capacity_mask(cf_mean, region, capacity):\n",
    "    \"\"\"\n",
    "    Return DataArray with mask of capacity divided according to weights from average capacity factor\n",
    "    \n",
    "    cf_mean: array of capacity factor weights\n",
    "    region: str, name of region e.g. Q1\n",
    "    generation: int, capacity value\n",
    "    \"\"\"        \n",
    "    weights = cf_mean / cf_mean.sum()\n",
    "\n",
    "    # tolerance = 0.01\n",
    "    # if 1 - weights.sum().values > tolerance:\n",
    "    #     print(weights.sum().values)\n",
    "    #     raise ValueError(\"Weights don't sum to one.\")\n",
    "\n",
    "    da = (weights * capacity).expand_dims({\"region\": [region]})        \n",
    "    return da"
   ]
  },
  {
   "cell_type": "code",
   "execution_count": 46,
   "id": "2e35a159-901f-4d5c-8ec4-8fe6c3282629",
   "metadata": {},
   "outputs": [],
   "source": [
    "# def calc_generation(capacity_factor, generation_capacity, capacity_factor_scaling=None):\n",
    "#     \"\"\"\n",
    "#     Return DataArray with time series of power for each REZ\n",
    "    \n",
    "#     capacity_factor: DataArray of capacity factors\n",
    "#     generation_capacity: DataArray of each grid cells generation capacity\n",
    "#     capacity_factor_scaling: DataArray of scale factors for capacity factor\n",
    "#     \"\"\"\n",
    "#     da_list = []\n",
    "#     for r in generation_capacity.REZ.values:\n",
    "#         r_mask = generation_capacity.sel(REZ=r).where(\n",
    "#             generation_capacity.sel(REZ=r) > 0, drop=True\n",
    "#         )\n",
    "        \n",
    "#         # Apply monthly bias correction if desired\n",
    "#         if capacity_factor_scaling is not None:\n",
    "#             if r[:1] == \"N\":\n",
    "#                 region_scalings = capacity_factor_scaling.sel(region=\"NSW\")\n",
    "#             elif r[:1] == \"Q\":\n",
    "#                 region_scalings = capacity_factor_scaling.sel(region=\"QLD\")\n",
    "#             elif r[:1] == \"V\":\n",
    "#                 region_scalings = capacity_factor_scaling.sel(region=\"VIC\")\n",
    "#             elif r[:1] == \"S\":\n",
    "#                 region_scalings = capacity_factor_scaling.sel(region=\"SA\")\n",
    "#             elif r[:1] == \"T\":\n",
    "#                 region_scalings = capacity_factor_scaling.sel(region=\"TAS\")\n",
    "#             else:\n",
    "#                 raise ValueError(\"Incorrect r\")\n",
    "            \n",
    "#             capacity_factor_scaled = capacity_factor.groupby(\"time.month\") * region_scalings\n",
    "#             da = capacity_factor_scaled * r_mask\n",
    "#         else:\n",
    "#             # Or use raw data\n",
    "#             da = capacity_factor * r_mask\n",
    "            \n",
    "#         da = da.sum([\"lat\", \"lon\"])\n",
    "#         da = da.expand_dims({\"REZ\": [r]})\n",
    "\n",
    "#         da_list.append(da)\n",
    "\n",
    "#     return xr.concat(da_list, dim=\"REZ\")"
   ]
  },
  {
   "cell_type": "code",
   "execution_count": 32,
   "id": "5ea96f76-cd3d-4c70-a8d1-21dfc64d95ec",
   "metadata": {},
   "outputs": [],
   "source": [
    "def calc_all_years_generation(filename, years, mask_da, generation, cf_type, capacity_factor_scaling=None, scale_mask=\"capacity_factor\", method=\"van_der_Wiel\", add_dir=\"\"):\n",
    "    \"\"\"\n",
    "    Compute power time series for each REZ and each year.\n",
    "    \n",
    "    filename: str, initial text as part of saved filename\n",
    "    years: range\n",
    "    mask_da: array, mask of REZs\n",
    "    generation: pandas Series with index as REZ ID and values as generation capacity\n",
    "    cf_type: str, 'wind_medium', 'wind_high' or 'solarpv'\n",
    "    capacity_factor_scaling: array with month and region dimensions, default None\n",
    "    scale_mask: str, 'capacity_factor' to scale by mean capacity factors,\n",
    "        'even' for an even distribution of generation amongst REZ cells,\n",
    "        'none' to use mask_da directly.\n",
    "    method: str, which method of capacity factors was used\n",
    "    add_dir, add_dir: str, additional directory for load_hourly_cf, default \"\"\n",
    "    \"\"\"\n",
    "    def _get_gen_type(gen):\n",
    "        g_split = gen.name.split(\"_\")\n",
    "        if g_split[0] == \"Solar\":\n",
    "            gt = \"solar\"\n",
    "        elif g_split[0] == \"Wind\":\n",
    "            gt = \"wind\"\n",
    "        elif g_split[0] == \"Existing\":\n",
    "            gt = g_split[1]\n",
    "        else:\n",
    "            gt = g_split[-2]\n",
    "        return gt\n",
    "    \n",
    "    gen_type = _get_gen_type(generation)\n",
    "    cf_path = \"/g/data/w42/dr6273/work/projects/Aus_energy/production_metrics/\" + gen_type + \"/capacity_factor/\" + method + \"/bias_corrected/\"\n",
    "    \n",
    "#     if capacity_factor_scaling is not None:\n",
    "#         cf_scaling = capacity_factor_scaling[\"Existing_\"+gen_type]\n",
    "#     else:\n",
    "#         cf_scaling = None\n",
    "    \n",
    "#     if scale_mask == \"capacity_factor\": # Use mean capacity factor weights to split the generation capacities by\n",
    "#         mean_cf = xr.open_dataset(\n",
    "#             \"/g/data/w42/dr6273/work/projects/Aus_energy/production_metrics/\" + \\\n",
    "#             gen_type + \"_mean_capacity_factor_van_der_Wiel_era5_hourly_1940-2023.nc\"\n",
    "#         )[\"capacity_factor\"]\n",
    "        \n",
    "#         gen_capacity = get_cf_scaled_capacity_mask(mean_cf, mask_da, generation)\n",
    "        \n",
    "#     elif scale_mask == \"even\": # Divide the generation capacity by the size of the region and assign each cell that number\n",
    "#         gen_capacity = get_even_capacity_mask(mask_da, generation)\n",
    "        \n",
    "#     else: # Just use mask_da as the generation capacities for each cell\n",
    "#         gen_capacity = mask_da.copy()\n",
    "    \n",
    "    # Drop regions with zero generation\n",
    "    regions = generation.drop(generation[generation == 0].index)\n",
    "    \n",
    "    da_list = []\n",
    "    for region, capacity in zip(regions.index, regions):\n",
    "        # print(region, capacity)\n",
    "        \n",
    "        # Generation capacity for region r\n",
    "        # r_mask = gen_capacity.sel(REZ=r).where(\n",
    "        #     gen_capacity.sel(REZ=r) > 0, drop=True\n",
    "        # )\n",
    "        \n",
    "        # Load bias-corrected capacity factors\n",
    "        # print(cf_path + cf_type + \"_capacity_factor_\" + method + \"_era5_hourly_1940-2023_\" + region + \".nc\")\n",
    "        cf_r_bc = xr.open_mfdataset(\n",
    "            cf_path + cf_type + \"_capacity_factor_\" + method + \"_era5_hourly_1940-2023_\" + region + \".nc\",\n",
    "        ).capacity_factor\n",
    "\n",
    "        # Generation capacity for region r\n",
    "        cf_mask = cf_r_bc.mean(\"time\")\n",
    "        gen_capacity = get_cf_scaled_capacity_mask(cf_mask, region, capacity)\n",
    "        # return gen_capacity\n",
    "\n",
    "        # Compute power\n",
    "        power = cf_r_bc * gen_capacity\n",
    "        power = power.sum([\"lat\", \"lon\"])\n",
    "        power = power.rename(\"power\")\n",
    "        # power = power.expand_dims({\"region\": [region]})\n",
    "\n",
    "        da_list.append(power)\n",
    "        \n",
    "    REZ_power = xr.concat(da_list, dim=\"region\")\n",
    "    REZ_power = REZ_power.chunk({\"region\": -1, \"time\": -1})\n",
    "    return REZ_power\n",
    "\n",
    "\n",
    "\n",
    "#     for year in years:\n",
    "#         cf = fn.load_hourly_cf(year, gen_type, method=method, add_dir=add_dir, chunks={\"lat\": -1, \"lon\": -1, \"time\": 2500}).capacity_factor\n",
    "#         p = calc_generation(cf, gen_capacity, capacity_factor_scaling=cf_scaling)\n",
    "# #         da_list.append(p)\n",
    "# #     REZ_power = xr.concat(da_list, dim=\"time\")\n",
    "# #     REZ_power = REZ_power.chunk({\"REZ\": -1, \"time\": -1})\n",
    "    \n",
    "# #     return REZ_power\n",
    "#         p.drop_vars(\"month\").to_dataset(name=\"power\").to_netcdf(\n",
    "#             \"/scratch/dt6/dr6273/data/energy/yearly/\" + filename + \"_\" + generation.name + \"_van_der_Wiel\" + \"_era5_hourly_\" + str(year) + \".nc\",\n",
    "#             mode=\"w\"\n",
    "#         )"
   ]
  },
  {
   "cell_type": "code",
   "execution_count": 33,
   "id": "9a52d888-5a34-474a-955b-ae404e12b990",
   "metadata": {},
   "outputs": [],
   "source": [
    "years = range(1940, 2024)"
   ]
  },
  {
   "cell_type": "code",
   "execution_count": 51,
   "id": "d4fb43e6-505d-4a63-baee-78e1b2ab7481",
   "metadata": {},
   "outputs": [
    {
     "data": {
      "text/plain": [
       "['artificial_T3_wind_2049-50']"
      ]
     },
     "execution_count": 51,
     "metadata": {},
     "output_type": "execute_result"
    }
   ],
   "source": [
    "scenarios = [gen.columns[-2]]\n",
    "scenarios"
   ]
  },
  {
   "cell_type": "code",
   "execution_count": 52,
   "id": "4cc199a0-4d3b-4b5d-a0f5-2277376f616e",
   "metadata": {},
   "outputs": [
    {
     "data": {
      "text/plain": [
       "['artificial_T3_wind_2049-50', 'artificial_T3_wind_2049-50']"
      ]
     },
     "execution_count": 52,
     "metadata": {},
     "output_type": "execute_result"
    }
   ],
   "source": [
    "scenarios = list(scenarios) * 2\n",
    "scenarios"
   ]
  },
  {
   "cell_type": "code",
   "execution_count": 53,
   "id": "2e94dfe1-11c8-45d6-9b05-3f06500803ac",
   "metadata": {},
   "outputs": [
    {
     "data": {
      "text/plain": [
       "['wind_medium', 'wind_high']"
      ]
     },
     "execution_count": 53,
     "metadata": {},
     "output_type": "execute_result"
    }
   ],
   "source": [
    "# cf_type_list = [\"solarpv\" for _ in range(4)] + [\"wind_medium\" for _ in range(4)] + [\"wind_high\" for _ in range(4)]\n",
    "cf_type_list = [\"wind_medium\" for _ in range(1)] + [\"wind_high\" for _ in range(1)]# + [\"solarpv\"]\n",
    "cf_type_list"
   ]
  },
  {
   "cell_type": "code",
   "execution_count": 54,
   "id": "a7f418fa-be81-48d5-bc46-f47da6cd931d",
   "metadata": {},
   "outputs": [
    {
     "name": "stdout",
     "output_type": "stream",
     "text": [
      "artificial_T3_wind_2049-50 wind_medium\n",
      "artificial_T3_wind_2049-50 wind_high\n",
      "CPU times: user 6.63 s, sys: 4.52 s, total: 11.2 s\n",
      "Wall time: 19.2 s\n"
     ]
    }
   ],
   "source": [
    "%%time\n",
    "# for scenario in gen.columns[[2, 6, 7, 8, 12, 16, 17, 18]]:\n",
    "for (scenario, cf_type) in zip(scenarios, cf_type_list):\n",
    "    print(scenario, cf_type)\n",
    "    \n",
    "    gen_ds = calc_all_years_generation(\"REZ_power\", None, mask, gen[scenario], cf_type)\n",
    "    \n",
    "    # bias_dict being computed means a frustrating repeated computation\n",
    "    #  But if bias_dict is lazily loaded, there is not enough memory and we would likely need to process each year separately\n",
    "#     gen_ds = calc_all_years_generation(years, mask, gen[scenario], capacity_factor_scaling=bias_dict)\n",
    "#     gen_ds = gen_ds.to_dataset(name=\"power\")\n",
    "    \n",
    "#     # Tidy path to write\n",
    "#     if scenario.split(\"_\")[-1] == \"(MW)\":\n",
    "#         scenario = scenario[:-5]\n",
    "#     scenario = scenario.lower()\n",
    "    \n",
    "    gen_ds.to_netcdf(\n",
    "        \"/scratch/dt6/dr6273/data/energy/\" + \"REZ_power_\" + cf_type + \"_\" + scenario + \"_van_der_Wiel\" + \"_era5_hourly_\" + str(years[0]) + \"-\" + str(years[-1]) + \".nc\",\n",
    "        mode=\"w\"\n",
    "    )\n",
    "\n",
    "    # Too much memory needed to do it the previous way (when bias correcting capacity factors was not needed)\n",
    "    #  So we process year by year\n",
    "    # calc_all_years_generation(\"REZ_power\", years, mask, gen[scenario], capacity_factor_scaling=bias_dict)"
   ]
  },
  {
   "cell_type": "markdown",
   "id": "f8d2928f-7dc0-470c-a989-88eaf378b1e0",
   "metadata": {},
   "source": [
    "### Check results"
   ]
  },
  {
   "cell_type": "markdown",
   "id": "1267c67e-b6d9-41c8-a17b-027d096d690d",
   "metadata": {},
   "source": [
    "Load ISP data from OpenElectricity"
   ]
  },
  {
   "cell_type": "code",
   "execution_count": 14,
   "id": "eec7b813-e50a-4be2-845b-e42444a28bf0",
   "metadata": {},
   "outputs": [
    {
     "name": "stderr",
     "output_type": "stream",
     "text": [
      "/jobfs/146573383.gadi-pbs/ipykernel_1370654/1036585230.py:1: UserWarning: Could not infer format, so each element will be parsed individually, falling back to `dateutil`. To ensure parsing is consistent and as-expected, please specify a format.\n",
      "  isp_capacity = pd.read_csv(\n"
     ]
    }
   ],
   "source": [
    "isp_capacity = pd.read_csv(\n",
    "    \"NEM-aemo2024-step_change-CDP14-capacity.csv\",\n",
    "    index_col=0,\n",
    "    parse_dates=True,\n",
    "    usecols=[0,7,8],\n",
    "    na_values=\"—\"\n",
    ")"
   ]
  },
  {
   "cell_type": "code",
   "execution_count": 15,
   "id": "f59bab63-6ea4-4d13-99d6-53e8a91da9ce",
   "metadata": {},
   "outputs": [
    {
     "name": "stderr",
     "output_type": "stream",
     "text": [
      "/jobfs/146573383.gadi-pbs/ipykernel_1370654/379260345.py:1: UserWarning: Could not infer format, so each element will be parsed individually, falling back to `dateutil`. To ensure parsing is consistent and as-expected, please specify a format.\n",
      "  isp_energy = pd.read_csv(\n"
     ]
    }
   ],
   "source": [
    "isp_energy = pd.read_csv(\n",
    "    \"NEM-aemo2024-step_change-CDP14-energy.csv\",\n",
    "    index_col=0,\n",
    "    parse_dates=True,\n",
    "    usecols=[0,7,8],\n",
    "    na_values=\"—\"\n",
    ")"
   ]
  },
  {
   "cell_type": "code",
   "execution_count": 20,
   "id": "ee8e2270-a1f2-4e0b-a1d5-b9848674cc19",
   "metadata": {},
   "outputs": [
    {
     "name": "stdout",
     "output_type": "stream",
     "text": [
      "Existing_solar solarpv\n",
      "Step_change_solar_2029-30 solarpv\n",
      "Step_change_solar_2039-40 solarpv\n",
      "Step_change_solar_2049-50 solarpv\n",
      "Existing_wind wind_medium\n",
      "Step_change_wind_2029-30 wind_medium\n",
      "Step_change_wind_2039-40 wind_medium\n",
      "Step_change_wind_2049-50 wind_medium\n",
      "Existing_wind wind_high\n",
      "Step_change_wind_2029-30 wind_high\n",
      "Step_change_wind_2039-40 wind_high\n",
      "Step_change_wind_2049-50 wind_high\n"
     ]
    }
   ],
   "source": [
    "gen_dict = {}\n",
    "for (scenario, cf_type) in zip(scenarios, cf_type_list):\n",
    "    print(scenario, cf_type)\n",
    "    da = xr.open_mfdataset(\n",
    "        \"/scratch/dt6/dr6273/data/energy/\" + \"REZ_power_\" + cf_type + \"_\" + scenario + \"_van_der_Wiel\" + \"_era5_hourly_\" + str(years[0]) + \"-\" + str(years[-1]) + \".nc\",\n",
    "    )\n",
    "    gen_dict[cf_type + \"_\" + scenario] = da.power.sum(\"region\").resample(time=\"1YS\").sum().compute() / 1e6"
   ]
  },
  {
   "cell_type": "code",
   "execution_count": 21,
   "id": "c0c23042-262c-47f9-b144-740090f06a00",
   "metadata": {},
   "outputs": [],
   "source": [
    "import matplotlib.pyplot as plt\n",
    "import numpy as np"
   ]
  },
  {
   "cell_type": "code",
   "execution_count": 22,
   "id": "bea08ae5-a758-4fc5-8408-caddffc809f3",
   "metadata": {},
   "outputs": [],
   "source": [
    "ix = pd.date_range(start=isp_energy.index[0], end=isp_energy.index[-1], freq='MS')\n",
    "isp_energy = isp_energy.reindex(ix)\n",
    "isp_energy = isp_energy.interpolate(axis=0)"
   ]
  },
  {
   "cell_type": "code",
   "execution_count": 23,
   "id": "9d98ecab-5b1a-4449-82ef-b7a30b16d7d3",
   "metadata": {},
   "outputs": [],
   "source": [
    "# ix = pd.date_range(start=isp_capacity.index[0], end=isp_capacity.index[-1], freq='MS')\n",
    "# isp_capacity = isp_capacity.reindex(ix)\n",
    "# isp_capacity = isp_capacity.interpolate(axis=0)"
   ]
  },
  {
   "cell_type": "code",
   "execution_count": 24,
   "id": "2301382f-02b7-444a-ae51-37d2172d0422",
   "metadata": {},
   "outputs": [],
   "source": [
    "def plot_model_lines(ax, da_list, isp_arr, x, color, ls, label):\n",
    "    \"\"\"\n",
    "    Plot horizontal and vertical lines that indicate modelled values.\n",
    "    \n",
    "    ax: axes\n",
    "    da_list: list of DataArrays of model data\n",
    "    isp_arr: array, isp time series\n",
    "    x: array, x-axis data\n",
    "    color: str\n",
    "    ls: str\n",
    "    label: str\n",
    "    \"\"\"\n",
    "    model = [da.sel(time=slice(\"2011\", \"2023\")).mean(\"time\") for da in da_list]\n",
    "    model_mean = np.mean(model)\n",
    "    \n",
    "    ix = np.searchsorted(isp_arr, model_mean)\n",
    "    \n",
    "    color=\"k\"\n",
    "    \n",
    "    if ix >= isp_arr.index.shape[0]:\n",
    "        ax.plot((x[0], x[-1]), (model_mean, model_mean), color=color, ls=ls, label=label)\n",
    "    else:\n",
    "        ax.plot(\n",
    "            (x[0], x[ix]),\n",
    "            (model_mean, model_mean),\n",
    "            color=color, ls=ls, label=label\n",
    "        )\n",
    "        ax.plot(\n",
    "            (x[ix], x[ix]),\n",
    "            (0, model_mean),\n",
    "            color=color, ls=ls\n",
    "        )"
   ]
  },
  {
   "cell_type": "code",
   "execution_count": 46,
   "id": "06424019-2284-4285-9707-fe1052d20054",
   "metadata": {},
   "outputs": [],
   "source": [
    "def capacity_diff(isp_key, isp_year, gen_key):\n",
    "    \"\"\"\n",
    "    Modelled capacity minus ISP capacity for a given year\n",
    "    \"\"\"\n",
    "    m = gen[gen_key].sum() / 1e3\n",
    "    i = isp_capacity[isp_key].loc[isp_year].values[0]\n",
    "    rounded = [int(np.round(x, 0)) for x in [m, i, m - i]]\n",
    "    return [isp_year] + rounded"
   ]
  },
  {
   "cell_type": "code",
   "execution_count": 55,
   "id": "6af65237-104f-491d-bf46-14da6c0c5e06",
   "metadata": {},
   "outputs": [],
   "source": [
    "def str_cap_diff(cap):\n",
    "    \"\"\"\n",
    "    String of capacities for figure\n",
    "    \n",
    "    cap: list of capacities for model, ISP and model minus ISP\n",
    "    \"\"\"\n",
    "    # return cap[0]+\" Model: \"+str(cap[1])+\", ISP: \"+str(cap[2])+\", Diff: \"+str(cap[3])+\" [GW]\"\n",
    "    return cap[0]+\" Model: \"+str(cap[1])+\", ISP: \"+str(cap[2])+\" [GW]\""
   ]
  },
  {
   "cell_type": "code",
   "execution_count": 48,
   "id": "03518646-54c8-4b8a-935a-ecf6a29cc636",
   "metadata": {},
   "outputs": [
    {
     "data": {
      "text/plain": [
       "'2050 Model: 75, ISP: 69, Diff: 6 [GW]'"
      ]
     },
     "execution_count": 48,
     "metadata": {},
     "output_type": "execute_result"
    }
   ],
   "source": [
    "str_cap_diff(\n",
    "    capacity_diff(\"Wind\", \"2050\", \"Step_change_wind_2049-50\")\n",
    ")"
   ]
  },
  {
   "cell_type": "code",
   "execution_count": 61,
   "id": "99a0b9cc-7a62-4512-9fae-f24646267a4b",
   "metadata": {},
   "outputs": [
    {
     "data": {
      "image/png": "[encoded data removed]",
      "text/plain": [
       "<Figure size 700x600 with 2 Axes>"
      ]
     },
     "metadata": {},
     "output_type": "display_data"
    }
   ],
   "source": [
    "fig, ax = plt.subplots(2, 1, figsize=(7, 6))\n",
    "\n",
    "x = isp_energy[\"Wind\"].index\n",
    "\n",
    "# ISP time series\n",
    "ax[0].plot(x, isp_energy[\"Wind\"], color=\"tab:green\")\n",
    "ax[1].plot(x, isp_energy[\"Solar (Utility)\"], color=\"tab:orange\")\n",
    "\n",
    "# Model 2011-2023 averages\n",
    "plot_model_lines(\n",
    "    ax[0],\n",
    "    [gen_dict[\"wind_medium_Existing_wind\"], gen_dict[\"wind_high_Existing_wind\"]],\n",
    "    isp_energy[\"Wind\"],\n",
    "    isp_energy.index,\n",
    "    \"tab:green\",\n",
    "    \"-\",\n",
    "    \"Existing & Committed\"\n",
    ")\n",
    "plot_model_lines(\n",
    "    ax[0],\n",
    "    [gen_dict[\"wind_medium_Step_change_wind_2029-30\"], gen_dict[\"wind_high_Step_change_wind_2029-30\"]],\n",
    "    isp_energy[\"Wind\"],\n",
    "    isp_energy.index,\n",
    "    \"tab:green\",\n",
    "    \":\",\n",
    "    \"2030\"\n",
    ")\n",
    "plot_model_lines(\n",
    "    ax[0],\n",
    "    [gen_dict[\"wind_medium_Step_change_wind_2039-40\"], gen_dict[\"wind_high_Step_change_wind_2039-40\"]],\n",
    "    isp_energy[\"Wind\"],\n",
    "    isp_energy.index,\n",
    "    \"tab:green\",\n",
    "    \"--\",\n",
    "    \"2040\"\n",
    ")\n",
    "plot_model_lines(\n",
    "    ax[0],\n",
    "    [gen_dict[\"wind_medium_Step_change_wind_2049-50\"], gen_dict[\"wind_high_Step_change_wind_2049-50\"]],\n",
    "    isp_energy[\"Wind\"],\n",
    "    isp_energy.index,\n",
    "    \"tab:green\",\n",
    "    \"-.\",\n",
    "    \"2050\"\n",
    ")\n",
    "\n",
    "plot_model_lines(\n",
    "    ax[1],\n",
    "    [gen_dict[\"solarpv_Existing_solar\"]],\n",
    "    isp_energy[\"Solar (Utility)\"],\n",
    "    isp_energy.index,\n",
    "    \"tab:orange\",\n",
    "    \"-\",\n",
    "    \"Existing & Committed\"\n",
    ")\n",
    "plot_model_lines(\n",
    "    ax[1],\n",
    "    [gen_dict[\"solarpv_Step_change_solar_2029-30\"]],\n",
    "    isp_energy[\"Solar (Utility)\"],\n",
    "    isp_energy.index,\n",
    "    \"tab:orange\",\n",
    "    \":\",\n",
    "    \"2030\"\n",
    ")\n",
    "plot_model_lines(\n",
    "    ax[1],\n",
    "    [gen_dict[\"solarpv_Step_change_solar_2039-40\"]],\n",
    "    isp_energy[\"Solar (Utility)\"],\n",
    "    isp_energy.index,\n",
    "    \"tab:orange\",\n",
    "    \"--\",\n",
    "    \"2040\"\n",
    ")\n",
    "plot_model_lines(\n",
    "    ax[1],\n",
    "    [gen_dict[\"solarpv_Step_change_solar_2049-50\"]],\n",
    "    isp_energy[\"Solar (Utility)\"],\n",
    "    isp_energy.index,\n",
    "    \"tab:orange\",\n",
    "    \"-.\",\n",
    "    \"2050\"\n",
    ")\n",
    "\n",
    "for (y, year, scenario) in zip(\n",
    "    [50, 130, 220, 270],\n",
    "    [\"2025\", \"2030\", \"2040\", \"2050\"],\n",
    "    [\"Existing_wind\", \"Step_change_wind_2029-30\", \"Step_change_wind_2039-40\", \"Step_change_wind_2049-50\"]\n",
    "):\n",
    "    ax[0].text(\n",
    "        isp_energy.index[0],\n",
    "        y,\n",
    "        str_cap_diff(\n",
    "            capacity_diff(\"Wind\", year, scenario)\n",
    "        ),\n",
    "        fontsize=8\n",
    "    )\n",
    "    \n",
    "for (y, year, scenario) in zip(\n",
    "    [15, 40, 75, 150],\n",
    "    [\"2025\", \"2030\", \"2040\", \"2050\"],\n",
    "    [\"Existing_solar\", \"Step_change_solar_2029-30\", \"Step_change_solar_2039-40\", \"Step_change_solar_2049-50\"]\n",
    "):\n",
    "    ax[1].text(\n",
    "        isp_energy.index[0],\n",
    "        y,\n",
    "        str_cap_diff(\n",
    "            capacity_diff(\"Solar (Utility)\", year, scenario)\n",
    "        ),\n",
    "        fontsize=8\n",
    "    )\n",
    "    \n",
    "ax[0].set_yticks(range(0, 301, 50))\n",
    "ax[1].set_yticks(range(0, 161, 40))\n",
    "\n",
    "ax[0].set_title(\"a) ISP wind consumption\", fontsize=10, loc=\"left\")\n",
    "ax[1].set_title(\"a) ISP solar consumption\", fontsize=10, loc=\"left\")\n",
    "\n",
    "for a in ax:\n",
    "    a.set_ylabel(\"Annual consumption [TWh]\")\n",
    "    \n",
    "\n",
    "ax[1].legend(ncols=4, loc=(0, -0.3))\n",
    "\n",
    "plt.subplots_adjust(hspace=0.3)"
   ]
  },
  {
   "cell_type": "code",
   "execution_count": 37,
   "id": "76185698-6398-4744-b7bc-d316ba00d400",
   "metadata": {},
   "outputs": [
    {
     "data": {
      "text/plain": [
       "12.105"
      ]
     },
     "execution_count": 37,
     "metadata": {},
     "output_type": "execute_result"
    }
   ],
   "source": [
    "gen[\"Existing_wind\"].sum()/1e3"
   ]
  },
  {
   "cell_type": "code",
   "execution_count": 55,
   "id": "9f3d4d3b-5c39-485e-a602-b0af37c59782",
   "metadata": {},
   "outputs": [
    {
     "data": {
      "text/plain": [
       "60385"
      ]
     },
     "execution_count": 55,
     "metadata": {},
     "output_type": "execute_result"
    }
   ],
   "source": [
    "gen[\"Step_change_wind_2039-40\"].sum()"
   ]
  },
  {
   "cell_type": "code",
   "execution_count": 56,
   "id": "e6c09411-cd09-4375-a0f9-681c7353e110",
   "metadata": {},
   "outputs": [
    {
     "data": {
      "text/plain": [
       "75285"
      ]
     },
     "execution_count": 56,
     "metadata": {},
     "output_type": "execute_result"
    }
   ],
   "source": [
    "gen[\"Step_change_wind_2049-50\"].sum()"
   ]
  },
  {
   "cell_type": "code",
   "execution_count": 42,
   "id": "501ad68c-79f5-4fb5-9c67-274cdc5eb6f1",
   "metadata": {},
   "outputs": [
    {
     "data": {
      "text/plain": [
       "(0.0, 300.0)"
      ]
     },
     "execution_count": 42,
     "metadata": {},
     "output_type": "execute_result"
    },
    {
     "data": {
      "image/png": "[encoded data removed]",
      "text/plain": [
       "<Figure size 1000x400 with 2 Axes>"
      ]
     },
     "metadata": {},
     "output_type": "display_data"
    }
   ],
   "source": [
    "fig, ax = plt.subplots(1, 2, figsize=(10, 4))\n",
    "\n",
    "gen_dict[\"wind_medium_Existing_wind\"].plot(ax=ax[0], color=\"tab:blue\", ls=\"-\")\n",
    "gen_dict[\"wind_high_Existing_wind\"].plot(ax=ax[0], color=\"tab:blue\", ls=\"--\")\n",
    "ax[0].axhline(38, color=\"tab:blue\", ls=\"-\", label=\"Now (2025?)\")\n",
    "\n",
    "gen_dict[\"wind_medium_Step_change_wind_2029-30\"].plot(ax=ax[0], color=\"tab:orange\", ls=\"-\")\n",
    "gen_dict[\"wind_high_Step_change_wind_2029-30\"].plot(ax=ax[0], color=\"tab:orange\", ls=\"--\")\n",
    "ax[0].axhline(121, color=\"tab:orange\", ls=\"-\", label=\"2030\")\n",
    "\n",
    "gen_dict[\"wind_medium_Step_change_wind_2039-40\"].plot(ax=ax[0], color=\"tab:green\", ls=\"-\")\n",
    "gen_dict[\"wind_high_Step_change_wind_2039-40\"].plot(ax=ax[0], color=\"tab:green\", ls=\"--\")\n",
    "ax[0].axhline(193, color=\"tab:green\", ls=\"-\", label=\"2040\")\n",
    "\n",
    "ax[0].axhline(200, color=\"tab:red\", ls=\"-\", label=\"2050\")\n",
    "gen_dict[\"wind_medium_Step_change_wind_2049-50\"].plot(ax=ax[0], color=\"k\", ls=\"-\", label=\"Model medium\")\n",
    "gen_dict[\"wind_high_Step_change_wind_2049-50\"].plot(ax=ax[0], color=\"k\", ls=\"--\", label=\"Model high\")\n",
    "gen_dict[\"wind_medium_Step_change_wind_2049-50\"].plot(ax=ax[0], color=\"tab:red\", ls=\"-\")\n",
    "gen_dict[\"wind_high_Step_change_wind_2049-50\"].plot(ax=ax[0], color=\"tab:red\", ls=\"--\")\n",
    "\n",
    "\n",
    "\n",
    "\n",
    "ax[0].legend(ncols=3, loc=(-0.05, -0.3))\n",
    "ax[0].set_ylabel(\"Annual wind consumption [TWh]\")\n",
    "ax[0].set_ylim(0, 300)"
   ]
  },
  {
   "cell_type": "code",
   "execution_count": 67,
   "id": "0b51b204-e3f9-4929-8530-d982d472c50b",
   "metadata": {},
   "outputs": [
    {
     "data": {
      "text/plain": [
       "29843"
      ]
     },
     "execution_count": 67,
     "metadata": {},
     "output_type": "execute_result"
    }
   ],
   "source": [
    "gen[\"Step_change_solar_2039-40\"].sum()"
   ]
  },
  {
   "cell_type": "code",
   "execution_count": 68,
   "id": "81a4abb4-ec4a-4f9a-a1de-7810401a447d",
   "metadata": {},
   "outputs": [
    {
     "data": {
      "text/plain": [
       "60343"
      ]
     },
     "execution_count": 68,
     "metadata": {},
     "output_type": "execute_result"
    }
   ],
   "source": [
    "gen[\"Step_change_solar_2049-50\"].sum()"
   ]
  },
  {
   "cell_type": "code",
   "execution_count": 66,
   "id": "135f2a11-c7b2-476a-96b7-843e557dc0d2",
   "metadata": {},
   "outputs": [
    {
     "data": {
      "text/plain": [
       "(0.0, 180.0)"
      ]
     },
     "execution_count": 66,
     "metadata": {},
     "output_type": "execute_result"
    },
    {
     "data": {
      "image/png": "[encoded data removed]",
      "text/plain": [
       "<Figure size 640x480 with 1 Axes>"
      ]
     },
     "metadata": {},
     "output_type": "display_data"
    }
   ],
   "source": [
    "gen_dict[\"solarpv_Step_change_solar_2029-30\"].plot(color=\"tab:blue\", ls=\":\")\n",
    "plt.axhline(35, color=\"k\", ls=\":\", label=\"2030 ISP\")\n",
    "\n",
    "gen_dict[\"solarpv_Step_change_solar_2039-40\"].plot(color=\"tab:blue\", ls=\"--\")\n",
    "plt.axhline(70, color=\"k\", ls=\"--\", label=\"2040 ISP\")\n",
    "\n",
    "gen_dict[\"solarpv_Step_change_solar_2049-50\"].plot(color=\"tab:blue\", label=\"Model\")\n",
    "plt.axhline(119, color=\"k\", ls=\"-\", label=\"2050 ISP\")\n",
    "\n",
    "plt.legend(ncols=3)\n",
    "plt.ylabel(\"Annual solar consumption [TWh]\")\n",
    "plt.ylim(0, 180)"
   ]
  },
  {
   "cell_type": "markdown",
   "id": "bedadb29-8a9f-4865-94ef-33eddd765902",
   "metadata": {},
   "source": [
    "### Repeat but for existing facilities in sites outside REZs"
   ]
  },
  {
   "cell_type": "code",
   "execution_count": null,
   "id": "c9d4f47e-9fc2-4001-84a5-c787bc338327",
   "metadata": {},
   "outputs": [],
   "source": [
    "solar_outside = xr.open_mfdataset(\n",
    "    \"/g/data/w42/dr6273/work/projects/Aus_energy/production_metrics/solar/power/solar_site_outside_REZ_mask_era5.nc\",\n",
    ").solar_site\n",
    "# Change dimension name so it works with function\n",
    "solar_outside = solar_outside.rename({\"region\": \"REZ\"}).compute()"
   ]
  },
  {
   "cell_type": "code",
   "execution_count": null,
   "id": "0ee83af4-1577-47f4-a96e-bc7f0db2de50",
   "metadata": {},
   "outputs": [],
   "source": [
    "wind_outside = xr.open_mfdataset(\n",
    "    \"/g/data/w42/dr6273/work/projects/Aus_energy/production_metrics/wind/power/wind_site_outside_REZ_mask_era5.nc\",\n",
    ").wind_site\n",
    "wind_outside = wind_outside.rename({\"region\": \"REZ\"}).compute()"
   ]
  },
  {
   "cell_type": "code",
   "execution_count": null,
   "id": "08e25dc1-d8b4-472a-8c95-04b6367faa54",
   "metadata": {
    "tags": []
   },
   "outputs": [],
   "source": [
    "%%time\n",
    "for scenario, m in zip(['Existing_solar', 'Existing_wind'], [solar_outside, wind_outside]):\n",
    "    print(scenario)\n",
    "#     gen_ds = calc_all_years_generation(years, m, gen[scenario], scale_mask=\"none\")\n",
    "#     gen_ds = gen_ds.to_dataset(name=\"power\")\n",
    "    \n",
    "#     # Tidy path to write\n",
    "#     if scenario.split(\"_\")[-1] == \"(MW)\":\n",
    "#         scenario = scenario[:-5]\n",
    "#     scenario = scenario.lower()\n",
    "    \n",
    "#     gen_ds = gen_ds.rename({\"REZ\": \"region\"}) # Change dimension name back\n",
    "    \n",
    "#     gen_ds.to_netcdf(\n",
    "#         fp + \"site_outside_REZ_power_\" + scenario + \"_van_der_Wiel\" + \"_era5_hourly_\" + str(years[0]) + \"-\" + str(years[-1]) + \".nc\",\n",
    "#         mode=\"w\"\n",
    "#     )\n",
    "    calc_all_years_generation(\"site_outside_REZ_power\", years, m, gen[scenario], capacity_factor_scaling=bias_dict, scale_mask=\"none\")"
   ]
  },
  {
   "cell_type": "markdown",
   "id": "5fff9937-f24a-41d6-9b74-2006e8be7481",
   "metadata": {},
   "source": [
    "# Close cluster"
   ]
  },
  {
   "cell_type": "code",
   "execution_count": 55,
   "id": "51a6eef2-db8b-45b9-99e6-9019c29b0ae7",
   "metadata": {},
   "outputs": [],
   "source": [
    "client.close()\n",
    "cluster.close()"
   ]
  },
  {
   "cell_type": "code",
   "execution_count": null,
   "id": "4bd2fc7f-1abf-449c-a568-36176a1c0db9",
   "metadata": {},
   "outputs": [],
   "source": []
  }
 ],
 "metadata": {
  "kernelspec": {
   "display_name": "Python (pangeo)",
   "language": "python",
   "name": "pangeo"
  },
  "language_info": {
   "codemirror_mode": {
    "name": "ipython",
    "version": 3
   },
   "file_extension": ".py",
   "mimetype": "text/x-python",
   "name": "python",
   "nbconvert_exporter": "python",
   "pygments_lexer": "ipython3",
   "version": "3.10.8"
  }
 },
 "nbformat": 4,
 "nbformat_minor": 5
}
