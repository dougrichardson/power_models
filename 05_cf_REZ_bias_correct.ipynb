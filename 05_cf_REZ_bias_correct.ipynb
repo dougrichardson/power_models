{
 "cells": [
  {
   "cell_type": "markdown",
   "id": "e94cd168-2bcb-4e52-98a6-86cf335d921c",
   "metadata": {},
   "source": [
    "# Bias-correct capacity factors for each REZ"
   ]
  },
  {
   "cell_type": "code",
   "execution_count": 1,
   "id": "f7c39ae5-f809-4e82-a128-b734fb140320",
   "metadata": {},
   "outputs": [],
   "source": [
    "from dask.distributed import Client,LocalCluster\n",
    "from dask_jobqueue import PBSCluster"
   ]
  },
  {
   "cell_type": "code",
   "execution_count": 39,
   "id": "49235e0b-11f2-4050-a043-85dd5aa51f71",
   "metadata": {},
   "outputs": [],
   "source": [
    "# client.close()\n",
    "# cluster.close()"
   ]
  },
  {
   "cell_type": "code",
   "execution_count": 40,
   "id": "5fa3788f-0bf8-43c3-972b-ae69d6af7f1e",
   "metadata": {
    "tags": []
   },
   "outputs": [
    {
     "name": "stderr",
     "output_type": "stream",
     "text": [
      "INFO:dask_jobqueue.pbs:Resource specification for PBS not set, initializing it to select=1:ncpus=24:mem=90GB\n"
     ]
    }
   ],
   "source": [
    "# One node on Gadi has 48 cores - try and use up a full node before going to multiple nodes (jobs)\n",
    "\n",
    "walltime = \"01:00:00\"\n",
    "cores = 24\n",
    "memory = str(4 * cores) + \"GB\"\n",
    "\n",
    "cluster = PBSCluster(walltime=str(walltime), cores=cores, memory=str(memory), processes=cores,\n",
    "                     job_extra_directives=[\"-q normal\",\n",
    "                                           \"-P dt6\",\n",
    "                                           \"-l ncpus=\"+str(cores),\n",
    "                                           \"-l mem=\"+str(memory),\n",
    "                                           \"-l storage=gdata/xp65+gdata/w42+gdata/rt52+scratch/dt6\"],\n",
    "                     local_directory=\"$TMPDIR\",\n",
    "                     job_directives_skip=[\"select\"])"
   ]
  },
  {
   "cell_type": "code",
   "execution_count": 41,
   "id": "49db1973-9402-4281-908c-00cafd44e62f",
   "metadata": {
    "tags": []
   },
   "outputs": [
    {
     "name": "stderr",
     "output_type": "stream",
     "text": [
      "INFO:dask_jobqueue.pbs:Resource specification for PBS not set, initializing it to select=1:ncpus=24:mem=90GB\n"
     ]
    }
   ],
   "source": [
    "cluster.scale(jobs=1)\n",
    "client = Client(cluster)"
   ]
  },
  {
   "cell_type": "code",
   "execution_count": 42,
   "id": "9fc95083-cfb2-47e1-89bb-d9efff4c8b55",
   "metadata": {},
   "outputs": [
    {
     "data": {
      "text/html": [
       "<div>\n",
       "    <div style=\"width: 24px; height: 24px; background-color: #e1e1e1; border: 3px solid #9D9D9D; border-radius: 5px; position: absolute;\"> </div>\n",
       "    <div style=\"margin-left: 48px;\">\n",
       "        <h3 style=\"margin-bottom: 0px;\">Client</h3>\n",
       "        <p style=\"color: #9D9D9D; margin-bottom: 0px;\">Client-75ae9472-aae0-11f0-9c56-000003b6fe80</p>\n",
       "        <table style=\"width: 100%; text-align: left;\">\n",
       "\n",
       "        <tr>\n",
       "        \n",
       "            <td style=\"text-align: left;\"><strong>Connection method:</strong> Cluster object</td>\n",
       "            <td style=\"text-align: left;\"><strong>Cluster type:</strong> dask_jobqueue.PBSCluster</td>\n",
       "        \n",
       "        </tr>\n",
       "\n",
       "        \n",
       "            <tr>\n",
       "                <td style=\"text-align: left;\">\n",
       "                    <strong>Dashboard: </strong> <a href=\"/proxy/8787/status\" target=\"_blank\">/proxy/8787/status</a>\n",
       "                </td>\n",
       "                <td style=\"text-align: left;\"></td>\n",
       "            </tr>\n",
       "        \n",
       "\n",
       "        </table>\n",
       "\n",
       "        \n",
       "            <button style=\"margin-bottom: 12px;\" data-commandlinker-command=\"dask:populate-and-launch-layout\" data-commandlinker-args='{\"url\": \"/proxy/8787/status\" }'>\n",
       "                Launch dashboard in JupyterLab\n",
       "            </button>\n",
       "        \n",
       "\n",
       "        \n",
       "            <details>\n",
       "            <summary style=\"margin-bottom: 20px;\"><h3 style=\"display: inline;\">Cluster Info</h3></summary>\n",
       "            <div class=\"jp-RenderedHTMLCommon jp-RenderedHTML jp-mod-trusted jp-OutputArea-output\">\n",
       "    <div style=\"width: 24px; height: 24px; background-color: #e1e1e1; border: 3px solid #9D9D9D; border-radius: 5px; position: absolute;\">\n",
       "    </div>\n",
       "    <div style=\"margin-left: 48px;\">\n",
       "        <h3 style=\"margin-bottom: 0px; margin-top: 0px;\">PBSCluster</h3>\n",
       "        <p style=\"color: #9D9D9D; margin-bottom: 0px;\">8285914f</p>\n",
       "        <table style=\"width: 100%; text-align: left;\">\n",
       "            <tr>\n",
       "                <td style=\"text-align: left;\">\n",
       "                    <strong>Dashboard:</strong> <a href=\"/proxy/8787/status\" target=\"_blank\">/proxy/8787/status</a>\n",
       "                </td>\n",
       "                <td style=\"text-align: left;\">\n",
       "                    <strong>Workers:</strong> 0\n",
       "                </td>\n",
       "            </tr>\n",
       "            <tr>\n",
       "                <td style=\"text-align: left;\">\n",
       "                    <strong>Total threads:</strong> 0\n",
       "                </td>\n",
       "                <td style=\"text-align: left;\">\n",
       "                    <strong>Total memory:</strong> 0 B\n",
       "                </td>\n",
       "            </tr>\n",
       "            \n",
       "        </table>\n",
       "\n",
       "        <details>\n",
       "            <summary style=\"margin-bottom: 20px;\">\n",
       "                <h3 style=\"display: inline;\">Scheduler Info</h3>\n",
       "            </summary>\n",
       "\n",
       "            <div style=\"\">\n",
       "    <div>\n",
       "        <div style=\"width: 24px; height: 24px; background-color: #FFF7E5; border: 3px solid #FF6132; border-radius: 5px; position: absolute;\"> </div>\n",
       "        <div style=\"margin-left: 48px;\">\n",
       "            <h3 style=\"margin-bottom: 0px;\">Scheduler</h3>\n",
       "            <p style=\"color: #9D9D9D; margin-bottom: 0px;\">Scheduler-7be2dd4e-ac0a-422e-8d6d-c4bac870c293</p>\n",
       "            <table style=\"width: 100%; text-align: left;\">\n",
       "                <tr>\n",
       "                    <td style=\"text-align: left;\">\n",
       "                        <strong>Comm:</strong> tcp://10.6.121.1:37453\n",
       "                    </td>\n",
       "                    <td style=\"text-align: left;\">\n",
       "                        <strong>Workers:</strong> 0 \n",
       "                    </td>\n",
       "                </tr>\n",
       "                <tr>\n",
       "                    <td style=\"text-align: left;\">\n",
       "                        <strong>Dashboard:</strong> <a href=\"/proxy/8787/status\" target=\"_blank\">/proxy/8787/status</a>\n",
       "                    </td>\n",
       "                    <td style=\"text-align: left;\">\n",
       "                        <strong>Total threads:</strong> 0\n",
       "                    </td>\n",
       "                </tr>\n",
       "                <tr>\n",
       "                    <td style=\"text-align: left;\">\n",
       "                        <strong>Started:</strong> Just now\n",
       "                    </td>\n",
       "                    <td style=\"text-align: left;\">\n",
       "                        <strong>Total memory:</strong> 0 B\n",
       "                    </td>\n",
       "                </tr>\n",
       "            </table>\n",
       "        </div>\n",
       "    </div>\n",
       "\n",
       "    <details style=\"margin-left: 48px;\">\n",
       "        <summary style=\"margin-bottom: 20px;\">\n",
       "            <h3 style=\"display: inline;\">Workers</h3>\n",
       "        </summary>\n",
       "\n",
       "        \n",
       "\n",
       "    </details>\n",
       "</div>\n",
       "\n",
       "        </details>\n",
       "    </div>\n",
       "</div>\n",
       "            </details>\n",
       "        \n",
       "\n",
       "    </div>\n",
       "</div>"
      ],
      "text/plain": [
       "<Client: 'tcp://10.6.121.1:37453' processes=0 threads=0, memory=0 B>"
      ]
     },
     "execution_count": 42,
     "metadata": {},
     "output_type": "execute_result"
    }
   ],
   "source": [
    "client"
   ]
  },
  {
   "cell_type": "code",
   "execution_count": 6,
   "id": "03da0093-0c71-40d0-9e2f-0f3f258a7223",
   "metadata": {},
   "outputs": [],
   "source": [
    "# client = Client(threads_per_worker=1)\n",
    "# client"
   ]
  },
  {
   "cell_type": "code",
   "execution_count": 5,
   "id": "53134757-27fe-4e26-afcb-5baa831acca4",
   "metadata": {},
   "outputs": [],
   "source": [
    "import xarray as xr\n",
    "import pandas as pd\n",
    "import numpy as np\n",
    "\n",
    "from scipy.optimize import root_scalar\n",
    "\n",
    "import matplotlib.pyplot as plt"
   ]
  },
  {
   "cell_type": "code",
   "execution_count": 6,
   "id": "c6c7d664-295f-4c3f-b3d9-3b8ea89660b2",
   "metadata": {},
   "outputs": [
    {
     "name": "stdout",
     "output_type": "stream",
     "text": [
      "/g/data/w42/dr6273/work/power_models\n"
     ]
    }
   ],
   "source": [
    "%cd /g/data/w42/dr6273/work/power_models\n",
    "import functions as fn"
   ]
  },
  {
   "cell_type": "code",
   "execution_count": 7,
   "id": "601038e6-9518-4ad5-bf6d-82dfe2942996",
   "metadata": {},
   "outputs": [],
   "source": [
    "%load_ext autoreload\n",
    "%autoreload 2"
   ]
  },
  {
   "cell_type": "markdown",
   "id": "5148f219-8adf-45ea-914b-ec7e604055e3",
   "metadata": {},
   "source": [
    "# Load data"
   ]
  },
  {
   "cell_type": "markdown",
   "id": "7886b617-9c08-46c3-9d4a-905f2a76f5e9",
   "metadata": {},
   "source": [
    "REZ mask"
   ]
  },
  {
   "cell_type": "code",
   "execution_count": 8,
   "id": "d4a60899-d565-4be8-a940-6c88cef0a71f",
   "metadata": {},
   "outputs": [],
   "source": [
    "mask = xr.open_dataset('/g/data/w42/dr6273/work/projects/Aus_energy/data/rez_2024_mask_era5_grid.nc').REZ"
   ]
  },
  {
   "cell_type": "markdown",
   "id": "4bbee319-89bd-44bf-8c13-02344433123f",
   "metadata": {},
   "source": [
    "REZ capacity factors from ISP"
   ]
  },
  {
   "cell_type": "code",
   "execution_count": 9,
   "id": "b289aa7e-1b2c-42cd-bfbb-ea5852c97782",
   "metadata": {},
   "outputs": [],
   "source": [
    "def read_cfs(fuel_type):\n",
    "    \"\"\"\n",
    "    Read and process AEMO ISP capacity factor data\n",
    "    \n",
    "    fuel_type: str, \"wind_medium\", \"wind_high\", \"solarpv\", \"offshorewind_fixed\" or \"offshorewind_floating\"\n",
    "    \"\"\"\n",
    "    def p2f(x):\n",
    "        return x.str.rstrip('%').astype('float') / 100.0#float(x.strip('%'))/100\n",
    "\n",
    "    years = range(2011, 2024) # years of data\n",
    "    \n",
    "    df = pd.read_csv(\"rez_capacity_factors_\" + fuel_type + \".csv\", skiprows=2, index_col=0) # Read data\n",
    "    df.columns = [\"REZ_name\", \"Region\"] + [int(y) for y in years] + [\"Avg\"] # rename columns\n",
    "    df = df.dropna(axis=0) # Drop rows with NaN (i.e., zero capacity)\n",
    "    df = df.drop([\"REZ_name\", \"Region\"], axis=1) # Drop columns\n",
    "    \n",
    "    return df.apply(p2f) # Convert percentage strings to float"
   ]
  },
  {
   "cell_type": "code",
   "execution_count": 10,
   "id": "d23bfad7-4ab8-47b2-95c1-92f3c59836f4",
   "metadata": {},
   "outputs": [],
   "source": [
    "isp_cfs = {}\n",
    "for fuel_type in [\"wind_medium\", \"wind_high\", \"solarpv\"]:\n",
    "    isp_cfs[fuel_type] = read_cfs(fuel_type)"
   ]
  },
  {
   "cell_type": "code",
   "execution_count": 11,
   "id": "d59a6c14-5061-4899-b736-59a9a4c39b09",
   "metadata": {},
   "outputs": [],
   "source": [
    "# concat Onshore wind with offshore\n",
    "#. Use fixed for all offshore except N10, which only has floating in ISP\n",
    "_offshore_fixed = read_cfs(\"offshorewind_fixed\")\n",
    "_offshore_float = read_cfs(\"offshorewind_floating\").loc[\"N10\"].to_frame().T\n",
    "_offshore = pd.concat([_offshore_float, _offshore_fixed])"
   ]
  },
  {
   "cell_type": "code",
   "execution_count": 12,
   "id": "1e012bc1-c10b-4339-809f-f62d025dd827",
   "metadata": {},
   "outputs": [],
   "source": [
    "isp_cfs[\"wind_medium\"] = pd.concat([isp_cfs[\"wind_medium\"], _offshore])\n",
    "isp_cfs[\"wind_high\"] = pd.concat([isp_cfs[\"wind_high\"], _offshore])"
   ]
  },
  {
   "cell_type": "code",
   "execution_count": 13,
   "id": "6f0c5602-77b6-4c22-94bd-01ce789a7f9d",
   "metadata": {},
   "outputs": [
    {
     "data": {
      "text/html": [
       "<div>\n",
       "<style scoped>\n",
       "    .dataframe tbody tr th:only-of-type {\n",
       "        vertical-align: middle;\n",
       "    }\n",
       "\n",
       "    .dataframe tbody tr th {\n",
       "        vertical-align: top;\n",
       "    }\n",
       "\n",
       "    .dataframe thead th {\n",
       "        text-align: right;\n",
       "    }\n",
       "</style>\n",
       "<table border=\"1\" class=\"dataframe\">\n",
       "  <thead>\n",
       "    <tr style=\"text-align: right;\">\n",
       "      <th></th>\n",
       "      <th>2011</th>\n",
       "      <th>2012</th>\n",
       "      <th>2013</th>\n",
       "      <th>2014</th>\n",
       "      <th>2015</th>\n",
       "      <th>2016</th>\n",
       "      <th>2017</th>\n",
       "      <th>2018</th>\n",
       "      <th>2019</th>\n",
       "      <th>2020</th>\n",
       "      <th>2021</th>\n",
       "      <th>2022</th>\n",
       "      <th>2023</th>\n",
       "      <th>Avg</th>\n",
       "    </tr>\n",
       "  </thead>\n",
       "  <tbody>\n",
       "    <tr>\n",
       "      <th>N11</th>\n",
       "      <td>0.42</td>\n",
       "      <td>0.39</td>\n",
       "      <td>0.42</td>\n",
       "      <td>0.43</td>\n",
       "      <td>0.41</td>\n",
       "      <td>0.40</td>\n",
       "      <td>0.41</td>\n",
       "      <td>0.42</td>\n",
       "      <td>0.40</td>\n",
       "      <td>0.41</td>\n",
       "      <td>0.41</td>\n",
       "      <td>0.41</td>\n",
       "      <td>0.43</td>\n",
       "      <td>0.41</td>\n",
       "    </tr>\n",
       "    <tr>\n",
       "      <th>V7</th>\n",
       "      <td>0.46</td>\n",
       "      <td>0.45</td>\n",
       "      <td>0.45</td>\n",
       "      <td>0.48</td>\n",
       "      <td>0.45</td>\n",
       "      <td>0.46</td>\n",
       "      <td>0.47</td>\n",
       "      <td>0.48</td>\n",
       "      <td>0.47</td>\n",
       "      <td>0.50</td>\n",
       "      <td>0.48</td>\n",
       "      <td>0.49</td>\n",
       "      <td>0.46</td>\n",
       "      <td>0.47</td>\n",
       "    </tr>\n",
       "    <tr>\n",
       "      <th>V8</th>\n",
       "      <td>0.43</td>\n",
       "      <td>0.46</td>\n",
       "      <td>0.45</td>\n",
       "      <td>0.47</td>\n",
       "      <td>0.43</td>\n",
       "      <td>0.43</td>\n",
       "      <td>0.44</td>\n",
       "      <td>0.45</td>\n",
       "      <td>0.45</td>\n",
       "      <td>0.48</td>\n",
       "      <td>0.45</td>\n",
       "      <td>0.48</td>\n",
       "      <td>0.44</td>\n",
       "      <td>0.45</td>\n",
       "    </tr>\n",
       "    <tr>\n",
       "      <th>S10</th>\n",
       "      <td>0.42</td>\n",
       "      <td>0.46</td>\n",
       "      <td>0.44</td>\n",
       "      <td>0.48</td>\n",
       "      <td>0.44</td>\n",
       "      <td>0.44</td>\n",
       "      <td>0.43</td>\n",
       "      <td>0.45</td>\n",
       "      <td>0.46</td>\n",
       "      <td>0.47</td>\n",
       "      <td>0.44</td>\n",
       "      <td>0.48</td>\n",
       "      <td>0.45</td>\n",
       "      <td>0.45</td>\n",
       "    </tr>\n",
       "    <tr>\n",
       "      <th>T4</th>\n",
       "      <td>0.48</td>\n",
       "      <td>0.49</td>\n",
       "      <td>0.46</td>\n",
       "      <td>0.51</td>\n",
       "      <td>0.46</td>\n",
       "      <td>0.47</td>\n",
       "      <td>0.48</td>\n",
       "      <td>0.50</td>\n",
       "      <td>0.50</td>\n",
       "      <td>0.52</td>\n",
       "      <td>0.49</td>\n",
       "      <td>0.50</td>\n",
       "      <td>0.47</td>\n",
       "      <td>0.49</td>\n",
       "    </tr>\n",
       "  </tbody>\n",
       "</table>\n",
       "</div>"
      ],
      "text/plain": [
       "     2011  2012  2013  2014  2015  2016  ...  2019  2020  2021  2022  2023   Avg\n",
       "N11  0.42  0.39  0.42  0.43  0.41  0.40  ...  0.40  0.41  0.41  0.41  0.43  0.41\n",
       "V7   0.46  0.45  0.45  0.48  0.45  0.46  ...  0.47  0.50  0.48  0.49  0.46  0.47\n",
       "V8   0.43  0.46  0.45  0.47  0.43  0.43  ...  0.45  0.48  0.45  0.48  0.44  0.45\n",
       "S10  0.42  0.46  0.44  0.48  0.44  0.44  ...  0.46  0.47  0.44  0.48  0.45  0.45\n",
       "T4   0.48  0.49  0.46  0.51  0.46  0.47  ...  0.50  0.52  0.49  0.50  0.47  0.49\n",
       "\n",
       "[5 rows x 14 columns]"
      ]
     },
     "execution_count": 13,
     "metadata": {},
     "output_type": "execute_result"
    }
   ],
   "source": [
    "isp_cfs[\"wind_medium\"].tail()"
   ]
  },
  {
   "cell_type": "markdown",
   "id": "188b7e03-93f4-43d9-904b-235d3911e5a9",
   "metadata": {},
   "source": [
    "ISP REZ generation data"
   ]
  },
  {
   "cell_type": "code",
   "execution_count": 14,
   "id": "54e4c347-adb0-4cb2-8c01-d53c702f7812",
   "metadata": {},
   "outputs": [],
   "source": [
    "_gen = pd.read_csv(\"/g/data/w42/dr6273/work/data/REZ/2024/REZ_potential.csv\", index_col=0)"
   ]
  },
  {
   "cell_type": "code",
   "execution_count": 15,
   "id": "377611be-d25b-4188-8dd6-bb22bb8ed5d1",
   "metadata": {},
   "outputs": [],
   "source": [
    "# Tidy column names\n",
    "_gen.columns = [i.replace(\"90\", \"9-\") for i in _gen.columns]\n",
    "_gen.columns = [i.replace(\" \", \"_\") for i in _gen.columns]"
   ]
  },
  {
   "cell_type": "code",
   "execution_count": 16,
   "id": "46c9a9d3-8009-47e8-b222-83cb170d4d43",
   "metadata": {},
   "outputs": [],
   "source": [
    "# Sum scenarios with existing capacity\n",
    "gen = _gen.copy()\n",
    "for col in _gen.columns[2:]:\n",
    "    if col[:3] == \"Exi\":\n",
    "        pass\n",
    "    else:\n",
    "        gen_type = col.split(\"_\")[-2]\n",
    "        gen[col] = _gen[col] + _gen[\"Existing_\" + gen_type]"
   ]
  },
  {
   "cell_type": "markdown",
   "id": "653ddd55-4e5f-4433-b7c9-00781ca3e76c",
   "metadata": {},
   "source": [
    "Set some REZs to zero wind. In the ISP, they have no modelled transmission, and/or in the IASR Workbook there are no capacity factors because there is a resource limit of zero.\n",
    "\n",
    "- N7 Tumut\n",
    "- S5 Northern SA"
   ]
  },
  {
   "cell_type": "code",
   "execution_count": 17,
   "id": "93b0f407-54d4-49d6-89c2-30b3951a76f1",
   "metadata": {},
   "outputs": [],
   "source": [
    "gen.loc[\"N7\", gen.columns[-10:]] = 0\n",
    "gen.loc[\"S5\", gen.columns[-10:]] = 0"
   ]
  },
  {
   "cell_type": "code",
   "execution_count": 18,
   "id": "57e5dcde-5973-4e26-b0b1-1000d34e46c1",
   "metadata": {},
   "outputs": [],
   "source": [
    "gen_SC50 = gen[[\"Step_change_solar_2049-50\", \"Step_change_wind_2049-50\"]]"
   ]
  },
  {
   "cell_type": "code",
   "execution_count": 19,
   "id": "8592d524-48f2-4391-b727-009c7087e808",
   "metadata": {},
   "outputs": [
    {
     "data": {
      "text/html": [
       "<div>\n",
       "<style scoped>\n",
       "    .dataframe tbody tr th:only-of-type {\n",
       "        vertical-align: middle;\n",
       "    }\n",
       "\n",
       "    .dataframe tbody tr th {\n",
       "        vertical-align: top;\n",
       "    }\n",
       "\n",
       "    .dataframe thead th {\n",
       "        text-align: right;\n",
       "    }\n",
       "</style>\n",
       "<table border=\"1\" class=\"dataframe\">\n",
       "  <thead>\n",
       "    <tr style=\"text-align: right;\">\n",
       "      <th></th>\n",
       "      <th>Step_change_solar_2049-50</th>\n",
       "      <th>Step_change_wind_2049-50</th>\n",
       "    </tr>\n",
       "    <tr>\n",
       "      <th>REZ</th>\n",
       "      <th></th>\n",
       "      <th></th>\n",
       "    </tr>\n",
       "  </thead>\n",
       "  <tbody>\n",
       "    <tr>\n",
       "      <th>V4</th>\n",
       "      <td>0</td>\n",
       "      <td>6350</td>\n",
       "    </tr>\n",
       "    <tr>\n",
       "      <th>V5</th>\n",
       "      <td>510</td>\n",
       "      <td>2000</td>\n",
       "    </tr>\n",
       "    <tr>\n",
       "      <th>V6</th>\n",
       "      <td>1948</td>\n",
       "      <td>0</td>\n",
       "    </tr>\n",
       "    <tr>\n",
       "      <th>V7</th>\n",
       "      <td>0</td>\n",
       "      <td>8200</td>\n",
       "    </tr>\n",
       "    <tr>\n",
       "      <th>V8</th>\n",
       "      <td>0</td>\n",
       "      <td>780</td>\n",
       "    </tr>\n",
       "  </tbody>\n",
       "</table>\n",
       "</div>"
      ],
      "text/plain": [
       "     Step_change_solar_2049-50  Step_change_wind_2049-50\n",
       "REZ                                                     \n",
       "V4                           0                      6350\n",
       "V5                         510                      2000\n",
       "V6                        1948                         0\n",
       "V7                           0                      8200\n",
       "V8                           0                       780"
      ]
     },
     "execution_count": 19,
     "metadata": {},
     "output_type": "execute_result"
    }
   ],
   "source": [
    "gen_SC50.tail()"
   ]
  },
  {
   "cell_type": "markdown",
   "id": "64ce6e18-ef28-4f8b-89f1-88b2110caafc",
   "metadata": {},
   "source": [
    "# Bias correct\n",
    "\n",
    "- Bias correct the financial year mean of model data to match that in the IASR workbook\n",
    "- Use leave-one-year-out cross validation\n",
    "- Transform capacity factors (bounded, [0, 1]) to real number line using logit transformation\n",
    "- Iterate to find a constant that will match the means"
   ]
  },
  {
   "cell_type": "code",
   "execution_count": 32,
   "id": "700eb0b4-7861-4df5-acb9-0709090f6df0",
   "metadata": {},
   "outputs": [],
   "source": [
    "def find_logit_correction(x_model_da, mu_obs, eps=1e-6):\n",
    "    \"\"\"\n",
    "    Bias correct an xarray.DataArray using logit transform + constant shift,\n",
    "    such that the mean of the corrected data matches mu_obs.\n",
    "    \n",
    "    Parameters:\n",
    "    -----------\n",
    "    x_model_da: xr.DataArray\n",
    "        Input data in the range (0, 1), with dims like (lat, lon, time).\n",
    "        NaNs are supported and will be ignored in the correction.\n",
    "        \n",
    "    mu_obs: float\n",
    "        Target mean to match after correction.\n",
    "        \n",
    "    eps: float\n",
    "        Small value to clip data away from 0 and 1 before applying logit.\n",
    "    \n",
    "    Returns:\n",
    "    --------\n",
    "    xr.DataArray\n",
    "        Bias-corrected data with the same shape and coordinates as input.\n",
    "    \"\"\"\n",
    "    \n",
    "    # Flatten non-NaN values for correction\n",
    "    x_flat = x_model_da.values.flatten()\n",
    "    mask_valid = ~np.isnan(x_flat)\n",
    "    x_valid = x_flat[mask_valid]\n",
    "    \n",
    "    # Clip to avoid logit problems at 0 and 1\n",
    "    x_valid = np.clip(x_valid, eps, 1 - eps)\n",
    "    z = np.log(x_valid / (1 - x_valid))\n",
    "\n",
    "    # Define function to match corrected mean to target\n",
    "    def mean_diff(c):\n",
    "        z_corr = z + c\n",
    "        x_corr = 1 / (1 + np.exp(-z_corr))\n",
    "        return np.mean(x_corr) - mu_obs\n",
    "    \n",
    "    # Solve for c using root finding\n",
    "    result = root_scalar(mean_diff, bracket=[-10, 10], method='bisect')\n",
    "    if not result.converged:\n",
    "        raise RuntimeError(\"Failed to find bias correction shift\")\n",
    "    c = result.root\n",
    "    return c"
   ]
  },
  {
   "cell_type": "code",
   "execution_count": 33,
   "id": "d8d0be94-73ac-46e8-b121-e5f06ed9888e",
   "metadata": {},
   "outputs": [],
   "source": [
    "def logit_bias_correct(x_model_da, c, eps=1e-6):\n",
    "    # Apply correction to full (non-NaN) data\n",
    "    x_clipped = x_model_da.clip(min=eps, max=1 - eps)\n",
    "    z_full = np.log(x_clipped / (1 - x_clipped))\n",
    "    z_corrected = z_full + c\n",
    "    x_corrected = 1 / (1 + np.exp(-z_corrected))\n",
    "\n",
    "    # Return as DataArray with same coords\n",
    "    return xr.DataArray(\n",
    "        x_corrected,\n",
    "        dims=x_model_da.dims,\n",
    "        coords=x_model_da.coords,\n",
    "        attrs=x_model_da.attrs\n",
    "    )"
   ]
  },
  {
   "cell_type": "code",
   "execution_count": 34,
   "id": "71e26e21-83b2-49bd-afba-8c1aac944c14",
   "metadata": {},
   "outputs": [],
   "source": [
    "def crossval_bias_correct_leave_one_year_out(x_model, mu_obs_series, eps=1e-6):\n",
    "    \"\"\"\n",
    "    Perform leave-one-year-out bias correction using logit-shift.\n",
    "\n",
    "    Parameters\n",
    "    ----------\n",
    "    x_model : xr.DataArray\n",
    "        Modelled data in (0, 1), dims must include 'time' with datetime dtype.\n",
    "    mu_obs_series : pd.Series\n",
    "        Observed means indexed by year, where each value is the mean of all years except that one.\n",
    "        Example: mu_obs_series.loc[2011] = mean(obs excluding 2011)\n",
    "    eps : float\n",
    "        Small value to clip values away from 0 and 1.\n",
    "\n",
    "    Returns\n",
    "    -------\n",
    "    xr.DataArray\n",
    "        Corrected model data, with each year corrected using mu_obs from all other years.\n",
    "    \"\"\"\n",
    "    corrected_years = []\n",
    "\n",
    "    for year in mu_obs_series.index:\n",
    "        \n",
    "        # Get financial year dates\n",
    "        cv_dates = pd.date_range(str(year - 1) + \"-07-01\", str(year) + \"-07-01\", freq=\"h\")[:-1]\n",
    "        \n",
    "        # Mask for year of interest and other years\n",
    "        cv_year = x_model.time.isin(cv_dates)\n",
    "        other_years = ~x_model.time.isin(cv_dates)\n",
    "        \n",
    "        # Keep relevant dates\n",
    "        x_model_year = x_model.where(cv_year, drop=True)\n",
    "        x_model_other = x_model.where(other_years, drop=True)\n",
    "                \n",
    "#         # Get modelled data for this year\n",
    "#         x_model_year = x_model.sel(time=x_model['time.year'] == year)\n",
    "        \n",
    "# #         # Get modelled data for other years\n",
    "# #         x_model_other = x_model.sel(time=x_model['time.year'] != year)\n",
    "\n",
    "        # Use the precomputed mean for all years except this one\n",
    "        mu_obs = mu_obs_series.loc[year]\n",
    "\n",
    "        # Find bias between observed and modelled calibration years\n",
    "        c = find_logit_correction(x_model_other, mu_obs)\n",
    "        \n",
    "        # Apply bias correction to this year\n",
    "        x_corrected_year = logit_bias_correct(x_model_year, c, eps=eps)\n",
    "\n",
    "        corrected_years.append(x_corrected_year)\n",
    "\n",
    "    # Concatenate all years and sort by time\n",
    "    return xr.concat(corrected_years, dim='time').sortby('time')"
   ]
  },
  {
   "cell_type": "code",
   "execution_count": 35,
   "id": "b104bba7-a443-4847-9879-a9997397560d",
   "metadata": {},
   "outputs": [],
   "source": [
    "def leave_one_out_means(mu_obs_series):\n",
    "    \"\"\"\n",
    "    Return a Series where each entry is the mean of all other entries.\n",
    "    \n",
    "    mu_obs_series: pandas Series\n",
    "    \"\"\"\n",
    "    total_sum = mu_obs_series.sum()\n",
    "    n = len(mu_obs_series)\n",
    "    return (total_sum - mu_obs_series) / (n - 1)"
   ]
  },
  {
   "cell_type": "markdown",
   "id": "b9de8df4-b7af-4272-84e4-3f0f516e299f",
   "metadata": {},
   "source": [
    "### Generate CV statistics for all REZs"
   ]
  },
  {
   "cell_type": "code",
   "execution_count": 39,
   "id": "7e533463-df8f-4061-84a9-e23a803234d6",
   "metadata": {},
   "outputs": [],
   "source": [
    "method = \"van_der_Wiel\"\n",
    "years = range(2010, 2024)"
   ]
  },
  {
   "cell_type": "code",
   "execution_count": 95,
   "id": "6dd0ec93-b891-4f05-bc23-ea13cc6479be",
   "metadata": {},
   "outputs": [
    {
     "name": "stdout",
     "output_type": "stream",
     "text": [
      "wind wind_medium\n",
      "T\n",
      "     obs_mean  raw_mean   bc_mean\n",
      "N10      0.43  0.358553  0.426928\n",
      "wind wind_high\n",
      "T\n",
      "     obs_mean  raw_mean   bc_mean\n",
      "N10      0.43  0.358553  0.426928\n"
     ]
    }
   ],
   "source": [
    "for (gen_type, cf_type) in zip([\"solar\", \"wind\", \"wind\"][-2:], [\"solarpv\", \"wind_medium\", \"wind_high\"][-2:]):\n",
    "    print(gen_type, cf_type)\n",
    "    \n",
    "    cf_path = \"/g/data/w42/dr6273/work/projects/Aus_energy/production_metrics/\" + gen_type + \"/capacity_factor/\" + method + \"/bias_corrected/\"\n",
    "    \n",
    "    # initialise empty DataFrame to fill will mean capacity factor statistics\n",
    "    mean_cf_stats = pd.DataFrame(columns=[\"obs_mean\", \"raw_mean\", \"bc_mean\"])\n",
    "    \n",
    "    # for r in mask.region.values:\n",
    "    for r in [\"N10\"]:\n",
    "        \n",
    "        # Check if this REZ has an observed capacity factor\n",
    "        check_rez = r in isp_cfs[cf_type].index\n",
    "        \n",
    "        if check_rez:\n",
    "            print('T')\n",
    "            \n",
    "            # # Add this REZ to the dataframe\n",
    "            mean_cf_stats.loc[r] = np.repeat(np.nan, 3)\n",
    "\n",
    "            # Load capacity factors for this region only\n",
    "            da_list = []\n",
    "            for y in years:\n",
    "                cf = fn.load_hourly_cf(y, gen_type, method=method, add_dir=\"\", chunks={\"lat\": -1, \"lon\": -1, \"time\": 2500}).capacity_factor\n",
    "                cf = cf.where(mask.sel(region=r) == 1, drop=True)\n",
    "                da_list.append(cf)\n",
    "            cf = xr.concat(da_list, dim=\"time\")\n",
    "            \n",
    "            # Financial years\n",
    "            cf = cf.sel(time=slice(str(years[0])+\"-07\", str(years[-1])+\"-06\"))\n",
    "\n",
    "            # Observed means\n",
    "            mu_obs_all = isp_cfs[cf_type].loc[r].copy()[\"Avg\"]\n",
    "            \n",
    "            # Mean of all other years (for cross validation)\n",
    "            mu_obs_excl = leave_one_out_means(\n",
    "                isp_cfs[cf_type].loc[r].copy().drop(\"Avg\", axis=0)\n",
    "            )\n",
    "            \n",
    "            # Bias corrected data using leave one year out\n",
    "            cf_bc = crossval_bias_correct_leave_one_year_out(cf, mu_obs_excl)\n",
    "            \n",
    "            # Obs, raw and bias corrected means\n",
    "            mean_cf_stats.loc[r, \"obs_mean\"] = mu_obs_all\n",
    "            mean_cf_stats.loc[r, \"raw_mean\"] = cf.mean().values\n",
    "            mean_cf_stats.loc[r, \"bc_mean\"] = cf_bc.mean().values\n",
    "            print(mean_cf_stats)\n",
    "#             # Correction factor over calibration period\n",
    "#             c = find_logit_correction(cf_calib, mu_obs_all)\n",
    "\n",
    "#             # Bias correct all data\n",
    "#             cf_bc = logit_bias_correct(cf, c)\n",
    "            # mean_cf_stats.loc[r, \"bc_mean\"] = cf_bc.sel(time=slice(str(calib_years[0] - 1) + \"-07-01\", str(calib_years[-1]) + \"-06-30\")).mean().values\n",
    "\n",
    "            # to dataset, re-chunk and write\n",
    "            # cf_bc = cf_bc.chunk({\"time\": -1})\n",
    "            # cf_bc = cf_bc.to_dataset(name=\"capacity_factor\")\n",
    "            # cf_bc.to_netcdf(\n",
    "            #     cf_path + cf_type + \"_capacity_factor_\" + method + \"_era5_hourly_1940-2023_\" + r + \".nc\",\n",
    "            #     mode=\"w\"\n",
    "            # )\n",
    "            \n",
    "        else:\n",
    "            pass\n",
    "        \n",
    "    # Write the capacity factor stats to file\n",
    "    # mean_cf_stats.to_csv(\n",
    "    #     cf_path + cf_type + \"_capacity_factor_\" + method + \"_era5_REZ_statistics.csv\"\n",
    "    # )"
   ]
  },
  {
   "cell_type": "code",
   "execution_count": 96,
   "id": "89e1c152-f0d3-4741-9dfd-3c6f615a2ef1",
   "metadata": {},
   "outputs": [
    {
     "data": {
      "text/html": [
       "<div>\n",
       "<style scoped>\n",
       "    .dataframe tbody tr th:only-of-type {\n",
       "        vertical-align: middle;\n",
       "    }\n",
       "\n",
       "    .dataframe tbody tr th {\n",
       "        vertical-align: top;\n",
       "    }\n",
       "\n",
       "    .dataframe thead th {\n",
       "        text-align: right;\n",
       "    }\n",
       "</style>\n",
       "<table border=\"1\" class=\"dataframe\">\n",
       "  <thead>\n",
       "    <tr style=\"text-align: right;\">\n",
       "      <th></th>\n",
       "      <th>obs_mean</th>\n",
       "      <th>raw_mean</th>\n",
       "      <th>bc_mean</th>\n",
       "    </tr>\n",
       "  </thead>\n",
       "  <tbody>\n",
       "    <tr>\n",
       "      <th>N10</th>\n",
       "      <td>0.43</td>\n",
       "      <td>0.358553</td>\n",
       "      <td>0.426928</td>\n",
       "    </tr>\n",
       "  </tbody>\n",
       "</table>\n",
       "</div>"
      ],
      "text/plain": [
       "     obs_mean  raw_mean   bc_mean\n",
       "N10      0.43  0.358553  0.426928"
      ]
     },
     "execution_count": 96,
     "metadata": {},
     "output_type": "execute_result"
    }
   ],
   "source": [
    "mean_cf_stats"
   ]
  },
  {
   "cell_type": "markdown",
   "id": "d6295175-ee6b-4519-9e8c-b456b6ad0ff7",
   "metadata": {},
   "source": [
    "# Process for all REZs"
   ]
  },
  {
   "cell_type": "markdown",
   "id": "7e30916d-c85c-4f1f-9fbd-a553f2e1c8af",
   "metadata": {},
   "source": [
    "Raw capacity factor data"
   ]
  },
  {
   "cell_type": "code",
   "execution_count": 41,
   "id": "e0e5315a-66b8-4001-a842-7c982127034b",
   "metadata": {},
   "outputs": [],
   "source": [
    "method = \"van_der_Wiel\""
   ]
  },
  {
   "cell_type": "code",
   "execution_count": 42,
   "id": "81b9221e-b921-4b19-8fd5-4fb95f1c2928",
   "metadata": {},
   "outputs": [],
   "source": [
    "all_years = range(1940, 2024)\n",
    "calib_years = range(2011, 2024)"
   ]
  },
  {
   "cell_type": "code",
   "execution_count": 44,
   "id": "3671093c-492c-441d-bfce-c0e76e65e8fd",
   "metadata": {
    "tags": []
   },
   "outputs": [
    {
     "name": "stdout",
     "output_type": "stream",
     "text": [
      "wind wind_medium\n",
      "wind wind_high\n"
     ]
    }
   ],
   "source": [
    "for (gen_type, cf_type) in zip([\"solar\", \"wind\", \"wind\"][1:], [\"solarpv\", \"wind_medium\", \"wind_high\"][1:]):\n",
    "\n",
    "    print(gen_type, cf_type)\n",
    "    \n",
    "    cf_path = \"/g/data/w42/dr6273/work/projects/Aus_energy/production_metrics/\" + gen_type + \"/capacity_factor/\" + method + \"/bias_corrected/\"\n",
    "    \n",
    "    # for r in mask.region.values:\n",
    "    for r in [\"N10\"]:\n",
    "        \n",
    "        # Check if this REZ has an observed capacity factor\n",
    "        check_rez = r in isp_cfs[cf_type].index\n",
    "        \n",
    "        if check_rez:\n",
    "            \n",
    "            # Load capacity factors for this region only\n",
    "            da_list = []\n",
    "            for y in all_years:\n",
    "                cf = fn.load_hourly_cf(y, gen_type, method=method, add_dir=\"\", chunks={\"lat\": -1, \"lon\": -1, \"time\": 2500}).capacity_factor\n",
    "                cf = cf.where(mask.sel(region=r) == 1, drop=True)\n",
    "                da_list.append(cf)\n",
    "            cf = xr.concat(da_list, dim=\"time\")\n",
    "\n",
    "            # Observed means\n",
    "            mu_obs_all = isp_cfs[cf_type].loc[r].copy()[\"Avg\"]\n",
    "\n",
    "            # Data in calibration period\n",
    "            cf_calib = cf.sel(time=slice(str(calib_years[0] - 1) + \"-07-01\", str(calib_years[-1]) + \"-06-30\"))\n",
    "\n",
    "            # Correction factor over calibration period\n",
    "            c = find_logit_correction(cf_calib, mu_obs_all)\n",
    "\n",
    "            # Bias correct all data\n",
    "            cf_bc = logit_bias_correct(cf, c)\n",
    "\n",
    "            # to dataset, re-chunk and write\n",
    "            cf_bc = cf_bc.chunk({\"time\": -1})\n",
    "            cf_bc = cf_bc.to_dataset(name=\"capacity_factor\")\n",
    "            cf_bc.to_netcdf(\n",
    "                cf_path + cf_type + \"_capacity_factor_\" + method + \"_era5_hourly_1940-2023_\" + r + \".nc\",\n",
    "                mode=\"w\"\n",
    "            )\n",
    "            \n",
    "        else:\n",
    "            pass"
   ]
  },
  {
   "cell_type": "markdown",
   "id": "2dc8aa45-63f0-49d4-9a8a-6644c2d74450",
   "metadata": {},
   "source": [
    "# Illustration of method"
   ]
  },
  {
   "cell_type": "code",
   "execution_count": 20,
   "id": "0d4df40c-253f-4b47-aece-ed479c53037d",
   "metadata": {},
   "outputs": [],
   "source": [
    "import matplotlib.pyplot as plt"
   ]
  },
  {
   "cell_type": "code",
   "execution_count": 21,
   "id": "7c0e6cf6-6e12-4831-9707-85185d3c13db",
   "metadata": {},
   "outputs": [],
   "source": [
    "def FY_mean(da):\n",
    "    \"\"\"\n",
    "    Get mean of each financial year\n",
    "    \n",
    "    da: array with 'time' dimension, starting in June, ending in July\n",
    "    \"\"\"\n",
    "    return da.resample(time=\"1MS\").mean().coarsen(time=12).mean()"
   ]
  },
  {
   "cell_type": "code",
   "execution_count": 22,
   "id": "667294e3-d5a6-4abf-88a6-8f68110aa3bd",
   "metadata": {},
   "outputs": [],
   "source": [
    "def preprocess(ds):\n",
    "    \"\"\"\n",
    "    Preprocess function for open_mfdataset.\n",
    "    Selects Australian region and renames coords.\n",
    "    \"\"\"\n",
    "    aus_region = [110, 155, -10, -45]\n",
    "    ds = ds.sel(\n",
    "        longitude=slice(aus_region[0], aus_region[1]),\n",
    "        latitude=slice(aus_region[2], aus_region[3])\n",
    "    )\n",
    "    ds = ds.rename(\n",
    "        {'longitude': 'lon',\n",
    "         'latitude': 'lat'}\n",
    "    )\n",
    "    ds = ds.chunk({\"time\": -1, \"lat\": -1, \"lon\": -1})\n",
    "    return ds"
   ]
  },
  {
   "cell_type": "code",
   "execution_count": 23,
   "id": "b64ee57c-39c6-43c4-a9d4-f256e6392703",
   "metadata": {},
   "outputs": [],
   "source": [
    "def capacity_factor_vdW(W):\n",
    "    \"\"\"\n",
    "    Computes capacity factor from wind speed data.\n",
    "    \n",
    "    W: wind speed (m/s)\n",
    "    \"\"\"\n",
    "    W_0 = 3.5 # cut-in speed (m/s)\n",
    "    W_r = 13 # rated speed\n",
    "    W_1 = 25 # cut-out speed (m/s)\n",
    "    \n",
    "    # Cubic\n",
    "    c_f = (W ** 3 - W_0 ** 3) / (W_r ** 3 - W_0 ** 3)\n",
    "    c_f = c_f.where(W >= W_0, 0) # Set values below cut-in to zero\n",
    "    c_f = c_f.where(W < W_r, 1) # Set values above rated speed to 1\n",
    "    c_f = c_f.where(W < W_1, 0) # Set values above cut-off to zero\n",
    "    c_f = c_f.where(W.notnull(), np.nan) # Ensure NaNs are retained\n",
    "    \n",
    "    return c_f"
   ]
  },
  {
   "cell_type": "code",
   "execution_count": 24,
   "id": "c7af995c-e8cc-4793-a270-d331c4c0b6b5",
   "metadata": {},
   "outputs": [],
   "source": [
    "years = range(2010, 2024)"
   ]
  },
  {
   "cell_type": "markdown",
   "id": "3192b5c8-99ca-4309-8948-dc3846fb56ec",
   "metadata": {},
   "source": [
    "Capacity factor bias stats"
   ]
  },
  {
   "cell_type": "code",
   "execution_count": 25,
   "id": "16a80896-b99a-4656-97f3-c12521082f8f",
   "metadata": {},
   "outputs": [],
   "source": [
    "cf_stats = {}\n",
    "for (gen_type, cf_type) in zip([\"solar\", \"wind\", \"wind\"], [\"solarpv\", \"wind_medium\", \"wind_high\"]):\n",
    "    \n",
    "    cf_path = \"/g/data/w42/dr6273/work/projects/Aus_energy/production_metrics/\" + gen_type + \"/capacity_factor/van_der_Wiel/bias_corrected/\"\n",
    "\n",
    "    cf_stats[cf_type] = pd.read_csv(\n",
    "        cf_path + cf_type + \"_capacity_factor_van_der_Wiel_era5_REZ_statistics.csv\",\n",
    "        index_col=0\n",
    "    )"
   ]
  },
  {
   "cell_type": "code",
   "execution_count": 64,
   "id": "958cc3dc-d7ab-4d46-a1f6-47bff1bc4993",
   "metadata": {},
   "outputs": [
    {
     "data": {
      "text/html": [
       "<div>\n",
       "<style scoped>\n",
       "    .dataframe tbody tr th:only-of-type {\n",
       "        vertical-align: middle;\n",
       "    }\n",
       "\n",
       "    .dataframe tbody tr th {\n",
       "        vertical-align: top;\n",
       "    }\n",
       "\n",
       "    .dataframe thead th {\n",
       "        text-align: right;\n",
       "    }\n",
       "</style>\n",
       "<table border=\"1\" class=\"dataframe\">\n",
       "  <thead>\n",
       "    <tr style=\"text-align: right;\">\n",
       "      <th></th>\n",
       "      <th>obs_mean</th>\n",
       "      <th>raw_mean</th>\n",
       "      <th>bc_mean</th>\n",
       "    </tr>\n",
       "  </thead>\n",
       "  <tbody>\n",
       "    <tr>\n",
       "      <th>Q1</th>\n",
       "      <td>0.42</td>\n",
       "      <td>0.099753</td>\n",
       "      <td>0.421533</td>\n",
       "    </tr>\n",
       "    <tr>\n",
       "      <th>Q2</th>\n",
       "      <td>0.33</td>\n",
       "      <td>0.093495</td>\n",
       "      <td>0.328461</td>\n",
       "    </tr>\n",
       "    <tr>\n",
       "      <th>Q4</th>\n",
       "      <td>0.30</td>\n",
       "      <td>0.075578</td>\n",
       "      <td>0.303077</td>\n",
       "    </tr>\n",
       "    <tr>\n",
       "      <th>Q5</th>\n",
       "      <td>0.30</td>\n",
       "      <td>0.122847</td>\n",
       "      <td>0.296149</td>\n",
       "    </tr>\n",
       "    <tr>\n",
       "      <th>Q6</th>\n",
       "      <td>0.32</td>\n",
       "      <td>0.068592</td>\n",
       "      <td>0.317690</td>\n",
       "    </tr>\n",
       "  </tbody>\n",
       "</table>\n",
       "</div>"
      ],
      "text/plain": [
       "    obs_mean  raw_mean   bc_mean\n",
       "Q1      0.42  0.099753  0.421533\n",
       "Q2      0.33  0.093495  0.328461\n",
       "Q4      0.30  0.075578  0.303077\n",
       "Q5      0.30  0.122847  0.296149\n",
       "Q6      0.32  0.068592  0.317690"
      ]
     },
     "execution_count": 64,
     "metadata": {},
     "output_type": "execute_result"
    }
   ],
   "source": [
    "cf_stats[\"wind_medium\"].head()"
   ]
  },
  {
   "cell_type": "markdown",
   "id": "a87daece-2a3b-4835-bcec-314871cded84",
   "metadata": {},
   "source": [
    "### Central-West Orana"
   ]
  },
  {
   "cell_type": "code",
   "execution_count": 26,
   "id": "6fc7a7e7-4b0a-4759-9954-6f0f7f938cd3",
   "metadata": {},
   "outputs": [],
   "source": [
    "r = \"N3\" # Central-West Orana\n",
    "method = \"van_der_Wiel\""
   ]
  },
  {
   "cell_type": "code",
   "execution_count": 27,
   "id": "501753af-95b1-4f2c-b094-da861a4cd08c",
   "metadata": {},
   "outputs": [],
   "source": [
    "da_list = []\n",
    "for y in years:\n",
    "    cf = fn.load_hourly_cf(y, \"wind\", method=method, add_dir=\"\", chunks={\"lat\": -1, \"lon\": -1, \"time\": 2500}).capacity_factor\n",
    "    cf = cf.where(mask.sel(region=r) == 1, drop=True)\n",
    "    da_list.append(cf)\n",
    "cf_r_wind = xr.concat(da_list, dim=\"time\")"
   ]
  },
  {
   "cell_type": "code",
   "execution_count": 28,
   "id": "749308a3-5860-42b8-951f-9d341a4f636b",
   "metadata": {},
   "outputs": [],
   "source": [
    "da_list = []\n",
    "for y in years:\n",
    "    cf = fn.load_hourly_cf(y, \"solar\", method=method, add_dir=\"\", chunks={\"lat\": -1, \"lon\": -1, \"time\": 2500}).capacity_factor\n",
    "    cf = cf.where(mask.sel(region=r) == 1, drop=True)\n",
    "    da_list.append(cf)\n",
    "cf_r_solar = xr.concat(da_list, dim=\"time\")"
   ]
  },
  {
   "cell_type": "markdown",
   "id": "dca2d7b1-ced1-4e79-8d1e-fad4262e95e4",
   "metadata": {},
   "source": [
    "Load wind speed and radiation"
   ]
  },
  {
   "cell_type": "code",
   "execution_count": 29,
   "id": "2aff21d6-b961-4e21-bd56-6037bc42f0d1",
   "metadata": {},
   "outputs": [],
   "source": [
    "ws_path = load_path = \"/g/data/w42/dr6273/work/data/era5/100w/hourly/\"\n",
    "da_list = []\n",
    "for y in years:\n",
    "    w100 = xr.open_mfdataset(\n",
    "        ws_path + \"100w_era5_hourly_\" + str(y) + \"_Aus.nc\",\n",
    "        chunks={\"lat\": 50, \"lon\": 100}\n",
    "    )[\"w100\"]\n",
    "    w100 = w100.where(mask.sel(region=r) == 1, drop=True)\n",
    "    da_list.append(w100)\n",
    "w100_r = xr.concat(da_list, dim=\"time\")"
   ]
  },
  {
   "cell_type": "code",
   "execution_count": 30,
   "id": "367b47a5-e0b4-4cf2-89f1-294e817f2eed",
   "metadata": {},
   "outputs": [],
   "source": [
    "rad_path = load_path = \"/g/data/rt52/era5/single-levels/reanalysis/msdwswrf/\"\n",
    "da_list = []\n",
    "for y in years:\n",
    "    rad = xr.open_mfdataset(\n",
    "        rad_path + \"/\" + str(y) + \"/*.nc\",\n",
    "        preprocess=preprocess,\n",
    "    )[\"msdwswrf\"]\n",
    "    rad = rad.where(mask.sel(region=r) == 1, drop=True)\n",
    "    da_list.append(rad)\n",
    "rad_r = xr.concat(da_list, dim=\"time\")"
   ]
  },
  {
   "cell_type": "markdown",
   "id": "906245c7-95ea-42d7-bde6-832c4e9f93ea",
   "metadata": {},
   "source": [
    "Bias correction"
   ]
  },
  {
   "cell_type": "code",
   "execution_count": 36,
   "id": "be195b3a-9914-4e1b-8ba7-b96f1eef0740",
   "metadata": {},
   "outputs": [],
   "source": [
    "mu_obs_excl = leave_one_out_means(\n",
    "    isp_cfs[\"wind_medium\"].loc[r].copy().drop(\"Avg\", axis=0)\n",
    ")"
   ]
  },
  {
   "cell_type": "code",
   "execution_count": 43,
   "id": "d0cbe622-7990-4a05-b0c2-056d74506ee0",
   "metadata": {},
   "outputs": [
    {
     "name": "stdout",
     "output_type": "stream",
     "text": [
      "CPU times: user 23.9 s, sys: 1.66 s, total: 25.6 s\n",
      "Wall time: 33 s\n"
     ]
    }
   ],
   "source": [
    "%%time\n",
    "cf_r_bc_wind = crossval_bias_correct_leave_one_year_out(cf_r_wind, mu_obs_excl)"
   ]
  },
  {
   "cell_type": "code",
   "execution_count": 44,
   "id": "72de05e5-6306-4398-b630-4f627d955efb",
   "metadata": {},
   "outputs": [],
   "source": [
    "mu_obs_excl = leave_one_out_means(\n",
    "    isp_cfs[\"solarpv\"].loc[r].copy().drop(\"Avg\", axis=0)\n",
    ")"
   ]
  },
  {
   "cell_type": "code",
   "execution_count": 45,
   "id": "ab5cc402-aba2-4538-8a41-31dc382a8c94",
   "metadata": {},
   "outputs": [
    {
     "name": "stdout",
     "output_type": "stream",
     "text": [
      "CPU times: user 22.8 s, sys: 1.4 s, total: 24.2 s\n",
      "Wall time: 27.4 s\n"
     ]
    }
   ],
   "source": [
    "%%time\n",
    "cf_r_bc_solar = crossval_bias_correct_leave_one_year_out(cf_r_solar, mu_obs_excl)"
   ]
  },
  {
   "cell_type": "markdown",
   "id": "ded41d44-48a3-4f90-834c-995f3f74985c",
   "metadata": {},
   "source": [
    "We want financial years to align with ISP data"
   ]
  },
  {
   "cell_type": "code",
   "execution_count": 46,
   "id": "07ac47a2-49b5-40fa-939a-0e68510d4585",
   "metadata": {},
   "outputs": [],
   "source": [
    "w100_r = w100_r.sel(time=slice(str(years[0])+\"-07\", str(years[-1])+\"-06\"))"
   ]
  },
  {
   "cell_type": "code",
   "execution_count": 47,
   "id": "6adf6142-0b63-4950-92ca-cd718625feb8",
   "metadata": {},
   "outputs": [],
   "source": [
    "cf_r_wind = cf_r_wind.sel(time=slice(str(years[0])+\"-07\", str(years[-1])+\"-06\"))"
   ]
  },
  {
   "cell_type": "code",
   "execution_count": 48,
   "id": "ed1adcde-0b1a-44ed-84b8-6b4606ccaf14",
   "metadata": {},
   "outputs": [],
   "source": [
    "cf_r_bc_wind = cf_r_bc_wind.sel(time=slice(str(years[0])+\"-07\", str(years[-1])+\"-06\"))"
   ]
  },
  {
   "cell_type": "code",
   "execution_count": 49,
   "id": "6dfc1cf6-34de-4190-9397-04d8f3f5f09d",
   "metadata": {},
   "outputs": [],
   "source": [
    "rad_r = rad_r.sel(time=slice(str(years[0])+\"-07\", str(years[-1])+\"-06\"))"
   ]
  },
  {
   "cell_type": "code",
   "execution_count": 50,
   "id": "d7f624ba-1da0-4c53-879b-6f58b8ba7e0f",
   "metadata": {},
   "outputs": [],
   "source": [
    "cf_r_solar = cf_r_solar.sel(time=slice(str(years[0])+\"-07\", str(years[-1])+\"-06\"))"
   ]
  },
  {
   "cell_type": "code",
   "execution_count": 51,
   "id": "a5e3772b-bac6-49fd-bfd7-1ba2d2cdc832",
   "metadata": {},
   "outputs": [],
   "source": [
    "cf_r_bc_solar = cf_r_bc_solar.sel(time=slice(str(years[0])+\"-07\", str(years[-1])+\"-06\"))"
   ]
  },
  {
   "cell_type": "markdown",
   "id": "3e1d0c27-1c5e-4480-b810-28d95612285f",
   "metadata": {},
   "source": [
    "Plot"
   ]
  },
  {
   "cell_type": "code",
   "execution_count": 89,
   "id": "1967677c-15bd-4b14-8898-c3cee71b0489",
   "metadata": {},
   "outputs": [],
   "source": [
    "def rez_barplot(ax, cf_type):\n",
    "    if cf_type == \"wind_medium\":\n",
    "        ylim = 0.5\n",
    "    elif cf_type == \"solarpv\":\n",
    "        ylim = 0.4\n",
    "        \n",
    "    s = 10\n",
    "    \n",
    "    cf_stats[cf_type].reset_index().plot.scatter(ax=ax, x=\"index\", y=\"obs_mean\", color=\"k\", s=s, label=\"AEMO\")\n",
    "    cf_stats[cf_type].reset_index().plot.scatter(ax=ax, x=\"index\", y=\"raw_mean\", color=\"tab:blue\", s=s, marker=\"s\", label=\"Raw\")\n",
    "    cf_stats[cf_type].reset_index().plot.scatter(ax=ax, x=\"index\", y=\"bc_mean\", color=\"tab:orange\", s=s*1.5, marker=\"x\", label=\"Corrected\")\n",
    "    # (cf_stats[cf_type][\"obs_mean\"] - cf_stats[cf_type][\"raw_mean\"]).plot.bar(ax=ax, zorder=0, color=\"gray\", label=\"Diff\")\n",
    "    ax.legend(ncols=3, fontsize=8, loc=(-0.05, 1.05))\n",
    "    ax.set_yticks([0, ylim/2, ylim])\n",
    "    \n",
    "    xlabels = []\n",
    "    for label in list(cf_stats[cf_type].index)[::3]:\n",
    "        xlabels.append(label)\n",
    "        xlabels.append(\"\")\n",
    "        xlabels.append(\"\")\n",
    "    ax.set_xticklabels(xlabels)\n",
    "    \n",
    "    ax.set_ylabel(\"Capacity factor [-]\")\n",
    "    ax.set_xlabel(\"REZ\")"
   ]
  },
  {
   "cell_type": "code",
   "execution_count": 102,
   "id": "0c6b03f6-dc5b-4297-934c-d4b699b3b33d",
   "metadata": {},
   "outputs": [],
   "source": [
    "def BC_ts(ax, cf_da, cf_bc_da, cf_type):\n",
    "    _c = FY_mean(cf_bc_da.mean([\"lat\", \"lon\"]))\n",
    "\n",
    "    xr.DataArray(\n",
    "        isp_cfs[cf_type].loc[r].copy().drop(\"Avg\", axis=0).values,\n",
    "        dims=_c.dims,\n",
    "        coords=_c.coords\n",
    "    ).plot(ax=ax, label=\"AEMO\", c=\"k\", ls=\":\")\n",
    "    \n",
    "    _c.plot(ax=ax, color=\"tab:orange\", label=\"Corrected\")\n",
    "    \n",
    "    FY_mean(cf_da.mean([\"lat\", \"lon\"])).plot(ax=ax, color=\"tab:blue\", ls=\"--\", label=\"Raw\")\n",
    "\n",
    "    # ax.axhline(isp_cfs[cf_type].loc[r].copy()[\"Avg\"], c=\"k\", ls=\"--\", label=\"AEMO mean\")\n",
    "    # ax.axhline(_c.mean(), c=\"tab:orange\", ls=\"--\", label=\"Corrected mean\")\n",
    "    ax.set_ylim(0, 0.4)\n",
    "    ax.set_yticks([0, 0.2, 0.4])\n",
    "    ax.legend(ncols=2, fontsize=8, loc=(0, 1.05))\n",
    "    ax.set_title(\"\")\n",
    "    ax.set_ylabel(\"Capacity factor [-]\")\n",
    "    ax.set_xlabel(\"\")"
   ]
  },
  {
   "cell_type": "code",
   "execution_count": 67,
   "id": "3987593c-f8cb-4227-b92b-dbb3428f6735",
   "metadata": {},
   "outputs": [],
   "source": [
    "def sel_cell(ds, time=slice(None, None), lat=-31.75, lon=148.5):\n",
    "    return ds.sel(time=time, lat=lat, lon=lon)"
   ]
  },
  {
   "cell_type": "code",
   "execution_count": 68,
   "id": "634fd713-e65f-4dd9-872d-ebc09993c655",
   "metadata": {},
   "outputs": [],
   "source": [
    "def plot_rez(ax, da, cbar_label=\"Capacity factor [-]\"):\n",
    "    da.mean(\"time\").plot(ax=ax, cbar_kwargs={\"label\": cbar_label})\n",
    "    ax.set_xticks([])\n",
    "    ax.set_yticks([])\n",
    "    ax.set_xlabel(\"\")\n",
    "    ax.set_ylabel(\"\")\n",
    "    ax.set_title(\"\")"
   ]
  },
  {
   "cell_type": "code",
   "execution_count": 69,
   "id": "ed7882dc-d32b-4f80-be82-8461f89cc175",
   "metadata": {},
   "outputs": [],
   "source": [
    "def plot_var_ts(ax, da, ylabel, time_slice=slice(\"2013-10-10\", \"2013-10-20\")):\n",
    "    sel_cell(da, time=time_slice).plot(ax=ax)\n",
    "    ax.set_ylabel(ylabel)\n",
    "    ax.set_xlabel(\"\")\n",
    "    ax.set_title(\"\")"
   ]
  },
  {
   "cell_type": "code",
   "execution_count": 70,
   "id": "ebbf1dd2-ba15-4dcf-bd99-31168df46f6c",
   "metadata": {},
   "outputs": [],
   "source": [
    "def plot_cf_ts(ax, raw, bc, time_slice=slice(\"2013-10-10\", \"2013-10-20\")):\n",
    "    sel_cell(raw, time=time_slice).plot(ax=ax, color=\"tab:blue\", ls=\"--\", label=\"Raw\")\n",
    "    sel_cell(bc, time=time_slice).plot(ax=ax, color=\"tab:orange\", ls=\"-\", label=\"Corrected\")\n",
    "    ax.set_ylabel(\"Capacity factor [-]\")\n",
    "    ax.set_xlabel(\"\")\n",
    "    ax.set_title(\"\")\n",
    "    # ax.legend(fontsize=8, loc=(0, 1.05))"
   ]
  },
  {
   "cell_type": "code",
   "execution_count": 71,
   "id": "364214f3-cc71-488e-add9-e7355feae44c",
   "metadata": {},
   "outputs": [],
   "source": [
    "def plot_cf_hist(ax, raw, bc):\n",
    "    _ = ax.hist(sel_cell(raw), bins=20, density=True, color=\"tab:blue\", alpha=0.5, label=\"Raw\")\n",
    "    _ = ax.hist(sel_cell(bc), bins=20, density=True, color=\"tab:orange\", alpha=0.5, label=\"Corrected\")\n",
    "    ax.set_ylabel(\"Density [-]\")\n",
    "    ax.set_xlabel(\"Capacity factor [-]\")\n",
    "    ax.set_title(\"\")\n",
    "    # ax.legend(frameon=True, fontsize=8, loc=(0, 1.05))"
   ]
  },
  {
   "cell_type": "code",
   "execution_count": 72,
   "id": "00c04527-519f-421a-aa8e-e39477b0a84e",
   "metadata": {},
   "outputs": [],
   "source": [
    "def plot_turbine(ax, ws, time_slice=slice(\"2013-10-10\", \"2013-10-20\")):\n",
    "    x = xr.DataArray(np.linspace(0, 26, 100))\n",
    "    p = capacity_factor_vdW(x)\n",
    "    \n",
    "    _ = ax.hist(sel_cell(ws, time=time_slice), \"fd\", density=True, label=\"Wind speed\")\n",
    "    ax.set_ylabel(\"Density [s/m]\")\n",
    "    ax.set_xlabel(\"Wind speed [m/s]\")\n",
    "    # ax.axvline(3.5, c=\"k\")\n",
    "    # ax.axvline(13, c=\"k\")\n",
    "    # ax.axvline(ws.mean().values, c=\"r\")\n",
    "\n",
    "    ax2=ax.twinx()\n",
    "    ax2.plot(x, p, c=\"k\", label=\"Power curve\")\n",
    "    ax2.set_yticklabels([])\n",
    "    # ax2.set_ylabel(\"Capacity factor [-]\")"
   ]
  },
  {
   "cell_type": "code",
   "execution_count": 73,
   "id": "651ee101-5c34-4687-ac54-a39e2424d0f4",
   "metadata": {},
   "outputs": [],
   "source": [
    "plt_params = {\n",
    "    'lines.linewidth': 0.9,\n",
    "    # 'hatch.linewidth': 0.5,\n",
    "    'font.size': 8,\n",
    "    'legend.fontsize' : 8,\n",
    "    # 'legend.columnspacing': 0.7,\n",
    "    # 'legend.labelspacing' : 0.03,\n",
    "    # 'legend.handlelength' : 1.,\n",
    "    # 'axes.linewidth': 0.5\n",
    "}"
   ]
  },
  {
   "cell_type": "code",
   "execution_count": 74,
   "id": "8bf1a778-113f-49c4-a21a-3dfb9f15a828",
   "metadata": {},
   "outputs": [],
   "source": [
    "%matplotlib inline"
   ]
  },
  {
   "cell_type": "markdown",
   "id": "cac8826b-a639-4eaf-b1a5-e80aae67c359",
   "metadata": {},
   "source": [
    "Wind"
   ]
  },
  {
   "cell_type": "code",
   "execution_count": 105,
   "id": "88f38e00-e056-4728-9b44-92176d62e2bc",
   "metadata": {},
   "outputs": [
    {
     "name": "stderr",
     "output_type": "stream",
     "text": [
      "/jobfs/152624742.gadi-pbs/ipykernel_859222/571149593.py:21: UserWarning: set_ticklabels() should only be used with a fixed number of ticks, i.e. after set_ticks() or using a FixedLocator.\n",
      "  ax.set_xticklabels(xlabels)\n"
     ]
    },
    {
     "data": {
      "image/png": "[encoded data removed]",
      "text/plain": [
       "<Figure size 700x300 with 7 Axes>"
      ]
     },
     "metadata": {},
     "output_type": "display_data"
    }
   ],
   "source": [
    "with plt.rc_context(plt_params):\n",
    "    fig = plt.figure(figsize=(7,3))\n",
    "\n",
    "    gs = fig.add_gridspec(2, 4)#, width_ratios=[0.4, 0.6], height_ratios=[0.5, 0.5])\n",
    "\n",
    "    ax00 = fig.add_subplot(gs[0,:2])\n",
    "    ax01 = fig.add_subplot(gs[0,2:])\n",
    "    ax10 = fig.add_subplot(gs[1,0])\n",
    "    ax11 = fig.add_subplot(gs[1,1])\n",
    "    ax12 = fig.add_subplot(gs[1,2])\n",
    "    ax13 = fig.add_subplot(gs[1,3])\n",
    "    # ax20 = fig.add_subplot(gs[2,0])\n",
    "    # ax22 = fig.add_subplot(gs[2,2])\n",
    "    # ax23 = fig.add_subplot(gs[2,3])\n",
    "\n",
    "    # All REZ barplot\n",
    "    rez_barplot(ax00, \"wind_medium\")\n",
    "    ax00.set_title(\"a) 2011-2023 capacity factors, all REZs\", y=1.2, fontsize=8, loc=\"left\")\n",
    "\n",
    "    # CV time series\n",
    "    BC_ts(ax01, cf_r_wind, cf_r_bc_wind, \"wind_medium\")\n",
    "    ax01.set_title(\"b) N3 Central-West Orana cross-validation fit\", y=1.4, fontsize=8, loc=\"left\")\n",
    "    \n",
    "    # Variable time series\n",
    "    plot_var_ts(ax10, w100_r, \"Wind speed [m/s]\")\n",
    "    ax10.set_title(\"c) Wind speed\", fontsize=8, loc=\"left\")\n",
    "    # Turbine curve\n",
    "    plot_turbine(ax11, w100_r)\n",
    "    ax11.set_title(\"d) Turbine fit\", fontsize=8, loc=\"left\")\n",
    "    # CF time series\n",
    "    plot_cf_ts(ax12, cf_r_wind, cf_r_bc_wind)\n",
    "    ax12.set_title(\"e) Capacity factor\", fontsize=8, loc=\"left\")\n",
    "    # CF histogram\n",
    "    plot_cf_hist(ax13, cf_r_wind, cf_r_bc_wind)\n",
    "    ax13.set_title(\"f) Capacity factor\\nhistogram\", fontsize=8, loc=\"left\")\n",
    "\n",
    "    # Input variable mean\n",
    "    # plot_rez(ax20, w100_r, \"Wind speed [m/s]\")\n",
    "    # ax20.set_title(\"g) N3 wind speed\", fontsize=8, loc=\"left\")\n",
    "    # # Raw cf\n",
    "    # plot_rez(ax22, cf_r_wind)\n",
    "    # ax22.set_title(\"h) N3 raw cf\", fontsize=8, loc=\"left\")\n",
    "    # # BS cf\n",
    "    # plot_rez(ax23, cf_r_bc_wind)\n",
    "    # ax23.set_title(\"i) N3 corrected cf\", fontsize=8, loc=\"left\")\n",
    "\n",
    "    # plt.tight_layout()\n",
    "    plt.subplots_adjust(wspace=0.8, hspace=0.7)\n",
    "\n",
    "    plt.savefig(\"figures/model_fit_wind.pdf\", format=\"pdf\", bbox_inches=\"tight\")"
   ]
  },
  {
   "cell_type": "markdown",
   "id": "db75491e-95fa-4ad1-bee8-b479ca54b94e",
   "metadata": {},
   "source": [
    "Solar"
   ]
  },
  {
   "cell_type": "code",
   "execution_count": 93,
   "id": "7bf0120a-36b3-4376-8ed4-48f0a82b3c6e",
   "metadata": {},
   "outputs": [],
   "source": [
    "def cell_temperature(T, G, V):\n",
    "    \"\"\"\n",
    "    Calculates solar cell temperature.\n",
    "    \n",
    "    T: daytime temperature or hourly temperature (deg C)\n",
    "    G: incoming solar radiation (W/m^2)\n",
    "    V: wind speed at 10 m (m/s)\n",
    "    \"\"\"\n",
    "    c1 = 4.3 # deg C\n",
    "    c2 = 0.943\n",
    "    c3 = 0.028 # deg C m^2 / W\n",
    "    c4 = -1.528 # deg C s / m\n",
    "    \n",
    "    return c1 + (c2 * T) + (c3 * G) + (c4 * V)"
   ]
  },
  {
   "cell_type": "code",
   "execution_count": 94,
   "id": "e2b39b50-450b-42d3-89ea-cb17df03f9e6",
   "metadata": {
    "tags": []
   },
   "outputs": [],
   "source": [
    "def performance_ratio(T_cell):\n",
    "    \"\"\"\n",
    "    Calculate performance ratio (unitless).\n",
    "    \n",
    "    T_cell: cell temperature (deg C)\n",
    "    \"\"\"\n",
    "    T_ref = 25 # reference temperature (deg C)\n",
    "    gamma = -0.005 # constant\n",
    "    \n",
    "    return  1 + gamma * (T_cell - T_ref)"
   ]
  },
  {
   "cell_type": "markdown",
   "id": "fc6abcae-4847-4516-87da-54a737d96c10",
   "metadata": {},
   "source": [
    "Performance ratio"
   ]
  },
  {
   "cell_type": "markdown",
   "id": "72502d65-1acd-4867-a6e4-30750b18af1f",
   "metadata": {},
   "source": [
    "For radiation of 100 W/m^2, as a function of daytime temperature and wind speed.\n",
    "\n",
    "Trying to replicate fig S2 from: https://ars.els-cdn.com/content/image/1-s2.0-S1364032119302862-mmc1.pdf"
   ]
  },
  {
   "cell_type": "code",
   "execution_count": 95,
   "id": "a0dbe6d4-288c-40eb-8970-ba7b0fe67c34",
   "metadata": {},
   "outputs": [],
   "source": [
    "dummy_t = np.linspace(-10, 40, 100)\n",
    "dummy_w = np.linspace(0, 25, 100)"
   ]
  },
  {
   "cell_type": "code",
   "execution_count": 96,
   "id": "2a1adea7-a90f-40ea-b1b4-21436ed9cbff",
   "metadata": {},
   "outputs": [],
   "source": [
    "P_R = np.empty((100, 100))"
   ]
  },
  {
   "cell_type": "code",
   "execution_count": 107,
   "id": "37f6e8dc-2fa3-4db0-ac36-ee64ce8007c0",
   "metadata": {},
   "outputs": [],
   "source": [
    "for i,w in enumerate(dummy_w):\n",
    "    for j, t in enumerate(dummy_t):\n",
    "        T_cell = cell_temperature(t, 500, w)\n",
    "        P_R[i, j] = performance_ratio(T_cell)"
   ]
  },
  {
   "cell_type": "code",
   "execution_count": 108,
   "id": "09e759c3-bdc0-41b8-9a8b-bd1a934a61ce",
   "metadata": {},
   "outputs": [],
   "source": [
    "P_R = xr.DataArray(\n",
    "    P_R.transpose(),\n",
    "    dims = ['cell_T [deg C]', 'W [m/s]'],\n",
    "    coords = {'cell_T [deg C]': dummy_t, 'W [m/s]': dummy_w}\n",
    ")"
   ]
  },
  {
   "cell_type": "code",
   "execution_count": 109,
   "id": "4a95626e-30c0-4bdf-bfb6-a21f92c44f2e",
   "metadata": {},
   "outputs": [],
   "source": [
    "def plot_panel(ax, pr):\n",
    "    pr.plot.contourf(ax=ax, vmin=0.8, vmax=1.4, cbar_kwargs={\"label\": \"\", \"ticks\": np.arange(0.8, 1.41, 0.2)})\n",
    "    ax.set_xlabel(\"Wind speed [m/s]\")\n",
    "    ax.set_ylabel(r\"Temperature [$^{\\circ}$C]\")"
   ]
  },
  {
   "cell_type": "code",
   "execution_count": 114,
   "id": "91836962-ca3c-4dfe-a10f-85bbe9d7f343",
   "metadata": {},
   "outputs": [
    {
     "name": "stderr",
     "output_type": "stream",
     "text": [
      "/jobfs/152624742.gadi-pbs/ipykernel_859222/571149593.py:21: UserWarning: set_ticklabels() should only be used with a fixed number of ticks, i.e. after set_ticks() or using a FixedLocator.\n",
      "  ax.set_xticklabels(xlabels)\n"
     ]
    },
    {
     "data": {
      "image/png": "[encoded data removed]",
      "text/plain": [
       "<Figure size 700x300 with 7 Axes>"
      ]
     },
     "metadata": {},
     "output_type": "display_data"
    }
   ],
   "source": [
    "with plt.rc_context(plt_params):\n",
    "    fig = plt.figure(figsize=(7,3))\n",
    "\n",
    "    gs = fig.add_gridspec(2, 4)#, width_ratios=[0.4, 0.6], height_ratios=[0.5, 0.5])\n",
    "\n",
    "    ax00 = fig.add_subplot(gs[0,:2])\n",
    "    ax01 = fig.add_subplot(gs[0,2:])\n",
    "    ax10 = fig.add_subplot(gs[1,0])\n",
    "    ax11 = fig.add_subplot(gs[1,1])\n",
    "    ax12 = fig.add_subplot(gs[1,2])\n",
    "    ax13 = fig.add_subplot(gs[1,3])\n",
    "    # ax20 = fig.add_subplot(gs[2,0])\n",
    "    # ax22 = fig.add_subplot(gs[2,2])\n",
    "    # ax23 = fig.add_subplot(gs[2,3])\n",
    "\n",
    "    # All REZ barplot\n",
    "    rez_barplot(ax00, \"solarpv\")\n",
    "    ax00.set_title(\"a) 2011-2023 capacity factors, all REZs\", y=1.2, fontsize=8, loc=\"left\")\n",
    "\n",
    "    # CV time series\n",
    "    BC_ts(ax01, cf_r_solar, cf_r_bc_solar, \"solarpv\")\n",
    "    ax01.set_title(\"b) N3 Central-West Orana cross-validation fit\", y=1.4, fontsize=8, loc=\"left\")\n",
    "    \n",
    "    # Variable time series\n",
    "    plot_var_ts(ax10, rad_r, r\"Radiation [W/m${^2}$]\", time_slice=slice(\"2013-10-10\", \"2013-10-14\"))\n",
    "    ax10.set_title(\"c) Surface radiation\", fontsize=8, loc=\"left\")\n",
    "    # Solar panel fit\n",
    "    plot_panel(ax11 ,P_R)\n",
    "    ax11.set_title(\"d) Solar cell fit\\n\"+r\"($G=500$ W/m${^2}$)\", fontsize=8, loc=\"left\")\n",
    "    # CF time series\n",
    "    plot_cf_ts(ax12, cf_r_solar, cf_r_bc_solar, time_slice=slice(\"2013-10-10\", \"2013-10-14\"))\n",
    "    ax12.set_title(\"e) Capacity factor\", fontsize=8, loc=\"left\")\n",
    "    # CF histogram\n",
    "    plot_cf_hist(ax13, cf_r_solar, cf_r_bc_solar)\n",
    "    ax13.set_title(\"f) Capacity factor\\nhistogram\", fontsize=8, loc=\"left\")\n",
    "\n",
    "    # # Input variable mean\n",
    "    # plot_rez(ax20, rad_r, \"Radiation [W/(m^2)]\")\n",
    "    # ax20.set_title(\"g) N3 radiation\", fontsize=8, loc=\"left\")\n",
    "    # # Raw cf\n",
    "    # plot_rez(ax22, cf_r_solar)\n",
    "    # ax22.set_title(\"h) N3 raw cf\", fontsize=8, loc=\"left\")\n",
    "    # # BS cf\n",
    "    # plot_rez(ax23, cf_r_bc_solar)\n",
    "    # ax23.set_title(\"i) N3 corrected cf\", fontsize=8, loc=\"left\")\n",
    "\n",
    "    # plt.tight_layout()\n",
    "    plt.subplots_adjust(wspace=0.8, hspace=0.7)\n",
    "\n",
    "    plt.savefig(\"figures/model_fit_solar.pdf\", format=\"pdf\", bbox_inches=\"tight\")"
   ]
  },
  {
   "cell_type": "code",
   "execution_count": null,
   "id": "42c4f057-d1b7-4412-91fe-ef75d5d3654b",
   "metadata": {},
   "outputs": [],
   "source": []
  }
 ],
 "metadata": {
  "kernelspec": {
   "display_name": "Python [conda env:analysis3]",
   "language": "python",
   "name": "conda-env-analysis3-py"
  },
  "language_info": {
   "codemirror_mode": {
    "name": "ipython",
    "version": 3
   },
   "file_extension": ".py",
   "mimetype": "text/x-python",
   "name": "python",
   "nbconvert_exporter": "python",
   "pygments_lexer": "ipython3",
   "version": "3.11.13"
  }
 },
 "nbformat": 4,
 "nbformat_minor": 5
}
