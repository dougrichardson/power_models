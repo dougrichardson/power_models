{
 "cells": [
  {
   "cell_type": "markdown",
   "id": "fd667142-3072-4b51-82e5-aeac61e35045",
   "metadata": {},
   "source": [
    "# Power output for REZ for different energy scenarios"
   ]
  },
  {
   "cell_type": "code",
   "execution_count": 1,
   "id": "e751ef1e-561a-466e-9d52-fc24a38cb20e",
   "metadata": {},
   "outputs": [],
   "source": [
    "from dask.distributed import Client,LocalCluster\n",
    "from dask_jobqueue import PBSCluster"
   ]
  },
  {
   "cell_type": "code",
   "execution_count": 2,
   "id": "2c573e26-2263-40a3-9eae-a817d59628ee",
   "metadata": {},
   "outputs": [],
   "source": [
    "# client.close()\n",
    "# cluster.close()"
   ]
  },
  {
   "cell_type": "code",
   "execution_count": 3,
   "id": "110fe4e4-c193-41f5-a258-b9de322e105f",
   "metadata": {
    "tags": []
   },
   "outputs": [
    {
     "name": "stderr",
     "output_type": "stream",
     "text": [
      "/g/data/w42/dr6273/apps/conda/envs/pangeo/lib/python3.10/site-packages/distributed/node.py:182: UserWarning: Port 8787 is already in use.\n",
      "Perhaps you already have a cluster running?\n",
      "Hosting the HTTP server on port 39797 instead\n",
      "  warnings.warn(\n"
     ]
    }
   ],
   "source": [
    "# One node on Gadi has 48 cores - try and use up a full node before going to multiple nodes (jobs)\n",
    "\n",
    "walltime = \"00:30:00\"\n",
    "cores = 24\n",
    "memory = str(4 * cores) + \"GB\"\n",
    "\n",
    "cluster = PBSCluster(walltime=str(walltime), cores=cores, memory=str(memory), processes=cores,\n",
    "                     job_extra_directives=[\"-q normal\",\n",
    "                                           \"-P dt6\",\n",
    "                                           \"-l ncpus=\"+str(cores),\n",
    "                                           \"-l mem=\"+str(memory),\n",
    "                                           \"-l storage=gdata/w42+gdata/rt52+scratch/dt6\"],\n",
    "                     local_directory=\"$TMPDIR\",\n",
    "                     job_directives_skip=[\"select\"])"
   ]
  },
  {
   "cell_type": "code",
   "execution_count": 4,
   "id": "1604c7e6-ee20-4ea2-91f3-bf10ec5874bf",
   "metadata": {
    "tags": []
   },
   "outputs": [],
   "source": [
    "cluster.scale(jobs=1)\n",
    "client = Client(cluster)"
   ]
  },
  {
   "cell_type": "code",
   "execution_count": 5,
   "id": "f9fc9dc4-49ef-4215-b12b-b0151c9d0a2f",
   "metadata": {},
   "outputs": [
    {
     "data": {
      "text/html": [
       "<div>\n",
       "    <div style=\"width: 24px; height: 24px; background-color: #e1e1e1; border: 3px solid #9D9D9D; border-radius: 5px; position: absolute;\"> </div>\n",
       "    <div style=\"margin-left: 48px;\">\n",
       "        <h3 style=\"margin-bottom: 0px;\">Client</h3>\n",
       "        <p style=\"color: #9D9D9D; margin-bottom: 0px;\">Client-c193ec56-728a-11f0-9aa7-000003d2fe80</p>\n",
       "        <table style=\"width: 100%; text-align: left;\">\n",
       "\n",
       "        <tr>\n",
       "        \n",
       "            <td style=\"text-align: left;\"><strong>Connection method:</strong> Cluster object</td>\n",
       "            <td style=\"text-align: left;\"><strong>Cluster type:</strong> dask_jobqueue.PBSCluster</td>\n",
       "        \n",
       "        </tr>\n",
       "\n",
       "        \n",
       "            <tr>\n",
       "                <td style=\"text-align: left;\">\n",
       "                    <strong>Dashboard: </strong> <a href=\"/proxy/39797/status\" target=\"_blank\">/proxy/39797/status</a>\n",
       "                </td>\n",
       "                <td style=\"text-align: left;\"></td>\n",
       "            </tr>\n",
       "        \n",
       "\n",
       "        </table>\n",
       "\n",
       "        \n",
       "            <button style=\"margin-bottom: 12px;\" data-commandlinker-command=\"dask:populate-and-launch-layout\" data-commandlinker-args='{\"url\": \"/proxy/39797/status\" }'>\n",
       "                Launch dashboard in JupyterLab\n",
       "            </button>\n",
       "        \n",
       "\n",
       "        \n",
       "            <details>\n",
       "            <summary style=\"margin-bottom: 20px;\"><h3 style=\"display: inline;\">Cluster Info</h3></summary>\n",
       "            <div class=\"jp-RenderedHTMLCommon jp-RenderedHTML jp-mod-trusted jp-OutputArea-output\">\n",
       "    <div style=\"width: 24px; height: 24px; background-color: #e1e1e1; border: 3px solid #9D9D9D; border-radius: 5px; position: absolute;\">\n",
       "    </div>\n",
       "    <div style=\"margin-left: 48px;\">\n",
       "        <h3 style=\"margin-bottom: 0px; margin-top: 0px;\">PBSCluster</h3>\n",
       "        <p style=\"color: #9D9D9D; margin-bottom: 0px;\">9a24063d</p>\n",
       "        <table style=\"width: 100%; text-align: left;\">\n",
       "            <tr>\n",
       "                <td style=\"text-align: left;\">\n",
       "                    <strong>Dashboard:</strong> <a href=\"/proxy/39797/status\" target=\"_blank\">/proxy/39797/status</a>\n",
       "                </td>\n",
       "                <td style=\"text-align: left;\">\n",
       "                    <strong>Workers:</strong> 0\n",
       "                </td>\n",
       "            </tr>\n",
       "            <tr>\n",
       "                <td style=\"text-align: left;\">\n",
       "                    <strong>Total threads:</strong> 0\n",
       "                </td>\n",
       "                <td style=\"text-align: left;\">\n",
       "                    <strong>Total memory:</strong> 0 B\n",
       "                </td>\n",
       "            </tr>\n",
       "            \n",
       "        </table>\n",
       "\n",
       "        <details>\n",
       "            <summary style=\"margin-bottom: 20px;\">\n",
       "                <h3 style=\"display: inline;\">Scheduler Info</h3>\n",
       "            </summary>\n",
       "\n",
       "            <div style=\"\">\n",
       "    <div>\n",
       "        <div style=\"width: 24px; height: 24px; background-color: #FFF7E5; border: 3px solid #FF6132; border-radius: 5px; position: absolute;\"> </div>\n",
       "        <div style=\"margin-left: 48px;\">\n",
       "            <h3 style=\"margin-bottom: 0px;\">Scheduler</h3>\n",
       "            <p style=\"color: #9D9D9D; margin-bottom: 0px;\">Scheduler-10c0b5a6-b387-4a85-a6ae-ff3283519fe9</p>\n",
       "            <table style=\"width: 100%; text-align: left;\">\n",
       "                <tr>\n",
       "                    <td style=\"text-align: left;\">\n",
       "                        <strong>Comm:</strong> tcp://10.6.121.12:43695\n",
       "                    </td>\n",
       "                    <td style=\"text-align: left;\">\n",
       "                        <strong>Workers:</strong> 0\n",
       "                    </td>\n",
       "                </tr>\n",
       "                <tr>\n",
       "                    <td style=\"text-align: left;\">\n",
       "                        <strong>Dashboard:</strong> <a href=\"/proxy/39797/status\" target=\"_blank\">/proxy/39797/status</a>\n",
       "                    </td>\n",
       "                    <td style=\"text-align: left;\">\n",
       "                        <strong>Total threads:</strong> 0\n",
       "                    </td>\n",
       "                </tr>\n",
       "                <tr>\n",
       "                    <td style=\"text-align: left;\">\n",
       "                        <strong>Started:</strong> Just now\n",
       "                    </td>\n",
       "                    <td style=\"text-align: left;\">\n",
       "                        <strong>Total memory:</strong> 0 B\n",
       "                    </td>\n",
       "                </tr>\n",
       "            </table>\n",
       "        </div>\n",
       "    </div>\n",
       "\n",
       "    <details style=\"margin-left: 48px;\">\n",
       "        <summary style=\"margin-bottom: 20px;\">\n",
       "            <h3 style=\"display: inline;\">Workers</h3>\n",
       "        </summary>\n",
       "\n",
       "        \n",
       "\n",
       "    </details>\n",
       "</div>\n",
       "\n",
       "        </details>\n",
       "    </div>\n",
       "</div>\n",
       "            </details>\n",
       "        \n",
       "\n",
       "    </div>\n",
       "</div>"
      ],
      "text/plain": [
       "<Client: 'tcp://10.6.121.12:43695' processes=0 threads=0, memory=0 B>"
      ]
     },
     "execution_count": 5,
     "metadata": {},
     "output_type": "execute_result"
    }
   ],
   "source": [
    "client"
   ]
  },
  {
   "cell_type": "code",
   "execution_count": 6,
   "id": "93146e58-ecad-4b7b-a0f4-cc65e6f8724d",
   "metadata": {},
   "outputs": [],
   "source": [
    "import xarray as xr\n",
    "import pandas as pd"
   ]
  },
  {
   "cell_type": "code",
   "execution_count": 7,
   "id": "9d3ead5d-258f-4617-9e66-128e2a75de80",
   "metadata": {},
   "outputs": [
    {
     "name": "stdout",
     "output_type": "stream",
     "text": [
      "/g/data/w42/dr6273/work/power_models\n"
     ]
    }
   ],
   "source": [
    "%cd /g/data/w42/dr6273/work/power_models\n",
    "import functions as fn"
   ]
  },
  {
   "cell_type": "code",
   "execution_count": 8,
   "id": "5d58c151-da0f-46d0-8453-ce3124658dfd",
   "metadata": {},
   "outputs": [],
   "source": [
    "%load_ext autoreload\n",
    "%autoreload 2"
   ]
  },
  {
   "cell_type": "markdown",
   "id": "8589c94e-fd76-4997-9501-ff12ccab33a5",
   "metadata": {},
   "source": [
    "# Load REZ data"
   ]
  },
  {
   "cell_type": "markdown",
   "id": "01ca4493-82c5-46e1-a56c-a7ec8b40fae0",
   "metadata": {},
   "source": [
    "#### REZ mask"
   ]
  },
  {
   "cell_type": "code",
   "execution_count": 9,
   "id": "3f8708a2-05db-497d-aeb8-67dd1432e300",
   "metadata": {},
   "outputs": [],
   "source": [
    "mask = xr.open_dataset('/g/data/w42/dr6273/work/projects/Aus_energy/data/rez_2024_mask_era5_grid.nc').REZ"
   ]
  },
  {
   "cell_type": "markdown",
   "id": "4d2c099c-bd89-49a7-b4db-7aa498d95271",
   "metadata": {},
   "source": [
    "#### REZ generation"
   ]
  },
  {
   "cell_type": "code",
   "execution_count": 10,
   "id": "c2cd8a6f-9879-42e8-8d1a-d5c58a53734a",
   "metadata": {},
   "outputs": [],
   "source": [
    "_gen = pd.read_csv(\"/g/data/w42/dr6273/work/data/REZ/2024/REZ_potential.csv\", index_col=0)"
   ]
  },
  {
   "cell_type": "code",
   "execution_count": 11,
   "id": "9c33430f-53e8-4074-82be-811d6621408f",
   "metadata": {},
   "outputs": [],
   "source": [
    "# Tidy column names\n",
    "_gen.columns = [i.replace(\"90\", \"9-\") for i in _gen.columns]\n",
    "_gen.columns = [i.replace(\" \", \"_\") for i in _gen.columns]"
   ]
  },
  {
   "cell_type": "code",
   "execution_count": 12,
   "id": "24278640-949e-4901-8f99-e3cc29004bcf",
   "metadata": {},
   "outputs": [],
   "source": [
    "# Sum scenarios with existing capacity\n",
    "gen = _gen.copy()\n",
    "for col in _gen.columns[2:]:\n",
    "    if col[:3] == \"Exi\":\n",
    "        pass\n",
    "    else:\n",
    "        gen_type = col.split(\"_\")[-2]\n",
    "        gen[col] = _gen[col] + _gen[\"Existing_\" + gen_type]"
   ]
  },
  {
   "cell_type": "markdown",
   "id": "888fb041-23b7-45cf-8e61-65e82a4f0388",
   "metadata": {},
   "source": [
    "Set some REZs to zero wind. In the ISP, they have no modelled transmission, and/or in the IASR Workbook there are no capacity factors because there is a resource limit of zero.\n",
    "\n",
    "- N7 Tumut\n",
    "- S5 Northern SA"
   ]
  },
  {
   "cell_type": "code",
   "execution_count": 13,
   "id": "c9ed9421-26b3-4fd8-b4ee-d45594f1d23a",
   "metadata": {},
   "outputs": [],
   "source": [
    "gen.loc[\"N7\", gen.columns[-10:]] = 0\n",
    "gen.loc[\"S5\", gen.columns[-10:]] = 0"
   ]
  },
  {
   "cell_type": "code",
   "execution_count": 14,
   "id": "31f819a2-c499-4a97-b93c-b3592e58d654",
   "metadata": {},
   "outputs": [
    {
     "data": {
      "text/html": [
       "<div>\n",
       "<style scoped>\n",
       "    .dataframe tbody tr th:only-of-type {\n",
       "        vertical-align: middle;\n",
       "    }\n",
       "\n",
       "    .dataframe tbody tr th {\n",
       "        vertical-align: top;\n",
       "    }\n",
       "\n",
       "    .dataframe thead th {\n",
       "        text-align: right;\n",
       "    }\n",
       "</style>\n",
       "<table border=\"1\" class=\"dataframe\">\n",
       "  <thead>\n",
       "    <tr style=\"text-align: right;\">\n",
       "      <th></th>\n",
       "      <th>Solar_renewable_potential_(MW)</th>\n",
       "      <th>Wind_renewable_potential_(MW)</th>\n",
       "      <th>Existing_solar</th>\n",
       "      <th>Progressive_solar_2029-30</th>\n",
       "      <th>Progressive_solar_2039-40</th>\n",
       "      <th>Progressive_solar_2049-50</th>\n",
       "      <th>Step_change_solar_2029-30</th>\n",
       "      <th>Step_change_solar_2039-40</th>\n",
       "      <th>Step_change_solar_2049-50</th>\n",
       "      <th>Green_energy_solar_2029-30</th>\n",
       "      <th>...</th>\n",
       "      <th>Existing_wind</th>\n",
       "      <th>Progressive_wind_2029-30</th>\n",
       "      <th>Progressive_wind_2039-40</th>\n",
       "      <th>Progressive_wind_2049-50</th>\n",
       "      <th>Step_change_wind_2029-30</th>\n",
       "      <th>Step_change_wind_2039-40</th>\n",
       "      <th>Step_change_wind_2049-50</th>\n",
       "      <th>Green_energy_wind_2029-30</th>\n",
       "      <th>Green_energy_wind_2039-40</th>\n",
       "      <th>Green_energy_wind_2049-50</th>\n",
       "    </tr>\n",
       "    <tr>\n",
       "      <th>REZ</th>\n",
       "      <th></th>\n",
       "      <th></th>\n",
       "      <th></th>\n",
       "      <th></th>\n",
       "      <th></th>\n",
       "      <th></th>\n",
       "      <th></th>\n",
       "      <th></th>\n",
       "      <th></th>\n",
       "      <th></th>\n",
       "      <th></th>\n",
       "      <th></th>\n",
       "      <th></th>\n",
       "      <th></th>\n",
       "      <th></th>\n",
       "      <th></th>\n",
       "      <th></th>\n",
       "      <th></th>\n",
       "      <th></th>\n",
       "      <th></th>\n",
       "      <th></th>\n",
       "    </tr>\n",
       "  </thead>\n",
       "  <tbody>\n",
       "    <tr>\n",
       "      <th>N1</th>\n",
       "      <td>6385</td>\n",
       "      <td>0</td>\n",
       "      <td>166</td>\n",
       "      <td>216</td>\n",
       "      <td>216</td>\n",
       "      <td>266</td>\n",
       "      <td>166</td>\n",
       "      <td>216</td>\n",
       "      <td>266</td>\n",
       "      <td>216</td>\n",
       "      <td>...</td>\n",
       "      <td>0</td>\n",
       "      <td>0</td>\n",
       "      <td>0</td>\n",
       "      <td>0</td>\n",
       "      <td>0</td>\n",
       "      <td>0</td>\n",
       "      <td>0</td>\n",
       "      <td>0</td>\n",
       "      <td>0</td>\n",
       "      <td>0</td>\n",
       "    </tr>\n",
       "    <tr>\n",
       "      <th>N2</th>\n",
       "      <td>2950</td>\n",
       "      <td>7400</td>\n",
       "      <td>855</td>\n",
       "      <td>905</td>\n",
       "      <td>1355</td>\n",
       "      <td>3855</td>\n",
       "      <td>855</td>\n",
       "      <td>3255</td>\n",
       "      <td>6255</td>\n",
       "      <td>3155</td>\n",
       "      <td>...</td>\n",
       "      <td>442</td>\n",
       "      <td>3492</td>\n",
       "      <td>4042</td>\n",
       "      <td>7842</td>\n",
       "      <td>3442</td>\n",
       "      <td>7842</td>\n",
       "      <td>7842</td>\n",
       "      <td>4992</td>\n",
       "      <td>9142</td>\n",
       "      <td>9592</td>\n",
       "    </tr>\n",
       "    <tr>\n",
       "      <th>N3</th>\n",
       "      <td>6850</td>\n",
       "      <td>3000</td>\n",
       "      <td>1497</td>\n",
       "      <td>3197</td>\n",
       "      <td>3447</td>\n",
       "      <td>7597</td>\n",
       "      <td>2947</td>\n",
       "      <td>5897</td>\n",
       "      <td>8347</td>\n",
       "      <td>4447</td>\n",
       "      <td>...</td>\n",
       "      <td>673</td>\n",
       "      <td>4373</td>\n",
       "      <td>4373</td>\n",
       "      <td>4873</td>\n",
       "      <td>6123</td>\n",
       "      <td>6123</td>\n",
       "      <td>8473</td>\n",
       "      <td>7373</td>\n",
       "      <td>7473</td>\n",
       "      <td>8173</td>\n",
       "    </tr>\n",
       "    <tr>\n",
       "      <th>N4</th>\n",
       "      <td>8000</td>\n",
       "      <td>5100</td>\n",
       "      <td>53</td>\n",
       "      <td>253</td>\n",
       "      <td>253</td>\n",
       "      <td>403</td>\n",
       "      <td>203</td>\n",
       "      <td>203</td>\n",
       "      <td>453</td>\n",
       "      <td>253</td>\n",
       "      <td>...</td>\n",
       "      <td>198</td>\n",
       "      <td>298</td>\n",
       "      <td>298</td>\n",
       "      <td>298</td>\n",
       "      <td>298</td>\n",
       "      <td>298</td>\n",
       "      <td>348</td>\n",
       "      <td>348</td>\n",
       "      <td>348</td>\n",
       "      <td>348</td>\n",
       "    </tr>\n",
       "    <tr>\n",
       "      <th>N5</th>\n",
       "      <td>2256</td>\n",
       "      <td>3900</td>\n",
       "      <td>1122</td>\n",
       "      <td>1822</td>\n",
       "      <td>1822</td>\n",
       "      <td>3372</td>\n",
       "      <td>2272</td>\n",
       "      <td>2272</td>\n",
       "      <td>3372</td>\n",
       "      <td>1922</td>\n",
       "      <td>...</td>\n",
       "      <td>0</td>\n",
       "      <td>450</td>\n",
       "      <td>450</td>\n",
       "      <td>450</td>\n",
       "      <td>600</td>\n",
       "      <td>600</td>\n",
       "      <td>1000</td>\n",
       "      <td>1000</td>\n",
       "      <td>1000</td>\n",
       "      <td>1000</td>\n",
       "    </tr>\n",
       "  </tbody>\n",
       "</table>\n",
       "<p>5 rows × 22 columns</p>\n",
       "</div>"
      ],
      "text/plain": [
       "     Solar_renewable_potential_(MW)  Wind_renewable_potential_(MW)  \\\n",
       "REZ                                                                  \n",
       "N1                             6385                              0   \n",
       "N2                             2950                           7400   \n",
       "N3                             6850                           3000   \n",
       "N4                             8000                           5100   \n",
       "N5                             2256                           3900   \n",
       "\n",
       "     Existing_solar  Progressive_solar_2029-30  Progressive_solar_2039-40  \\\n",
       "REZ                                                                         \n",
       "N1              166                        216                        216   \n",
       "N2              855                        905                       1355   \n",
       "N3             1497                       3197                       3447   \n",
       "N4               53                        253                        253   \n",
       "N5             1122                       1822                       1822   \n",
       "\n",
       "     Progressive_solar_2049-50  Step_change_solar_2029-30  \\\n",
       "REZ                                                         \n",
       "N1                         266                        166   \n",
       "N2                        3855                        855   \n",
       "N3                        7597                       2947   \n",
       "N4                         403                        203   \n",
       "N5                        3372                       2272   \n",
       "\n",
       "     Step_change_solar_2039-40  Step_change_solar_2049-50  \\\n",
       "REZ                                                         \n",
       "N1                         216                        266   \n",
       "N2                        3255                       6255   \n",
       "N3                        5897                       8347   \n",
       "N4                         203                        453   \n",
       "N5                        2272                       3372   \n",
       "\n",
       "     Green_energy_solar_2029-30  ...  Existing_wind  Progressive_wind_2029-30  \\\n",
       "REZ                              ...                                            \n",
       "N1                          216  ...              0                         0   \n",
       "N2                         3155  ...            442                      3492   \n",
       "N3                         4447  ...            673                      4373   \n",
       "N4                          253  ...            198                       298   \n",
       "N5                         1922  ...              0                       450   \n",
       "\n",
       "     Progressive_wind_2039-40  Progressive_wind_2049-50  \\\n",
       "REZ                                                       \n",
       "N1                          0                         0   \n",
       "N2                       4042                      7842   \n",
       "N3                       4373                      4873   \n",
       "N4                        298                       298   \n",
       "N5                        450                       450   \n",
       "\n",
       "     Step_change_wind_2029-30  Step_change_wind_2039-40  \\\n",
       "REZ                                                       \n",
       "N1                          0                         0   \n",
       "N2                       3442                      7842   \n",
       "N3                       6123                      6123   \n",
       "N4                        298                       298   \n",
       "N5                        600                       600   \n",
       "\n",
       "     Step_change_wind_2049-50  Green_energy_wind_2029-30  \\\n",
       "REZ                                                        \n",
       "N1                          0                          0   \n",
       "N2                       7842                       4992   \n",
       "N3                       8473                       7373   \n",
       "N4                        348                        348   \n",
       "N5                       1000                       1000   \n",
       "\n",
       "     Green_energy_wind_2039-40  Green_energy_wind_2049-50  \n",
       "REZ                                                        \n",
       "N1                           0                          0  \n",
       "N2                        9142                       9592  \n",
       "N3                        7473                       8173  \n",
       "N4                         348                        348  \n",
       "N5                        1000                       1000  \n",
       "\n",
       "[5 rows x 22 columns]"
      ]
     },
     "execution_count": 14,
     "metadata": {},
     "output_type": "execute_result"
    }
   ],
   "source": [
    "gen.head()"
   ]
  },
  {
   "cell_type": "markdown",
   "id": "81b798ab-12db-4588-85d7-939d0384d5dd",
   "metadata": {},
   "source": [
    "### Artifically increase generation in some REZs\n",
    "\n",
    "- Based on https://github.com/dougrichardson/seasonal_energy/blob/main/06_capacity_factors.ipynb\n",
    "- Testing to see if adding capacity alters correlation of energy with climate modes"
   ]
  },
  {
   "cell_type": "markdown",
   "id": "458a9c67-1925-43aa-94ba-8f5bd76bcbf2",
   "metadata": {},
   "source": [
    "##### Wind"
   ]
  },
  {
   "cell_type": "code",
   "execution_count": 15,
   "id": "4c365559-ec53-4792-b9f5-74f7ffb818f1",
   "metadata": {},
   "outputs": [],
   "source": [
    "# Replace Step change 2049-50 wind in N10 with 5,200 MW (https://www.dcceew.gov.au/energy/renewable/offshore-wind/areas/hunter)\n",
    "gen[\"artificial_N10_wind_2049-50\"] = gen[\"Step_change_wind_2049-50\"].copy()\n",
    "gen.loc[\"N10\", \"artificial_N10_wind_2049-50\"] = 5200"
   ]
  },
  {
   "cell_type": "code",
   "execution_count": 16,
   "id": "e2201aad-da06-45cb-af24-c1d43bc9f30a",
   "metadata": {},
   "outputs": [],
   "source": [
    "# Replace Step change 2049-50 wind in N11 with 2,900 MW (https://www.dcceew.gov.au/energy/renewable/offshore-wind/areas/illawarra)\n",
    "gen[\"artificial_N11_wind_2049-50\"] = gen[\"Step_change_wind_2049-50\"].copy()\n",
    "gen.loc[\"N11\", \"artificial_N11_wind_2049-50\"] = 2900"
   ]
  },
  {
   "cell_type": "code",
   "execution_count": 17,
   "id": "7071630a-ab38-4618-98bf-06d87c320af0",
   "metadata": {},
   "outputs": [],
   "source": [
    "# Replace Step change 2049-50 wind in Q1 with green energy scenario\n",
    "gen[\"artificial_Q1_wind_2049-50\"] = gen[\"Step_change_wind_2049-50\"].copy()\n",
    "gen.loc[\"Q1\", \"artificial_Q1_wind_2049-50\"] = gen.loc[\"Q1\"][\"Green_energy_wind_2049-50\"].copy()"
   ]
  },
  {
   "cell_type": "code",
   "execution_count": 18,
   "id": "f227acf8-ac33-4d4d-9014-5bf919ffbcda",
   "metadata": {},
   "outputs": [],
   "source": [
    "# Replace Step change 2049-50 wind in Q2 with green energy scenario\n",
    "gen[\"artificial_Q2_wind_2049-50\"] = gen[\"Step_change_wind_2049-50\"].copy()\n",
    "gen.loc[\"Q2\", \"artificial_Q2_wind_2049-50\"] = gen.loc[\"Q2\"][\"Green_energy_wind_2049-50\"].copy()"
   ]
  },
  {
   "cell_type": "code",
   "execution_count": 19,
   "id": "955f64f5-496f-45c7-83ff-d8d0e40741fc",
   "metadata": {},
   "outputs": [],
   "source": [
    "# Replace Step change 2049-50 wind in Q4 with green energy scenario\n",
    "gen[\"artificial_Q4_wind_2049-50\"] = gen[\"Step_change_wind_2049-50\"].copy()\n",
    "gen.loc[\"Q4\", \"artificial_Q4_wind_2049-50\"] = gen.loc[\"Q4\"][\"Green_energy_wind_2049-50\"].copy()"
   ]
  },
  {
   "cell_type": "code",
   "execution_count": 20,
   "id": "b224e881-97d3-4925-8b23-4d91476ce839",
   "metadata": {},
   "outputs": [],
   "source": [
    "# Replace Step change 2049-50 wind in Q5 with green energy scenario\n",
    "gen[\"artificial_Q5_wind_2049-50\"] = gen[\"Step_change_wind_2049-50\"].copy()\n",
    "gen.loc[\"Q5\", \"artificial_Q5_wind_2049-50\"] = gen.loc[\"Q5\"][\"Green_energy_wind_2049-50\"].copy()"
   ]
  },
  {
   "cell_type": "code",
   "execution_count": 21,
   "id": "165b93d6-527f-49a6-9214-eca78b3c91af",
   "metadata": {},
   "outputs": [],
   "source": [
    "# Replace Step change 2049-50 wind in Q6 with green energy scenario\n",
    "gen[\"artificial_Q6_wind_2049-50\"] = gen[\"Step_change_wind_2049-50\"].copy()\n",
    "gen.loc[\"Q6\", \"artificial_Q6_wind_2049-50\"] = gen.loc[\"Q6\"][\"Green_energy_wind_2049-50\"].copy()"
   ]
  },
  {
   "cell_type": "code",
   "execution_count": 22,
   "id": "97d09bd8-25b4-413c-9d1d-5265cdefd65e",
   "metadata": {},
   "outputs": [],
   "source": [
    "# Replace Step change 2049-50 wind in Q8 with green energy scenario\n",
    "gen[\"artificial_Q8_wind_2049-50\"] = gen[\"Step_change_wind_2049-50\"].copy()\n",
    "gen.loc[\"Q8\", \"artificial_Q8_wind_2049-50\"] = gen.loc[\"Q8\"][\"Green_energy_wind_2049-50\"].copy()"
   ]
  },
  {
   "cell_type": "code",
   "execution_count": 23,
   "id": "841e8a36-f9ed-40a1-8945-9b74076a7696",
   "metadata": {},
   "outputs": [],
   "source": [
    "# Replace Step change 2049-50 wind in S6 with with renewable potential (2,400 MW)\n",
    "gen[\"artificial_S6_wind_2049-50\"] = gen[\"Step_change_wind_2049-50\"].copy()\n",
    "gen.loc[\"S6\", \"artificial_S6_wind_2049-50\"] = 2400"
   ]
  },
  {
   "cell_type": "code",
   "execution_count": 24,
   "id": "b74ef68c-a2fc-4276-b6d4-e710df7b0701",
   "metadata": {},
   "outputs": [],
   "source": [
    "# Replace Step change 2049-50 wind in S9 with green energy scenario\n",
    "gen[\"artificial_S9_wind_2049-50\"] = gen[\"Step_change_wind_2049-50\"].copy()\n",
    "gen.loc[\"S9\", \"artificial_S9_wind_2049-50\"] = gen.loc[\"S9\"][\"Green_energy_wind_2049-50\"].copy()"
   ]
  },
  {
   "cell_type": "code",
   "execution_count": 25,
   "id": "21a8a09c-63ad-4441-b735-feeabd7592ba",
   "metadata": {},
   "outputs": [],
   "source": [
    "# Replace Step change 2049-50 wind in S10 with renewable potential (20,428 MW)\n",
    "gen[\"artificial_S10_wind_2049-50\"] = gen[\"Step_change_wind_2049-50\"].copy()\n",
    "gen.loc[\"S10\", \"artificial_S10_wind_2049-50\"] = 20428"
   ]
  },
  {
   "cell_type": "code",
   "execution_count": 26,
   "id": "78c27bfb-e820-4d64-8a4a-edddfabce395",
   "metadata": {},
   "outputs": [],
   "source": [
    "# Replace Step change 2049-50 wind in T2 with green energy scenario\n",
    "gen[\"artificial_T2_wind_2049-50\"] = gen[\"Step_change_wind_2049-50\"].copy()\n",
    "gen.loc[\"T2\", \"artificial_T2_wind_2049-50\"] = gen.loc[\"T2\"][\"Green_energy_wind_2049-50\"].copy()"
   ]
  },
  {
   "cell_type": "code",
   "execution_count": 27,
   "id": "3fcfd21e-2634-4a44-a7b6-c5c5d7595f91",
   "metadata": {},
   "outputs": [],
   "source": [
    "# Replace Step change 2049-50 wind in T3 with green energy scenario\n",
    "gen[\"artificial_T3_wind_2049-50\"] = gen[\"Step_change_wind_2049-50\"].copy()\n",
    "gen.loc[\"T3\", \"artificial_T3_wind_2049-50\"] = gen.loc[\"T3\"][\"Green_energy_wind_2049-50\"].copy()"
   ]
  },
  {
   "cell_type": "code",
   "execution_count": 28,
   "id": "e869b73c-b2bb-4a33-b308-1a0d06053fbf",
   "metadata": {},
   "outputs": [],
   "source": [
    "# Replace Step change 2049-50 wind in V4 with green energy scenario\n",
    "gen[\"artificial_V4_wind_2049-50\"] = gen[\"Step_change_wind_2049-50\"].copy()\n",
    "gen.loc[\"V4\", \"artificial_V4_wind_2049-50\"] = gen.loc[\"V4\"][\"Green_energy_wind_2049-50\"].copy()"
   ]
  },
  {
   "cell_type": "code",
   "execution_count": 29,
   "id": "0dce6c13-9a11-44f9-a6dd-05b7a5a91b45",
   "metadata": {},
   "outputs": [],
   "source": [
    "# gen[\"artificial_V7_wind_2049-50\"] = gen[\"Step_change_wind_2049-50\"].copy()\n",
    "# gen.loc[\"V7\", \"artificial_V7_wind_2049-50\"] = 2900"
   ]
  },
  {
   "cell_type": "markdown",
   "id": "acca531e-cb10-4406-a700-6690d48bdc10",
   "metadata": {},
   "source": [
    "##### Solar"
   ]
  },
  {
   "cell_type": "code",
   "execution_count": 30,
   "id": "c43c928b-cb71-410e-899b-75919dd0f82e",
   "metadata": {},
   "outputs": [],
   "source": [
    "# Replace Step change 2049-50 solar in N9 with green energy scenario\n",
    "gen[\"artificial_N9_solar_2049-50\"] = gen[\"Step_change_solar_2049-50\"].copy()\n",
    "gen.loc[\"N9\", \"artificial_N9_solar_2049-50\"] = gen.loc[\"N9\"][\"Green_energy_solar_2049-50\"].copy()"
   ]
  },
  {
   "cell_type": "code",
   "execution_count": 31,
   "id": "ac99d42a-f716-4300-abb1-92513e0048d8",
   "metadata": {},
   "outputs": [],
   "source": [
    "# Replace Step change 2049-50 solar in V1 with green energy scenario\n",
    "gen[\"artificial_V1_solar_2049-50\"] = gen[\"Step_change_solar_2049-50\"].copy()\n",
    "gen.loc[\"V1\", \"artificial_V1_solar_2049-50\"] = gen.loc[\"V1\"][\"Green_energy_solar_2049-50\"].copy()"
   ]
  },
  {
   "cell_type": "code",
   "execution_count": 32,
   "id": "58a87d53-df88-4cb6-84ea-a97af4b51fdb",
   "metadata": {},
   "outputs": [],
   "source": [
    "# Replace Step change 2049-50 solar in V2 with green energy scenario\n",
    "gen[\"artificial_V2_solar_2049-50\"] = gen[\"Step_change_solar_2049-50\"].copy()\n",
    "gen.loc[\"V2\", \"artificial_V2_solar_2049-50\"] = gen.loc[\"V2\"][\"Green_energy_solar_2049-50\"].copy()"
   ]
  },
  {
   "cell_type": "code",
   "execution_count": 33,
   "id": "7f735b75-cbd1-4c2e-a851-ff1f2c9c01c4",
   "metadata": {},
   "outputs": [],
   "source": [
    "# Replace Step change 2049-50 solar in V5 with green energy scenario\n",
    "gen[\"artificial_V5_solar_2049-50\"] = gen[\"Step_change_solar_2049-50\"].copy()\n",
    "gen.loc[\"V5\", \"artificial_V5_solar_2049-50\"] = gen.loc[\"V5\"][\"Green_energy_solar_2049-50\"].copy()"
   ]
  },
  {
   "cell_type": "code",
   "execution_count": 34,
   "id": "65ca4a85-8ba0-4327-a244-546d7eb8efff",
   "metadata": {},
   "outputs": [],
   "source": [
    "# Replace Step change 2049-50 solar in V6 with green energy scenario\n",
    "gen[\"artificial_V6_solar_2049-50\"] = gen[\"Step_change_solar_2049-50\"].copy()\n",
    "gen.loc[\"V6\", \"artificial_V6_solar_2049-50\"] = gen.loc[\"V6\"][\"Green_energy_solar_2049-50\"].copy()"
   ]
  },
  {
   "cell_type": "markdown",
   "id": "8f0ebf81-e5cb-4cea-90c8-78648f098a76",
   "metadata": {},
   "source": [
    "### Pre-compute capacity factor averages:"
   ]
  },
  {
   "cell_type": "code",
   "execution_count": 14,
   "id": "ebb57503-1fc1-400c-b179-07d011e12cf9",
   "metadata": {},
   "outputs": [],
   "source": [
    "# def calculate_mean_cf(years, gen_type, method=\"van_der_Wiel\", chunks=None):\n",
    "#     \"\"\"\n",
    "#     Return mean capacity factor over all years\n",
    "    \n",
    "#     gen_type: str, 'wind' or 'solar'\n",
    "#     method: str, method used to compute capacity factor, e.g. 'van_der_Wiel'\n",
    "#     chunks: dict, how to chunk. Default is None\n",
    "#     \"\"\"\n",
    "#     da_list = []\n",
    "#     for year in years:\n",
    "#         cf = fn.load_hourly_cf(year, gen_type, method=method, chunks={\"lat\": 75, \"lon\": 100, \"time\": -1}).capacity_factor\n",
    "#         cf = cf.mean(\"time\").expand_dims({\"time\": [year]})\n",
    "#         da_list.append(cf)\n",
    "#     cf = xr.concat(da_list, dim=\"time\")\n",
    "#     return cf.mean(\"time\")"
   ]
  },
  {
   "cell_type": "code",
   "execution_count": 15,
   "id": "0c7c55cd-ad51-4575-9396-9698f17d808e",
   "metadata": {},
   "outputs": [],
   "source": [
    "fp = \"/g/data/w42/dr6273/work/projects/Aus_energy/production_metrics/\""
   ]
  },
  {
   "cell_type": "code",
   "execution_count": 16,
   "id": "68b1250e-7361-443c-ade2-68ca5063d7c8",
   "metadata": {},
   "outputs": [],
   "source": [
    "# years = range(1940, 2024)"
   ]
  },
  {
   "cell_type": "code",
   "execution_count": 17,
   "id": "7030566a-1da2-4ad1-9016-39d5bb38b111",
   "metadata": {},
   "outputs": [],
   "source": [
    "# compute = False"
   ]
  },
  {
   "cell_type": "code",
   "execution_count": 18,
   "id": "a4d7bbb1-f527-4e3c-8fb3-ee041187a70f",
   "metadata": {},
   "outputs": [],
   "source": [
    "# if compute:\n",
    "#     for gen_type in [\"wind\", \"solar\"]:\n",
    "#         mean_cf = calculate_mean_cf(years, gen_type)\n",
    "#         mean_cf.to_dataset(name=\"capacity_factor\").to_netcdf(\n",
    "#             fp + gen_type + \"_mean_capacity_factor_van_der_Wiel_era5_hourly_\" + str(years[0]) + \"-\" + str(years[-1]) + \".nc\"\n",
    "#         )\n",
    "#         # mean_cf_2011_23 = calculate_mean_cf(range(2011, 2024), gen_type)\n",
    "#         # mean_cf_2011_23.to_dataset(name=\"capacity_factor\").to_netcdf(\n",
    "#         #     fp + gen_type + \"_mean_capacity_factor_2011_2023_van_der_Wiel_era5_hourly_\" + str(years[0]) + \"-\" + str(years[-1]) + \".nc\"\n",
    "#         # )"
   ]
  },
  {
   "cell_type": "markdown",
   "id": "b3e5d77d-d05c-4d0b-baa4-f283f1b6d94a",
   "metadata": {},
   "source": [
    "### Load pre-computed capacity factor biases"
   ]
  },
  {
   "cell_type": "code",
   "execution_count": 19,
   "id": "d9d27b25-b8a7-4172-81e3-8f2f9f979df1",
   "metadata": {},
   "outputs": [],
   "source": [
    "# bias_dict = {}\n",
    "# for scenario in [\"Existing_wind\", \"Existing_solar\"]:\n",
    "#     bias_dict[scenario] = xr.open_mfdataset(\n",
    "#         fp + scenario + \"_multiplicative_bias_202012-202311.nc\"\n",
    "#     ).bias"
   ]
  },
  {
   "cell_type": "markdown",
   "id": "f3b4bc74-8e35-4bd2-90e3-1fc364cb5e91",
   "metadata": {},
   "source": [
    "# Compute generation"
   ]
  },
  {
   "cell_type": "code",
   "execution_count": 20,
   "id": "07af249d-6c3f-44d1-90bf-9d2b63224a2c",
   "metadata": {},
   "outputs": [],
   "source": [
    "# def get_even_capacity_mask(mask_da, generation):\n",
    "#     \"\"\"\n",
    "#     Return DataArray with mask of capacity divided evenly across grid cells\n",
    "    \n",
    "#     mask_da: array of REZ mask\n",
    "#     generation: pandas Series of capacity values for each region (index).\n",
    "#     \"\"\"\n",
    "#     da_list = []\n",
    "#     for r in generation.index:\n",
    "#         capacity = generation.loc[r]\n",
    "#         n_cells = mask_da.sel(region=r).sum().values\n",
    "        \n",
    "#         da = mask_da.sel(region=r).where(\n",
    "#             mask_da.sel(region=r) == 0,\n",
    "#             capacity / n_cells\n",
    "#         ).expand_dims({\"REZ\": [r]})\n",
    "        \n",
    "#         da_list.append(da)\n",
    "        \n",
    "#     return xr.concat(da_list, dim=\"REZ\")"
   ]
  },
  {
   "cell_type": "code",
   "execution_count": 21,
   "id": "c8898724-1b02-4519-93f4-b8c32c61d12e",
   "metadata": {},
   "outputs": [],
   "source": [
    "# def get_cf_scaled_capacity_mask(cf_mean, mask_da, generation):\n",
    "#     \"\"\"\n",
    "#     Return DataArray with mask of capacity divided according to weights from average capacity factor\n",
    "    \n",
    "#     cf_mean: array of capacity factor weights\n",
    "#     mask_da: array of REZ mask\n",
    "#     generation: pandas Series of capacity values for each region (index).\n",
    "#     \"\"\"\n",
    "#     da_list = []\n",
    "#     for r in generation.index:\n",
    "#         capacity = generation.loc[r]\n",
    "        \n",
    "#         cf_region = cf_mean.where(\n",
    "#             mask_da.sel(region=r) == 1,\n",
    "#             drop=True\n",
    "#         )\n",
    "#         weights = cf_region / cf_region.sum()\n",
    "        \n",
    "#         tolerance = 0.01\n",
    "#         if 1 - weights.sum().values > tolerance:\n",
    "#             print(weights.sum().values)\n",
    "#             raise ValueError(\"Weights don't sum to one.\")\n",
    "            \n",
    "#         da = (weights * capacity).expand_dims({\"REZ\": [r]})\n",
    "        \n",
    "#         da_list.append(da)\n",
    "        \n",
    "#     return xr.concat(da_list, dim=\"REZ\")"
   ]
  },
  {
   "cell_type": "code",
   "execution_count": 22,
   "id": "f57bbdee-278f-4ddb-9d0c-7ca64d28dec4",
   "metadata": {},
   "outputs": [],
   "source": [
    "def get_cf_scaled_capacity_mask(cf_mean, region, capacity):\n",
    "    \"\"\"\n",
    "    Return DataArray with mask of capacity divided according to weights from average capacity factor\n",
    "    \n",
    "    cf_mean: array of capacity factor weights\n",
    "    region: str, name of region e.g. Q1\n",
    "    generation: int, capacity value\n",
    "    \"\"\"        \n",
    "    weights = cf_mean / cf_mean.sum()\n",
    "\n",
    "    # tolerance = 0.01\n",
    "    # if 1 - weights.sum().values > tolerance:\n",
    "    #     print(weights.sum().values)\n",
    "    #     raise ValueError(\"Weights don't sum to one.\")\n",
    "\n",
    "    da = (weights * capacity).expand_dims({\"region\": [region]})        \n",
    "    return da"
   ]
  },
  {
   "cell_type": "code",
   "execution_count": 23,
   "id": "2e35a159-901f-4d5c-8ec4-8fe6c3282629",
   "metadata": {},
   "outputs": [],
   "source": [
    "# def calc_generation(capacity_factor, generation_capacity, capacity_factor_scaling=None):\n",
    "#     \"\"\"\n",
    "#     Return DataArray with time series of power for each REZ\n",
    "    \n",
    "#     capacity_factor: DataArray of capacity factors\n",
    "#     generation_capacity: DataArray of each grid cells generation capacity\n",
    "#     capacity_factor_scaling: DataArray of scale factors for capacity factor\n",
    "#     \"\"\"\n",
    "#     da_list = []\n",
    "#     for r in generation_capacity.REZ.values:\n",
    "#         r_mask = generation_capacity.sel(REZ=r).where(\n",
    "#             generation_capacity.sel(REZ=r) > 0, drop=True\n",
    "#         )\n",
    "        \n",
    "#         # Apply monthly bias correction if desired\n",
    "#         if capacity_factor_scaling is not None:\n",
    "#             if r[:1] == \"N\":\n",
    "#                 region_scalings = capacity_factor_scaling.sel(region=\"NSW\")\n",
    "#             elif r[:1] == \"Q\":\n",
    "#                 region_scalings = capacity_factor_scaling.sel(region=\"QLD\")\n",
    "#             elif r[:1] == \"V\":\n",
    "#                 region_scalings = capacity_factor_scaling.sel(region=\"VIC\")\n",
    "#             elif r[:1] == \"S\":\n",
    "#                 region_scalings = capacity_factor_scaling.sel(region=\"SA\")\n",
    "#             elif r[:1] == \"T\":\n",
    "#                 region_scalings = capacity_factor_scaling.sel(region=\"TAS\")\n",
    "#             else:\n",
    "#                 raise ValueError(\"Incorrect r\")\n",
    "            \n",
    "#             capacity_factor_scaled = capacity_factor.groupby(\"time.month\") * region_scalings\n",
    "#             da = capacity_factor_scaled * r_mask\n",
    "#         else:\n",
    "#             # Or use raw data\n",
    "#             da = capacity_factor * r_mask\n",
    "            \n",
    "#         da = da.sum([\"lat\", \"lon\"])\n",
    "#         da = da.expand_dims({\"REZ\": [r]})\n",
    "\n",
    "#         da_list.append(da)\n",
    "\n",
    "#     return xr.concat(da_list, dim=\"REZ\")"
   ]
  },
  {
   "cell_type": "code",
   "execution_count": 24,
   "id": "5ea96f76-cd3d-4c70-a8d1-21dfc64d95ec",
   "metadata": {},
   "outputs": [],
   "source": [
    "def calc_all_years_generation(filename, years, mask_da, generation, cf_type, capacity_factor_scaling=None, scale_mask=\"capacity_factor\", method=\"van_der_Wiel\", add_dir=\"\"):\n",
    "    \"\"\"\n",
    "    Compute power time series for each REZ and each year.\n",
    "    \n",
    "    filename: str, initial text as part of saved filename\n",
    "    years: range\n",
    "    mask_da: array, mask of REZs\n",
    "    generation: pandas Series with index as REZ ID and values as generation capacity\n",
    "    cf_type: str, 'wind_medium', 'wind_high' or 'solarpv'\n",
    "    capacity_factor_scaling: array with month and region dimensions, default None\n",
    "    scale_mask: str, 'capacity_factor' to scale by mean capacity factors,\n",
    "        'even' for an even distribution of generation amongst REZ cells,\n",
    "        'none' to use mask_da directly.\n",
    "    method: str, which method of capacity factors was used\n",
    "    add_dir, add_dir: str, additional directory for load_hourly_cf, default \"\"\n",
    "    \"\"\"\n",
    "    def _get_gen_type(gen):\n",
    "        g_split = gen.name.split(\"_\")\n",
    "        if g_split[0] == \"Solar\":\n",
    "            gt = \"solar\"\n",
    "        elif g_split[0] == \"Wind\":\n",
    "            gt = \"wind\"\n",
    "        elif g_split[0] == \"Existing\":\n",
    "            gt = g_split[1]\n",
    "        else:\n",
    "            gt = g_split[-2]\n",
    "        return gt\n",
    "    \n",
    "    gen_type = _get_gen_type(generation)\n",
    "    cf_path = \"/g/data/w42/dr6273/work/projects/Aus_energy/production_metrics/\" + gen_type + \"/capacity_factor/\" + method + \"/bias_corrected/\"\n",
    "    \n",
    "#     if capacity_factor_scaling is not None:\n",
    "#         cf_scaling = capacity_factor_scaling[\"Existing_\"+gen_type]\n",
    "#     else:\n",
    "#         cf_scaling = None\n",
    "    \n",
    "#     if scale_mask == \"capacity_factor\": # Use mean capacity factor weights to split the generation capacities by\n",
    "#         mean_cf = xr.open_dataset(\n",
    "#             \"/g/data/w42/dr6273/work/projects/Aus_energy/production_metrics/\" + \\\n",
    "#             gen_type + \"_mean_capacity_factor_van_der_Wiel_era5_hourly_1940-2023.nc\"\n",
    "#         )[\"capacity_factor\"]\n",
    "        \n",
    "#         gen_capacity = get_cf_scaled_capacity_mask(mean_cf, mask_da, generation)\n",
    "        \n",
    "#     elif scale_mask == \"even\": # Divide the generation capacity by the size of the region and assign each cell that number\n",
    "#         gen_capacity = get_even_capacity_mask(mask_da, generation)\n",
    "        \n",
    "#     else: # Just use mask_da as the generation capacities for each cell\n",
    "#         gen_capacity = mask_da.copy()\n",
    "    \n",
    "    # Drop regions with zero generation\n",
    "    regions = generation.drop(generation[generation == 0].index)\n",
    "    \n",
    "    da_list = []\n",
    "    for region, capacity in zip(regions.index, regions):\n",
    "        # print(region, capacity)\n",
    "        \n",
    "        # Generation capacity for region r\n",
    "        # r_mask = gen_capacity.sel(REZ=r).where(\n",
    "        #     gen_capacity.sel(REZ=r) > 0, drop=True\n",
    "        # )\n",
    "        \n",
    "        # Load bias-corrected capacity factors\n",
    "        # print(cf_path + cf_type + \"_capacity_factor_\" + method + \"_era5_hourly_1940-2023_\" + region + \".nc\")\n",
    "        cf_r_bc = xr.open_mfdataset(\n",
    "            cf_path + cf_type + \"_capacity_factor_\" + method + \"_era5_hourly_1940-2023_\" + region + \".nc\",\n",
    "        ).capacity_factor\n",
    "\n",
    "        # Generation capacity for region r\n",
    "        cf_mask = cf_r_bc.mean(\"time\")\n",
    "        gen_capacity = get_cf_scaled_capacity_mask(cf_mask, region, capacity)\n",
    "        # return gen_capacity\n",
    "\n",
    "        # Compute power\n",
    "        power = cf_r_bc * gen_capacity\n",
    "        power = power.sum([\"lat\", \"lon\"])\n",
    "        power = power.rename(\"power\")\n",
    "        # power = power.expand_dims({\"region\": [region]})\n",
    "\n",
    "        da_list.append(power)\n",
    "        \n",
    "    REZ_power = xr.concat(da_list, dim=\"region\")\n",
    "    REZ_power = REZ_power.chunk({\"region\": -1, \"time\": -1})\n",
    "    return REZ_power\n",
    "\n",
    "\n",
    "\n",
    "#     for year in years:\n",
    "#         cf = fn.load_hourly_cf(year, gen_type, method=method, add_dir=add_dir, chunks={\"lat\": -1, \"lon\": -1, \"time\": 2500}).capacity_factor\n",
    "#         p = calc_generation(cf, gen_capacity, capacity_factor_scaling=cf_scaling)\n",
    "# #         da_list.append(p)\n",
    "# #     REZ_power = xr.concat(da_list, dim=\"time\")\n",
    "# #     REZ_power = REZ_power.chunk({\"REZ\": -1, \"time\": -1})\n",
    "    \n",
    "# #     return REZ_power\n",
    "#         p.drop_vars(\"month\").to_dataset(name=\"power\").to_netcdf(\n",
    "#             \"/scratch/dt6/dr6273/data/energy/yearly/\" + filename + \"_\" + generation.name + \"_van_der_Wiel\" + \"_era5_hourly_\" + str(year) + \".nc\",\n",
    "#             mode=\"w\"\n",
    "#         )"
   ]
  },
  {
   "cell_type": "code",
   "execution_count": 25,
   "id": "9a52d888-5a34-474a-955b-ae404e12b990",
   "metadata": {},
   "outputs": [],
   "source": [
    "years = range(1940, 2024)"
   ]
  },
  {
   "cell_type": "code",
   "execution_count": 38,
   "id": "d4fb43e6-505d-4a63-baee-78e1b2ab7481",
   "metadata": {},
   "outputs": [
    {
     "data": {
      "text/plain": [
       "Index(['Existing_solar', 'Step_change_solar_2029-30',\n",
       "       'Step_change_solar_2039-40', 'Step_change_solar_2049-50',\n",
       "       'Existing_wind', 'Step_change_wind_2029-30', 'Step_change_wind_2039-40',\n",
       "       'Step_change_wind_2049-50', 'Existing_wind', 'Step_change_wind_2029-30',\n",
       "       'Step_change_wind_2039-40', 'Step_change_wind_2049-50'],\n",
       "      dtype='object')"
      ]
     },
     "execution_count": 38,
     "metadata": {},
     "output_type": "execute_result"
    }
   ],
   "source": [
    "scenarios = gen.columns[[2, 6, 7, 8, 12, 16, 17, 18, 12, 16, 17, 18]]\n",
    "scenarios"
   ]
  },
  {
   "cell_type": "code",
   "execution_count": 34,
   "id": "2e94dfe1-11c8-45d6-9b05-3f06500803ac",
   "metadata": {},
   "outputs": [
    {
     "data": {
      "text/plain": [
       "['solarpv',\n",
       " 'solarpv',\n",
       " 'solarpv',\n",
       " 'solarpv',\n",
       " 'wind_medium',\n",
       " 'wind_medium',\n",
       " 'wind_medium',\n",
       " 'wind_medium',\n",
       " 'wind_high',\n",
       " 'wind_high',\n",
       " 'wind_high',\n",
       " 'wind_high']"
      ]
     },
     "execution_count": 34,
     "metadata": {},
     "output_type": "execute_result"
    }
   ],
   "source": [
    "cf_type_list = [\"solarpv\" for _ in range(4)] + [\"wind_medium\" for _ in range(4)] + [\"wind_high\" for _ in range(4)]\n",
    "cf_type_list"
   ]
  },
  {
   "cell_type": "code",
   "execution_count": 39,
   "id": "a4a72f0f-b27d-4bf8-8a31-fe8168b5360f",
   "metadata": {},
   "outputs": [
    {
     "data": {
      "text/plain": [
       "Index(['Existing_wind', 'Step_change_wind_2029-30', 'Step_change_wind_2039-40',\n",
       "       'Step_change_wind_2049-50'],\n",
       "      dtype='object')"
      ]
     },
     "execution_count": 39,
     "metadata": {},
     "output_type": "execute_result"
    }
   ],
   "source": [
    "scenarios[-4:]"
   ]
  },
  {
   "cell_type": "code",
   "execution_count": 40,
   "id": "a7f418fa-be81-48d5-bc46-f47da6cd931d",
   "metadata": {},
   "outputs": [
    {
     "name": "stdout",
     "output_type": "stream",
     "text": [
      "Existing_wind wind_high\n",
      "Step_change_wind_2029-30 wind_high\n",
      "Step_change_wind_2039-40 wind_high\n",
      "Step_change_wind_2049-50 wind_high\n",
      "CPU times: user 10.9 s, sys: 1.11 s, total: 12 s\n",
      "Wall time: 26.8 s\n"
     ]
    }
   ],
   "source": [
    "%%time\n",
    "# for scenario in gen.columns[[2, 6, 7, 8, 12, 16, 17, 18]]:\n",
    "for (scenario, cf_type) in zip(scenarios[-4:], cf_type_list[-4:]):\n",
    "    print(scenario, cf_type)\n",
    "    \n",
    "    gen_ds = calc_all_years_generation(\"REZ_power\", None, mask, gen[scenario], cf_type)\n",
    "    \n",
    "    # bias_dict being computed means a frustrating repeated computation\n",
    "    #  But if bias_dict is lazily loaded, there is not enough memory and we would likely need to process each year separately\n",
    "#     gen_ds = calc_all_years_generation(years, mask, gen[scenario], capacity_factor_scaling=bias_dict)\n",
    "#     gen_ds = gen_ds.to_dataset(name=\"power\")\n",
    "    \n",
    "#     # Tidy path to write\n",
    "#     if scenario.split(\"_\")[-1] == \"(MW)\":\n",
    "#         scenario = scenario[:-5]\n",
    "#     scenario = scenario.lower()\n",
    "    \n",
    "    gen_ds.to_netcdf(\n",
    "        \"/scratch/dt6/dr6273/data/energy/\" + \"REZ_power_\" + cf_type + \"_\" + scenario + \"_van_der_Wiel\" + \"_era5_hourly_\" + str(years[0]) + \"-\" + str(years[-1]) + \".nc\",\n",
    "        mode=\"w\"\n",
    "    )\n",
    "\n",
    "    # Too much memory needed to do it the previous way (when bias correcting capacity factors was not needed)\n",
    "    #  So we process year by year\n",
    "    # calc_all_years_generation(\"REZ_power\", years, mask, gen[scenario], capacity_factor_scaling=bias_dict)"
   ]
  },
  {
   "cell_type": "markdown",
   "id": "f8d2928f-7dc0-470c-a989-88eaf378b1e0",
   "metadata": {},
   "source": [
    "### Check results"
   ]
  },
  {
   "cell_type": "code",
   "execution_count": 41,
   "id": "ee8e2270-a1f2-4e0b-a1d5-b9848674cc19",
   "metadata": {},
   "outputs": [
    {
     "name": "stdout",
     "output_type": "stream",
     "text": [
      "Existing_solar solarpv\n",
      "Step_change_solar_2029-30 solarpv\n",
      "Step_change_solar_2039-40 solarpv\n",
      "Step_change_solar_2049-50 solarpv\n",
      "Existing_wind wind_medium\n",
      "Step_change_wind_2029-30 wind_medium\n",
      "Step_change_wind_2039-40 wind_medium\n",
      "Step_change_wind_2049-50 wind_medium\n",
      "Existing_wind wind_high\n",
      "Step_change_wind_2029-30 wind_high\n",
      "Step_change_wind_2039-40 wind_high\n",
      "Step_change_wind_2049-50 wind_high\n"
     ]
    }
   ],
   "source": [
    "gen_dict = {}\n",
    "for (scenario, cf_type) in zip(scenarios, cf_type_list):\n",
    "    print(scenario, cf_type)\n",
    "    da = xr.open_mfdataset(\n",
    "        \"/scratch/dt6/dr6273/data/energy/\" + \"REZ_power_\" + cf_type + \"_\" + scenario + \"_van_der_Wiel\" + \"_era5_hourly_\" + str(years[0]) + \"-\" + str(years[-1]) + \".nc\",\n",
    "    )\n",
    "    gen_dict[cf_type + \"_\" + scenario] = da.power.sum(\"region\").resample(time=\"1YS\").sum().compute() / 1e6"
   ]
  },
  {
   "cell_type": "code",
   "execution_count": 47,
   "id": "c0c23042-262c-47f9-b144-740090f06a00",
   "metadata": {},
   "outputs": [],
   "source": [
    "import matplotlib.pyplot as plt"
   ]
  },
  {
   "cell_type": "code",
   "execution_count": 55,
   "id": "9f3d4d3b-5c39-485e-a602-b0af37c59782",
   "metadata": {},
   "outputs": [
    {
     "data": {
      "text/plain": [
       "60385"
      ]
     },
     "execution_count": 55,
     "metadata": {},
     "output_type": "execute_result"
    }
   ],
   "source": [
    "gen[\"Step_change_wind_2039-40\"].sum()"
   ]
  },
  {
   "cell_type": "code",
   "execution_count": 56,
   "id": "e6c09411-cd09-4375-a0f9-681c7353e110",
   "metadata": {},
   "outputs": [
    {
     "data": {
      "text/plain": [
       "75285"
      ]
     },
     "execution_count": 56,
     "metadata": {},
     "output_type": "execute_result"
    }
   ],
   "source": [
    "gen[\"Step_change_wind_2049-50\"].sum()"
   ]
  },
  {
   "cell_type": "code",
   "execution_count": 63,
   "id": "501ad68c-79f5-4fb5-9c67-274cdc5eb6f1",
   "metadata": {},
   "outputs": [
    {
     "data": {
      "text/plain": [
       "(100.0, 300.0)"
      ]
     },
     "execution_count": 63,
     "metadata": {},
     "output_type": "execute_result"
    },
    {
     "data": {
      "image/png": "[encoded data removed]",
      "text/plain": [
       "<Figure size 640x480 with 1 Axes>"
      ]
     },
     "metadata": {},
     "output_type": "display_data"
    }
   ],
   "source": [
    "gen_dict[\"wind_medium_Step_change_wind_2029-30\"].plot(color=\"tab:blue\", ls=\":\")\n",
    "gen_dict[\"wind_high_Step_change_wind_2029-30\"].plot(color=\"tab:orange\", ls=\":\")\n",
    "plt.axhline(121, color=\"k\", ls=\":\", label=\"2030 ISP\")\n",
    "\n",
    "gen_dict[\"wind_medium_Step_change_wind_2039-40\"].plot(color=\"tab:blue\", ls=\"--\")\n",
    "gen_dict[\"wind_high_Step_change_wind_2039-40\"].plot(color=\"tab:orange\", ls=\"--\")\n",
    "plt.axhline(193, color=\"k\", ls=\"--\", label=\"2040 ISP\")\n",
    "\n",
    "gen_dict[\"wind_medium_Step_change_wind_2049-50\"].plot(color=\"tab:blue\", label=\"Model medium\")\n",
    "gen_dict[\"wind_high_Step_change_wind_2049-50\"].plot(color=\"tab:orange\", label=\"Model high\")\n",
    "plt.axhline(200, color=\"k\", ls=\"-\", label=\"2050 ISP\")\n",
    "\n",
    "plt.legend(ncols=3)\n",
    "plt.ylabel(\"Annual wind consumption [TWh]\")\n",
    "plt.ylim(100, 300)"
   ]
  },
  {
   "cell_type": "code",
   "execution_count": 67,
   "id": "0b51b204-e3f9-4929-8530-d982d472c50b",
   "metadata": {},
   "outputs": [
    {
     "data": {
      "text/plain": [
       "29843"
      ]
     },
     "execution_count": 67,
     "metadata": {},
     "output_type": "execute_result"
    }
   ],
   "source": [
    "gen[\"Step_change_solar_2039-40\"].sum()"
   ]
  },
  {
   "cell_type": "code",
   "execution_count": 68,
   "id": "81a4abb4-ec4a-4f9a-a1de-7810401a447d",
   "metadata": {},
   "outputs": [
    {
     "data": {
      "text/plain": [
       "60343"
      ]
     },
     "execution_count": 68,
     "metadata": {},
     "output_type": "execute_result"
    }
   ],
   "source": [
    "gen[\"Step_change_solar_2049-50\"].sum()"
   ]
  },
  {
   "cell_type": "code",
   "execution_count": 66,
   "id": "135f2a11-c7b2-476a-96b7-843e557dc0d2",
   "metadata": {},
   "outputs": [
    {
     "data": {
      "text/plain": [
       "(0.0, 180.0)"
      ]
     },
     "execution_count": 66,
     "metadata": {},
     "output_type": "execute_result"
    },
    {
     "data": {
      "image/png": "[encoded data removed]",
      "text/plain": [
       "<Figure size 640x480 with 1 Axes>"
      ]
     },
     "metadata": {},
     "output_type": "display_data"
    }
   ],
   "source": [
    "gen_dict[\"solarpv_Step_change_solar_2029-30\"].plot(color=\"tab:blue\", ls=\":\")\n",
    "plt.axhline(35, color=\"k\", ls=\":\", label=\"2030 ISP\")\n",
    "\n",
    "gen_dict[\"solarpv_Step_change_solar_2039-40\"].plot(color=\"tab:blue\", ls=\"--\")\n",
    "plt.axhline(70, color=\"k\", ls=\"--\", label=\"2040 ISP\")\n",
    "\n",
    "gen_dict[\"solarpv_Step_change_solar_2049-50\"].plot(color=\"tab:orange\", label=\"Model\")\n",
    "plt.axhline(119, color=\"k\", ls=\"-\", label=\"2050 ISP\")\n",
    "\n",
    "plt.legend(ncols=3)\n",
    "plt.ylabel(\"Annual solar consumption [TWh]\")\n",
    "plt.ylim(0, 180)"
   ]
  },
  {
   "cell_type": "markdown",
   "id": "bedadb29-8a9f-4865-94ef-33eddd765902",
   "metadata": {},
   "source": [
    "### Repeat but for existing facilities in sites outside REZs"
   ]
  },
  {
   "cell_type": "code",
   "execution_count": null,
   "id": "c9d4f47e-9fc2-4001-84a5-c787bc338327",
   "metadata": {},
   "outputs": [],
   "source": [
    "solar_outside = xr.open_mfdataset(\n",
    "    \"/g/data/w42/dr6273/work/projects/Aus_energy/production_metrics/solar/power/solar_site_outside_REZ_mask_era5.nc\",\n",
    ").solar_site\n",
    "# Change dimension name so it works with function\n",
    "solar_outside = solar_outside.rename({\"region\": \"REZ\"}).compute()"
   ]
  },
  {
   "cell_type": "code",
   "execution_count": null,
   "id": "0ee83af4-1577-47f4-a96e-bc7f0db2de50",
   "metadata": {},
   "outputs": [],
   "source": [
    "wind_outside = xr.open_mfdataset(\n",
    "    \"/g/data/w42/dr6273/work/projects/Aus_energy/production_metrics/wind/power/wind_site_outside_REZ_mask_era5.nc\",\n",
    ").wind_site\n",
    "wind_outside = wind_outside.rename({\"region\": \"REZ\"}).compute()"
   ]
  },
  {
   "cell_type": "code",
   "execution_count": null,
   "id": "08e25dc1-d8b4-472a-8c95-04b6367faa54",
   "metadata": {
    "tags": []
   },
   "outputs": [],
   "source": [
    "%%time\n",
    "for scenario, m in zip(['Existing_solar', 'Existing_wind'], [solar_outside, wind_outside]):\n",
    "    print(scenario)\n",
    "#     gen_ds = calc_all_years_generation(years, m, gen[scenario], scale_mask=\"none\")\n",
    "#     gen_ds = gen_ds.to_dataset(name=\"power\")\n",
    "    \n",
    "#     # Tidy path to write\n",
    "#     if scenario.split(\"_\")[-1] == \"(MW)\":\n",
    "#         scenario = scenario[:-5]\n",
    "#     scenario = scenario.lower()\n",
    "    \n",
    "#     gen_ds = gen_ds.rename({\"REZ\": \"region\"}) # Change dimension name back\n",
    "    \n",
    "#     gen_ds.to_netcdf(\n",
    "#         fp + \"site_outside_REZ_power_\" + scenario + \"_van_der_Wiel\" + \"_era5_hourly_\" + str(years[0]) + \"-\" + str(years[-1]) + \".nc\",\n",
    "#         mode=\"w\"\n",
    "#     )\n",
    "    calc_all_years_generation(\"site_outside_REZ_power\", years, m, gen[scenario], capacity_factor_scaling=bias_dict, scale_mask=\"none\")"
   ]
  },
  {
   "cell_type": "markdown",
   "id": "5fff9937-f24a-41d6-9b74-2006e8be7481",
   "metadata": {},
   "source": [
    "# Close cluster"
   ]
  },
  {
   "cell_type": "code",
   "execution_count": null,
   "id": "51a6eef2-db8b-45b9-99e6-9019c29b0ae7",
   "metadata": {},
   "outputs": [],
   "source": [
    "client.close()\n",
    "cluster.close()"
   ]
  },
  {
   "cell_type": "code",
   "execution_count": null,
   "id": "4bd2fc7f-1abf-449c-a568-36176a1c0db9",
   "metadata": {},
   "outputs": [],
   "source": []
  }
 ],
 "metadata": {
  "kernelspec": {
   "display_name": "Python (pangeo)",
   "language": "python",
   "name": "pangeo"
  },
  "language_info": {
   "codemirror_mode": {
    "name": "ipython",
    "version": 3
   },
   "file_extension": ".py",
   "mimetype": "text/x-python",
   "name": "python",
   "nbconvert_exporter": "python",
   "pygments_lexer": "ipython3",
   "version": "3.10.8"
  }
 },
 "nbformat": 4,
 "nbformat_minor": 5
}
