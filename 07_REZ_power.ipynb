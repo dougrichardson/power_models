{
 "cells": [
  {
   "cell_type": "markdown",
   "id": "fd667142-3072-4b51-82e5-aeac61e35045",
   "metadata": {},
   "source": [
    "# Power output for REZ for different energy scenarios"
   ]
  },
  {
   "cell_type": "code",
   "execution_count": 24,
   "id": "e751ef1e-561a-466e-9d52-fc24a38cb20e",
   "metadata": {},
   "outputs": [],
   "source": [
    "from dask.distributed import Client,LocalCluster\n",
    "from dask_jobqueue import PBSCluster"
   ]
  },
  {
   "cell_type": "code",
   "execution_count": 36,
   "id": "110fe4e4-c193-41f5-a258-b9de322e105f",
   "metadata": {},
   "outputs": [],
   "source": [
    "# One node on Gadi has 48 cores - try and use up a full node before going to multiple nodes (jobs)\n",
    "\n",
    "walltime = \"00:10:00\"\n",
    "cores = 48\n",
    "memory = str(4 * cores) + \"GB\"\n",
    "\n",
    "cluster = PBSCluster(walltime=str(walltime), cores=cores, memory=str(memory), processes=cores,\n",
    "                     job_extra_directives=[\"-q normal\",\n",
    "                                           \"-P w42\",\n",
    "                                           \"-l ncpus=\"+str(cores),\n",
    "                                           \"-l mem=\"+str(memory),\n",
    "                                           \"-l storage=gdata/w42+gdata/rt52\"],\n",
    "                     local_directory=\"$TMPDIR\",\n",
    "                     job_directives_skip=[\"select\"])"
   ]
  },
  {
   "cell_type": "code",
   "execution_count": 37,
   "id": "1604c7e6-ee20-4ea2-91f3-bf10ec5874bf",
   "metadata": {},
   "outputs": [],
   "source": [
    "cluster.scale(jobs=3)\n",
    "client = Client(cluster)"
   ]
  },
  {
   "cell_type": "code",
   "execution_count": 38,
   "id": "f9fc9dc4-49ef-4215-b12b-b0151c9d0a2f",
   "metadata": {},
   "outputs": [
    {
     "data": {
      "text/html": [
       "<div>\n",
       "    <div style=\"width: 24px; height: 24px; background-color: #e1e1e1; border: 3px solid #9D9D9D; border-radius: 5px; position: absolute;\"> </div>\n",
       "    <div style=\"margin-left: 48px;\">\n",
       "        <h3 style=\"margin-bottom: 0px;\">Client</h3>\n",
       "        <p style=\"color: #9D9D9D; margin-bottom: 0px;\">Client-324a3155-6b0d-11ef-9022-000007fbfe80</p>\n",
       "        <table style=\"width: 100%; text-align: left;\">\n",
       "\n",
       "        <tr>\n",
       "        \n",
       "            <td style=\"text-align: left;\"><strong>Connection method:</strong> Cluster object</td>\n",
       "            <td style=\"text-align: left;\"><strong>Cluster type:</strong> dask_jobqueue.PBSCluster</td>\n",
       "        \n",
       "        </tr>\n",
       "\n",
       "        \n",
       "            <tr>\n",
       "                <td style=\"text-align: left;\">\n",
       "                    <strong>Dashboard: </strong> <a href=\"/proxy/8787/status\" target=\"_blank\">/proxy/8787/status</a>\n",
       "                </td>\n",
       "                <td style=\"text-align: left;\"></td>\n",
       "            </tr>\n",
       "        \n",
       "\n",
       "        </table>\n",
       "\n",
       "        \n",
       "            <button style=\"margin-bottom: 12px;\" data-commandlinker-command=\"dask:populate-and-launch-layout\" data-commandlinker-args='{\"url\": \"/proxy/8787/status\" }'>\n",
       "                Launch dashboard in JupyterLab\n",
       "            </button>\n",
       "        \n",
       "\n",
       "        \n",
       "            <details>\n",
       "            <summary style=\"margin-bottom: 20px;\"><h3 style=\"display: inline;\">Cluster Info</h3></summary>\n",
       "            <div class=\"jp-RenderedHTMLCommon jp-RenderedHTML jp-mod-trusted jp-OutputArea-output\">\n",
       "    <div style=\"width: 24px; height: 24px; background-color: #e1e1e1; border: 3px solid #9D9D9D; border-radius: 5px; position: absolute;\">\n",
       "    </div>\n",
       "    <div style=\"margin-left: 48px;\">\n",
       "        <h3 style=\"margin-bottom: 0px; margin-top: 0px;\">PBSCluster</h3>\n",
       "        <p style=\"color: #9D9D9D; margin-bottom: 0px;\">313bc056</p>\n",
       "        <table style=\"width: 100%; text-align: left;\">\n",
       "            <tr>\n",
       "                <td style=\"text-align: left;\">\n",
       "                    <strong>Dashboard:</strong> <a href=\"/proxy/8787/status\" target=\"_blank\">/proxy/8787/status</a>\n",
       "                </td>\n",
       "                <td style=\"text-align: left;\">\n",
       "                    <strong>Workers:</strong> 0\n",
       "                </td>\n",
       "            </tr>\n",
       "            <tr>\n",
       "                <td style=\"text-align: left;\">\n",
       "                    <strong>Total threads:</strong> 0\n",
       "                </td>\n",
       "                <td style=\"text-align: left;\">\n",
       "                    <strong>Total memory:</strong> 0 B\n",
       "                </td>\n",
       "            </tr>\n",
       "            \n",
       "        </table>\n",
       "\n",
       "        <details>\n",
       "            <summary style=\"margin-bottom: 20px;\">\n",
       "                <h3 style=\"display: inline;\">Scheduler Info</h3>\n",
       "            </summary>\n",
       "\n",
       "            <div style=\"\">\n",
       "    <div>\n",
       "        <div style=\"width: 24px; height: 24px; background-color: #FFF7E5; border: 3px solid #FF6132; border-radius: 5px; position: absolute;\"> </div>\n",
       "        <div style=\"margin-left: 48px;\">\n",
       "            <h3 style=\"margin-bottom: 0px;\">Scheduler</h3>\n",
       "            <p style=\"color: #9D9D9D; margin-bottom: 0px;\">Scheduler-31a40b28-83fe-4711-b417-774b961dbef4</p>\n",
       "            <table style=\"width: 100%; text-align: left;\">\n",
       "                <tr>\n",
       "                    <td style=\"text-align: left;\">\n",
       "                        <strong>Comm:</strong> tcp://10.6.121.1:34049\n",
       "                    </td>\n",
       "                    <td style=\"text-align: left;\">\n",
       "                        <strong>Workers:</strong> 0\n",
       "                    </td>\n",
       "                </tr>\n",
       "                <tr>\n",
       "                    <td style=\"text-align: left;\">\n",
       "                        <strong>Dashboard:</strong> <a href=\"/proxy/8787/status\" target=\"_blank\">/proxy/8787/status</a>\n",
       "                    </td>\n",
       "                    <td style=\"text-align: left;\">\n",
       "                        <strong>Total threads:</strong> 0\n",
       "                    </td>\n",
       "                </tr>\n",
       "                <tr>\n",
       "                    <td style=\"text-align: left;\">\n",
       "                        <strong>Started:</strong> Just now\n",
       "                    </td>\n",
       "                    <td style=\"text-align: left;\">\n",
       "                        <strong>Total memory:</strong> 0 B\n",
       "                    </td>\n",
       "                </tr>\n",
       "            </table>\n",
       "        </div>\n",
       "    </div>\n",
       "\n",
       "    <details style=\"margin-left: 48px;\">\n",
       "        <summary style=\"margin-bottom: 20px;\">\n",
       "            <h3 style=\"display: inline;\">Workers</h3>\n",
       "        </summary>\n",
       "\n",
       "        \n",
       "\n",
       "    </details>\n",
       "</div>\n",
       "\n",
       "        </details>\n",
       "    </div>\n",
       "</div>\n",
       "            </details>\n",
       "        \n",
       "\n",
       "    </div>\n",
       "</div>"
      ],
      "text/plain": [
       "<Client: 'tcp://10.6.121.1:34049' processes=0 threads=0, memory=0 B>"
      ]
     },
     "execution_count": 38,
     "metadata": {},
     "output_type": "execute_result"
    }
   ],
   "source": [
    "client"
   ]
  },
  {
   "cell_type": "code",
   "execution_count": 5,
   "id": "93146e58-ecad-4b7b-a0f4-cc65e6f8724d",
   "metadata": {},
   "outputs": [],
   "source": [
    "import xarray as xr\n",
    "import pandas as pd"
   ]
  },
  {
   "cell_type": "code",
   "execution_count": 6,
   "id": "9d3ead5d-258f-4617-9e66-128e2a75de80",
   "metadata": {},
   "outputs": [
    {
     "name": "stdout",
     "output_type": "stream",
     "text": [
      "/g/data/w42/dr6273/work/power_models\n"
     ]
    }
   ],
   "source": [
    "%cd /g/data/w42/dr6273/work/power_models\n",
    "import functions as fn"
   ]
  },
  {
   "cell_type": "code",
   "execution_count": 7,
   "id": "5d58c151-da0f-46d0-8453-ce3124658dfd",
   "metadata": {},
   "outputs": [],
   "source": [
    "%load_ext autoreload\n",
    "%autoreload 2"
   ]
  },
  {
   "cell_type": "markdown",
   "id": "8589c94e-fd76-4997-9501-ff12ccab33a5",
   "metadata": {},
   "source": [
    "# Load REZ data"
   ]
  },
  {
   "cell_type": "markdown",
   "id": "01ca4493-82c5-46e1-a56c-a7ec8b40fae0",
   "metadata": {},
   "source": [
    "#### REZ mask"
   ]
  },
  {
   "cell_type": "code",
   "execution_count": 8,
   "id": "3f8708a2-05db-497d-aeb8-67dd1432e300",
   "metadata": {},
   "outputs": [],
   "source": [
    "mask = xr.open_dataset('/g/data/w42/dr6273/work/projects/Aus_energy/data/rez_2024_mask_era5_grid.nc').REZ"
   ]
  },
  {
   "cell_type": "markdown",
   "id": "4d2c099c-bd89-49a7-b4db-7aa498d95271",
   "metadata": {},
   "source": [
    "#### REZ generation"
   ]
  },
  {
   "cell_type": "code",
   "execution_count": 9,
   "id": "c2cd8a6f-9879-42e8-8d1a-d5c58a53734a",
   "metadata": {},
   "outputs": [],
   "source": [
    "_gen = pd.read_csv(\"/g/data/w42/dr6273/work/data/REZ/2024/REZ_potential.csv\", index_col=0)"
   ]
  },
  {
   "cell_type": "code",
   "execution_count": 10,
   "id": "9c33430f-53e8-4074-82be-811d6621408f",
   "metadata": {},
   "outputs": [],
   "source": [
    "# Tidy column names\n",
    "_gen.columns = [i.replace(\"90\", \"9-\") for i in _gen.columns]\n",
    "_gen.columns = [i.replace(\" \", \"_\") for i in _gen.columns]"
   ]
  },
  {
   "cell_type": "code",
   "execution_count": 11,
   "id": "24278640-949e-4901-8f99-e3cc29004bcf",
   "metadata": {},
   "outputs": [],
   "source": [
    "# Sum scenarios with existing capacity\n",
    "gen = _gen.copy()\n",
    "for col in _gen.columns[2:]:\n",
    "    if col[:3] == \"Exi\":\n",
    "        pass\n",
    "    else:\n",
    "        gen_type = col.split(\"_\")[-2]\n",
    "        gen[col] = _gen[col] + _gen[\"Existing_\" + gen_type]"
   ]
  },
  {
   "cell_type": "code",
   "execution_count": 12,
   "id": "31f819a2-c499-4a97-b93c-b3592e58d654",
   "metadata": {},
   "outputs": [
    {
     "data": {
      "text/html": [
       "<div>\n",
       "<style scoped>\n",
       "    .dataframe tbody tr th:only-of-type {\n",
       "        vertical-align: middle;\n",
       "    }\n",
       "\n",
       "    .dataframe tbody tr th {\n",
       "        vertical-align: top;\n",
       "    }\n",
       "\n",
       "    .dataframe thead th {\n",
       "        text-align: right;\n",
       "    }\n",
       "</style>\n",
       "<table border=\"1\" class=\"dataframe\">\n",
       "  <thead>\n",
       "    <tr style=\"text-align: right;\">\n",
       "      <th></th>\n",
       "      <th>Solar_renewable_potential_(MW)</th>\n",
       "      <th>Wind_renewable_potential_(MW)</th>\n",
       "      <th>Existing_solar</th>\n",
       "      <th>Progressive_solar_2029-30</th>\n",
       "      <th>Progressive_solar_2039-40</th>\n",
       "      <th>Progressive_solar_2049-50</th>\n",
       "      <th>Step_change_solar_2029-30</th>\n",
       "      <th>Step_change_solar_2039-40</th>\n",
       "      <th>Step_change_solar_2049-50</th>\n",
       "      <th>Green_energy_solar_2029-30</th>\n",
       "      <th>...</th>\n",
       "      <th>Existing_wind</th>\n",
       "      <th>Progressive_wind_2029-30</th>\n",
       "      <th>Progressive_wind_2039-40</th>\n",
       "      <th>Progressive_wind_2049-50</th>\n",
       "      <th>Step_change_wind_2029-30</th>\n",
       "      <th>Step_change_wind_2039-40</th>\n",
       "      <th>Step_change_wind_2049-50</th>\n",
       "      <th>Green_energy_wind_2029-30</th>\n",
       "      <th>Green_energy_wind_2039-40</th>\n",
       "      <th>Green_energy_wind_2049-50</th>\n",
       "    </tr>\n",
       "    <tr>\n",
       "      <th>REZ</th>\n",
       "      <th></th>\n",
       "      <th></th>\n",
       "      <th></th>\n",
       "      <th></th>\n",
       "      <th></th>\n",
       "      <th></th>\n",
       "      <th></th>\n",
       "      <th></th>\n",
       "      <th></th>\n",
       "      <th></th>\n",
       "      <th></th>\n",
       "      <th></th>\n",
       "      <th></th>\n",
       "      <th></th>\n",
       "      <th></th>\n",
       "      <th></th>\n",
       "      <th></th>\n",
       "      <th></th>\n",
       "      <th></th>\n",
       "      <th></th>\n",
       "      <th></th>\n",
       "    </tr>\n",
       "  </thead>\n",
       "  <tbody>\n",
       "    <tr>\n",
       "      <th>N1</th>\n",
       "      <td>6385</td>\n",
       "      <td>0</td>\n",
       "      <td>166</td>\n",
       "      <td>216</td>\n",
       "      <td>216</td>\n",
       "      <td>266</td>\n",
       "      <td>166</td>\n",
       "      <td>216</td>\n",
       "      <td>266</td>\n",
       "      <td>216</td>\n",
       "      <td>...</td>\n",
       "      <td>0</td>\n",
       "      <td>0</td>\n",
       "      <td>0</td>\n",
       "      <td>0</td>\n",
       "      <td>0</td>\n",
       "      <td>0</td>\n",
       "      <td>0</td>\n",
       "      <td>0</td>\n",
       "      <td>0</td>\n",
       "      <td>-300</td>\n",
       "    </tr>\n",
       "    <tr>\n",
       "      <th>N2</th>\n",
       "      <td>2950</td>\n",
       "      <td>7400</td>\n",
       "      <td>855</td>\n",
       "      <td>905</td>\n",
       "      <td>1355</td>\n",
       "      <td>3855</td>\n",
       "      <td>855</td>\n",
       "      <td>3255</td>\n",
       "      <td>6255</td>\n",
       "      <td>3155</td>\n",
       "      <td>...</td>\n",
       "      <td>442</td>\n",
       "      <td>3492</td>\n",
       "      <td>4042</td>\n",
       "      <td>7842</td>\n",
       "      <td>3442</td>\n",
       "      <td>7842</td>\n",
       "      <td>7842</td>\n",
       "      <td>4992</td>\n",
       "      <td>9142</td>\n",
       "      <td>9592</td>\n",
       "    </tr>\n",
       "    <tr>\n",
       "      <th>N3</th>\n",
       "      <td>6850</td>\n",
       "      <td>3000</td>\n",
       "      <td>1497</td>\n",
       "      <td>3197</td>\n",
       "      <td>3447</td>\n",
       "      <td>7597</td>\n",
       "      <td>2947</td>\n",
       "      <td>5897</td>\n",
       "      <td>8347</td>\n",
       "      <td>4447</td>\n",
       "      <td>...</td>\n",
       "      <td>673</td>\n",
       "      <td>4373</td>\n",
       "      <td>4373</td>\n",
       "      <td>4873</td>\n",
       "      <td>6123</td>\n",
       "      <td>6123</td>\n",
       "      <td>8473</td>\n",
       "      <td>7373</td>\n",
       "      <td>7473</td>\n",
       "      <td>8173</td>\n",
       "    </tr>\n",
       "    <tr>\n",
       "      <th>N4</th>\n",
       "      <td>8000</td>\n",
       "      <td>5100</td>\n",
       "      <td>53</td>\n",
       "      <td>253</td>\n",
       "      <td>253</td>\n",
       "      <td>403</td>\n",
       "      <td>203</td>\n",
       "      <td>203</td>\n",
       "      <td>453</td>\n",
       "      <td>253</td>\n",
       "      <td>...</td>\n",
       "      <td>198</td>\n",
       "      <td>298</td>\n",
       "      <td>298</td>\n",
       "      <td>298</td>\n",
       "      <td>298</td>\n",
       "      <td>298</td>\n",
       "      <td>348</td>\n",
       "      <td>348</td>\n",
       "      <td>348</td>\n",
       "      <td>348</td>\n",
       "    </tr>\n",
       "    <tr>\n",
       "      <th>N5</th>\n",
       "      <td>2256</td>\n",
       "      <td>3900</td>\n",
       "      <td>1122</td>\n",
       "      <td>1822</td>\n",
       "      <td>1822</td>\n",
       "      <td>3372</td>\n",
       "      <td>2272</td>\n",
       "      <td>2272</td>\n",
       "      <td>3372</td>\n",
       "      <td>1922</td>\n",
       "      <td>...</td>\n",
       "      <td>0</td>\n",
       "      <td>450</td>\n",
       "      <td>450</td>\n",
       "      <td>450</td>\n",
       "      <td>600</td>\n",
       "      <td>600</td>\n",
       "      <td>1000</td>\n",
       "      <td>1000</td>\n",
       "      <td>1000</td>\n",
       "      <td>1000</td>\n",
       "    </tr>\n",
       "  </tbody>\n",
       "</table>\n",
       "<p>5 rows × 22 columns</p>\n",
       "</div>"
      ],
      "text/plain": [
       "     Solar_renewable_potential_(MW)  Wind_renewable_potential_(MW)  \\\n",
       "REZ                                                                  \n",
       "N1                             6385                              0   \n",
       "N2                             2950                           7400   \n",
       "N3                             6850                           3000   \n",
       "N4                             8000                           5100   \n",
       "N5                             2256                           3900   \n",
       "\n",
       "     Existing_solar  Progressive_solar_2029-30  Progressive_solar_2039-40  \\\n",
       "REZ                                                                         \n",
       "N1              166                        216                        216   \n",
       "N2              855                        905                       1355   \n",
       "N3             1497                       3197                       3447   \n",
       "N4               53                        253                        253   \n",
       "N5             1122                       1822                       1822   \n",
       "\n",
       "     Progressive_solar_2049-50  Step_change_solar_2029-30  \\\n",
       "REZ                                                         \n",
       "N1                         266                        166   \n",
       "N2                        3855                        855   \n",
       "N3                        7597                       2947   \n",
       "N4                         403                        203   \n",
       "N5                        3372                       2272   \n",
       "\n",
       "     Step_change_solar_2039-40  Step_change_solar_2049-50  \\\n",
       "REZ                                                         \n",
       "N1                         216                        266   \n",
       "N2                        3255                       6255   \n",
       "N3                        5897                       8347   \n",
       "N4                         203                        453   \n",
       "N5                        2272                       3372   \n",
       "\n",
       "     Green_energy_solar_2029-30  ...  Existing_wind  Progressive_wind_2029-30  \\\n",
       "REZ                              ...                                            \n",
       "N1                          216  ...              0                         0   \n",
       "N2                         3155  ...            442                      3492   \n",
       "N3                         4447  ...            673                      4373   \n",
       "N4                          253  ...            198                       298   \n",
       "N5                         1922  ...              0                       450   \n",
       "\n",
       "     Progressive_wind_2039-40  Progressive_wind_2049-50  \\\n",
       "REZ                                                       \n",
       "N1                          0                         0   \n",
       "N2                       4042                      7842   \n",
       "N3                       4373                      4873   \n",
       "N4                        298                       298   \n",
       "N5                        450                       450   \n",
       "\n",
       "     Step_change_wind_2029-30  Step_change_wind_2039-40  \\\n",
       "REZ                                                       \n",
       "N1                          0                         0   \n",
       "N2                       3442                      7842   \n",
       "N3                       6123                      6123   \n",
       "N4                        298                       298   \n",
       "N5                        600                       600   \n",
       "\n",
       "     Step_change_wind_2049-50  Green_energy_wind_2029-30  \\\n",
       "REZ                                                        \n",
       "N1                          0                          0   \n",
       "N2                       7842                       4992   \n",
       "N3                       8473                       7373   \n",
       "N4                        348                        348   \n",
       "N5                       1000                       1000   \n",
       "\n",
       "     Green_energy_wind_2039-40  Green_energy_wind_2049-50  \n",
       "REZ                                                        \n",
       "N1                           0                       -300  \n",
       "N2                        9142                       9592  \n",
       "N3                        7473                       8173  \n",
       "N4                         348                        348  \n",
       "N5                        1000                       1000  \n",
       "\n",
       "[5 rows x 22 columns]"
      ]
     },
     "execution_count": 12,
     "metadata": {},
     "output_type": "execute_result"
    }
   ],
   "source": [
    "gen.head()"
   ]
  },
  {
   "cell_type": "markdown",
   "id": "8f0ebf81-e5cb-4cea-90c8-78648f098a76",
   "metadata": {},
   "source": [
    "### Pre-compute capacity factor averages:"
   ]
  },
  {
   "cell_type": "code",
   "execution_count": 13,
   "id": "ebb57503-1fc1-400c-b179-07d011e12cf9",
   "metadata": {},
   "outputs": [],
   "source": [
    "def calculate_mean_cf(years, gen_type, method=\"van_der_Wiel\", chunks=None):\n",
    "    \"\"\"\n",
    "    Return mean capacity factor over all years\n",
    "    \n",
    "    gen_type: str, 'wind' or 'solar'\n",
    "    method: str, method used to compute capacity factor, e.g. 'van_der_Wiel'\n",
    "    chunks: dict, how to chunk. Default is None\n",
    "    \"\"\"\n",
    "    da_list = []\n",
    "    for year in years:\n",
    "        cf = fn.load_hourly_cf(year, gen_type, method=method, chunks={\"lat\": 75, \"lon\": 100, \"time\": -1}).capacity_factor\n",
    "        cf = cf.mean(\"time\").expand_dims({\"time\": [year]})\n",
    "        da_list.append(cf)\n",
    "    cf = xr.concat(da_list, dim=\"time\")\n",
    "    return cf.mean(\"time\")"
   ]
  },
  {
   "cell_type": "code",
   "execution_count": 14,
   "id": "0c7c55cd-ad51-4575-9396-9698f17d808e",
   "metadata": {},
   "outputs": [],
   "source": [
    "fp = \"/g/data/w42/dr6273/work/projects/Aus_energy/production_metrics/\""
   ]
  },
  {
   "cell_type": "code",
   "execution_count": 15,
   "id": "68b1250e-7361-443c-ade2-68ca5063d7c8",
   "metadata": {},
   "outputs": [],
   "source": [
    "years = range(1940, 2024)"
   ]
  },
  {
   "cell_type": "code",
   "execution_count": 16,
   "id": "a4d7bbb1-f527-4e3c-8fb3-ee041187a70f",
   "metadata": {},
   "outputs": [],
   "source": [
    "# for gen_type in [\"wind\", \"solar\"]:\n",
    "#     mean_cf = calculate_mean_cf(years, gen_type)\n",
    "#     mean_cf.to_dataset(name=\"capacity_factor\").to_netcdf(\n",
    "#         fp + gen_type + \"_mean_capacity_factor_van_der_Wiel_era5_hourly_\" + str(years[0]) + \"-\" + str(years[-1]) + \".nc\"\n",
    "#     )"
   ]
  },
  {
   "cell_type": "markdown",
   "id": "f3b4bc74-8e35-4bd2-90e3-1fc364cb5e91",
   "metadata": {},
   "source": [
    "# Compute generation"
   ]
  },
  {
   "cell_type": "code",
   "execution_count": 16,
   "id": "07af249d-6c3f-44d1-90bf-9d2b63224a2c",
   "metadata": {},
   "outputs": [],
   "source": [
    "def get_even_capacity_mask(mask_da, generation):\n",
    "    \"\"\"\n",
    "    Return DataArray with mask of capacity divided evenly across grid cells\n",
    "    \n",
    "    mask_da: array of REZ mask\n",
    "    generation: pandas Series of capacity values for each region (index).\n",
    "    \"\"\"\n",
    "    da_list = []\n",
    "    for r in generation.index:\n",
    "        capacity = generation.loc[r]\n",
    "        n_cells = mask_da.sel(region=r).sum().values\n",
    "        \n",
    "        da = mask_da.sel(region=r).where(\n",
    "            mask_da.sel(region=r) == 0,\n",
    "            capacity / n_cells\n",
    "        ).expand_dims({\"REZ\": [r]})\n",
    "        \n",
    "        da_list.append(da)\n",
    "        \n",
    "    return xr.concat(da_list, dim=\"REZ\")"
   ]
  },
  {
   "cell_type": "code",
   "execution_count": 17,
   "id": "c8898724-1b02-4519-93f4-b8c32c61d12e",
   "metadata": {},
   "outputs": [],
   "source": [
    "def get_cf_scaled_capacity_mask(cf_mean, mask_da, generation):\n",
    "    \"\"\"\n",
    "    Return DataArray with mask of capacity divided according to weights from average capacity factor\n",
    "    \n",
    "    cf_mean: array of capacity factor weights\n",
    "    mask_da: array of REZ mask\n",
    "    generation: pandas Series of capacity values for each region (index).\n",
    "    \"\"\"\n",
    "    da_list = []\n",
    "    for r in generation.index:\n",
    "        capacity = generation.loc[r]\n",
    "        \n",
    "        cf_region = cf_mean.where(\n",
    "            mask_da.sel(region=r) == 1,\n",
    "            drop=True\n",
    "        )\n",
    "        weights = cf_region / cf_region.sum()\n",
    "        \n",
    "        tolerance = 0.01\n",
    "        if 1 - weights.sum().values > tolerance:\n",
    "            print(weights.sum().values)\n",
    "            raise ValueError(\"Weights don't sum to one.\")\n",
    "            \n",
    "        da = (weights * capacity).expand_dims({\"REZ\": [r]})\n",
    "        \n",
    "        da_list.append(da)\n",
    "        \n",
    "    return xr.concat(da_list, dim=\"REZ\")"
   ]
  },
  {
   "cell_type": "code",
   "execution_count": 18,
   "id": "2e35a159-901f-4d5c-8ec4-8fe6c3282629",
   "metadata": {},
   "outputs": [],
   "source": [
    "def calc_generation(capacity_factor, generation_capacity):\n",
    "    \"\"\"\n",
    "    Return DataArray with time series of power for each REZ\n",
    "    \n",
    "    capacity_factor: DataArray of capacity factors\n",
    "    generation_capacity: DataArray of each grid cells generation capacity\n",
    "    \"\"\"\n",
    "    da_list = []\n",
    "    for r in generation_capacity.REZ.values:\n",
    "        r_mask = generation_capacity.sel(REZ=r).where(\n",
    "            generation_capacity.sel(REZ=r) > 0, drop=True\n",
    "        )\n",
    "        da = capacity_factor * r_mask\n",
    "        da = da.sum([\"lat\", \"lon\"])\n",
    "        da = da.expand_dims({\"REZ\": [r]})\n",
    "\n",
    "        da_list.append(da)\n",
    "\n",
    "    return xr.concat(da_list, dim=\"REZ\")"
   ]
  },
  {
   "cell_type": "code",
   "execution_count": 19,
   "id": "5ea96f76-cd3d-4c70-a8d1-21dfc64d95ec",
   "metadata": {},
   "outputs": [],
   "source": [
    "def calc_all_years_generation(years, mask_da, generation, scale_mask=\"capacity_factor\", method=\"van_der_Wiel\"):\n",
    "    \"\"\"\n",
    "    Compute power time series for each REZ and each year.\n",
    "    \n",
    "    years: range\n",
    "    facilities: dict of facilities data in dataframe\n",
    "    method: str, which method of capacity factors was used\n",
    "    scale_mask: str, 'capacity_factor' to scale by mean capacity factors,\n",
    "        'even' for an even distribution of generation amongst REZ cells,\n",
    "        'none' to use mask_da directly.\n",
    "    \"\"\"\n",
    "    def _get_gen_type(gen):\n",
    "        g_split = gen.name.split(\"_\")\n",
    "        if g_split[0] == \"Solar\":\n",
    "            gt = \"solar\"\n",
    "        elif g_split[0] == \"Wind\":\n",
    "            gt = \"wind\"\n",
    "        elif g_split[0] == \"Existing\":\n",
    "            gt = g_split[1]\n",
    "        else:\n",
    "            gt = g_split[-2]\n",
    "        return gt\n",
    "    \n",
    "    gen_type = _get_gen_type(generation)\n",
    "    \n",
    "    if scale_mask == \"capacity_factor\": # Use mean capacity factor weights to split the generation capacities by\n",
    "        mean_cf = xr.open_dataset(\n",
    "            \"/g/data/w42/dr6273/work/projects/Aus_energy/production_metrics/\" + \\\n",
    "            gen_type + \"_mean_capacity_factor_van_der_Wiel_era5_hourly_\" + str(years[0]) + \"-\" + str(years[-1]) + \".nc\"\n",
    "        )[\"capacity_factor\"]\n",
    "        \n",
    "        gen_capacity = get_cf_scaled_capacity_mask(mean_cf, mask_da, generation)\n",
    "        \n",
    "    elif scale_mask == \"even\": # Divide the generation capacity by the size of the region and assign each cell that number\n",
    "        gen_capacity = get_even_capacity_mask(mask_da, generation)\n",
    "        \n",
    "    else: # Just use mask_da as the generation capacities for each cell\n",
    "        gen_capacity = mask_da.copy()\n",
    "    \n",
    "    da_list = []\n",
    "    for year in years:\n",
    "        cf = fn.load_hourly_cf(year, gen_type, method=method, chunks={\"lat\": -1, \"lon\": -1, \"time\": 2500}).capacity_factor\n",
    "        p = calc_generation(cf, gen_capacity)\n",
    "        da_list.append(p)\n",
    "    REZ_power = xr.concat(da_list, dim=\"time\")\n",
    "    REZ_power = REZ_power.chunk({\"REZ\": -1, \"time\": -1})\n",
    "    \n",
    "    return REZ_power"
   ]
  },
  {
   "cell_type": "code",
   "execution_count": 20,
   "id": "565eacd7-1166-49f5-bb83-ef695f653ebd",
   "metadata": {},
   "outputs": [],
   "source": [
    "# cf = fn.load_hourly_cf(1940, \"wind\", method=\"van_der_Wiel\", chunks={\"lat\": -1, \"lon\": -1, \"time\": 2500}).capacity_factor"
   ]
  },
  {
   "cell_type": "code",
   "execution_count": 23,
   "id": "33a56215-7940-4a4c-a2a1-382d375bca3b",
   "metadata": {},
   "outputs": [
    {
     "data": {
      "text/plain": [
       "Index(['Progressive_wind_2039-40', 'Progressive_wind_2049-50',\n",
       "       'Step_change_wind_2029-30', 'Step_change_wind_2039-40',\n",
       "       'Step_change_wind_2049-50', 'Green_energy_wind_2029-30',\n",
       "       'Green_energy_wind_2039-40', 'Green_energy_wind_2049-50'],\n",
       "      dtype='object')"
      ]
     },
     "execution_count": 23,
     "metadata": {},
     "output_type": "execute_result"
    }
   ],
   "source": [
    "gen.columns[14:]"
   ]
  },
  {
   "cell_type": "code",
   "execution_count": 24,
   "id": "b198a08e-a96b-4350-845d-ec1a97282ba4",
   "metadata": {},
   "outputs": [
    {
     "name": "stdout",
     "output_type": "stream",
     "text": [
      "Progressive_wind_2039-40\n",
      "Progressive_wind_2049-50\n",
      "Step_change_wind_2029-30\n",
      "Step_change_wind_2039-40\n",
      "Step_change_wind_2049-50\n",
      "Green_energy_wind_2029-30\n",
      "Green_energy_wind_2039-40\n",
      "Green_energy_wind_2049-50\n",
      "CPU times: user 18min 15s, sys: 52.3 s, total: 19min 7s\n",
      "Wall time: 19min 24s\n"
     ]
    }
   ],
   "source": [
    "%%time\n",
    "for scenario in gen.columns[14:]:\n",
    "# for scenario in [\"Existing_wind\", \"Existing_solar\"]:\n",
    "    print(scenario)\n",
    "    gen_ds = calc_all_years_generation(years, mask, gen[scenario])\n",
    "    gen_ds = gen_ds.to_dataset(name=\"power\")\n",
    "    \n",
    "    # Tidy path to write\n",
    "    if scenario.split(\"_\")[-1] == \"(MW)\":\n",
    "        scenario = scenario[:-5]\n",
    "    scenario = scenario.lower()\n",
    "    \n",
    "    gen_ds.to_netcdf(\n",
    "        fp + \"REZ_power_\" + scenario + \"_van_der_Wiel\" + \"_era5_hourly_\" + str(years[0]) + \"-\" + str(years[-1]) + \".nc\"\n",
    "    )"
   ]
  },
  {
   "cell_type": "code",
   "execution_count": 22,
   "id": "2978fca8-6b59-42e0-afa1-4ab241ed437e",
   "metadata": {},
   "outputs": [
    {
     "name": "stdout",
     "output_type": "stream",
     "text": [
      "Existing_wind\n",
      "Existing_solar\n",
      "CPU times: user 3min 50s, sys: 12.2 s, total: 4min 2s\n",
      "Wall time: 4min 29s\n"
     ]
    }
   ],
   "source": [
    "%%time\n",
    "# for scenario in gen.columns[14:]:\n",
    "for scenario in [\"Existing_wind\", \"Existing_solar\"]:\n",
    "    print(scenario)\n",
    "    gen_ds = calc_all_years_generation(years, mask, gen[scenario], scale_mask=\"even\")\n",
    "    gen_ds = gen_ds.to_dataset(name=\"power\")\n",
    "    \n",
    "    # Tidy path to write\n",
    "    if scenario.split(\"_\")[-1] == \"(MW)\":\n",
    "        scenario = scenario[:-5]\n",
    "    scenario = scenario.lower()\n",
    "    \n",
    "    gen_ds.to_netcdf(\n",
    "        fp + \"REZ_power_even_weights_\" + scenario + \"_van_der_Wiel\" + \"_era5_hourly_\" + str(years[0]) + \"-\" + str(years[-1]) + \".nc\"\n",
    "    )"
   ]
  },
  {
   "cell_type": "markdown",
   "id": "bedadb29-8a9f-4865-94ef-33eddd765902",
   "metadata": {},
   "source": [
    "### Repeat but for existing facilities in sites outside REZs"
   ]
  },
  {
   "cell_type": "code",
   "execution_count": 39,
   "id": "c9d4f47e-9fc2-4001-84a5-c787bc338327",
   "metadata": {},
   "outputs": [],
   "source": [
    "solar_outside = xr.open_mfdataset(\n",
    "    \"/g/data/w42/dr6273/work/projects/Aus_energy/production_metrics/solar/power/solar_site_outside_REZ_mask_era5.nc\",\n",
    ").solar_site\n",
    "# Change dimension name so it works with function\n",
    "solar_outside = solar_outside.rename({\"region\": \"REZ\"}).compute()"
   ]
  },
  {
   "cell_type": "code",
   "execution_count": 40,
   "id": "0ee83af4-1577-47f4-a96e-bc7f0db2de50",
   "metadata": {},
   "outputs": [],
   "source": [
    "wind_outside = xr.open_mfdataset(\n",
    "    \"/g/data/w42/dr6273/work/projects/Aus_energy/production_metrics/wind/power/wind_site_outside_REZ_mask_era5.nc\",\n",
    ").wind_site\n",
    "wind_outside = wind_outside.rename({\"region\": \"REZ\"}).compute()"
   ]
  },
  {
   "cell_type": "code",
   "execution_count": 42,
   "id": "08e25dc1-d8b4-472a-8c95-04b6367faa54",
   "metadata": {},
   "outputs": [
    {
     "name": "stdout",
     "output_type": "stream",
     "text": [
      "Existing_solar\n",
      "Existing_wind\n"
     ]
    }
   ],
   "source": [
    "for scenario, m in zip(['Existing_solar', 'Existing_wind'], [solar_outside, wind_outside]):\n",
    "    print(scenario)\n",
    "    gen_ds = calc_all_years_generation(years, m, gen[scenario], scale_mask=\"none\")\n",
    "    gen_ds = gen_ds.to_dataset(name=\"power\")\n",
    "    \n",
    "    # Tidy path to write\n",
    "    if scenario.split(\"_\")[-1] == \"(MW)\":\n",
    "        scenario = scenario[:-5]\n",
    "    scenario = scenario.lower()\n",
    "    \n",
    "    gen_ds = gen_ds.rename({\"REZ\": \"region\"}) # Change dimension name back\n",
    "    \n",
    "    gen_ds.to_netcdf(\n",
    "        fp + \"site_outside_REZ_power_\" + scenario + \"_van_der_Wiel\" + \"_era5_hourly_\" + str(years[0]) + \"-\" + str(years[-1]) + \".nc\",\n",
    "        mode=\"w\"\n",
    "    )"
   ]
  },
  {
   "cell_type": "markdown",
   "id": "5fff9937-f24a-41d6-9b74-2006e8be7481",
   "metadata": {},
   "source": [
    "# Close cluster"
   ]
  },
  {
   "cell_type": "code",
   "execution_count": 43,
   "id": "51a6eef2-db8b-45b9-99e6-9019c29b0ae7",
   "metadata": {},
   "outputs": [],
   "source": [
    "client.close()\n",
    "cluster.close()"
   ]
  },
  {
   "cell_type": "code",
   "execution_count": null,
   "id": "4bd2fc7f-1abf-449c-a568-36176a1c0db9",
   "metadata": {},
   "outputs": [],
   "source": []
  }
 ],
 "metadata": {
  "kernelspec": {
   "display_name": "Python (pangeo)",
   "language": "python",
   "name": "pangeo"
  },
  "language_info": {
   "codemirror_mode": {
    "name": "ipython",
    "version": 3
   },
   "file_extension": ".py",
   "mimetype": "text/x-python",
   "name": "python",
   "nbconvert_exporter": "python",
   "pygments_lexer": "ipython3",
   "version": "3.10.8"
  }
 },
 "nbformat": 4,
 "nbformat_minor": 5
}
